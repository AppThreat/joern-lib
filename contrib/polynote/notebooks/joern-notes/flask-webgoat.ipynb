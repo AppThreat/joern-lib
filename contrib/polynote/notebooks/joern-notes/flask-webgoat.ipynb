{
  "metadata" : {
    "config" : {
      "dependencies" : {
        "python" : [
          "file:///opt/joern_lib"
        ]
      },
      "exclusions" : [
      ],
      "repositories" : [
      ],
      "sparkConfig" : {
        
      },
      "env" : {
        
      }
    },
    "language_info" : {
      "name" : "python"
    }
  },
  "nbformat" : 4,
  "nbformat_minor" : 0,
  "cells" : [
    {
      "cell_type" : "markdown",
      "execution_count" : 0,
      "metadata" : {
        "language" : "text"
      },
      "language" : "text",
      "source" : [
        "# flask webgoat\n",
        "\n",
        "[flask-webgoat](https://github.com/HooliCorp/flask-webgoat) is a deliberately-vulnerable application written with the Flask web framework."
      ],
      "outputs" : [
      ]
    },
    {
      "cell_type" : "code",
      "execution_count" : 1,
      "metadata" : {
        "cell.metadata.exec_info" : {
          "startTs" : 1684869409440,
          "endTs" : 1684869428154
        },
        "language" : "python"
      },
      "language" : "python",
      "source" : [
        "import asyncio\n",
        "\n",
        "from joern_lib import client, workspace\n",
        "from joern_lib.detectors import common as cpg, python\n",
        "from joern_lib.utils import print_table, print_tree, print_flows\n",
        "\n",
        "joern_host = \"http://joern:9000\"\n",
        "cpggen_host = \"http://cpggen:7072\"\n",
        "joern_username = \"admin\"\n",
        "joern_password  = \"admin\""
      ],
      "outputs" : [
      ]
    },
    {
      "cell_type" : "markdown",
      "execution_count" : 2,
      "metadata" : {
        "language" : "text"
      },
      "language" : "text",
      "source" : [
        "## Generate CPG using cpggen\n",
        "\n",
        "To improve performance, CPG for this project is generated using the cpggen server and then imported onto the joern server. The default docker-compose starts a cpggen server with the hostname `cpggen` and port `7072`.\n",
        "\n",
        "We use the `create_cpg` api from the workspace to directly create a CPG from the git repo. This single call would handle both gen retionsoaf the cpg and import onto joern."
      ],
      "outputs" : [
      ]
    },
    {
      "cell_type" : "code",
      "execution_count" : 3,
      "metadata" : {
        "cell.metadata.exec_info" : {
          "startTs" : 1684869428186,
          "endTs" : 1684869441452
        },
        "language" : "python"
      },
      "language" : "python",
      "source" : [
        "async def generate_cpg():\n",
        "    connection = await client.get(joern_host, cpggen_host, joern_username, joern_password)\n",
        "    res = await workspace.create_cpg(connection, \"https://github.com/HooliCorp/flask-webgoat\")\n",
        "    print (res)\n",
        "asyncio.run(generate_cpg())"
      ],
      "outputs" : [
        {
          "name" : "stdout",
          "text" : [
            "╭──────────────────────────────────── CPGQL Query ────────────────────────────────────╮\n",
            "│ os.exists(os.Path(\"/tmp/cpggen_cpg_outwiofiykx/cpggenfg1e2tpx-python-cpg.bin.zip\")) │\n",
            "╰─────────────────────────────────────────────────────────────────────────────────────╯\n",
            "╭───────────────────────────────────────────── CPGQL Query ──────────────────────────────────────────────╮\n",
            "│ importCpg(\"/tmp/cpggen_cpg_outwiofiykx/cpggenfg1e2tpx-python-cpg.bin.zip\", \"cpggenfg1e2tpx-pythonsrc\") │\n",
            "╰────────────────────────────────────────────────────────────────────────────────────────────────────────╯\n",
            "╭─ CPGQL Query ─╮\n",
            "│ save          │\n",
            "╰───────────────╯\n",
            "{'app': 'cpggenfg1e2tpx-pythonsrc', 'cpg': '/tmp/cpggen_cpg_outwiofiykx/cpggenfg1e2tpx-python-cpg.bin.zip', 'cpg_frontend_invocation': '/usr/local/bin/pysrc2cpg -J-Xmx115G -o /tmp/cpggen_cpg_outwiofiykx/cpggenfg1e2tpx-python-cpg.bin.zip /tmp/cpggenfg1e2tpx', 'group': 'cpggenfg1e2tpx', 'language': 'pythonsrc', 'sbom': '/tmp/cpggen_cpg_outwiofiykx/cpggenfg1e2tpx-python-cpg.bom.xml', 'sbom_invocation': 'cdxgen -r -t python -o /tmp/cpggen_cpg_outwiofiykx/cpggenfg1e2tpx-python-cpg.bom.xml /tmp/cpggenfg1e2tpx', 'slice_out': '/tmp/cpggen_cpg_outwiofiykx/cpggenfg1e2tpx-python-cpg.slices.json', 'src': '/tmp/cpggenfg1e2tpx', 'tool_lang': 'python'}\n"
          ],
          "output_type" : "stream"
        }
      ]
    },
    {
      "cell_type" : "markdown",
      "execution_count" : 4,
      "metadata" : {
        "language" : "text"
      },
      "language" : "text",
      "source" : [
        "## Inspect methods\n",
        "\n",
        "With a fresh CPG imported, one of the initial activities to perform as a threat hunter is to inspect the methods in the application. Visually inspecting the methods would help understand the custom code and the frameworks and libraries used.\n",
        "\n",
        "joern-lib offers a convenient api called `list_methods` to simplify the inspection. You can invoke this method without arguments to receive a full list of methods or provide a regex to narrow the results."
      ],
      "outputs" : [
      ]
    },
    {
      "cell_type" : "code",
      "execution_count" : 5,
      "metadata" : {
        "cell.metadata.exec_info" : {
          "startTs" : 1684869441458,
          "endTs" : 1684869451887
        },
        "language" : "python"
      },
      "language" : "python",
      "source" : [
        "async def inspect_methods():\n",
        "    connection = await client.get(joern_host, cpggen_host, joern_username, joern_password)\n",
        "    res = await cpg.list_methods(connection)\n",
        "    print_table(res, title=\"flask-webgoat methods\")\n",
        "asyncio.run(inspect_methods())"
      ],
      "outputs" : [
        {
          "name" : "stdout",
          "text" : [
            "╭─────────────────────────── CPGQL Query ───────────────────────────╮\n",
            "│ cpg.method.whereNot(_.name(\".*<(operator|init)>.*\")).toJsonPretty │\n",
            "╰───────────────────────────────────────────────────────────────────╯\n",
            "                                                                               flask-webgoat methods                                                                                \n",
            "┏━━━━━━━━━━━━━━━━━━━━┳━━━━━━━━━━━━━━━━━━━━━━━━━━━━━━━━━━━┳━━━━━━━━━━━┳━━━━━━━━━━━━━━━┳━━━━━━━━┳━━━━━━┳━━━━━━━━━━━━┳━━━━━━━━━━━━┳━━━━━━┳━━━━━━━┳━━━━━━━━━━━━━━━━━━━━━━━━━━━━━━━━━━━━┓\n",
            "┃ name               ┃ fullName                          ┃ signature ┃ lineNumberEnd ┃ _label ┃ code ┃ isExternal ┃ lineNumber ┃   id ┃ order ┃ filename                           ┃\n",
            "┡━━━━━━━━━━━━━━━━━━━━╇━━━━━━━━━━━━━━━━━━━━━━━━━━━━━━━━━━━╇━━━━━━━━━━━╇━━━━━━━━━━━━━━━╇━━━━━━━━╇━━━━━━╇━━━━━━━━━━━━╇━━━━━━━━━━━━╇━━━━━━╇━━━━━━━╇━━━━━━━━━━━━━━━━━━━━━━━━━━━━━━━━━━━━┩\n",
            "│ <module>           │ flask_webgoat/__init__.py:<module │           │            50 │ METHOD │      │ False      │          1 │    7 │     1 │ /tmp/cpggenfg1e2tpx/flask_webgoat/ │\n",
            "│                    │ >                                 │           │               │        │      │            │            │      │       │ __init__.py                        │\n",
            "├────────────────────┼───────────────────────────────────┼───────────┼───────────────┼────────┼──────┼────────────┼────────────┼──────┼───────┼────────────────────────────────────┤\n",
            "│ query_db           │ flask_webgoat/__init__.py:<module │           │            18 │ METHOD │      │ False      │         10 │   50 │     1 │ /tmp/cpggenfg1e2tpx/flask_webgoat/ │\n",
            "│                    │ >.query_db                        │           │               │        │      │            │            │      │       │ __init__.py                        │\n",
            "├────────────────────┼───────────────────────────────────┼───────────┼───────────────┼────────┼──────┼────────────┼────────────┼──────┼───────┼────────────────────────────────────┤\n",
            "│ create_app         │ flask_webgoat/__init__.py:<module │           │            50 │ METHOD │      │ False      │         19 │  143 │     3 │ /tmp/cpggenfg1e2tpx/flask_webgoat/ │\n",
            "│                    │ >.create_app                      │           │               │        │      │            │            │      │       │ __init__.py                        │\n",
            "├────────────────────┼───────────────────────────────────┼───────────┼───────────────┼────────┼──────┼────────────┼────────────┼──────┼───────┼────────────────────────────────────┤\n",
            "│ <module>           │ flask_webgoat/actions.py:<module> │           │            49 │ METHOD │      │ False      │          1 │  381 │     1 │ /tmp/cpggenfg1e2tpx/flask_webgoat/ │\n",
            "│                    │                                   │           │               │        │      │            │            │      │       │ actions.py                         │\n",
            "├────────────────────┼───────────────────────────────────┼───────────┼───────────────┼────────┼──────┼────────────┼────────────┼──────┼───────┼────────────────────────────────────┤\n",
            "│ log_entry          │ flask_webgoat/actions.py:<module> │           │            36 │ METHOD │      │ False      │         10 │  433 │     1 │ /tmp/cpggenfg1e2tpx/flask_webgoat/ │\n",
            "│                    │ .log_entry                        │           │               │        │      │            │            │      │       │ actions.py                         │\n",
            "├────────────────────┼───────────────────────────────────┼───────────┼───────────────┼────────┼──────┼────────────┼────────────┼──────┼───────┼────────────────────────────────────┤\n",
            "│ grep_processes     │ flask_webgoat/actions.py:<module> │           │            49 │ METHOD │      │ False      │         38 │  665 │     3 │ /tmp/cpggenfg1e2tpx/flask_webgoat/ │\n",
            "│                    │ .grep_processes                   │           │               │        │      │            │            │      │       │ actions.py                         │\n",
            "├────────────────────┼───────────────────────────────────┼───────────┼───────────────┼────────┼──────┼────────────┼────────────┼──────┼───────┼────────────────────────────────────┤\n",
            "│ <module>           │ flask_webgoat/auth.py:<module>    │           │            46 │ METHOD │      │ False      │          1 │  840 │     1 │ /tmp/cpggenfg1e2tpx/flask_webgoat/ │\n",
            "│                    │                                   │           │               │        │      │            │            │      │       │ auth.py                            │\n",
            "├────────────────────┼───────────────────────────────────┼───────────┼───────────────┼────────┼──────┼────────────┼────────────┼──────┼───────┼────────────────────────────────────┤\n",
            "│ login              │ flask_webgoat/auth.py:<module>.lo │           │            27 │ METHOD │      │ False      │          8 │  889 │     1 │ /tmp/cpggenfg1e2tpx/flask_webgoat/ │\n",
            "│                    │ gin                               │           │               │        │      │            │            │      │       │ auth.py                            │\n",
            "├────────────────────┼───────────────────────────────────┼───────────┼───────────────┼────────┼──────┼────────────┼────────────┼──────┼───────┼────────────────────────────────────┤\n",
            "│ login_and_redirect │ flask_webgoat/auth.py:<module>.lo │           │            46 │ METHOD │      │ False      │         29 │ 1021 │     3 │ /tmp/cpggenfg1e2tpx/flask_webgoat/ │\n",
            "│                    │ gin_and_redirect                  │           │               │        │      │            │            │      │       │ auth.py                            │\n",
            "├────────────────────┼───────────────────────────────────┼───────────┼───────────────┼────────┼──────┼────────────┼────────────┼──────┼───────┼────────────────────────────────────┤\n",
            "│ <module>           │ flask_webgoat/status.py:<module>  │           │            13 │ METHOD │      │ False      │          1 │ 1209 │     1 │ /tmp/cpggenfg1e2tpx/flask_webgoat/ │\n",
            "│                    │                                   │           │               │        │      │            │            │      │       │ status.py                          │\n",
            "├────────────────────┼───────────────────────────────────┼───────────┼───────────────┼────────┼──────┼────────────┼────────────┼──────┼───────┼────────────────────────────────────┤\n",
            "│ status             │ flask_webgoat/status.py:<module>. │           │            10 │ METHOD │      │ False      │          7 │ 1234 │     1 │ /tmp/cpggenfg1e2tpx/flask_webgoat/ │\n",
            "│                    │ status                            │           │               │        │      │            │            │      │       │ status.py                          │\n",
            "├────────────────────┼───────────────────────────────────┼───────────┼───────────────┼────────┼──────┼────────────┼────────────┼──────┼───────┼────────────────────────────────────┤\n",
            "│ ping               │ flask_webgoat/status.py:<module>. │           │            13 │ METHOD │      │ False      │         12 │ 1264 │     3 │ /tmp/cpggenfg1e2tpx/flask_webgoat/ │\n",
            "│                    │ ping                              │           │               │        │      │            │            │      │       │ status.py                          │\n",
            "├────────────────────┼───────────────────────────────────┼───────────┼───────────────┼────────┼──────┼────────────┼────────────┼──────┼───────┼────────────────────────────────────┤\n",
            "│ <module>           │ flask_webgoat/ui.py:<module>      │           │            24 │ METHOD │      │ False      │          1 │ 1313 │     1 │ /tmp/cpggenfg1e2tpx/flask_webgoat/ │\n",
            "│                    │                                   │           │               │        │      │            │            │      │       │ ui.py                              │\n",
            "├────────────────────┼───────────────────────────────────┼───────────┼───────────────┼────────┼──────┼────────────┼────────────┼──────┼───────┼────────────────────────────────────┤\n",
            "│ search             │ flask_webgoat/ui.py:<module>.sear │           │            24 │ METHOD │      │ False      │         10 │ 1359 │     1 │ /tmp/cpggenfg1e2tpx/flask_webgoat/ │\n",
            "│                    │ ch                                │           │               │        │      │            │            │      │       │ ui.py                              │\n",
            "├────────────────────┼───────────────────────────────────┼───────────┼───────────────┼────────┼──────┼────────────┼────────────┼──────┼───────┼────────────────────────────────────┤\n",
            "│ <module>           │ flask_webgoat/users.py:<module>   │           │            46 │ METHOD │      │ False      │          1 │ 1472 │     1 │ /tmp/cpggenfg1e2tpx/flask_webgoat/ │\n",
            "│                    │                                   │           │               │        │      │            │            │      │       │ users.py                           │\n",
            "├────────────────────┼───────────────────────────────────┼───────────┼───────────────┼────────┼──────┼────────────┼────────────┼──────┼───────┼────────────────────────────────────┤\n",
            "│ create_user        │ flask_webgoat/users.py:<module>.c │           │            46 │ METHOD │      │ False      │         11 │ 1527 │     1 │ /tmp/cpggenfg1e2tpx/flask_webgoat/ │\n",
            "│                    │ reate_user                        │           │               │        │      │            │            │      │       │ users.py                           │\n",
            "├────────────────────┼───────────────────────────────────┼───────────┼───────────────┼────────┼──────┼────────────┼────────────┼──────┼───────┼────────────────────────────────────┤\n",
            "│ <module>           │ run.py:<module>                   │           │            12 │ METHOD │      │ False      │          1 │ 1783 │     1 │ /tmp/cpggenfg1e2tpx/run.py         │\n",
            "├────────────────────┼───────────────────────────────────┼───────────┼───────────────┼────────┼──────┼────────────┼────────────┼──────┼───────┼────────────────────────────────────┤\n",
            "│ add_csp_headers    │ run.py:<module>.add_csp_headers   │           │            10 │ METHOD │      │ False      │          6 │ 1799 │     1 │ /tmp/cpggenfg1e2tpx/run.py         │\n",
            "├────────────────────┼───────────────────────────────────┼───────────┼───────────────┼────────┼──────┼────────────┼────────────┼──────┼───────┼────────────────────────────────────┤\n",
            "│ connect            │ sqlite3.py:<module>.connect       │           │        METHOD │        │ True │ 2020       │          0 │      │       │                                    │\n",
            "├────────────────────┼───────────────────────────────────┼───────────┼───────────────┼────────┼──────┼────────────┼────────────┼──────┼───────┼────────────────────────────────────┤\n",
            "│ __init__           │ flask.py:<module>.Flask.__init__  │           │        METHOD │        │ True │ 2026       │          0 │      │       │                                    │\n",
            "├────────────────────┼───────────────────────────────────┼───────────┼───────────────┼────────┼──────┼────────────┼────────────┼──────┼───────┼────────────────────────────────────┤\n",
            "│ __init__           │ pathlib.py:<module>.Path.__init__ │           │        METHOD │        │ True │ 2031       │          0 │      │       │                                    │\n",
            "├────────────────────┼───────────────────────────────────┼───────────┼───────────────┼────────┼──────┼────────────┼────────────┼──────┼───────┼────────────────────────────────────┤\n",
            "│ exists             │ pathlib.py:<module>.Path.exists   │           │        METHOD │        │ True │ 2036       │          0 │      │       │                                    │\n",
            "├────────────────────┼───────────────────────────────────┼───────────┼───────────────┼────────┼──────┼────────────┼────────────┼──────┼───────┼────────────────────────────────────┤\n",
            "│ unlink             │ pathlib.py:<module>.Path.unlink   │           │        METHOD │        │ True │ 2041       │          0 │      │       │                                    │\n",
            "├────────────────────┼───────────────────────────────────┼───────────┼───────────────┼────────┼──────┼────────────┼────────────┼──────┼───────┼────────────────────────────────────┤\n",
            "│ register_blueprint │ flask.py:<module>.Flask.register_ │           │        METHOD │        │ True │ 2046       │          0 │      │       │                                    │\n",
            "│                    │ blueprint                         │           │               │        │      │            │            │      │       │                                    │\n",
            "├────────────────────┼───────────────────────────────────┼───────────┼───────────────┼────────┼──────┼────────────┼────────────┼──────┼───────┼────────────────────────────────────┤\n",
            "│ app_context        │ flask.py:<module>.Flask.app_conte │           │        METHOD │        │ True │ 2052       │          0 │      │       │                                    │\n",
            "│                    │ xt                                │           │               │        │      │            │            │      │       │                                    │\n",
            "├────────────────────┼───────────────────────────────────┼───────────┼───────────────┼────────┼──────┼────────────┼────────────┼──────┼───────┼────────────────────────────────────┤\n",
            "│ __init__           │ flask.py:<module>.Blueprint.__ini │           │        METHOD │        │ True │ 2057       │          0 │      │       │                                    │\n",
            "│                    │ t__                               │           │               │        │      │            │            │      │       │                                    │\n",
            "├────────────────────┼───────────────────────────────────┼───────────┼───────────────┼────────┼──────┼────────────┼────────────┼──────┼───────┼────────────────────────────────────┤\n",
            "│ get                │ flask.py:<module>.session.get     │           │        METHOD │        │ True │ 2063       │          0 │      │       │                                    │\n",
            "├────────────────────┼───────────────────────────────────┼───────────┼───────────────┼────────┼──────┼────────────┼────────────┼──────┼───────┼────────────────────────────────────┤\n",
            "│ jsonify            │ flask.py:<module>.jsonify         │           │        METHOD │        │ True │ 2070       │          0 │      │       │                                    │\n",
            "├────────────────────┼───────────────────────────────────┼───────────┼───────────────┼────────┼──────┼────────────┼────────────┼──────┼───────┼────────────────────────────────────┤\n",
            "│ str<meta>          │ __builtin.str<meta>               │           │        METHOD │        │ True │ 2075       │          0 │      │       │                                    │\n",
            "├────────────────────┼───────────────────────────────────┼───────────┼───────────────┼────────┼──────┼────────────┼────────────┼──────┼───────┼────────────────────────────────────┤\n",
            "│ mkdir              │ pathlib.py:<module>.Path.mkdir    │           │        METHOD │        │ True │ 2080       │          0 │      │       │                                    │\n",
            "├────────────────────┼───────────────────────────────────┼───────────┼───────────────┼────────┼──────┼────────────┼────────────┼──────┼───────┼────────────────────────────────────┤\n",
            "│ open               │ pathlib.py:<module>.Path.open     │           │        METHOD │        │ True │ 2085       │          0 │      │       │                                    │\n",
            "├────────────────────┼───────────────────────────────────┼───────────┼───────────────┼────────┼──────┼────────────┼────────────┼──────┼───────┼────────────────────────────────────┤\n",
            "│ route              │ flask.py:<module>.Blueprint.route │           │        METHOD │        │ True │ 2092       │          0 │      │       │                                    │\n",
            "├────────────────────┼───────────────────────────────────┼───────────┼───────────────┼────────┼──────┼────────────┼────────────┼──────┼───────┼────────────────────────────────────┤\n",
            "│ run                │ subprocess.py:<module>.run        │           │        METHOD │        │ True │ 2099       │          0 │      │       │                                    │\n",
            "├────────────────────┼───────────────────────────────────┼───────────┼───────────────┼────────┼──────┼────────────┼────────────┼──────┼───────┼────────────────────────────────────┤\n",
            "│ py:<module>        │ query_db.py:<module>              │           │        METHOD │        │ True │ 2107       │          0 │      │       │                                    │\n",
            "├────────────────────┼───────────────────────────────────┼───────────┼───────────────┼────────┼──────┼────────────┼────────────┼──────┼───────┼────────────────────────────────────┤\n",
            "│ redirect           │ flask.py:<module>.redirect        │           │        METHOD │        │ True │ 2114       │          0 │      │       │                                    │\n",
            "├────────────────────┼───────────────────────────────────┼───────────┼───────────────┼────────┼──────┼────────────┼────────────┼──────┼───────┼────────────────────────────────────┤\n",
            "│ render_template    │ flask.py:<module>.render_template │           │        METHOD │        │ True │ 2119       │          0 │      │       │                                    │\n",
            "├────────────────────┼───────────────────────────────────┼───────────┼───────────────┼────────┼──────┼────────────┼────────────┼──────┼───────┼────────────────────────────────────┤\n",
            "│ len                │ __builtin.len                     │           │        METHOD │        │ True │ 2125       │          0 │      │       │                                    │\n",
            "├────────────────────┼───────────────────────────────────┼───────────┼───────────────┼────────┼──────┼────────────┼────────────┼──────┼───────┼────────────────────────────────────┤\n",
            "│ int<meta>          │ __builtin.int<meta>               │           │        METHOD │        │ True │ 2130       │          0 │      │       │                                    │\n",
            "├────────────────────┼───────────────────────────────────┼───────────┼───────────────┼────────┼──────┼────────────┼────────────┼──────┼───────┼────────────────────────────────────┤\n",
            "│ py:<module>        │ flask_webgoat/create_app.py:<modu │           │        METHOD │        │ True │ 2135       │          0 │      │       │                                    │\n",
            "│                    │ le>                               │           │               │        │      │            │            │      │       │                                    │\n",
            "└────────────────────┴───────────────────────────────────┴───────────┴───────────────┴────────┴──────┴────────────┴────────────┴──────┴───────┴────────────────────────────────────┘\n"
          ],
          "output_type" : "stream"
        }
      ]
    },
    {
      "cell_type" : "markdown",
      "execution_count" : 6,
      "metadata" : {
        "language" : "text"
      },
      "language" : "text",
      "source" : [
        "## List decoratored methods\n",
        "\n",
        "In most Python applications, method decorators are critical in determining the route, flows, and logic. A convenient api method called `list_decorator_location` could be used to identify all decorated methods in the application."
      ],
      "outputs" : [
      ]
    },
    {
      "cell_type" : "code",
      "execution_count" : 7,
      "metadata" : {
        "cell.metadata.exec_info" : {
          "startTs" : 1684869451893,
          "endTs" : 1684869462292
        },
        "language" : "python"
      },
      "language" : "python",
      "source" : [
        "async def inspect_decorated():\n",
        "    connection = await client.get(joern_host, cpggen_host, joern_username, joern_password)\n",
        "    res = await python.list_decorator_location(connection, decorator=\"(app|bp|blueprint).*\")\n",
        "    print_table([r.get(\"node\") for r in res], title=\"flask-webgoat decorators\")\n",
        "asyncio.run(inspect_decorated())"
      ],
      "outputs" : [
        {
          "name" : "stdout",
          "text" : [
            "╭───────────────────────────────────────────── CPGQL Query ──────────────────────────────────────────────╮\n",
            "│ cpg.call.code(\".*(app|bp|blueprint).*.*\").inCall.assignment.argument.isMethodRef.location.toJsonPretty │\n",
            "╰────────────────────────────────────────────────────────────────────────────────────────────────────────╯\n",
            "                                                                              flask-webgoat decorators                                                                              \n",
            "┏━━━━━━━━━━━━━━━━━━━━━━━━━━━┳━━━━━━━━━━━━━━━━━━━━━┳━━━━━━━━━━━━━━━┳━━━━━━━━┳━━━━━━━━━━━━━━━━━━━━━━━━━━━━━━━━━━━━━━━━━━━━━━━━━━━━━┳━━━━━━━━━━━━━┳━━━━━━━━━━━━━━━┳━━━━━━━━━━━━┳━━━━━━┓\n",
            "┃ dynamicTypeHintFullName   ┃ code                ┃ typeFullName  ┃  order ┃ methodFullName                                      ┃ _label      ┃ argumentIndex ┃ lineNumber ┃   id ┃\n",
            "┡━━━━━━━━━━━━━━━━━━━━━━━━━━━╇━━━━━━━━━━━━━━━━━━━━━╇━━━━━━━━━━━━━━━╇━━━━━━━━╇━━━━━━━━━━━━━━━━━━━━━━━━━━━━━━━━━━━━━━━━━━━━━━━━━━━━━╇━━━━━━━━━━━━━╇━━━━━━━━━━━━━━━╇━━━━━━━━━━━━╇━━━━━━┩\n",
            "│                           │ log_entry           │               │     -1 │ flask_webgoat/actions.py:<module>.log_entry         │ METHOD_REF  │             3 │         10 │ 2011 │\n",
            "├───────────────────────────┼─────────────────────┼───────────────┼────────┼─────────────────────────────────────────────────────┼─────────────┼───────────────┼────────────┼──────┤\n",
            "│                           │ grep_processes      │               │     -1 │ flask_webgoat/actions.py:<module>.grep_processes    │ METHOD_REF  │             3 │         38 │ 2012 │\n",
            "├───────────────────────────┼─────────────────────┼───────────────┼────────┼─────────────────────────────────────────────────────┼─────────────┼───────────────┼────────────┼──────┤\n",
            "│                           │ login               │               │     -1 │ flask_webgoat/auth.py:<module>.login                │ METHOD_REF  │             3 │          8 │ 2013 │\n",
            "├───────────────────────────┼─────────────────────┼───────────────┼────────┼─────────────────────────────────────────────────────┼─────────────┼───────────────┼────────────┼──────┤\n",
            "│                           │ login_and_redirect  │               │     -1 │ flask_webgoat/auth.py:<module>.login_and_redirect   │ METHOD_REF  │             3 │         29 │ 2014 │\n",
            "├───────────────────────────┼─────────────────────┼───────────────┼────────┼─────────────────────────────────────────────────────┼─────────────┼───────────────┼────────────┼──────┤\n",
            "│                           │ status              │               │     -1 │ flask_webgoat/status.py:<module>.status             │ METHOD_REF  │             3 │          7 │ 2015 │\n",
            "├───────────────────────────┼─────────────────────┼───────────────┼────────┼─────────────────────────────────────────────────────┼─────────────┼───────────────┼────────────┼──────┤\n",
            "│                           │ ping                │               │     -1 │ flask_webgoat/status.py:<module>.ping               │ METHOD_REF  │             3 │         12 │ 2016 │\n",
            "├───────────────────────────┼─────────────────────┼───────────────┼────────┼─────────────────────────────────────────────────────┼─────────────┼───────────────┼────────────┼──────┤\n",
            "│                           │ search              │               │     -1 │ flask_webgoat/ui.py:<module>.search                 │ METHOD_REF  │             3 │         10 │ 2017 │\n",
            "├───────────────────────────┼─────────────────────┼───────────────┼────────┼─────────────────────────────────────────────────────┼─────────────┼───────────────┼────────────┼──────┤\n",
            "│                           │ create_user         │               │     -1 │ flask_webgoat/users.py:<module>.create_user         │ METHOD_REF  │             3 │         11 │ 2018 │\n",
            "├───────────────────────────┼─────────────────────┼───────────────┼────────┼─────────────────────────────────────────────────────┼─────────────┼───────────────┼────────────┼──────┤\n",
            "│                           │ add_csp_headers     │               │     -1 │ run.py:<module>.add_csp_headers                     │ METHOD_REF  │             3 │          6 │ 2019 │\n",
            "└───────────────────────────┴─────────────────────┴───────────────┴────────┴─────────────────────────────────────────────────────┴─────────────┴───────────────┴────────────┴──────┘\n"
          ],
          "output_type" : "stream"
        }
      ]
    },
    {
      "cell_type" : "markdown",
      "execution_count" : 8,
      "metadata" : {
        "language" : "text"
      },
      "language" : "text",
      "source" : [
        "## List HTTP Routes"
      ],
      "outputs" : [
      ]
    },
    {
      "cell_type" : "code",
      "execution_count" : 9,
      "metadata" : {
        "cell.metadata.exec_info" : {
          "startTs" : 1684869462298,
          "endTs" : 1684869472656
        },
        "language" : "python"
      },
      "language" : "python",
      "source" : [
        "async def get_routes():\n",
        "    connection = await client.get(joern_host, cpggen_host, joern_username, joern_password)\n",
        "    res = await python.list_http_routes(connection)\n",
        "    print_table(res, title=\"HTTP Routes\")\n",
        "asyncio.run(get_routes())"
      ],
      "outputs" : [
        {
          "name" : "stdout",
          "text" : [
            "╭─────────────────────────────────── CPGQL Query ───────────────────────────────────╮\n",
            "│ cpg.call.code(\".*route.*\").inCall.assignment.map(m => (m, m.method)).toJsonPretty │\n",
            "╰───────────────────────────────────────────────────────────────────────────────────╯\n",
            "                                                                                    HTTP Routes                                                                                     \n",
            "┏━━━━━━━━━━━━━━━━━━━━━━━━━━━┳━━━━━━━━━━┳━━━━━━━━━━━━━━━━━━━━━━━━━━━┳━━━━━━━━━━━┳━━━━━━━━━━━━━━━┳━━━━━━━━┳━━━━━━┳━━━━━━━━━━━━┳━━━━━━━━━━━━┳━━━━━━┳━━━━━━━┳━━━━━━━━━━━━━━━━━━━━━━━━━━┓\n",
            "┃ annotation                ┃ name     ┃ fullName                  ┃ signature ┃ lineNumberEnd ┃ _label ┃ code ┃ isExternal ┃ lineNumber ┃   id ┃ order ┃ filename                 ┃\n",
            "┡━━━━━━━━━━━━━━━━━━━━━━━━━━━╇━━━━━━━━━━╇━━━━━━━━━━━━━━━━━━━━━━━━━━━╇━━━━━━━━━━━╇━━━━━━━━━━━━━━━╇━━━━━━━━╇━━━━━━╇━━━━━━━━━━━━╇━━━━━━━━━━━━╇━━━━━━╇━━━━━━━╇━━━━━━━━━━━━━━━━━━━━━━━━━━┩\n",
            "│ {                         │ <module> │ flask_webgoat/actions.py: │           │            49 │ METHOD │      │ False      │          1 │  381 │     1 │ /tmp/cpggenfg1e2tpx/flas │\n",
            "│   \"name\": \"<operator>.ass │          │ <module>                  │           │               │        │      │            │            │      │       │ k_webgoat/actions.py     │\n",
            "│   \"signature\": \"\",        │          │                           │           │               │        │      │            │            │      │       │                          │\n",
            "│   \"code\": \"log_entry = bp │          │                           │           │               │        │      │            │            │      │       │                          │\n",
            "│   \"routePattern\": \"/messa │          │                           │           │               │        │      │            │            │      │       │                          │\n",
            "│   \"httpMethod\": \"POST\",   │          │                           │           │               │        │      │            │            │      │       │                          │\n",
            "│   \"typeFullName\": \"ANY\",  │          │                           │           │               │        │      │            │            │      │       │                          │\n",
            "│   \"columnNumber\": 1,      │          │                           │           │               │        │      │            │            │      │       │                          │\n",
            "│   \"order\": 6,             │          │                           │           │               │        │      │            │            │      │       │                          │\n",
            "│   \"methodFullName\": \"<ope │          │                           │           │               │        │      │            │            │      │       │                          │\n",
            "│   \"_label\": \"CALL\",       │          │                           │           │               │        │      │            │            │      │       │                          │\n",
            "│   \"argumentIndex\": -1,    │          │                           │           │               │        │      │            │            │      │       │                          │\n",
            "│   \"dynamicTypeHintFullNam │          │                           │           │               │        │      │            │            │      │       │                          │\n",
            "│   \"dispatchType\": \"STATIC │          │                           │           │               │        │      │            │            │      │       │                          │\n",
            "│   \"lineNumber\": 10,       │          │                           │           │               │        │      │            │            │      │       │                          │\n",
            "│   \"id\": 662               │          │                           │           │               │        │      │            │            │      │       │                          │\n",
            "│ }                         │          │                           │           │               │        │      │            │            │      │       │                          │\n",
            "├───────────────────────────┼──────────┼───────────────────────────┼───────────┼───────────────┼────────┼──────┼────────────┼────────────┼──────┼───────┼──────────────────────────┤\n",
            "│ {                         │ <module> │ flask_webgoat/actions.py: │           │            49 │ METHOD │      │ False      │          1 │  381 │     1 │ /tmp/cpggenfg1e2tpx/flas │\n",
            "│   \"name\": \"<operator>.ass │          │ <module>                  │           │               │        │      │            │            │      │       │ k_webgoat/actions.py     │\n",
            "│   \"signature\": \"\",        │          │                           │           │               │        │      │            │            │      │       │                          │\n",
            "│   \"code\": \"grep_processes │          │                           │           │               │        │      │            │            │      │       │                          │\n",
            "│   \"routePattern\": \"/grep_ │          │                           │           │               │        │      │            │            │      │       │                          │\n",
            "│   \"typeFullName\": \"ANY\",  │          │                           │           │               │        │      │            │            │      │       │                          │\n",
            "│   \"columnNumber\": 1,      │          │                           │           │               │        │      │            │            │      │       │                          │\n",
            "│   \"order\": 7,             │          │                           │           │               │        │      │            │            │      │       │                          │\n",
            "│   \"methodFullName\": \"<ope │          │                           │           │               │        │      │            │            │      │       │                          │\n",
            "│   \"_label\": \"CALL\",       │          │                           │           │               │        │      │            │            │      │       │                          │\n",
            "│   \"argumentIndex\": -1,    │          │                           │           │               │        │      │            │            │      │       │                          │\n",
            "│   \"dynamicTypeHintFullNam │          │                           │           │               │        │      │            │            │      │       │                          │\n",
            "│   \"dispatchType\": \"STATIC │          │                           │           │               │        │      │            │            │      │       │                          │\n",
            "│   \"lineNumber\": 38,       │          │                           │           │               │        │      │            │            │      │       │                          │\n",
            "│   \"id\": 768               │          │                           │           │               │        │      │            │            │      │       │                          │\n",
            "│ }                         │          │                           │           │               │        │      │            │            │      │       │                          │\n",
            "├───────────────────────────┼──────────┼───────────────────────────┼───────────┼───────────────┼────────┼──────┼────────────┼────────────┼──────┼───────┼──────────────────────────┤\n",
            "│ {                         │ <module> │ flask_webgoat/auth.py:<mo │           │            46 │ METHOD │      │ False      │          1 │  840 │     1 │ /tmp/cpggenfg1e2tpx/flas │\n",
            "│   \"name\": \"<operator>.ass │          │ dule>                     │           │               │        │      │            │            │      │       │ k_webgoat/auth.py        │\n",
            "│   \"signature\": \"\",        │          │                           │           │               │        │      │            │            │      │       │                          │\n",
            "│   \"code\": \"login = bp.rou │          │                           │           │               │        │      │            │            │      │       │                          │\n",
            "│   \"routePattern\": \"/login │          │                           │           │               │        │      │            │            │      │       │                          │\n",
            "│   \"httpMethod\": \"POST\",   │          │                           │           │               │        │      │            │            │      │       │                          │\n",
            "│   \"typeFullName\": \"ANY\",  │          │                           │           │               │        │      │            │            │      │       │                          │\n",
            "│   \"columnNumber\": 1,      │          │                           │           │               │        │      │            │            │      │       │                          │\n",
            "│   \"order\": 4,             │          │                           │           │               │        │      │            │            │      │       │                          │\n",
            "│   \"methodFullName\": \"<ope │          │                           │           │               │        │      │            │            │      │       │                          │\n",
            "│   \"_label\": \"CALL\",       │          │                           │           │               │        │      │            │            │      │       │                          │\n",
            "│   \"argumentIndex\": -1,    │          │                           │           │               │        │      │            │            │      │       │                          │\n",
            "│   \"dynamicTypeHintFullNam │          │                           │           │               │        │      │            │            │      │       │                          │\n",
            "│   \"dispatchType\": \"STATIC │          │                           │           │               │        │      │            │            │      │       │                          │\n",
            "│   \"lineNumber\": 8,        │          │                           │           │               │        │      │            │            │      │       │                          │\n",
            "│   \"id\": 1018              │          │                           │           │               │        │      │            │            │      │       │                          │\n",
            "│ }                         │          │                           │           │               │        │      │            │            │      │       │                          │\n",
            "├───────────────────────────┼──────────┼───────────────────────────┼───────────┼───────────────┼────────┼──────┼────────────┼────────────┼──────┼───────┼──────────────────────────┤\n",
            "│ {                         │ <module> │ flask_webgoat/auth.py:<mo │           │            46 │ METHOD │      │ False      │          1 │  840 │     1 │ /tmp/cpggenfg1e2tpx/flas │\n",
            "│   \"name\": \"<operator>.ass │          │ dule>                     │           │               │        │      │            │            │      │       │ k_webgoat/auth.py        │\n",
            "│   \"signature\": \"\",        │          │                           │           │               │        │      │            │            │      │       │                          │\n",
            "│   \"code\": \"login_and_redi │          │                           │           │               │        │      │            │            │      │       │                          │\n",
            "│   \"routePattern\": \"/login │          │                           │           │               │        │      │            │            │      │       │                          │\n",
            "│   \"typeFullName\": \"ANY\",  │          │                           │           │               │        │      │            │            │      │       │                          │\n",
            "│   \"columnNumber\": 1,      │          │                           │           │               │        │      │            │            │      │       │                          │\n",
            "│   \"order\": 5,             │          │                           │           │               │        │      │            │            │      │       │                          │\n",
            "│   \"methodFullName\": \"<ope │          │                           │           │               │        │      │            │            │      │       │                          │\n",
            "│   \"_label\": \"CALL\",       │          │                           │           │               │        │      │            │            │      │       │                          │\n",
            "│   \"argumentIndex\": -1,    │          │                           │           │               │        │      │            │            │      │       │                          │\n",
            "│   \"dynamicTypeHintFullNam │          │                           │           │               │        │      │            │            │      │       │                          │\n",
            "│   \"dispatchType\": \"STATIC │          │                           │           │               │        │      │            │            │      │       │                          │\n",
            "│   \"lineNumber\": 29,       │          │                           │           │               │        │      │            │            │      │       │                          │\n",
            "│   \"id\": 1152              │          │                           │           │               │        │      │            │            │      │       │                          │\n",
            "│ }                         │          │                           │           │               │        │      │            │            │      │       │                          │\n",
            "├───────────────────────────┼──────────┼───────────────────────────┼───────────┼───────────────┼────────┼──────┼────────────┼────────────┼──────┼───────┼──────────────────────────┤\n",
            "│ {                         │ <module> │ flask_webgoat/status.py:< │           │            13 │ METHOD │      │ False      │          1 │ 1209 │     1 │ /tmp/cpggenfg1e2tpx/flas │\n",
            "│   \"name\": \"<operator>.ass │          │ module>                   │           │               │        │      │            │            │      │       │ k_webgoat/status.py      │\n",
            "│   \"signature\": \"\",        │          │                           │           │               │        │      │            │            │      │       │                          │\n",
            "│   \"code\": \"status = bp.ro │          │                           │           │               │        │      │            │            │      │       │                          │\n",
            "│   \"routePattern\": \"/statu │          │                           │           │               │        │      │            │            │      │       │                          │\n",
            "│   \"typeFullName\": \"ANY\",  │          │                           │           │               │        │      │            │            │      │       │                          │\n",
            "│   \"columnNumber\": 1,      │          │                           │           │               │        │      │            │            │      │       │                          │\n",
            "│   \"order\": 3,             │          │                           │           │               │        │      │            │            │      │       │                          │\n",
            "│   \"methodFullName\": \"<ope │          │                           │           │               │        │      │            │            │      │       │                          │\n",
            "│   \"_label\": \"CALL\",       │          │                           │           │               │        │      │            │            │      │       │                          │\n",
            "│   \"argumentIndex\": -1,    │          │                           │           │               │        │      │            │            │      │       │                          │\n",
            "│   \"dynamicTypeHintFullNam │          │                           │           │               │        │      │            │            │      │       │                          │\n",
            "│   \"dispatchType\": \"STATIC │          │                           │           │               │        │      │            │            │      │       │                          │\n",
            "│   \"lineNumber\": 7,        │          │                           │           │               │        │      │            │            │      │       │                          │\n",
            "│   \"id\": 1261              │          │                           │           │               │        │      │            │            │      │       │                          │\n",
            "│ }                         │          │                           │           │               │        │      │            │            │      │       │                          │\n",
            "├───────────────────────────┼──────────┼───────────────────────────┼───────────┼───────────────┼────────┼──────┼────────────┼────────────┼──────┼───────┼──────────────────────────┤\n",
            "│ {                         │ <module> │ flask_webgoat/status.py:< │           │            13 │ METHOD │      │ False      │          1 │ 1209 │     1 │ /tmp/cpggenfg1e2tpx/flas │\n",
            "│   \"name\": \"<operator>.ass │          │ module>                   │           │               │        │      │            │            │      │       │ k_webgoat/status.py      │\n",
            "│   \"signature\": \"\",        │          │                           │           │               │        │      │            │            │      │       │                          │\n",
            "│   \"code\": \"ping = bp.rout │          │                           │           │               │        │      │            │            │      │       │                          │\n",
            "│   \"routePattern\": \"/ping\" │          │                           │           │               │        │      │            │            │      │       │                          │\n",
            "│   \"typeFullName\": \"ANY\",  │          │                           │           │               │        │      │            │            │      │       │                          │\n",
            "│   \"columnNumber\": 1,      │          │                           │           │               │        │      │            │            │      │       │                          │\n",
            "│   \"order\": 4,             │          │                           │           │               │        │      │            │            │      │       │                          │\n",
            "│   \"methodFullName\": \"<ope │          │                           │           │               │        │      │            │            │      │       │                          │\n",
            "│   \"_label\": \"CALL\",       │          │                           │           │               │        │      │            │            │      │       │                          │\n",
            "│   \"argumentIndex\": -1,    │          │                           │           │               │        │      │            │            │      │       │                          │\n",
            "│   \"dynamicTypeHintFullNam │          │                           │           │               │        │      │            │            │      │       │                          │\n",
            "│   \"dispatchType\": \"STATIC │          │                           │           │               │        │      │            │            │      │       │                          │\n",
            "│   \"lineNumber\": 12,       │          │                           │           │               │        │      │            │            │      │       │                          │\n",
            "│   \"id\": 1291              │          │                           │           │               │        │      │            │            │      │       │                          │\n",
            "│ }                         │          │                           │           │               │        │      │            │            │      │       │                          │\n",
            "├───────────────────────────┼──────────┼───────────────────────────┼───────────┼───────────────┼────────┼──────┼────────────┼────────────┼──────┼───────┼──────────────────────────┤\n",
            "│ {                         │ <module> │ flask_webgoat/ui.py:<modu │           │            24 │ METHOD │      │ False      │          1 │ 1313 │     1 │ /tmp/cpggenfg1e2tpx/flas │\n",
            "│   \"name\": \"<operator>.ass │          │ le>                       │           │               │        │      │            │            │      │       │ k_webgoat/ui.py          │\n",
            "│   \"signature\": \"\",        │          │                           │           │               │        │      │            │            │      │       │                          │\n",
            "│   \"code\": \"search = bp.ro │          │                           │           │               │        │      │            │            │      │       │                          │\n",
            "│   \"routePattern\": \"/searc │          │                           │           │               │        │      │            │            │      │       │                          │\n",
            "│   \"typeFullName\": \"ANY\",  │          │                           │           │               │        │      │            │            │      │       │                          │\n",
            "│   \"columnNumber\": 1,      │          │                           │           │               │        │      │            │            │      │       │                          │\n",
            "│   \"order\": 6,             │          │                           │           │               │        │      │            │            │      │       │                          │\n",
            "│   \"methodFullName\": \"<ope │          │                           │           │               │        │      │            │            │      │       │                          │\n",
            "│   \"_label\": \"CALL\",       │          │                           │           │               │        │      │            │            │      │       │                          │\n",
            "│   \"argumentIndex\": -1,    │          │                           │           │               │        │      │            │            │      │       │                          │\n",
            "│   \"dynamicTypeHintFullNam │          │                           │           │               │        │      │            │            │      │       │                          │\n",
            "│   \"dispatchType\": \"STATIC │          │                           │           │               │        │      │            │            │      │       │                          │\n",
            "│   \"lineNumber\": 10,       │          │                           │           │               │        │      │            │            │      │       │                          │\n",
            "│   \"id\": 1440              │          │                           │           │               │        │      │            │            │      │       │                          │\n",
            "│ }                         │          │                           │           │               │        │      │            │            │      │       │                          │\n",
            "├───────────────────────────┼──────────┼───────────────────────────┼───────────┼───────────────┼────────┼──────┼────────────┼────────────┼──────┼───────┼──────────────────────────┤\n",
            "│ {                         │ <module> │ flask_webgoat/users.py:<m │           │            46 │ METHOD │      │ False      │          1 │ 1472 │     1 │ /tmp/cpggenfg1e2tpx/flas │\n",
            "│   \"name\": \"<operator>.ass │          │ odule>                    │           │               │        │      │            │            │      │       │ k_webgoat/users.py       │\n",
            "│   \"signature\": \"\",        │          │                           │           │               │        │      │            │            │      │       │                          │\n",
            "│   \"code\": \"create_user =  │          │                           │           │               │        │      │            │            │      │       │                          │\n",
            "│   \"routePattern\": \"/creat │          │                           │           │               │        │      │            │            │      │       │                          │\n",
            "│   \"httpMethod\": \"POST\",   │          │                           │           │               │        │      │            │            │      │       │                          │\n",
            "│   \"typeFullName\": \"ANY\",  │          │                           │           │               │        │      │            │            │      │       │                          │\n",
            "│   \"columnNumber\": 1,      │          │                           │           │               │        │      │            │            │      │       │                          │\n",
            "│   \"order\": 7,             │          │                           │           │               │        │      │            │            │      │       │                          │\n",
            "│   \"methodFullName\": \"<ope │          │                           │           │               │        │      │            │            │      │       │                          │\n",
            "│   \"_label\": \"CALL\",       │          │                           │           │               │        │      │            │            │      │       │                          │\n",
            "│   \"argumentIndex\": -1,    │          │                           │           │               │        │      │            │            │      │       │                          │\n",
            "│   \"dynamicTypeHintFullNam │          │                           │           │               │        │      │            │            │      │       │                          │\n",
            "│   \"dispatchType\": \"STATIC │          │                           │           │               │        │      │            │            │      │       │                          │\n",
            "│   \"lineNumber\": 11,       │          │                           │           │               │        │      │            │            │      │       │                          │\n",
            "│   \"id\": 1735              │          │                           │           │               │        │      │            │            │      │       │                          │\n",
            "│ }                         │          │                           │           │               │        │      │            │            │      │       │                          │\n",
            "└───────────────────────────┴──────────┴───────────────────────────┴───────────┴───────────────┴────────┴──────┴────────────┴────────────┴──────┴───────┴──────────────────────────┘\n"
          ],
          "output_type" : "stream"
        }
      ]
    },
    {
      "cell_type" : "markdown",
      "execution_count" : 10,
      "metadata" : {
        "language" : "text"
      },
      "language" : "text",
      "source" : [
        "## Static configuration\n",
        "\n",
        "Security misconfiguration in python applications happens when configuration values such as `Debug` or HTTP headers are set statically with incorrect values. These could be usually identified by looking for dictionary assignment operations with known keys as shown."
      ],
      "outputs" : [
      ]
    },
    {
      "cell_type" : "code",
      "execution_count" : 11,
      "metadata" : {
        "cell.metadata.exec_info" : {
          "startTs" : 1684869472661,
          "endTs" : 1684869483241
        },
        "language" : "python"
      },
      "language" : "python",
      "source" : [
        "async def inspect_csrf_misconfig():\n",
        "    connection = await client.get(joern_host, cpggen_host, joern_username, joern_password)\n",
        "    res = await python.list_dict_assignment_location(connection, key='(Access-Control-Allow-Origin|Content-Security-Policy)')\n",
        "    print_table(res, title=\"flask-webgoat static (mis)configuration\")\n",
        "asyncio.run(inspect_csrf_misconfig())"
      ],
      "outputs" : [
        {
          "name" : "stdout",
          "text" : [
            "╭──────────────────────────────────────────────────────────────────────── CPGQL Query ─────────────────────────────────────────────────────────────────────────╮\n",
            "│ cpg.call(Operators.indexAccess).code(\".*(Access-Control-Allow-Origin|Content-Security-Policy).*\").inCall.assignment.argument.isLiteral.location.toJsonPretty │\n",
            "╰──────────────────────────────────────────────────────────────────────────────────────────────────────────────────────────────────────────────────────────────╯\n",
            "[]\n"
          ],
          "output_type" : "stream"
        }
      ]
    },
    {
      "cell_type" : "markdown",
      "execution_count" : 12,
      "metadata" : {
        "language" : "text"
      },
      "language" : "text",
      "source" : [
        "## Detect hardcoded sensitive values\n",
        "\n",
        "Quick and dirty way to list potential secrets and keys without performing any entropy calculation."
      ],
      "outputs" : [
      ]
    },
    {
      "cell_type" : "code",
      "execution_count" : 13,
      "metadata" : {
        "cell.metadata.exec_info" : {
          "startTs" : 1684869483246,
          "endTs" : 1684869493856
        },
        "language" : "python"
      },
      "language" : "python",
      "source" : [
        "async def detect_hardcoded_sensitive_values():\n",
        "    connection = await client.get(joern_host, cpggen_host, joern_username, joern_password)\n",
        "    res = await cpg.list_sensitive_literals(connection)\n",
        "    print_table(res, title=\"flask-webgoat hardcoded sensitive values\")\n",
        "asyncio.run(detect_hardcoded_sensitive_values())"
      ],
      "outputs" : [
        {
          "name" : "stdout",
          "text" : [
            "╭────────────────────────────────────────────────────────────────────── CPGQL Query ──────────────────────────────────────────────────────────────────────╮\n",
            "│ cpg.call.assignment.where(_.argument.order(1).code(\"(?i).*(secret|password|token|key|admin|root).*\")).argument.order(2).isLiteral.location.toJsonPretty │\n",
            "╰─────────────────────────────────────────────────────────────────────────────────────────────────────────────────────────────────────────────────────────╯\n",
            "                                                                      flask-webgoat hardcoded sensitive values                                                                      \n",
            "┏━━━━━━━━━━━━━┳━━━━━━━━┳━━━━━━━━━━━━━━━━━━━━━━━┳━━━━━━━━━━━━━━━━━━━━━━━┳━━━━━━━━━━━━━━━━━━━━━━━━┳━━━━━━━━━━━━━━━━━┳━━━━━━━━━━━━━━━━━┳━━━━━━━━━━━━━━━━━━━━━━━┳━━━━━━━━━━┳━━━━━━━━━━━┓\n",
            "┃ packageName ┃ symbol ┃ filename              ┃ className             ┃ methodFullName         ┃ classShortName  ┃ methodShortName ┃ node                  ┃ _label   ┃ nodeLabel ┃\n",
            "┡━━━━━━━━━━━━━╇━━━━━━━━╇━━━━━━━━━━━━━━━━━━━━━━━╇━━━━━━━━━━━━━━━━━━━━━━━╇━━━━━━━━━━━━━━━━━━━━━━━━╇━━━━━━━━━━━━━━━━━╇━━━━━━━━━━━━━━━━━╇━━━━━━━━━━━━━━━━━━━━━━━╇━━━━━━━━━━╇━━━━━━━━━━━┩\n",
            "│ text        │ 0      │ /tmp/joern-1068987244 │ org.apache.commons.te │ org.apache.commons.tex │ StrTokenizer    │ reset           │ {                     │ LOCATION │ LITERAL   │\n",
            "│             │        │ 8551692744/org/apache │ xt.StrTokenizer       │ t.StrTokenizer.reset:o │                 │                 │   \"dynamicTypeHintFul │          │           │\n",
            "│             │        │ /commons/text/StrToke │                       │ rg.apache.commons.text │                 │                 │   \"code\": \"0\",        │          │           │\n",
            "│             │        │ nizer.class           │                       │ .StrTokenizer()        │                 │                 │   \"typeFullName\": \"in │          │           │\n",
            "│             │        │                       │                       │                        │                 │                 │   \"order\": 2,         │          │           │\n",
            "│             │        │                       │                       │                        │                 │                 │   \"_label\": \"LITERAL\" │          │           │\n",
            "│             │        │                       │                       │                        │                 │                 │   \"argumentIndex\": 2, │          │           │\n",
            "│             │        │                       │                       │                        │                 │                 │   \"id\": 19499         │          │           │\n",
            "│             │        │                       │                       │                        │                 │                 │ }                     │          │           │\n",
            "├─────────────┼────────┼───────────────────────┼───────────────────────┼────────────────────────┼─────────────────┼─────────────────┼───────────────────────┼──────────┼───────────┤\n",
            "│ text        │ null   │ /tmp/joern-1068987244 │ org.apache.commons.te │ org.apache.commons.tex │ StrTokenizer    │ reset           │ {                     │ LOCATION │ LITERAL   │\n",
            "│             │        │ 8551692744/org/apache │ xt.StrTokenizer       │ t.StrTokenizer.reset:o │                 │                 │   \"dynamicTypeHintFul │          │           │\n",
            "│             │        │ /commons/text/StrToke │                       │ rg.apache.commons.text │                 │                 │   \"code\": \"null\",     │          │           │\n",
            "│             │        │ nizer.class           │                       │ .StrTokenizer()        │                 │                 │   \"typeFullName\": \"nu │          │           │\n",
            "│             │        │                       │                       │                        │                 │                 │   \"order\": 2,         │          │           │\n",
            "│             │        │                       │                       │                        │                 │                 │   \"_label\": \"LITERAL\" │          │           │\n",
            "│             │        │                       │                       │                        │                 │                 │   \"argumentIndex\": 2, │          │           │\n",
            "│             │        │                       │                       │                        │                 │                 │   \"id\": 19504         │          │           │\n",
            "│             │        │                       │                       │                        │                 │                 │ }                     │          │           │\n",
            "├─────────────┼────────┼───────────────────────┼───────────────────────┼────────────────────────┼─────────────────┼─────────────────┼───────────────────────┼──────────┼───────────┤\n",
            "│ text        │ 1      │ /tmp/joern-1068987244 │ org.apache.commons.te │ org.apache.commons.tex │ StrTokenizer    │ <init>          │ {                     │ LOCATION │ LITERAL   │\n",
            "│             │        │ 8551692744/org/apache │ xt.StrTokenizer       │ t.StrTokenizer.<init>: │                 │                 │   \"dynamicTypeHintFul │          │           │\n",
            "│             │        │ /commons/text/StrToke │                       │ void()                 │                 │                 │   \"code\": \"1\",        │          │           │\n",
            "│             │        │ nizer.class           │                       │                        │                 │                 │   \"typeFullName\": \"in │          │           │\n",
            "│             │        │                       │                       │                        │                 │                 │   \"order\": 2,         │          │           │\n",
            "│             │        │                       │                       │                        │                 │                 │   \"_label\": \"LITERAL\" │          │           │\n",
            "│             │        │                       │                       │                        │                 │                 │   \"argumentIndex\": 2, │          │           │\n",
            "│             │        │                       │                       │                        │                 │                 │   \"id\": 20958         │          │           │\n",
            "│             │        │                       │                       │                        │                 │                 │ }                     │          │           │\n",
            "├─────────────┼────────┼───────────────────────┼───────────────────────┼────────────────────────┼─────────────────┼─────────────────┼───────────────────────┼──────────┼───────────┤\n",
            "│ text        │ 1      │ /tmp/joern-1068987244 │ org.apache.commons.te │ org.apache.commons.tex │ StrTokenizer    │ <init>          │ {                     │ LOCATION │ LITERAL   │\n",
            "│             │        │ 8551692744/org/apache │ xt.StrTokenizer       │ t.StrTokenizer.<init>: │                 │                 │   \"dynamicTypeHintFul │          │           │\n",
            "│             │        │ /commons/text/StrToke │                       │ void(char[])           │                 │                 │   \"code\": \"1\",        │          │           │\n",
            "│             │        │ nizer.class           │                       │                        │                 │                 │   \"typeFullName\": \"in │          │           │\n",
            "│             │        │                       │                       │                        │                 │                 │   \"order\": 2,         │          │           │\n",
            "│             │        │                       │                       │                        │                 │                 │   \"_label\": \"LITERAL\" │          │           │\n",
            "│             │        │                       │                       │                        │                 │                 │   \"argumentIndex\": 2, │          │           │\n",
            "│             │        │                       │                       │                        │                 │                 │   \"id\": 21017         │          │           │\n",
            "│             │        │                       │                       │                        │                 │                 │ }                     │          │           │\n",
            "├─────────────┼────────┼───────────────────────┼───────────────────────┼────────────────────────┼─────────────────┼─────────────────┼───────────────────────┼──────────┼───────────┤\n",
            "│ text        │ 1      │ /tmp/joern-1068987244 │ org.apache.commons.te │ org.apache.commons.tex │ StrTokenizer    │ <init>          │ {                     │ LOCATION │ LITERAL   │\n",
            "│             │        │ 8551692744/org/apache │ xt.StrTokenizer       │ t.StrTokenizer.<init>: │                 │                 │   \"dynamicTypeHintFul │          │           │\n",
            "│             │        │ /commons/text/StrToke │                       │ void(java.lang.String) │                 │                 │   \"code\": \"1\",        │          │           │\n",
            "│             │        │ nizer.class           │                       │                        │                 │                 │   \"typeFullName\": \"in │          │           │\n",
            "│             │        │                       │                       │                        │                 │                 │   \"order\": 2,         │          │           │\n",
            "│             │        │                       │                       │                        │                 │                 │   \"_label\": \"LITERAL\" │          │           │\n",
            "│             │        │                       │                       │                        │                 │                 │   \"argumentIndex\": 2, │          │           │\n",
            "│             │        │                       │                       │                        │                 │                 │   \"id\": 21173         │          │           │\n",
            "│             │        │                       │                       │                        │                 │                 │ }                     │          │           │\n",
            "├─────────────┼────────┼───────────────────────┼───────────────────────┼────────────────────────┼─────────────────┼─────────────────┼───────────────────────┼──────────┼───────────┤\n",
            "│ text        │ 0      │ /tmp/joern-1068987244 │ org.apache.commons.te │ org.apache.commons.tex │ StringTokenizer │ reset           │ {                     │ LOCATION │ LITERAL   │\n",
            "│             │        │ 8551692744/org/apache │ xt.StringTokenizer    │ t.StringTokenizer.rese │                 │                 │   \"dynamicTypeHintFul │          │           │\n",
            "│             │        │ /commons/text/StringT │                       │ t:org.apache.commons.t │                 │                 │   \"code\": \"0\",        │          │           │\n",
            "│             │        │ okenizer.class        │                       │ ext.StringTokenizer()  │                 │                 │   \"typeFullName\": \"in │          │           │\n",
            "│             │        │                       │                       │                        │                 │                 │   \"order\": 2,         │          │           │\n",
            "│             │        │                       │                       │                        │                 │                 │   \"_label\": \"LITERAL\" │          │           │\n",
            "│             │        │                       │                       │                        │                 │                 │   \"argumentIndex\": 2, │          │           │\n",
            "│             │        │                       │                       │                        │                 │                 │   \"id\": 26579         │          │           │\n",
            "│             │        │                       │                       │                        │                 │                 │ }                     │          │           │\n",
            "├─────────────┼────────┼───────────────────────┼───────────────────────┼────────────────────────┼─────────────────┼─────────────────┼───────────────────────┼──────────┼───────────┤\n",
            "│ text        │ null   │ /tmp/joern-1068987244 │ org.apache.commons.te │ org.apache.commons.tex │ StringTokenizer │ reset           │ {                     │ LOCATION │ LITERAL   │\n",
            "│             │        │ 8551692744/org/apache │ xt.StringTokenizer    │ t.StringTokenizer.rese │                 │                 │   \"dynamicTypeHintFul │          │           │\n",
            "│             │        │ /commons/text/StringT │                       │ t:org.apache.commons.t │                 │                 │   \"code\": \"null\",     │          │           │\n",
            "│             │        │ okenizer.class        │                       │ ext.StringTokenizer()  │                 │                 │   \"typeFullName\": \"nu │          │           │\n",
            "│             │        │                       │                       │                        │                 │                 │   \"order\": 2,         │          │           │\n",
            "│             │        │                       │                       │                        │                 │                 │   \"_label\": \"LITERAL\" │          │           │\n",
            "│             │        │                       │                       │                        │                 │                 │   \"argumentIndex\": 2, │          │           │\n",
            "│             │        │                       │                       │                        │                 │                 │   \"id\": 26584         │          │           │\n",
            "│             │        │                       │                       │                        │                 │                 │ }                     │          │           │\n",
            "├─────────────┼────────┼───────────────────────┼───────────────────────┼────────────────────────┼─────────────────┼─────────────────┼───────────────────────┼──────────┼───────────┤\n",
            "│ text        │ 1      │ /tmp/joern-1068987244 │ org.apache.commons.te │ org.apache.commons.tex │ StringTokenizer │ <init>          │ {                     │ LOCATION │ LITERAL   │\n",
            "│             │        │ 8551692744/org/apache │ xt.StringTokenizer    │ t.StringTokenizer.<ini │                 │                 │   \"dynamicTypeHintFul │          │           │\n",
            "│             │        │ /commons/text/StringT │                       │ t>:void()              │                 │                 │   \"code\": \"1\",        │          │           │\n",
            "│             │        │ okenizer.class        │                       │                        │                 │                 │   \"typeFullName\": \"in │          │           │\n",
            "│             │        │                       │                       │                        │                 │                 │   \"order\": 2,         │          │           │\n",
            "│             │        │                       │                       │                        │                 │                 │   \"_label\": \"LITERAL\" │          │           │\n",
            "│             │        │                       │                       │                        │                 │                 │   \"argumentIndex\": 2, │          │           │\n",
            "│             │        │                       │                       │                        │                 │                 │   \"id\": 28030         │          │           │\n",
            "│             │        │                       │                       │                        │                 │                 │ }                     │          │           │\n",
            "├─────────────┼────────┼───────────────────────┼───────────────────────┼────────────────────────┼─────────────────┼─────────────────┼───────────────────────┼──────────┼───────────┤\n",
            "│ text        │ 1      │ /tmp/joern-1068987244 │ org.apache.commons.te │ org.apache.commons.tex │ StringTokenizer │ <init>          │ {                     │ LOCATION │ LITERAL   │\n",
            "│             │        │ 8551692744/org/apache │ xt.StringTokenizer    │ t.StringTokenizer.<ini │                 │                 │   \"dynamicTypeHintFul │          │           │\n",
            "│             │        │ /commons/text/StringT │                       │ t>:void(char[])        │                 │                 │   \"code\": \"1\",        │          │           │\n",
            "│             │        │ okenizer.class        │                       │                        │                 │                 │   \"typeFullName\": \"in │          │           │\n",
            "│             │        │                       │                       │                        │                 │                 │   \"order\": 2,         │          │           │\n",
            "│             │        │                       │                       │                        │                 │                 │   \"_label\": \"LITERAL\" │          │           │\n",
            "│             │        │                       │                       │                        │                 │                 │   \"argumentIndex\": 2, │          │           │\n",
            "│             │        │                       │                       │                        │                 │                 │   \"id\": 28117         │          │           │\n",
            "│             │        │                       │                       │                        │                 │                 │ }                     │          │           │\n",
            "├─────────────┼────────┼───────────────────────┼───────────────────────┼────────────────────────┼─────────────────┼─────────────────┼───────────────────────┼──────────┼───────────┤\n",
            "│ text        │ 1      │ /tmp/joern-1068987244 │ org.apache.commons.te │ org.apache.commons.tex │ StringTokenizer │ <init>          │ {                     │ LOCATION │ LITERAL   │\n",
            "│             │        │ 8551692744/org/apache │ xt.StringTokenizer    │ t.StringTokenizer.<ini │                 │                 │   \"dynamicTypeHintFul │          │           │\n",
            "│             │        │ /commons/text/StringT │                       │ t>:void(java.lang.Stri │                 │                 │   \"code\": \"1\",        │          │           │\n",
            "│             │        │ okenizer.class        │                       │ ng)                    │                 │                 │   \"typeFullName\": \"in │          │           │\n",
            "│             │        │                       │                       │                        │                 │                 │   \"order\": 2,         │          │           │\n",
            "│             │        │                       │                       │                        │                 │                 │   \"_label\": \"LITERAL\" │          │           │\n",
            "│             │        │                       │                       │                        │                 │                 │   \"argumentIndex\": 2, │          │           │\n",
            "│             │        │                       │                       │                        │                 │                 │   \"id\": 28299         │          │           │\n",
            "│             │        │                       │                       │                        │                 │                 │ }                     │          │           │\n",
            "└─────────────┴────────┴───────────────────────┴───────────────────────┴────────────────────────┴─────────────────┴─────────────────┴───────────────────────┴──────────┴───────────┘\n"
          ],
          "output_type" : "stream"
        }
      ]
    },
    {
      "cell_type" : "markdown",
      "execution_count" : 14,
      "metadata" : {
        "language" : "text"
      },
      "language" : "text",
      "source" : [
        "# OWASP Top 10\n",
        "\n",
        "Having mastered the basics of Joern and joern-lib, it is time to dive into detecting OWASP top 10 vulnerabilities in this project."
      ],
      "outputs" : [
      ]
    },
    {
      "cell_type" : "markdown",
      "execution_count" : 15,
      "metadata" : {
        "language" : "text"
      },
      "language" : "text",
      "source" : [
        "## A03:2021 – Injection\n",
        "\n",
        "### SQL Injection"
      ],
      "outputs" : [
      ]
    },
    {
      "cell_type" : "code",
      "execution_count" : 16,
      "metadata" : {
        "cell.metadata.exec_info" : {
          "startTs" : 1684869493862,
          "endTs" : 1684869504510
        },
        "language" : "python"
      },
      "language" : "python",
      "source" : [
        "async def detect_sqli():\n",
        "    connection = await client.get(joern_host, cpggen_host, joern_username, joern_password)\n",
        "    await client.df(connection, 'cpg.call.code(\"request\\\\..*\").inAssignment.argument.isIdentifier.filterNot(_.name.startsWith(\"tmp\"))', 'cpg.call.code(\".*query_db.*\").argument.order(1)')\n",
        "asyncio.run(detect_sqli())"
      ],
      "outputs" : [
        {
          "name" : "stdout",
          "text" : [
            "╭─────────────────────────────────────────────────── CPGQL Query ───────────────────────────────────────────────────╮\n",
            "│ def source = cpg.call.code(\"request\\\\..*\").inAssignment.argument.isIdentifier.filterNot(_.name.startsWith(\"tmp\")) │\n",
            "╰───────────────────────────────────────────────────────────────────────────────────────────────────────────────────╯\n",
            "╭─────────────────────── CPGQL Query ────────────────────────╮\n",
            "│ def sink = cpg.call.code(\".*query_db.*\").argument.order(1) │\n",
            "╰────────────────────────────────────────────────────────────╯\n",
            "╭─────────────────────────────────────────────────── CPGQL Query ───────────────────────────────────────────────────╮\n",
            "│ sink.reachableByFlows(source).map(m => (m, m.elements.location.l)).toJson |> \"/tmp/reachable_flows_146fkjhi.json\" │\n",
            "╰───────────────────────────────────────────────────────────────────────────────────────────────────────────────────╯\n"
          ],
          "output_type" : "stream"
        }
      ]
    },
    {
      "cell_type" : "markdown",
      "execution_count" : 17,
      "metadata" : {
        "language" : "text"
      },
      "language" : "text",
      "source" : [
        "### Remote Code Execution"
      ],
      "outputs" : [
      ]
    },
    {
      "cell_type" : "code",
      "execution_count" : 18,
      "metadata" : {
        "cell.metadata.exec_info" : {
          "startTs" : 1684869504516,
          "endTs" : 1684869515246
        },
        "language" : "python"
      },
      "language" : "python",
      "source" : [
        "async def detect_rce():\n",
        "    connection = await client.get(joern_host, cpggen_host, joern_username, joern_password)\n",
        "    await client.df(connection, 'cpg.call.code(\"request\\\\..*\").fieldAccess.argument.orderGt(0)', 'cpg.call.code(\".*subprocess.run.*\").argument.order(1)')\n",
        "asyncio.run(detect_rce())"
      ],
      "outputs" : [
        {
          "name" : "stdout",
          "text" : [
            "╭─────────────────────────────── CPGQL Query ────────────────────────────────╮\n",
            "│ def source = cpg.call.code(\"request\\\\..*\").fieldAccess.argument.orderGt(0) │\n",
            "╰────────────────────────────────────────────────────────────────────────────╯\n",
            "╭────────────────────────── CPGQL Query ───────────────────────────╮\n",
            "│ def sink = cpg.call.code(\".*subprocess.run.*\").argument.order(1) │\n",
            "╰──────────────────────────────────────────────────────────────────╯\n",
            "╭─────────────────────────────────────────────────── CPGQL Query ───────────────────────────────────────────────────╮\n",
            "│ sink.reachableByFlows(source).map(m => (m, m.elements.location.l)).toJson |> \"/tmp/reachable_flows_o1u6qews.json\" │\n",
            "╰───────────────────────────────────────────────────────────────────────────────────────────────────────────────────╯\n"
          ],
          "output_type" : "stream"
        }
      ]
    }
  ]
}