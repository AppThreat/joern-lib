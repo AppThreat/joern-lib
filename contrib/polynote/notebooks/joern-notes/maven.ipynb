{
  "metadata" : {
    "config" : {
      "dependencies" : {
        "python" : [
          "file:///opt/joern_lib?nocache"
        ]
      },
      "exclusions" : [
      ],
      "repositories" : [
      ],
      "sparkConfig" : {
        
      },
      "env" : {
        
      }
    },
    "language_info" : {
      "name" : "python"
    }
  },
  "nbformat" : 4,
  "nbformat_minor" : 0,
  "cells" : [
    {
      "cell_type" : "markdown",
      "execution_count" : 0,
      "metadata" : {
        "language" : "text"
      },
      "language" : "text",
      "source" : [
        "# Inspecting jars from Maven\n",
        "\n",
        "With the cpggen server, joern-lib enables inspecting jar files from maven directly. This notebook captures the steps involved, along with showcasing some sample queries."
      ],
      "outputs" : [
      ]
    },
    {
      "cell_type" : "code",
      "execution_count" : 1,
      "metadata" : {
        "cell.metadata.exec_info" : {
          "startTs" : 1684869375976,
          "endTs" : 1684869394668
        },
        "language" : "python"
      },
      "language" : "python",
      "source" : [
        "import asyncio\n",
        "import networkx as nx\n",
        "from graphviz import Source\n",
        "\n",
        "from joern_lib import client, workspace, graph\n",
        "from joern_lib.detectors import common as cpg, java\n",
        "from joern_lib.utils import print_table, print_tree, print_flows, read_image\n",
        "\n",
        "joern_host = \"http://joern:9000\"\n",
        "cpggen_host = \"http://cpggen:7072\"\n",
        "joern_username = \"admin\"\n",
        "joern_password  = \"admin\""
      ],
      "outputs" : [
      ]
    },
    {
      "cell_type" : "markdown",
      "execution_count" : 2,
      "metadata" : {
        "language" : "text"
      },
      "language" : "text",
      "source" : [
        "## Generate CPG using cpggen\n",
        "\n",
        "CPG for the `commons-io` maven jar is generated using the cpggen server and then imported onto the joern server. The default docker-compose starts a cpggen server with the hostname `cpggen` and port `7072`.\n",
        "\n",
        "We use the `create_cpg` api from the workspace to create a CPG from the package URL directly. This single call would handle both generations of the cpg and import onto joern."
      ],
      "outputs" : [
      ]
    },
    {
      "cell_type" : "code",
      "execution_count" : 3,
      "metadata" : {
        "cell.metadata.exec_info" : {
          "startTs" : 1684869394697,
          "endTs" : 1684869410522
        },
        "language" : "python"
      },
      "language" : "python",
      "source" : [
        "async def generate_cpg():\n",
        "    connection = await client.get(joern_host, cpggen_host, joern_username, joern_password)\n",
        "    await workspace.create_cpg(connection, \"pkg:maven/org.apache.commons/commons-io@1.3.2\")\n",
        "asyncio.run(generate_cpg())"
      ],
      "outputs" : [
        {
          "name" : "stdout",
          "text" : [
            "╭──────────────────────────────────── CPGQL Query ────────────────────────────────────╮\n",
            "│ os.exists(os.Path(\"/tmp/cpggen_cpg_out8jmbco2v/cpggenasbftw5d-jimple-cpg.bin.zip\")) │\n",
            "╰─────────────────────────────────────────────────────────────────────────────────────╯\n",
            "╭───────────────────────────────────────── CPGQL Query ──────────────────────────────────────────╮\n",
            "│ importCpg(\"/tmp/cpggen_cpg_out8jmbco2v/cpggenasbftw5d-jimple-cpg.bin.zip\", \"commons-io-1.3.2\") │\n",
            "╰────────────────────────────────────────────────────────────────────────────────────────────────╯\n",
            "╭─ CPGQL Query ─╮\n",
            "│ save          │\n",
            "╰───────────────╯\n"
          ],
          "output_type" : "stream"
        }
      ]
    },
    {
      "cell_type" : "markdown",
      "execution_count" : 4,
      "metadata" : {
        "language" : "text"
      },
      "language" : "text",
      "source" : [
        "## Inspect methods\n",
        "\n",
        "joern-lib offers a convenient api called `list_methods` to simplify the inspection. You can invoke this method without arguments to receive a full list of methods or provide a regex such as `.*org.apache.commons.io.CopyUtils.*` to narrow the results."
      ],
      "outputs" : [
      ]
    },
    {
      "cell_type" : "code",
      "execution_count" : 5,
      "metadata" : {
        "cell.metadata.exec_info" : {
          "startTs" : 1684869410528,
          "endTs" : 1684869421052
        },
        "language" : "python"
      },
      "language" : "python",
      "source" : [
        "async def inspect_methods():\n",
        "    connection = await client.get(joern_host, cpggen_host, joern_username, joern_password)\n",
        "    res = await cpg.list_methods(connection, \".*org.apache.commons.io.CopyUtils.*\")\n",
        "    print_table(res, title=\"CopyUtils methods\")\n",
        "asyncio.run(inspect_methods())"
      ],
      "outputs" : [
        {
          "name" : "stdout",
          "text" : [
            "╭─────────────────────────────────────────────────── CPGQL Query ───────────────────────────────────────────────────╮\n",
            "│ cpg.method.fullName(\".*org.apache.commons.io.CopyUtils.*\").whereNot(_.name(\".*<(operator|init)>.*\")).toJsonPretty │\n",
            "╰───────────────────────────────────────────────────────────────────────────────────────────────────────────────────╯\n",
            "                                                                                 CopyUtils methods                                                                                  \n",
            "┏━━━━━━┳━━━━━━━━━━━━━━━━━━━━━━━━━━┳━━━━━━━━━━━━━━━━━━━━━━━━━━┳━━━━━━━━━━━━━━━┳━━━━━━━━┳━━━━━━━━━━━━━━━━━━━━━━━━━┳━━━━━━━━━━━━┳━━━━━━━━━━━━┳━━━━━┳━━━━━━━┳━━━━━━━━━━━━━━━━━━━━━━━━━━┓\n",
            "┃ name ┃ fullName                 ┃ signature                ┃ lineNumberEnd ┃ _label ┃ code                    ┃ isExternal ┃ lineNumber ┃  id ┃ order ┃ filename                 ┃\n",
            "┡━━━━━━╇━━━━━━━━━━━━━━━━━━━━━━━━━━╇━━━━━━━━━━━━━━━━━━━━━━━━━━╇━━━━━━━━━━━━━━━╇━━━━━━━━╇━━━━━━━━━━━━━━━━━━━━━━━━━╇━━━━━━━━━━━━╇━━━━━━━━━━━━╇━━━━━╇━━━━━━━╇━━━━━━━━━━━━━━━━━━━━━━━━━━┩\n",
            "│ copy │ org.apache.commons.io.Co │ void(byte[],java.io.Outp │             9 │ METHOD │     public static void  │ False      │        137 │  14 │     1 │ /tmp/joern-7791551503773 │\n",
            "│      │ pyUtils.copy:void(byte[] │ utStream)                │               │        │     {                   │            │            │     │       │ 446948/org/apache/common │\n",
            "│      │ ,java.io.OutputStream)   │                          │               │        │         java.io.OutputS │            │            │     │       │ s/io/CopyUtils.class     │\n",
            "│      │                          │                          │               │        │         byte[] input;   │            │            │     │       │                          │\n",
            "│      │                          │                          │               │        │                         │            │            │     │       │                          │\n",
            "│      │                          │                          │               │        │         input := @param │            │            │     │       │                          │\n",
            "│      │                          │                          │               │        │                         │            │            │     │       │                          │\n",
            "│      │                          │                          │               │        │         output := @para │            │            │     │       │                          │\n",
            "│      │                          │                          │               │        │                         │            │            │     │       │                          │\n",
            "│      │                          │                          │               │        │         virtualinvoke o │            │            │     │       │                          │\n",
            "│      │                          │                          │               │        │                         │            │            │     │       │                          │\n",
            "│      │                          │                          │               │        │         return;         │            │            │     │       │                          │\n",
            "│      │                          │                          │               │        │     }                   │            │            │     │       │                          │\n",
            "│      │                          │                          │               │        │                         │            │            │     │       │                          │\n",
            "├──────┼──────────────────────────┼──────────────────────────┼───────────────┼────────┼─────────────────────────┼────────────┼────────────┼─────┼───────┼──────────────────────────┤\n",
            "│ copy │ org.apache.commons.io.Co │ void(byte[],java.io.Writ │            13 │ METHOD │     public static void  │ False      │        154 │  25 │     2 │ /tmp/joern-7791551503773 │\n",
            "│      │ pyUtils.copy:void(byte[] │ er)                      │               │        │     {                   │            │            │     │       │ 446948/org/apache/common │\n",
            "│      │ ,java.io.Writer)         │                          │               │        │         byte[] input;   │            │            │     │       │ s/io/CopyUtils.class     │\n",
            "│      │                          │                          │               │        │         java.io.ByteArr │            │            │     │       │                          │\n",
            "│      │                          │                          │               │        │         java.io.Writer  │            │            │     │       │                          │\n",
            "│      │                          │                          │               │        │                         │            │            │     │       │                          │\n",
            "│      │                          │                          │               │        │         input := @param │            │            │     │       │                          │\n",
            "│      │                          │                          │               │        │                         │            │            │     │       │                          │\n",
            "│      │                          │                          │               │        │         output := @para │            │            │     │       │                          │\n",
            "│      │                          │                          │               │        │                         │            │            │     │       │                          │\n",
            "│      │                          │                          │               │        │         $stack3 = new j │            │            │     │       │                          │\n",
            "│      │                          │                          │               │        │                         │            │            │     │       │                          │\n",
            "│      │                          │                          │               │        │         specialinvoke $ │            │            │     │       │                          │\n",
            "│      │                          │                          │               │        │                         │            │            │     │       │                          │\n",
            "│      │                          │                          │               │        │         in = $stack3;   │            │            │     │       │                          │\n",
            "│      │                          │                          │               │        │                         │            │            │     │       │                          │\n",
            "│      │                          │                          │               │        │         staticinvoke <o │            │            │     │       │                          │\n",
            "│      │                          │                          │               │        │                         │            │            │     │       │                          │\n",
            "│      │                          │                          │               │        │         return;         │            │            │     │       │                          │\n",
            "│      │                          │                          │               │        │     }                   │            │            │     │       │                          │\n",
            "│      │                          │                          │               │        │                         │            │            │     │       │                          │\n",
            "├──────┼──────────────────────────┼──────────────────────────┼───────────────┼────────┼─────────────────────────┼────────────┼────────────┼─────┼───────┼──────────────────────────┤\n",
            "│ copy │ org.apache.commons.io.Co │ void(byte[],java.io.Writ │            15 │ METHOD │     public static void  │ False      │        174 │  47 │     3 │ /tmp/joern-7791551503773 │\n",
            "│      │ pyUtils.copy:void(byte[] │ er,java.lang.String)     │               │        │     {                   │            │            │     │       │ 446948/org/apache/common │\n",
            "│      │ ,java.io.Writer,java.lan │                          │               │        │         byte[] input;   │            │            │     │       │ s/io/CopyUtils.class     │\n",
            "│      │ g.String)                │                          │               │        │         java.io.ByteArr │            │            │     │       │                          │\n",
            "│      │                          │                          │               │        │         java.io.Writer  │            │            │     │       │                          │\n",
            "│      │                          │                          │               │        │         java.lang.Strin │            │            │     │       │                          │\n",
            "│      │                          │                          │               │        │                         │            │            │     │       │                          │\n",
            "│      │                          │                          │               │        │         input := @param │            │            │     │       │                          │\n",
            "│      │                          │                          │               │        │                         │            │            │     │       │                          │\n",
            "│      │                          │                          │               │        │         output := @para │            │            │     │       │                          │\n",
            "│      │                          │                          │               │        │                         │            │            │     │       │                          │\n",
            "│      │                          │                          │               │        │         encoding := @pa │            │            │     │       │                          │\n",
            "│      │                          │                          │               │        │                         │            │            │     │       │                          │\n",
            "│      │                          │                          │               │        │         $stack4 = new j │            │            │     │       │                          │\n",
            "│      │                          │                          │               │        │                         │            │            │     │       │                          │\n",
            "│      │                          │                          │               │        │         specialinvoke $ │            │            │     │       │                          │\n",
            "│      │                          │                          │               │        │                         │            │            │     │       │                          │\n",
            "│      │                          │                          │               │        │         in = $stack4;   │            │            │     │       │                          │\n",
            "│      │                          │                          │               │        │                         │            │            │     │       │                          │\n",
            "│      │                          │                          │               │        │         staticinvoke <o │            │            │     │       │                          │\n",
            "│      │                          │                          │               │        │                         │            │            │     │       │                          │\n",
            "│      │                          │                          │               │        │         return;         │            │            │     │       │                          │\n",
            "│      │                          │                          │               │        │     }                   │            │            │     │       │                          │\n",
            "│      │                          │                          │               │        │                         │            │            │     │       │                          │\n",
            "├──────┼──────────────────────────┼──────────────────────────┼───────────────┼────────┼─────────────────────────┼────────────┼────────────┼─────┼───────┼──────────────────────────┤\n",
            "│ copy │ org.apache.commons.io.Co │ int(java.io.InputStream, │            23 │ METHOD │     public static int c │ False      │        195 │  71 │     4 │ /tmp/joern-7791551503773 │\n",
            "│      │ pyUtils.copy:int(java.io │ java.io.OutputStream)    │               │        │     {                   │            │            │     │       │ 446948/org/apache/common │\n",
            "│      │ .InputStream,java.io.Out │                          │               │        │         java.io.OutputS │            │            │     │       │ s/io/CopyUtils.class     │\n",
            "│      │ putStream)               │                          │               │        │         byte[] buffer;  │            │            │     │       │                          │\n",
            "│      │                          │                          │               │        │         int $stack6, co │            │            │     │       │                          │\n",
            "│      │                          │                          │               │        │         java.io.InputSt │            │            │     │       │                          │\n",
            "│      │                          │                          │               │        │         boolean n;      │            │            │     │       │                          │\n",
            "│      │                          │                          │               │        │                         │            │            │     │       │                          │\n",
            "│      │                          │                          │               │        │         input := @param │            │            │     │       │                          │\n",
            "│      │                          │                          │               │        │                         │            │            │     │       │                          │\n",
            "│      │                          │                          │               │        │         output := @para │            │            │     │       │                          │\n",
            "│      │                          │                          │               │        │                         │            │            │     │       │                          │\n",
            "│      │                          │                          │               │        │         buffer = newarr │            │            │     │       │                          │\n",
            "│      │                          │                          │               │        │                         │            │            │     │       │                          │\n",
            "│      │                          │                          │               │        │         count = 0;      │            │            │     │       │                          │\n",
            "│      │                          │                          │               │        │                         │            │            │     │       │                          │\n",
            "│      │                          │                          │               │        │         n = 0;          │            │            │     │       │                          │\n",
            "│      │                          │                          │               │        │                         │            │            │     │       │                          │\n",
            "│      │                          │                          │               │        │      label1:            │            │            │     │       │                          │\n",
            "│      │                          │                          │               │        │         $stack6 = virtu │            │            │     │       │                          │\n",
            "│      │                          │                          │               │        │                         │            │            │     │       │                          │\n",
            "│      │                          │                          │               │        │         n#3 = $stack6;  │            │            │     │       │                          │\n",
            "│      │                          │                          │               │        │                         │            │            │     │       │                          │\n",
            "│      │                          │                          │               │        │         $i0 = (int) -1; │            │            │     │       │                          │\n",
            "│      │                          │                          │               │        │                         │            │            │     │       │                          │\n",
            "│      │                          │                          │               │        │         if $i0 == $stac │            │            │     │       │                          │\n",
            "│      │                          │                          │               │        │                         │            │            │     │       │                          │\n",
            "│      │                          │                          │               │        │         virtualinvoke o │            │            │     │       │                          │\n",
            "│      │                          │                          │               │        │                         │            │            │     │       │                          │\n",
            "│      │                          │                          │               │        │         count = count + │            │            │     │       │                          │\n",
            "│      │                          │                          │               │        │                         │            │            │     │       │                          │\n",
            "│      │                          │                          │               │        │         goto label1;    │            │            │     │       │                          │\n",
            "│      │                          │                          │               │        │                         │            │            │     │       │                          │\n",
            "│      │                          │                          │               │        │      label2:            │            │            │     │       │                          │\n",
            "│      │                          │                          │               │        │         return count;   │            │            │     │       │                          │\n",
            "│      │                          │                          │               │        │     }                   │            │            │     │       │                          │\n",
            "│      │                          │                          │               │        │                         │            │            │     │       │                          │\n",
            "├──────┼──────────────────────────┼──────────────────────────┼───────────────┼────────┼─────────────────────────┼────────────┼────────────┼─────┼───────┼──────────────────────────┤\n",
            "│ copy │ org.apache.commons.io.Co │ int(java.io.Reader,java. │            23 │ METHOD │     public static int c │ False      │        220 │ 119 │     5 │ /tmp/joern-7791551503773 │\n",
            "│      │ pyUtils.copy:int(java.io │ io.Writer)               │               │        │     {                   │            │            │     │       │ 446948/org/apache/common │\n",
            "│      │ .Reader,java.io.Writer)  │                          │               │        │         java.io.Reader  │            │            │     │       │ s/io/CopyUtils.class     │\n",
            "│      │                          │                          │               │        │         int $stack6, co │            │            │     │       │                          │\n",
            "│      │                          │                          │               │        │         java.io.Writer  │            │            │     │       │                          │\n",
            "│      │                          │                          │               │        │         char[] buffer;  │            │            │     │       │                          │\n",
            "│      │                          │                          │               │        │         boolean n;      │            │            │     │       │                          │\n",
            "│      │                          │                          │               │        │                         │            │            │     │       │                          │\n",
            "│      │                          │                          │               │        │         input := @param │            │            │     │       │                          │\n",
            "│      │                          │                          │               │        │                         │            │            │     │       │                          │\n",
            "│      │                          │                          │               │        │         output := @para │            │            │     │       │                          │\n",
            "│      │                          │                          │               │        │                         │            │            │     │       │                          │\n",
            "│      │                          │                          │               │        │         buffer = newarr │            │            │     │       │                          │\n",
            "│      │                          │                          │               │        │                         │            │            │     │       │                          │\n",
            "│      │                          │                          │               │        │         count = 0;      │            │            │     │       │                          │\n",
            "│      │                          │                          │               │        │                         │            │            │     │       │                          │\n",
            "│      │                          │                          │               │        │         n = 0;          │            │            │     │       │                          │\n",
            "│      │                          │                          │               │        │                         │            │            │     │       │                          │\n",
            "│      │                          │                          │               │        │      label1:            │            │            │     │       │                          │\n",
            "│      │                          │                          │               │        │         $stack6 = virtu │            │            │     │       │                          │\n",
            "│      │                          │                          │               │        │                         │            │            │     │       │                          │\n",
            "│      │                          │                          │               │        │         n#3 = $stack6;  │            │            │     │       │                          │\n",
            "│      │                          │                          │               │        │                         │            │            │     │       │                          │\n",
            "│      │                          │                          │               │        │         $i0 = (int) -1; │            │            │     │       │                          │\n",
            "│      │                          │                          │               │        │                         │            │            │     │       │                          │\n",
            "│      │                          │                          │               │        │         if $i0 == $stac │            │            │     │       │                          │\n",
            "│      │                          │                          │               │        │                         │            │            │     │       │                          │\n",
            "│      │                          │                          │               │        │         virtualinvoke o │            │            │     │       │                          │\n",
            "│      │                          │                          │               │        │                         │            │            │     │       │                          │\n",
            "│      │                          │                          │               │        │         count = count + │            │            │     │       │                          │\n",
            "│      │                          │                          │               │        │                         │            │            │     │       │                          │\n",
            "│      │                          │                          │               │        │         goto label1;    │            │            │     │       │                          │\n",
            "│      │                          │                          │               │        │                         │            │            │     │       │                          │\n",
            "│      │                          │                          │               │        │      label2:            │            │            │     │       │                          │\n",
            "│      │                          │                          │               │        │         return count;   │            │            │     │       │                          │\n",
            "│      │                          │                          │               │        │     }                   │            │            │     │       │                          │\n",
            "│      │                          │                          │               │        │                         │            │            │     │       │                          │\n",
            "├──────┼──────────────────────────┼──────────────────────────┼───────────────┼────────┼─────────────────────────┼────────────┼────────────┼─────┼───────┼──────────────────────────┤\n",
            "│ copy │ org.apache.commons.io.Co │ void(java.io.InputStream │            13 │ METHOD │     public static void  │ False      │        246 │ 167 │     6 │ /tmp/joern-7791551503773 │\n",
            "│      │ pyUtils.copy:void(java.i │ ,java.io.Writer)         │               │        │     {                   │            │            │     │       │ 446948/org/apache/common │\n",
            "│      │ o.InputStream,java.io.Wr │                          │               │        │         java.io.Writer  │            │            │     │       │ s/io/CopyUtils.class     │\n",
            "│      │ iter)                    │                          │               │        │         java.io.InputSt │            │            │     │       │                          │\n",
            "│      │                          │                          │               │        │         java.io.InputSt │            │            │     │       │                          │\n",
            "│      │                          │                          │               │        │                         │            │            │     │       │                          │\n",
            "│      │                          │                          │               │        │         input := @param │            │            │     │       │                          │\n",
            "│      │                          │                          │               │        │                         │            │            │     │       │                          │\n",
            "│      │                          │                          │               │        │         output := @para │            │            │     │       │                          │\n",
            "│      │                          │                          │               │        │                         │            │            │     │       │                          │\n",
            "│      │                          │                          │               │        │         $stack3 = new j │            │            │     │       │                          │\n",
            "│      │                          │                          │               │        │                         │            │            │     │       │                          │\n",
            "│      │                          │                          │               │        │         specialinvoke $ │            │            │     │       │                          │\n",
            "│      │                          │                          │               │        │                         │            │            │     │       │                          │\n",
            "│      │                          │                          │               │        │         in = $stack3;   │            │            │     │       │                          │\n",
            "│      │                          │                          │               │        │                         │            │            │     │       │                          │\n",
            "│      │                          │                          │               │        │         staticinvoke <o │            │            │     │       │                          │\n",
            "│      │                          │                          │               │        │                         │            │            │     │       │                          │\n",
            "│      │                          │                          │               │        │         return;         │            │            │     │       │                          │\n",
            "│      │                          │                          │               │        │     }                   │            │            │     │       │                          │\n",
            "│      │                          │                          │               │        │                         │            │            │     │       │                          │\n",
            "├──────┼──────────────────────────┼──────────────────────────┼───────────────┼────────┼─────────────────────────┼────────────┼────────────┼─────┼───────┼──────────────────────────┤\n",
            "│ copy │ org.apache.commons.io.Co │ void(java.io.InputStream │            15 │ METHOD │     public static void  │ False      │        265 │ 189 │     7 │ /tmp/joern-7791551503773 │\n",
            "│      │ pyUtils.copy:void(java.i │ ,java.io.Writer,java.lan │               │        │     {                   │            │            │     │       │ 446948/org/apache/common │\n",
            "│      │ o.InputStream,java.io.Wr │ g.String)                │               │        │         java.io.Writer  │            │            │     │       │ s/io/CopyUtils.class     │\n",
            "│      │ iter,java.lang.String)   │                          │               │        │         java.lang.Strin │            │            │     │       │                          │\n",
            "│      │                          │                          │               │        │         java.io.InputSt │            │            │     │       │                          │\n",
            "│      │                          │                          │               │        │         java.io.InputSt │            │            │     │       │                          │\n",
            "│      │                          │                          │               │        │                         │            │            │     │       │                          │\n",
            "│      │                          │                          │               │        │         input := @param │            │            │     │       │                          │\n",
            "│      │                          │                          │               │        │                         │            │            │     │       │                          │\n",
            "│      │                          │                          │               │        │         output := @para │            │            │     │       │                          │\n",
            "│      │                          │                          │               │        │                         │            │            │     │       │                          │\n",
            "│      │                          │                          │               │        │         encoding := @pa │            │            │     │       │                          │\n",
            "│      │                          │                          │               │        │                         │            │            │     │       │                          │\n",
            "│      │                          │                          │               │        │         $stack4 = new j │            │            │     │       │                          │\n",
            "│      │                          │                          │               │        │                         │            │            │     │       │                          │\n",
            "│      │                          │                          │               │        │         specialinvoke $ │            │            │     │       │                          │\n",
            "│      │                          │                          │               │        │                         │            │            │     │       │                          │\n",
            "│      │                          │                          │               │        │         in = $stack4;   │            │            │     │       │                          │\n",
            "│      │                          │                          │               │        │                         │            │            │     │       │                          │\n",
            "│      │                          │                          │               │        │         staticinvoke <o │            │            │     │       │                          │\n",
            "│      │                          │                          │               │        │                         │            │            │     │       │                          │\n",
            "│      │                          │                          │               │        │         return;         │            │            │     │       │                          │\n",
            "│      │                          │                          │               │        │     }                   │            │            │     │       │                          │\n",
            "│      │                          │                          │               │        │                         │            │            │     │       │                          │\n",
            "├──────┼──────────────────────────┼──────────────────────────┼───────────────┼────────┼─────────────────────────┼────────────┼────────────┼─────┼───────┼──────────────────────────┤\n",
            "│ copy │ org.apache.commons.io.Co │ void(java.io.Reader,java │            14 │ METHOD │     public static void  │ False      │        285 │ 213 │     8 │ /tmp/joern-7791551503773 │\n",
            "│      │ pyUtils.copy:void(java.i │ .io.OutputStream)        │               │        │     {                   │            │            │     │       │ 446948/org/apache/common │\n",
            "│      │ o.Reader,java.io.OutputS │                          │               │        │         java.io.OutputS │            │            │     │       │ s/io/CopyUtils.class     │\n",
            "│      │ tream)                   │                          │               │        │         java.io.OutputS │            │            │     │       │                          │\n",
            "│      │                          │                          │               │        │         java.io.Reader  │            │            │     │       │                          │\n",
            "│      │                          │                          │               │        │                         │            │            │     │       │                          │\n",
            "│      │                          │                          │               │        │         input := @param │            │            │     │       │                          │\n",
            "│      │                          │                          │               │        │                         │            │            │     │       │                          │\n",
            "│      │                          │                          │               │        │         output := @para │            │            │     │       │                          │\n",
            "│      │                          │                          │               │        │                         │            │            │     │       │                          │\n",
            "│      │                          │                          │               │        │         $stack3 = new j │            │            │     │       │                          │\n",
            "│      │                          │                          │               │        │                         │            │            │     │       │                          │\n",
            "│      │                          │                          │               │        │         specialinvoke $ │            │            │     │       │                          │\n",
            "│      │                          │                          │               │        │                         │            │            │     │       │                          │\n",
            "│      │                          │                          │               │        │         out = $stack3;  │            │            │     │       │                          │\n",
            "│      │                          │                          │               │        │                         │            │            │     │       │                          │\n",
            "│      │                          │                          │               │        │         staticinvoke <o │            │            │     │       │                          │\n",
            "│      │                          │                          │               │        │                         │            │            │     │       │                          │\n",
            "│      │                          │                          │               │        │         virtualinvoke o │            │            │     │       │                          │\n",
            "│      │                          │                          │               │        │                         │            │            │     │       │                          │\n",
            "│      │                          │                          │               │        │         return;         │            │            │     │       │                          │\n",
            "│      │                          │                          │               │        │     }                   │            │            │     │       │                          │\n",
            "│      │                          │                          │               │        │                         │            │            │     │       │                          │\n",
            "├──────┼──────────────────────────┼──────────────────────────┼───────────────┼────────┼─────────────────────────┼────────────┼────────────┼─────┼───────┼──────────────────────────┤\n",
            "│ copy │ org.apache.commons.io.Co │ void(java.lang.String,ja │            18 │ METHOD │     public static void  │ False      │        308 │ 237 │     9 │ /tmp/joern-7791551503773 │\n",
            "│      │ pyUtils.copy:void(java.l │ va.io.OutputStream)      │               │        │     {                   │            │            │     │       │ 446948/org/apache/common │\n",
            "│      │ ang.String,java.io.Outpu │                          │               │        │         java.io.OutputS │            │            │     │       │ s/io/CopyUtils.class     │\n",
            "│      │ tStream)                 │                          │               │        │         java.io.StringR │            │            │     │       │                          │\n",
            "│      │                          │                          │               │        │         java.io.OutputS │            │            │     │       │                          │\n",
            "│      │                          │                          │               │        │         java.lang.Strin │            │            │     │       │                          │\n",
            "│      │                          │                          │               │        │                         │            │            │     │       │                          │\n",
            "│      │                          │                          │               │        │         input := @param │            │            │     │       │                          │\n",
            "│      │                          │                          │               │        │                         │            │            │     │       │                          │\n",
            "│      │                          │                          │               │        │         output := @para │            │            │     │       │                          │\n",
            "│      │                          │                          │               │        │                         │            │            │     │       │                          │\n",
            "│      │                          │                          │               │        │         $stack4 = new j │            │            │     │       │                          │\n",
            "│      │                          │                          │               │        │                         │            │            │     │       │                          │\n",
            "│      │                          │                          │               │        │         specialinvoke $ │            │            │     │       │                          │\n",
            "│      │                          │                          │               │        │                         │            │            │     │       │                          │\n",
            "│      │                          │                          │               │        │         in = $stack4;   │            │            │     │       │                          │\n",
            "│      │                          │                          │               │        │                         │            │            │     │       │                          │\n",
            "│      │                          │                          │               │        │         $stack5 = new j │            │            │     │       │                          │\n",
            "│      │                          │                          │               │        │                         │            │            │     │       │                          │\n",
            "│      │                          │                          │               │        │         specialinvoke $ │            │            │     │       │                          │\n",
            "│      │                          │                          │               │        │                         │            │            │     │       │                          │\n",
            "│      │                          │                          │               │        │         out = $stack5;  │            │            │     │       │                          │\n",
            "│      │                          │                          │               │        │                         │            │            │     │       │                          │\n",
            "│      │                          │                          │               │        │         staticinvoke <o │            │            │     │       │                          │\n",
            "│      │                          │                          │               │        │                         │            │            │     │       │                          │\n",
            "│      │                          │                          │               │        │         virtualinvoke o │            │            │     │       │                          │\n",
            "│      │                          │                          │               │        │                         │            │            │     │       │                          │\n",
            "│      │                          │                          │               │        │         return;         │            │            │     │       │                          │\n",
            "│      │                          │                          │               │        │     }                   │            │            │     │       │                          │\n",
            "│      │                          │                          │               │        │                         │            │            │     │       │                          │\n",
            "├──────┼──────────────────────────┼──────────────────────────┼───────────────┼────────┼─────────────────────────┼────────────┼────────────┼─────┼───────┼──────────────────────────┤\n",
            "│ copy │ org.apache.commons.io.Co │ void(java.lang.String,ja │             9 │ METHOD │     public static void  │ False      │        328 │ 272 │    10 │ /tmp/joern-7791551503773 │\n",
            "│      │ pyUtils.copy:void(java.l │ va.io.Writer)            │               │        │     {                   │            │            │     │       │ 446948/org/apache/common │\n",
            "│      │ ang.String,java.io.Write │                          │               │        │         java.io.Writer  │            │            │     │       │ s/io/CopyUtils.class     │\n",
            "│      │ r)                       │                          │               │        │         java.lang.Strin │            │            │     │       │                          │\n",
            "│      │                          │                          │               │        │                         │            │            │     │       │                          │\n",
            "│      │                          │                          │               │        │         input := @param │            │            │     │       │                          │\n",
            "│      │                          │                          │               │        │                         │            │            │     │       │                          │\n",
            "│      │                          │                          │               │        │         output := @para │            │            │     │       │                          │\n",
            "│      │                          │                          │               │        │                         │            │            │     │       │                          │\n",
            "│      │                          │                          │               │        │         virtualinvoke o │            │            │     │       │                          │\n",
            "│      │                          │                          │               │        │                         │            │            │     │       │                          │\n",
            "│      │                          │                          │               │        │         return;         │            │            │     │       │                          │\n",
            "│      │                          │                          │               │        │     }                   │            │            │     │       │                          │\n",
            "│      │                          │                          │               │        │                         │            │            │     │       │                          │\n",
            "└──────┴──────────────────────────┴──────────────────────────┴───────────────┴────────┴─────────────────────────┴────────────┴────────────┴─────┴───────┴──────────────────────────┘\n"
          ],
          "output_type" : "stream"
        }
      ]
    },
    {
      "cell_type" : "markdown",
      "execution_count" : 6,
      "metadata" : {
        "language" : "text"
      },
      "language" : "text",
      "source" : [
        "## Research CVE-2021-29425\n",
        "\n",
        "> In Apache Commons IO before 2.7, When invoking the method FileNameUtils.normalize with an improper input string, like \"//../foo\", or \"\\\\..\\foo\", the result would be the same value, thus possibly providing access to files in the parent directory"
      ],
      "outputs" : [
      ]
    },
    {
      "cell_type" : "code",
      "execution_count" : 7,
      "metadata" : {
        "cell.metadata.exec_info" : {
          "startTs" : 1684869421057,
          "endTs" : 1684869431420
        },
        "language" : "python"
      },
      "language" : "python",
      "source" : [
        "async def inspect_normalize():\n",
        "    connection = await client.get(joern_host, cpggen_host, joern_username, joern_password)\n",
        "    res = await cpg.list_methods(connection, \".*FilenameUtils.normalize:.*\")\n",
        "    print_table(res, title=\"FileNameUtils normalize method\")\n",
        "asyncio.run(inspect_normalize())"
      ],
      "outputs" : [
        {
          "name" : "stdout",
          "text" : [
            "╭─────────────────────────────────────────────── CPGQL Query ────────────────────────────────────────────────╮\n",
            "│ cpg.method.fullName(\".*FilenameUtils.normalize:.*\").whereNot(_.name(\".*<(operator|init)>.*\")).toJsonPretty │\n",
            "╰────────────────────────────────────────────────────────────────────────────────────────────────────────────╯\n",
            "                                                                           FileNameUtils normalize method                                                                           \n",
            "┏━━━━━━━━━━━┳━━━━━━━━━━━━━━━━━━━━━━━━┳━━━━━━━━━━━━━━━━━━━━━━━━┳━━━━━━━━━━━━━━━┳━━━━━━━━┳━━━━━━━━━━━━━━━━━━━━━━━━┳━━━━━━━━━━━━┳━━━━━━━━━━━━┳━━━━━━┳━━━━━━━┳━━━━━━━━━━━━━━━━━━━━━━━━━┓\n",
            "┃ name      ┃ fullName               ┃ signature              ┃ lineNumberEnd ┃ _label ┃ code                   ┃ isExternal ┃ lineNumber ┃   id ┃ order ┃ filename                ┃\n",
            "┡━━━━━━━━━━━╇━━━━━━━━━━━━━━━━━━━━━━━━╇━━━━━━━━━━━━━━━━━━━━━━━━╇━━━━━━━━━━━━━━━╇━━━━━━━━╇━━━━━━━━━━━━━━━━━━━━━━━━╇━━━━━━━━━━━━╇━━━━━━━━━━━━╇━━━━━━╇━━━━━━━╇━━━━━━━━━━━━━━━━━━━━━━━━━┩\n",
            "│ normalize │ org.apache.commons.io. │ java.lang.String(java. │             7 │ METHOD │     public static java │ False      │        196 │ 9316 │    10 │ /tmp/joern-779155150377 │\n",
            "│           │ FilenameUtils.normaliz │ lang.String)           │               │        │     {                  │            │            │      │       │ 3446948/org/apache/comm │\n",
            "│           │ e:java.lang.String(jav │                        │               │        │         java.lang.Stri │            │            │      │       │ ons/io/FilenameUtils.cl │\n",
            "│           │ a.lang.String)         │                        │               │        │                        │            │            │      │       │ ass                     │\n",
            "│           │                        │                        │               │        │         filename := @p │            │            │      │       │                         │\n",
            "│           │                        │                        │               │        │                        │            │            │      │       │                         │\n",
            "│           │                        │                        │               │        │         $stack1 = stat │            │            │      │       │                         │\n",
            "│           │                        │                        │               │        │                        │            │            │      │       │                         │\n",
            "│           │                        │                        │               │        │         return $stack1 │            │            │      │       │                         │\n",
            "│           │                        │                        │               │        │     }                  │            │            │      │       │                         │\n",
            "│           │                        │                        │               │        │                        │            │            │      │       │                         │\n",
            "└───────────┴────────────────────────┴────────────────────────┴───────────────┴────────┴────────────────────────┴────────────┴────────────┴──────┴───────┴─────────────────────────┘\n"
          ],
          "output_type" : "stream"
        }
      ]
    },
    {
      "cell_type" : "code",
      "execution_count" : 8,
      "metadata" : {
        "cell.metadata.exec_info" : {
          "startTs" : 1684869431426,
          "endTs" : 1684869442181
        },
        "language" : "python"
      },
      "language" : "python",
      "source" : [
        "async def get_call_tree():\n",
        "    connection = await client.get(joern_host, cpggen_host, joern_username, joern_password)\n",
        "    res = await cpg.get_call_tree(connection, \"org.apache.commons.io.FilenameUtils.normalize:java.lang.String(java.lang.String)\")\n",
        "    print_tree(res)\n",
        "asyncio.run(get_call_tree())"
      ],
      "outputs" : [
        {
          "name" : "stdout",
          "text" : [
            "╭─────────────────────────────────────────────── CPGQL Query ───────────────────────────────────────────────╮\n",
            "│                                                                                                           │\n",
            "│ import scala.collection.mutable.ListBuffer                                                                │\n",
            "│ def printDashes(count: Int) = {                                                                           │\n",
            "│     var tabStr = \"+--- \"                                                                                  │\n",
            "│     var i = 0                                                                                             │\n",
            "│     while (i < count) {                                                                                   │\n",
            "│         tabStr = \"|    \" + tabStr                                                                         │\n",
            "│         i += 1                                                                                            │\n",
            "│     }                                                                                                     │\n",
            "│     tabStr                                                                                                │\n",
            "│ }                                                                                                         │\n",
            "│ def printCallTree(callerFullName : String, tree: ListBuffer[String], depth: Int) {                        │\n",
            "│     var dashCount = 0                                                                                     │\n",
            "│     var lastCallerMethod = callerFullName                                                                 │\n",
            "│     var lastDashCount = 0                                                                                 │\n",
            "│     tree += callerFullName                                                                                │\n",
            "│     def findCallee(methodName: String, tree: ListBuffer[String]) {                                        │\n",
            "│         var calleeList = cpg.method.fullNameExact(methodName).callee.whereNot(_.name(\".*<operator>.*\")).l │\n",
            "│         var callerNameList = cpg.method.fullNameExact(methodName).caller.fullName.l                       │\n",
            "│         if (callerNameList.contains(lastCallerMethod) || (callerNameList.size == 0)) {                    │\n",
            "│             dashCount = lastDashCount                                                                     │\n",
            "│         } else {                                                                                          │\n",
            "│             lastDashCount = dashCount                                                                     │\n",
            "│             lastCallerMethod = methodName                                                                 │\n",
            "│             dashCount += 1                                                                                │\n",
            "│         }                                                                                                 │\n",
            "│         if (dashCount < depth) {                                                                          │\n",
            "│             calleeList foreach { c =>                                                                     │\n",
            "│                 tree += printDashes(dashCount) + c.fullName                                               │\n",
            "│                 findCallee(c.fullName, tree)                                                              │\n",
            "│             }                                                                                             │\n",
            "│         }                                                                                                 │\n",
            "│     }                                                                                                     │\n",
            "│     findCallee(lastCallerMethod, tree)                                                                    │\n",
            "│ }                                                                                                         │\n",
            "│                                                                                                           │\n",
            "╰───────────────────────────────────────────────────────────────────────────────────────────────────────────╯\n",
            "╭─────────────────────────────────────────────────── CPGQL Query ────────────────────────────────────────────────────╮\n",
            "│                                                                                                                    │\n",
            "│         var tree = new ListBuffer[String]()                                                                        │\n",
            "│         printCallTree(\"org.apache.commons.io.FilenameUtils.normalize:java.lang.String(java.lang.String)\", tree, 3) │\n",
            "│         tree.toList.mkString(\"\\n\")                                                                                 │\n",
            "│                                                                                                                    │\n",
            "╰────────────────────────────────────────────────────────────────────────────────────────────────────────────────────╯\n",
            "\"org.apache.commons.io.FilenameUtils.normalize:java.lang.String(java.lang.String)\"\n"
          ],
          "output_type" : "stream"
        }
      ]
    },
    {
      "cell_type" : "markdown",
      "execution_count" : 9,
      "metadata" : {
        "language" : "text"
      },
      "language" : "text",
      "source" : [
        "We can see the method is invoking another method called `doNormalize`"
      ],
      "outputs" : [
      ]
    },
    {
      "cell_type" : "code",
      "execution_count" : 10,
      "metadata" : {
        "cell.metadata.exec_info" : {
          "startTs" : 1684869442186,
          "endTs" : 1684869453063
        },
        "language" : "python"
      },
      "language" : "python",
      "source" : [
        "async def inspect_do_normalize():\n",
        "    connection = await client.get(joern_host, cpggen_host, joern_username, joern_password)\n",
        "    res = await cpg.list_methods(connection, \".*FilenameUtils.doNormalize:.*\")\n",
        "    print_table(res, title=\"FileNameUtils doNormalize method\")\n",
        "    print(\"\\n\")\n",
        "    res = await cpg.get_call_tree(connection, \"org.apache.commons.io.FilenameUtils.doNormalize:java.lang.String(java.lang.String,boolean)\")\n",
        "    print_tree(res)\n",
        "asyncio.run(inspect_do_normalize())"
      ],
      "outputs" : [
        {
          "name" : "stdout",
          "text" : [
            "╭──────────────────────────────────────────────── CPGQL Query ─────────────────────────────────────────────────╮\n",
            "│ cpg.method.fullName(\".*FilenameUtils.doNormalize:.*\").whereNot(_.name(\".*<(operator|init)>.*\")).toJsonPretty │\n",
            "╰──────────────────────────────────────────────────────────────────────────────────────────────────────────────╯\n",
            "[]\n",
            "\n",
            "\n",
            "╭─────────────────────────────────────────────── CPGQL Query ───────────────────────────────────────────────╮\n",
            "│                                                                                                           │\n",
            "│ import scala.collection.mutable.ListBuffer                                                                │\n",
            "│ def printDashes(count: Int) = {                                                                           │\n",
            "│     var tabStr = \"+--- \"                                                                                  │\n",
            "│     var i = 0                                                                                             │\n",
            "│     while (i < count) {                                                                                   │\n",
            "│         tabStr = \"|    \" + tabStr                                                                         │\n",
            "│         i += 1                                                                                            │\n",
            "│     }                                                                                                     │\n",
            "│     tabStr                                                                                                │\n",
            "│ }                                                                                                         │\n",
            "│ def printCallTree(callerFullName : String, tree: ListBuffer[String], depth: Int) {                        │\n",
            "│     var dashCount = 0                                                                                     │\n",
            "│     var lastCallerMethod = callerFullName                                                                 │\n",
            "│     var lastDashCount = 0                                                                                 │\n",
            "│     tree += callerFullName                                                                                │\n",
            "│     def findCallee(methodName: String, tree: ListBuffer[String]) {                                        │\n",
            "│         var calleeList = cpg.method.fullNameExact(methodName).callee.whereNot(_.name(\".*<operator>.*\")).l │\n",
            "│         var callerNameList = cpg.method.fullNameExact(methodName).caller.fullName.l                       │\n",
            "│         if (callerNameList.contains(lastCallerMethod) || (callerNameList.size == 0)) {                    │\n",
            "│             dashCount = lastDashCount                                                                     │\n",
            "│         } else {                                                                                          │\n",
            "│             lastDashCount = dashCount                                                                     │\n",
            "│             lastCallerMethod = methodName                                                                 │\n",
            "│             dashCount += 1                                                                                │\n",
            "│         }                                                                                                 │\n",
            "│         if (dashCount < depth) {                                                                          │\n",
            "│             calleeList foreach { c =>                                                                     │\n",
            "│                 tree += printDashes(dashCount) + c.fullName                                               │\n",
            "│                 findCallee(c.fullName, tree)                                                              │\n",
            "│             }                                                                                             │\n",
            "│         }                                                                                                 │\n",
            "│     }                                                                                                     │\n",
            "│     findCallee(lastCallerMethod, tree)                                                                    │\n",
            "│ }                                                                                                         │\n",
            "│                                                                                                           │\n",
            "╰───────────────────────────────────────────────────────────────────────────────────────────────────────────╯\n",
            "╭──────────────────────────────────────────────────────── CPGQL Query ─────────────────────────────────────────────────────────╮\n",
            "│                                                                                                                              │\n",
            "│         var tree = new ListBuffer[String]()                                                                                  │\n",
            "│         printCallTree(\"org.apache.commons.io.FilenameUtils.doNormalize:java.lang.String(java.lang.String,boolean)\", tree, 3) │\n",
            "│         tree.toList.mkString(\"\\n\")                                                                                           │\n",
            "│                                                                                                                              │\n",
            "╰──────────────────────────────────────────────────────────────────────────────────────────────────────────────────────────────╯\n",
            "\"org.apache.commons.io.FilenameUtils.doNormalize:java.lang.String(java.lang.String,boolean)\"\n"
          ],
          "output_type" : "stream"
        }
      ]
    },
    {
      "cell_type" : "markdown",
      "execution_count" : 11,
      "metadata" : {
        "language" : "text"
      },
      "language" : "text",
      "source" : [
        "A method called getPrefixLength is found in the call trees for both normalize and doNormalize. The final step is to visualize the call tree for getPrefixLength"
      ],
      "outputs" : [
      ]
    },
    {
      "cell_type" : "code",
      "execution_count" : 12,
      "metadata" : {
        "cell.metadata.exec_info" : {
          "startTs" : 1684869453067,
          "endTs" : 1684869463845
        },
        "language" : "python"
      },
      "language" : "python",
      "source" : [
        "async def get_call_tree():\n",
        "    connection = await client.get(joern_host, cpggen_host, joern_username, joern_password)\n",
        "    res = await cpg.get_call_tree(connection, \"org.apache.commons.io.FilenameUtils.getPrefixLength:int(java.lang.String)\")\n",
        "    print_tree(res)\n",
        "asyncio.run(get_call_tree())"
      ],
      "outputs" : [
        {
          "name" : "stdout",
          "text" : [
            "╭─────────────────────────────────────────────── CPGQL Query ───────────────────────────────────────────────╮\n",
            "│                                                                                                           │\n",
            "│ import scala.collection.mutable.ListBuffer                                                                │\n",
            "│ def printDashes(count: Int) = {                                                                           │\n",
            "│     var tabStr = \"+--- \"                                                                                  │\n",
            "│     var i = 0                                                                                             │\n",
            "│     while (i < count) {                                                                                   │\n",
            "│         tabStr = \"|    \" + tabStr                                                                         │\n",
            "│         i += 1                                                                                            │\n",
            "│     }                                                                                                     │\n",
            "│     tabStr                                                                                                │\n",
            "│ }                                                                                                         │\n",
            "│ def printCallTree(callerFullName : String, tree: ListBuffer[String], depth: Int) {                        │\n",
            "│     var dashCount = 0                                                                                     │\n",
            "│     var lastCallerMethod = callerFullName                                                                 │\n",
            "│     var lastDashCount = 0                                                                                 │\n",
            "│     tree += callerFullName                                                                                │\n",
            "│     def findCallee(methodName: String, tree: ListBuffer[String]) {                                        │\n",
            "│         var calleeList = cpg.method.fullNameExact(methodName).callee.whereNot(_.name(\".*<operator>.*\")).l │\n",
            "│         var callerNameList = cpg.method.fullNameExact(methodName).caller.fullName.l                       │\n",
            "│         if (callerNameList.contains(lastCallerMethod) || (callerNameList.size == 0)) {                    │\n",
            "│             dashCount = lastDashCount                                                                     │\n",
            "│         } else {                                                                                          │\n",
            "│             lastDashCount = dashCount                                                                     │\n",
            "│             lastCallerMethod = methodName                                                                 │\n",
            "│             dashCount += 1                                                                                │\n",
            "│         }                                                                                                 │\n",
            "│         if (dashCount < depth) {                                                                          │\n",
            "│             calleeList foreach { c =>                                                                     │\n",
            "│                 tree += printDashes(dashCount) + c.fullName                                               │\n",
            "│                 findCallee(c.fullName, tree)                                                              │\n",
            "│             }                                                                                             │\n",
            "│         }                                                                                                 │\n",
            "│     }                                                                                                     │\n",
            "│     findCallee(lastCallerMethod, tree)                                                                    │\n",
            "│ }                                                                                                         │\n",
            "│                                                                                                           │\n",
            "╰───────────────────────────────────────────────────────────────────────────────────────────────────────────╯\n",
            "╭──────────────────────────────────────────────── CPGQL Query ────────────────────────────────────────────────╮\n",
            "│                                                                                                             │\n",
            "│         var tree = new ListBuffer[String]()                                                                 │\n",
            "│         printCallTree(\"org.apache.commons.io.FilenameUtils.getPrefixLength:int(java.lang.String)\", tree, 3) │\n",
            "│         tree.toList.mkString(\"\\n\")                                                                          │\n",
            "│                                                                                                             │\n",
            "╰─────────────────────────────────────────────────────────────────────────────────────────────────────────────╯\n",
            "\"org.apache.commons.io.FilenameUtils.getPrefixLength:int(java.lang.String)\"\n"
          ],
          "output_type" : "stream"
        }
      ]
    },
    {
      "cell_type" : "markdown",
      "execution_count" : 13,
      "metadata" : {
        "language" : "text"
      },
      "language" : "text",
      "source" : [
        "From the call tree for `getPrefixLength`, we can observe that apart from some `isSeparator` checks, there isn't much validation in the method. Therefore, this method could become a target for detailed testing, including fuzzing."
      ],
      "outputs" : [
      ]
    },
    {
      "cell_type" : "markdown",
      "execution_count" : 14,
      "metadata" : {
        "language" : "text"
      },
      "language" : "text",
      "source" : [
        "# Hunting RCE in commons-text"
      ],
      "outputs" : [
      ]
    },
    {
      "cell_type" : "markdown",
      "execution_count" : 15,
      "metadata" : {
        "language" : "text"
      },
      "language" : "text",
      "source" : [
        "## Generate CPG"
      ],
      "outputs" : [
      ]
    },
    {
      "cell_type" : "code",
      "execution_count" : 16,
      "metadata" : {
        "jupyter.outputs_hidden" : true,
        "cell.metadata.exec_info" : {
          "startTs" : 1684869463850,
          "endTs" : 1684869481976
        },
        "language" : "python"
      },
      "language" : "python",
      "source" : [
        "async def generate_cpg():\n",
        "    connection = await client.get(joern_host, cpggen_host, joern_username, joern_password)\n",
        "    await workspace.create_cpg(connection, \"pkg:maven/org.apache.commons/commons-text@1.10.0\")\n",
        "asyncio.run(generate_cpg())"
      ],
      "outputs" : [
        {
          "name" : "stdout",
          "text" : [
            "╭──────────────────────────────────── CPGQL Query ────────────────────────────────────╮\n",
            "│ os.exists(os.Path(\"/tmp/cpggen_cpg_outwxx27aj_/cpggen0icebf0l-jimple-cpg.bin.zip\")) │\n",
            "╰─────────────────────────────────────────────────────────────────────────────────────╯\n",
            "╭─────────────────────────────────────────── CPGQL Query ───────────────────────────────────────────╮\n",
            "│ importCpg(\"/tmp/cpggen_cpg_outwxx27aj_/cpggen0icebf0l-jimple-cpg.bin.zip\", \"commons-text-1.10.0\") │\n",
            "╰───────────────────────────────────────────────────────────────────────────────────────────────────╯\n",
            "╭─ CPGQL Query ─╮\n",
            "│ save          │\n",
            "╰───────────────╯\n"
          ],
          "output_type" : "stream"
        }
      ]
    },
    {
      "cell_type" : "markdown",
      "execution_count" : 17,
      "metadata" : {
        "language" : "text"
      },
      "language" : "text",
      "source" : [
        "## Research CVE-2022-42889\n",
        "\n",
        "> The StringSubstitutor when used with the default interpolators (StringSubstitutor.createInterpolator()) will perform string lookups that may lead to arbitrary code execution.\n",
        "\n",
        "In particular, if untrusted data flows into the StringSubstitutor.replace() or StringSubstitutor.replaceIn() methods, an attacker will be able to use the ScriptStringLookup to trigger arbitrary code execution."
      ],
      "outputs" : [
      ]
    },
    {
      "cell_type" : "code",
      "execution_count" : 18,
      "metadata" : {
        "cell.metadata.exec_info" : {
          "startTs" : 1684869481981,
          "endTs" : 1684869492705
        },
        "language" : "python"
      },
      "language" : "python",
      "source" : [
        "async def get_call_tree():\n",
        "    connection = await client.get(joern_host, cpggen_host, joern_username, joern_password)\n",
        "    res = await cpg.get_call_tree(connection, \"org.apache.commons.text.lookup.ScriptStringLookup.lookup:java.lang.String(java.lang.String)\")\n",
        "    print_tree(res)\n",
        "asyncio.run(get_call_tree())"
      ],
      "outputs" : [
        {
          "name" : "stdout",
          "text" : [
            "╭─────────────────────────────────────────────── CPGQL Query ───────────────────────────────────────────────╮\n",
            "│                                                                                                           │\n",
            "│ import scala.collection.mutable.ListBuffer                                                                │\n",
            "│ def printDashes(count: Int) = {                                                                           │\n",
            "│     var tabStr = \"+--- \"                                                                                  │\n",
            "│     var i = 0                                                                                             │\n",
            "│     while (i < count) {                                                                                   │\n",
            "│         tabStr = \"|    \" + tabStr                                                                         │\n",
            "│         i += 1                                                                                            │\n",
            "│     }                                                                                                     │\n",
            "│     tabStr                                                                                                │\n",
            "│ }                                                                                                         │\n",
            "│ def printCallTree(callerFullName : String, tree: ListBuffer[String], depth: Int) {                        │\n",
            "│     var dashCount = 0                                                                                     │\n",
            "│     var lastCallerMethod = callerFullName                                                                 │\n",
            "│     var lastDashCount = 0                                                                                 │\n",
            "│     tree += callerFullName                                                                                │\n",
            "│     def findCallee(methodName: String, tree: ListBuffer[String]) {                                        │\n",
            "│         var calleeList = cpg.method.fullNameExact(methodName).callee.whereNot(_.name(\".*<operator>.*\")).l │\n",
            "│         var callerNameList = cpg.method.fullNameExact(methodName).caller.fullName.l                       │\n",
            "│         if (callerNameList.contains(lastCallerMethod) || (callerNameList.size == 0)) {                    │\n",
            "│             dashCount = lastDashCount                                                                     │\n",
            "│         } else {                                                                                          │\n",
            "│             lastDashCount = dashCount                                                                     │\n",
            "│             lastCallerMethod = methodName                                                                 │\n",
            "│             dashCount += 1                                                                                │\n",
            "│         }                                                                                                 │\n",
            "│         if (dashCount < depth) {                                                                          │\n",
            "│             calleeList foreach { c =>                                                                     │\n",
            "│                 tree += printDashes(dashCount) + c.fullName                                               │\n",
            "│                 findCallee(c.fullName, tree)                                                              │\n",
            "│             }                                                                                             │\n",
            "│         }                                                                                                 │\n",
            "│     }                                                                                                     │\n",
            "│     findCallee(lastCallerMethod, tree)                                                                    │\n",
            "│ }                                                                                                         │\n",
            "│                                                                                                           │\n",
            "╰───────────────────────────────────────────────────────────────────────────────────────────────────────────╯\n",
            "╭───────────────────────────────────────────────────────── CPGQL Query ─────────────────────────────────────────────────────────╮\n",
            "│                                                                                                                               │\n",
            "│         var tree = new ListBuffer[String]()                                                                                   │\n",
            "│         printCallTree(\"org.apache.commons.text.lookup.ScriptStringLookup.lookup:java.lang.String(java.lang.String)\", tree, 3) │\n",
            "│         tree.toList.mkString(\"\\n\")                                                                                            │\n",
            "│                                                                                                                               │\n",
            "╰───────────────────────────────────────────────────────────────────────────────────────────────────────────────────────────────╯\n",
            "org.apache.commons.text.lookup.ScriptStringLookup.lookup:java.lang.String(java.lang.String)\n",
            "┣━━ |    javax.script.ScriptEngineManager.<init>:void()\n",
            "┣━━ java.lang.StringBuilder.<init>:void()\n",
            "┣━━ java.lang.IllegalArgumentException.<init>:void(java.lang.String)\n",
            "┣━━ java.lang.String.split:java.lang.String[](java.lang.String,int)\n",
            "┣━━ org.apache.commons.text.lookup.IllegalArgumentExceptions.format:java.lang.IllegalArgumentException(java.lang.String,java.lang.Object[])\n",
            "┣━━ java.lang.IllegalArgumentException.<init>:void(java.lang.String)\n",
            "┣━━ java.lang.String.format:java.lang.String(java.lang.String,java.lang.Object[])\n",
            "┣━━ |    javax.script.ScriptEngineManager.getEngineByName:javax.script.ScriptEngine(java.lang.String)\n",
            "┣━━ |    |    java.lang.StringBuilder.append:java.lang.StringBuilder(java.lang.String)\n",
            "┣━━ |    |    |    java.lang.StringBuilder.append:java.lang.StringBuilder(java.lang.String)\n",
            "┣━━ |    |    |    |    java.lang.StringBuilder.toString:java.lang.String()\n",
            "┣━━ |    |    |    |    |    javax.script.ScriptEngine.eval:java.lang.Object(java.lang.String)\n",
            "┣━━ |    |    |    |    |    |    java.util.Objects.toString:java.lang.String(java.lang.Object,java.lang.String)\n",
            "┗━━ |    |    |    |    |    |    |    \n",
            "    org.apache.commons.text.lookup.IllegalArgumentExceptions.format:java.lang.IllegalArgumentException(java.lang.Throwable,java.lang.String,java.lang.Object[])\n"
          ],
          "output_type" : "stream"
        }
      ]
    },
    {
      "cell_type" : "markdown",
      "execution_count" : 19,
      "metadata" : {
        "language" : "text"
      },
      "language" : "text",
      "source" : [
        "The call tree shows that the lookup method invokes `javax.script.ScriptEngine.eval` without validation or sanitization. Let's prove that the flow exists from the input parameter to the eval method using joern."
      ],
      "outputs" : [
      ]
    },
    {
      "cell_type" : "code",
      "execution_count" : 20,
      "metadata" : {
        "cell.metadata.exec_info" : {
          "startTs" : 1684869492709,
          "endTs" : 1684869503296
        },
        "language" : "python"
      },
      "language" : "python",
      "source" : [
        "async def detect_lookup_rce():\n",
        "    connection = await client.get(joern_host, cpggen_host, joern_username, joern_password)\n",
        "    await client.df(connection, 'cpg.parameter', 'cpg.method.fullNameExact(\"javax.script.ScriptEngine.eval:java.lang.Object(java.lang.String)\").parameter.order(1)')\n",
        "asyncio.run(detect_lookup_rce())"
      ],
      "outputs" : [
        {
          "name" : "stdout",
          "text" : [
            "╭─────── CPGQL Query ────────╮\n",
            "│ def source = cpg.parameter │\n",
            "╰────────────────────────────╯\n",
            "╭──────────────────────────────────────────────────────── CPGQL Query ────────────────────────────────────────────────────────╮\n",
            "│ def sink = cpg.method.fullNameExact(\"javax.script.ScriptEngine.eval:java.lang.Object(java.lang.String)\").parameter.order(1) │\n",
            "╰─────────────────────────────────────────────────────────────────────────────────────────────────────────────────────────────╯\n",
            "╭─────────────────────────────────────────────────── CPGQL Query ───────────────────────────────────────────────────╮\n",
            "│ sink.reachableByFlows(source).map(m => (m, m.elements.location.l)).toJson |> \"/tmp/reachable_flows_bzry8yru.json\" │\n",
            "╰───────────────────────────────────────────────────────────────────────────────────────────────────────────────────╯\n",
            "╭─ Tainted Identifiers ─╮\n",
            "│ key                   │\n",
            "│ keys                  │\n",
            "│ engineName            │\n",
            "│ scriptEngine          │\n",
            "│ script                │\n",
            "╰───────────────────────╯\n",
            "╭───────────────────────────────────────────────────────────────── Data Flow ──────────────────────────────────────────────────────────────────╮\n",
            "│ /tmp/joern-10689872448551692744/org/apache/commons/text/lookup/ScriptStringLookup.class:69 lookup() java.lang.String key                     │\n",
            "│ ├── /tmp/joern-10689872448551692744/org/apache/commons/text/lookup/ScriptStringLookup.class:73 lookup() key.split($stack7, 2)                │\n",
            "│ ├── /tmp/joern-10689872448551692744/org/apache/commons/text/lookup/ScriptStringLookup.class:79 lookup() keys[0]                              │\n",
            "│ ├── /tmp/joern-10689872448551692744/org/apache/commons/text/lookup/ScriptStringLookup.class:82 lookup() $stack9.getEngineByName(engineName ) │\n",
            "│ └── javax.script.ScriptEngine.eval( p1 )                                                                                                     │\n",
            "╰──────────────────────────────────────────────────────────────────────────────────────────────────────────────────────────────────────────────╯\n",
            "\n",
            "╭─ Tainted Identifiers ─╮\n",
            "│ p1                    │\n",
            "╰───────────────────────╯\n",
            "╭───────────── Data Flow ──────────────╮\n",
            "│ javax.script.ScriptEngine.eval( p1 ) │\n",
            "╰──────────────────────────────────────╯\n",
            "\n",
            "╭─ Tainted Identifiers ─╮\n",
            "│ key                   │\n",
            "│ name                  │\n",
            "│ keys                  │\n",
            "│ engineName            │\n",
            "│ scriptEngine          │\n",
            "│ script                │\n",
            "╰───────────────────────╯\n",
            "╭───────────────────────────────────────────────────────────────── Data Flow ──────────────────────────────────────────────────────────────────╮\n",
            "│ /tmp/joern-10689872448551692744/org/apache/commons/text/lookup/InterpolatorStringLookup.class:115 lookup() java.lang.String key              │\n",
            "│ ├── /tmp/joern-10689872448551692744/org/apache/commons/text/lookup/InterpolatorStringLookup.class:133 lookup() key.substring($stack17)       │\n",
            "│ ├── /tmp/joern-10689872448551692744/org/apache/commons/text/lookup/InterpolatorStringLookup.class:123 lookup() key.substring($stack13)       │\n",
            "│ ├── /tmp/joern-10689872448551692744/org/apache/commons/text/lookup/ScriptStringLookup.class:69 lookup() java.lang.String key                 │\n",
            "│ ├── /tmp/joern-10689872448551692744/org/apache/commons/text/lookup/ScriptStringLookup.class:73 lookup() key.split($stack7, 2)                │\n",
            "│ ├── /tmp/joern-10689872448551692744/org/apache/commons/text/lookup/ScriptStringLookup.class:79 lookup() keys[0]                              │\n",
            "│ ├── /tmp/joern-10689872448551692744/org/apache/commons/text/lookup/ScriptStringLookup.class:82 lookup() $stack9.getEngineByName(engineName ) │\n",
            "│ └── javax.script.ScriptEngine.eval( p1 )                                                                                                     │\n",
            "╰──────────────────────────────────────────────────────────────────────────────────────────────────────────────────────────────────────────────╯\n",
            "\n"
          ],
          "output_type" : "stream"
        }
      ]
    },
    {
      "cell_type" : "markdown",
      "execution_count" : 21,
      "metadata" : {
        "language" : "text"
      },
      "language" : "text",
      "source" : [
        "## Variant analysis\n",
        "\n",
        "We have proved with data flow that commons-text version 1.10.0 has the RCE vulnerability. What about other versions such as 1.9 or 1.8 etc? joern-lib makes variant analysis a breeze."
      ],
      "outputs" : [
      ]
    },
    {
      "cell_type" : "code",
      "execution_count" : 22,
      "metadata" : {
        "cell.metadata.exec_info" : {
          "startTs" : 1684869503300,
          "endTs" : 1684869517839
        },
        "language" : "python"
      },
      "language" : "python",
      "source" : [
        "async def generate_versioned_cpg():\n",
        "    connection = await client.get(joern_host, cpggen_host, joern_username, joern_password)\n",
        "    for version in (\"1.9\", \"1.8\", \"1.7\"):\n",
        "        print (f\"Checking commons-text {version}\")\n",
        "        await workspace.create_cpg(connection, f\"pkg:maven/org.apache.commons/commons-text@{version}\")\n",
        "        await detect_lookup_rce()\n",
        "        await workspace.reset(connection)\n",
        "asyncio.run(generate_versioned_cpg())"
      ],
      "outputs" : [
        {
          "name" : "stdout",
          "text" : [
            "Checking commons-text 1.9\n",
            "╭──────────────────────────────────── CPGQL Query ────────────────────────────────────╮\n",
            "│ os.exists(os.Path(\"/tmp/cpggen_cpg_out2u8b9mix/cpggenr01rk4yx-jimple-cpg.bin.zip\")) │\n",
            "╰─────────────────────────────────────────────────────────────────────────────────────╯\n"
          ],
          "output_type" : "stream"
        },
        {
          "ename" : "java.lang.RuntimeException",
          "evalue" : "ValueError: CPG /tmp/cpggen_cpg_out2u8b9mix/cpggenr01rk4yx-jimple-cpg.bin.zip doesn't exist for import into Joern. Check if the directory containing this CPG is mounted and accessible from the server.",
          "traceback" : [
            "workspace.py,import_cpg,/opt/polynote/tmp/joern-notes/maven.ipynb/venv/lib/python3.9/site-packages/joern_lib/workspace.py,89",
            "workspace.py,create_cpg,/opt/polynote/tmp/joern-notes/maven.ipynb/venv/lib/python3.9/site-packages/joern_lib/workspace.py,77",
            "Cell22,generate_versioned_cpg,Cell22,5",
            "loop.pyx,uvloop.loop.Loop.run_until_complete,uvloop/loop.pyx,1517",
            "runners.py,run,/usr/lib64/python3.9/asyncio/runners.py,44",
            "Cell22,<module>,Cell22,8",
            "<string>,__polynote_run__,<string>,295"
          ],
          "output_type" : "error"
        }
      ]
    },
    {
      "cell_type" : "markdown",
      "execution_count" : 23,
      "metadata" : {
        "language" : "text"
      },
      "language" : "text",
      "source" : [
        "# Advanced graph users\n",
        "\n",
        "joern-lib exposes methods to interact with the method pdg or cpg graphs directly."
      ],
      "outputs" : [
      ]
    },
    {
      "cell_type" : "code",
      "execution_count" : 24,
      "metadata" : {
        "cell.metadata.exec_info" : {
          "startTs" : 1684869517843,
          "endTs" : 1684869528077
        },
        "language" : "python"
      },
      "language" : "python",
      "source" : [
        "async def export_method_pdg():\n",
        "    connection = await client.get(joern_host, cpggen_host, joern_username, joern_password)\n",
        "    res = await cpg.export(connection, \"org.apache.commons.io.FilenameUtils.getPrefixLength:int(java.lang.String)\")\n",
        "    Source(res).render(filename=\"/tmp/getPrefixLength\", engine=\"dot\", format=\"svg\")\n",
        "    kernel.display.content(\"image/svg+xml\", read_image(\"/tmp/getPrefixLength.svg\"))\n",
        "asyncio.run(export_method_pdg())"
      ],
      "outputs" : [
        {
          "name" : "stdout",
          "text" : [
            "╭─────────────────────────────────────────────────────── CPGQL Query ───────────────────────────────────────────────────────╮\n",
            "│ cpg.method.fullNameExact(\"org.apache.commons.io.FilenameUtils.getPrefixLength:int(java.lang.String)\").dotPdg.toJsonPretty │\n",
            "╰───────────────────────────────────────────────────────────────────────────────────────────────────────────────────────────╯\n"
          ],
          "output_type" : "stream"
        },
        {
          "ename" : "java.lang.RuntimeException",
          "evalue" : "AttributeError: 'list' object has no attribute 'splitlines'",
          "traceback" : [
            "sources.py,__iter__,/usr/local/lib/python3.9/site-packages/graphviz/sources.py,104",
            "saving.py,save,/usr/local/lib/python3.9/site-packages/graphviz/saving.py,80",
            "_tools.py,wrapper,/usr/local/lib/python3.9/site-packages/graphviz/_tools.py,171",
            "sources.py,save,/usr/local/lib/python3.9/site-packages/graphviz/sources.py,142",
            "_tools.py,wrapper,/usr/local/lib/python3.9/site-packages/graphviz/_tools.py,171",
            "rendering.py,render,/usr/local/lib/python3.9/site-packages/graphviz/rendering.py,118",
            "_tools.py,wrapper,/usr/local/lib/python3.9/site-packages/graphviz/_tools.py,171",
            "Cell24,export_method_pdg,Cell24,4",
            "loop.pyx,uvloop.loop.Loop.run_until_complete,uvloop/loop.pyx,1517",
            "runners.py,run,/usr/lib64/python3.9/asyncio/runners.py,44",
            "Cell24,<module>,Cell24,6",
            "<string>,__polynote_run__,<string>,295"
          ],
          "output_type" : "error"
        }
      ]
    },
    {
      "cell_type" : "code",
      "execution_count" : 25,
      "metadata" : {
        "cell.metadata.exec_info" : {
          "startTs" : 1684869528080,
          "endTs" : 1684869538490
        },
        "language" : "python"
      },
      "language" : "python",
      "source" : [
        "async def diff_method_pdg():\n",
        "    connection = await client.get(joern_host, cpggen_host, joern_username, joern_password)\n",
        "    L = await cpg.get_method(connection, \"org.apache.commons.io.FilenameUtils.normalize:java.lang.String(java.lang.String)\", as_graph=True)\n",
        "    R = await cpg.get_method(connection, \"org.apache.commons.io.FilenameUtils.doNormalize:java.lang.String(java.lang.String,boolean)\", as_graph=True)\n",
        "    diff = graph.diff_graph(L, R)\n",
        "    print (diff.nodes, diff.edges)    \n",
        "asyncio.run(diff_method_pdg())"
      ],
      "outputs" : [
        {
          "name" : "stdout",
          "text" : [
            "╭────────────────────────────────────────────────────────── CPGQL Query ───────────────────────────────────────────────────────────╮\n",
            "│ cpg.method.fullNameExact(\"org.apache.commons.io.FilenameUtils.normalize:java.lang.String(java.lang.String)\").dotPdg.toJsonPretty │\n",
            "╰──────────────────────────────────────────────────────────────────────────────────────────────────────────────────────────────────╯\n",
            "╭─────────────────────────────────────────────────────────────── CPGQL Query ────────────────────────────────────────────────────────────────╮\n",
            "│ cpg.method.fullNameExact(\"org.apache.commons.io.FilenameUtils.doNormalize:java.lang.String(java.lang.String,boolean)\").dotPdg.toJsonPretty │\n",
            "╰────────────────────────────────────────────────────────────────────────────────────────────────────────────────────────────────────────────╯\n"
          ],
          "output_type" : "stream"
        },
        {
          "ename" : "java.lang.RuntimeException",
          "evalue" : "AttributeError: 'NoneType' object has no attribute 'nodes'",
          "traceback" : [
            "graph.py,diff_graph,/opt/polynote/tmp/joern-notes/maven.ipynb/venv/lib/python3.9/site-packages/joern_lib/graph.py,42",
            "Cell25,diff_method_pdg,Cell25,5",
            "loop.pyx,uvloop.loop.Loop.run_until_complete,uvloop/loop.pyx,1517",
            "runners.py,run,/usr/lib64/python3.9/asyncio/runners.py,44",
            "Cell25,<module>,Cell25,7",
            "<string>,__polynote_run__,<string>,295"
          ],
          "output_type" : "error"
        }
      ]
    }
  ]
}