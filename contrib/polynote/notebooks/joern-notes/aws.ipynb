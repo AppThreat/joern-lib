{
  "metadata" : {
    "config" : {
      "dependencies" : {
        "python" : [
          "file:///opt/joern_lib"
        ]
      },
      "exclusions" : [
      ],
      "repositories" : [
      ],
      "sparkConfig" : {
        
      },
      "env" : {
        
      }
    },
    "language_info" : {
      "name" : "python"
    }
  },
  "nbformat" : 4,
  "nbformat_minor" : 0,
  "cells" : [
    {
      "cell_type" : "markdown",
      "execution_count" : 0,
      "metadata" : {
        "language" : "text"
      },
      "language" : "text",
      "source" : [
        "# Vulnerable AWS app\n",
        "\n",
        "Let's hunt for vulnerabilities in an app that use AWS SDK. We begin by setting up the basics for joern lib."
      ],
      "outputs" : [
      ]
    },
    {
      "cell_type" : "code",
      "execution_count" : 1,
      "metadata" : {
        "cell.metadata.exec_info" : {
          "startTs" : 1679412902300,
          "endTs" : 1679412930482
        },
        "language" : "python"
      },
      "language" : "python",
      "source" : [
        "import asyncio\n",
        "\n",
        "from joern_lib import client, workspace\n",
        "from joern_lib.detectors import common as cpg, js\n",
        "from joern_lib.utils import print_table\n",
        "\n",
        "joern_host = \"http://joern:9000\"\n",
        "joern_username = \"admin\"\n",
        "joern_password  = \"admin\""
      ],
      "outputs" : [
      ]
    },
    {
      "cell_type" : "markdown",
      "execution_count" : 2,
      "metadata" : {
        "language" : "text"
      },
      "language" : "text",
      "source" : [
        "## Clone the vulnerable app\n",
        "\n",
        "We use the vulnerable app from [HooliCorp](https://github.com/HooliCorp/vulnerable-aws-koa-app) for this notebook. We can clone this repo using GitPython and import to Joern using the import_code method."
      ],
      "outputs" : [
      ]
    },
    {
      "cell_type" : "code",
      "execution_count" : 3,
      "metadata" : {
        "cell.metadata.exec_info" : {
          "startTs" : 1679412982324,
          "endTs" : 1679412982591
        },
        "language" : "python"
      },
      "language" : "python",
      "source" : [
        "import git\n",
        "import os\n",
        "\n",
        "if not os.path.exists(\"/tmp/aws-koa\"):\n",
        "    try:\n",
        "        git.Repo.clone_from(\"https://github.com/HooliCorp/vulnerable-aws-koa-app.git\", \"/tmp/aws-koa\", branch=\"main\", depth=1)\n",
        "    except Exception as e:\n",
        "        print(e)\n",
        "else:\n",
        "    print(\"/tmp/aws-koa already exists\")"
      ],
      "outputs" : [
        {
          "name" : "stdout",
          "text" : [
            "/tmp/aws-koa already exists\n"
          ],
          "output_type" : "stream"
        }
      ]
    },
    {
      "cell_type" : "code",
      "execution_count" : 4,
      "metadata" : {
        "cell.metadata.exec_info" : {
          "startTs" : 1679412984940,
          "endTs" : 1679413003297
        },
        "language" : "python"
      },
      "language" : "python",
      "source" : [
        "async def create_workspace():\n",
        "    connection = await client.get(joern_host, joern_username, joern_password)\n",
        "    res = await workspace.import_code(connection, \"/tmp/aws-koa\", \"aws-koa\");\n",
        "    print (res)\n",
        "asyncio.run(create_workspace())"
      ],
      "outputs" : [
        {
          "name" : "stdout",
          "text" : [
            "True\n"
          ],
          "output_type" : "stream"
        }
      ]
    },
    {
      "cell_type" : "markdown",
      "execution_count" : 5,
      "metadata" : {
        "language" : "text"
      },
      "language" : "text",
      "source" : [
        "## Identify AWS services used\n",
        "\n",
        "To look for AWS related vulnerabilities, we need to identify the services used by this application. JavaScript detector in joern-lib includes a method called `list_aws_modules` for this purpose."
      ],
      "outputs" : [
      ]
    },
    {
      "cell_type" : "code",
      "execution_count" : 6,
      "metadata" : {
        "cell.metadata.exec_info" : {
          "startTs" : 1679407801537,
          "endTs" : 1679407813253
        },
        "language" : "python"
      },
      "language" : "python",
      "source" : [
        "async def detect_aws_services():\n",
        "    connection = await client.get(joern_host, joern_username, joern_password)\n",
        "    res = await js.list_aws_modules(connection)\n",
        "    print_table(res, title=\"Imported AWS modules\")\n",
        "    res = await js.used_aws_modules(connection)\n",
        "    print_table(res, title=\"Used AWS modules\")\n",
        "\n",
        "asyncio.run(detect_aws_services())"
      ],
      "outputs" : [
        {
          "name" : "stdout",
          "text" : [
            "                                                                                                                                  Imported AWS modules                                                                                                                                  \n",
            "┏━━━━━━━━━━━━━━━━━━━━━━━━━━━━━━━━━━━━━━━━━━━━━━━━━━━━━━━━━━━━━━━━━━━━━━━━━━━━━━━━━━━━━━━━━━━━━━━━━━┳━━━━━━━━━━━━━━━━━━━━━━━━━━━━━┳━━━━━━━━━━━━━┳━━━━━━━━━━━━┳━━━━━━━━━━━━━━━━━┳━━━━━━━━━━━━━━━━━━━━━━━━━━━┳━━━━━━━━━━━━┳━━━━━━━━━━━━━━━━━━┳━━━━━━━━━━━━━━━━┳━━━━━━━━━━━━━━━━━━━━━━━━━━━┓\n",
            "┃ node                                                                                             ┃ symbol                      ┃ packageName ┃ nodeLabel  ┃ methodShortName ┃ methodFullName            ┃ lineNumber ┃ filename         ┃ classShortName ┃ className                 ┃\n",
            "┡━━━━━━━━━━━━━━━━━━━━━━━━━━━━━━━━━━━━━━━━━━━━━━━━━━━━━━━━━━━━━━━━━━━━━━━━━━━━━━━━━━━━━━━━━━━━━━━━━━╇━━━━━━━━━━━━━━━━━━━━━━━━━━━━━╇━━━━━━━━━━━━━╇━━━━━━━━━━━━╇━━━━━━━━━━━━━━━━━╇━━━━━━━━━━━━━━━━━━━━━━━━━━━╇━━━━━━━━━━━━╇━━━━━━━━━━━━━━━━━━╇━━━━━━━━━━━━━━━━╇━━━━━━━━━━━━━━━━━━━━━━━━━━━┩\n",
            "│ {'dynamicTypeHintFullName': [], 'name': 'EC2Client', 'code': 'EC2Client', 'typeFullName':        │ EC2Client                   │ <global>    │ IDENTIFIER │ :program        │ src/ec2.ts::program       │          1 │ src/ec2.ts       │ :program       │ src/ec2.ts::program       │\n",
            "│ '<export>::@aws-sdk/client-ec2.js', 'columnNumber': 0, 'order': 1, '_label': 'IDENTIFIER',       │                             │             │            │                 │                           │            │                  │                │                           │\n",
            "│ 'argumentIndex': 1, 'lineNumber': 1, 'id': 272}                                                  │                             │             │            │                 │                           │            │                  │                │                           │\n",
            "├──────────────────────────────────────────────────────────────────────────────────────────────────┼─────────────────────────────┼─────────────┼────────────┼─────────────────┼───────────────────────────┼────────────┼──────────────────┼────────────────┼───────────────────────────┤\n",
            "│ {'dynamicTypeHintFullName': [], 'name': 'CreateLaunchTemplateCommand', 'code':                   │ CreateLaunchTemplateCommand │ <global>    │ IDENTIFIER │ :program        │ src/ec2.ts::program       │          1 │ src/ec2.ts       │ :program       │ src/ec2.ts::program       │\n",
            "│ 'CreateLaunchTemplateCommand', 'typeFullName': '<export>::@aws-sdk/client-ec2.js',               │                             │             │            │                 │                           │            │                  │                │                           │\n",
            "│ 'columnNumber': 0, 'order': 1, '_label': 'IDENTIFIER', 'argumentIndex': 1, 'lineNumber': 1,      │                             │             │            │                 │                           │            │                  │                │                           │\n",
            "│ 'id': 286}                                                                                       │                             │             │            │                 │                           │            │                  │                │                           │\n",
            "├──────────────────────────────────────────────────────────────────────────────────────────────────┼─────────────────────────────┼─────────────┼────────────┼─────────────────┼───────────────────────────┼────────────┼──────────────────┼────────────────┼───────────────────────────┤\n",
            "│ {'dynamicTypeHintFullName': [], 'name': 'LambdaClient', 'code': 'LambdaClient', 'typeFullName':  │ LambdaClient                │ <global>    │ IDENTIFIER │ :program        │ src/lambda.ts::program    │          1 │ src/lambda.ts    │ :program       │ src/lambda.ts::program    │\n",
            "│ '<export>::@aws-sdk/client-lambda.js', 'columnNumber': 0, 'order': 1, '_label': 'IDENTIFIER',    │                             │             │            │                 │                           │            │                  │                │                           │\n",
            "│ 'argumentIndex': 1, 'lineNumber': 1, 'id': 631}                                                  │                             │             │            │                 │                           │            │                  │                │                           │\n",
            "├──────────────────────────────────────────────────────────────────────────────────────────────────┼─────────────────────────────┼─────────────┼────────────┼─────────────────┼───────────────────────────┼────────────┼──────────────────┼────────────────┼───────────────────────────┤\n",
            "│ {'dynamicTypeHintFullName': [], 'name': 'InvokeCommand', 'code': 'InvokeCommand',                │ InvokeCommand               │ <global>    │ IDENTIFIER │ :program        │ src/lambda.ts::program    │          1 │ src/lambda.ts    │ :program       │ src/lambda.ts::program    │\n",
            "│ 'typeFullName': '<export>::@aws-sdk/client-lambda.js', 'columnNumber': 0, 'order': 1, '_label':  │                             │             │            │                 │                           │            │                  │                │                           │\n",
            "│ 'IDENTIFIER', 'argumentIndex': 1, 'lineNumber': 1, 'id': 638}                                    │                             │             │            │                 │                           │            │                  │                │                           │\n",
            "├──────────────────────────────────────────────────────────────────────────────────────────────────┼─────────────────────────────┼─────────────┼────────────┼─────────────────┼───────────────────────────┼────────────┼──────────────────┼────────────────┼───────────────────────────┤\n",
            "│ {'dynamicTypeHintFullName': [], 'name': 'S3', 'code': 'S3', 'typeFullName':                      │ S3                          │ <global>    │ IDENTIFIER │ :program        │ src/storage.ts::program   │          3 │ src/storage.ts   │ :program       │ src/storage.ts::program   │\n",
            "│ '<export>::aws-sdk/clients/s3.js', 'columnNumber': 0, 'order': 1, '_label': 'IDENTIFIER',        │                             │             │            │                 │                           │            │                  │                │                           │\n",
            "│ 'argumentIndex': 1, 'lineNumber': 3, 'id': 1167}                                                 │                             │             │            │                 │                           │            │                  │                │                           │\n",
            "├──────────────────────────────────────────────────────────────────────────────────────────────────┼─────────────────────────────┼─────────────┼────────────┼─────────────────┼───────────────────────────┼────────────┼──────────────────┼────────────────┼───────────────────────────┤\n",
            "│ {'dynamicTypeHintFullName': [], 'name': 'Credentials', 'code': 'Credentials', 'typeFullName':    │ Credentials                 │ <global>    │ IDENTIFIER │ :program        │ src/storage.ts::program   │          4 │ src/storage.ts   │ :program       │ src/storage.ts::program   │\n",
            "│ '<export>::aws-sdk/lib/credentials.js', 'columnNumber': 0, 'order': 1, '_label': 'IDENTIFIER',   │                             │             │            │                 │                           │            │                  │                │                           │\n",
            "│ 'argumentIndex': 1, 'lineNumber': 4, 'id': 1172}                                                 │                             │             │            │                 │                           │            │                  │                │                           │\n",
            "├──────────────────────────────────────────────────────────────────────────────────────────────────┼─────────────────────────────┼─────────────┼────────────┼─────────────────┼───────────────────────────┼────────────┼──────────────────┼────────────────┼───────────────────────────┤\n",
            "│ {'dynamicTypeHintFullName': [], 'name': 'S3Client', 'code': 'S3Client', 'typeFullName':          │ S3Client                    │ <global>    │ IDENTIFIER │ :program        │ src/storagev3.ts::program │          4 │ src/storagev3.ts │ :program       │ src/storagev3.ts::program │\n",
            "│ '<export>::@aws-sdk/client-s3.js', 'columnNumber': 0, 'order': 1, '_label': 'IDENTIFIER',        │                             │             │            │                 │                           │            │                  │                │                           │\n",
            "│ 'argumentIndex': 1, 'lineNumber': 4, 'id': 1555}                                                 │                             │             │            │                 │                           │            │                  │                │                           │\n",
            "├──────────────────────────────────────────────────────────────────────────────────────────────────┼─────────────────────────────┼─────────────┼────────────┼─────────────────┼───────────────────────────┼────────────┼──────────────────┼────────────────┼───────────────────────────┤\n",
            "│ {'dynamicTypeHintFullName': [], 'name': 'ListObjectsV2Command', 'code': 'ListObjectsV2Command',  │ ListObjectsV2Command        │ <global>    │ IDENTIFIER │ :program        │ src/storagev3.ts::program │          4 │ src/storagev3.ts │ :program       │ src/storagev3.ts::program │\n",
            "│ 'typeFullName': '<export>::@aws-sdk/client-s3.js', 'columnNumber': 0, 'order': 1, '_label':      │                             │             │            │                 │                           │            │                  │                │                           │\n",
            "│ 'IDENTIFIER', 'argumentIndex': 1, 'lineNumber': 4, 'id': 1562}                                   │                             │             │            │                 │                           │            │                  │                │                           │\n",
            "├──────────────────────────────────────────────────────────────────────────────────────────────────┼─────────────────────────────┼─────────────┼────────────┼─────────────────┼───────────────────────────┼────────────┼──────────────────┼────────────────┼───────────────────────────┤\n",
            "│ {'dynamicTypeHintFullName': [], 'name': 'BatchClient', 'code': 'BatchClient', 'typeFullName':    │ BatchClient                 │ <global>    │ IDENTIFIER │ :program        │ src/storagev3.ts::program │          5 │ src/storagev3.ts │ :program       │ src/storagev3.ts::program │\n",
            "│ '<export>::@aws-sdk/client-batch.js', 'columnNumber': 0, 'order': 1, '_label': 'IDENTIFIER',     │                             │             │            │                 │                           │            │                  │                │                           │\n",
            "│ 'argumentIndex': 1, 'lineNumber': 5, 'id': 1570}                                                 │                             │             │            │                 │                           │            │                  │                │                           │\n",
            "├──────────────────────────────────────────────────────────────────────────────────────────────────┼─────────────────────────────┼─────────────┼────────────┼─────────────────┼───────────────────────────┼────────────┼──────────────────┼────────────────┼───────────────────────────┤\n",
            "│ {'dynamicTypeHintFullName': [], 'name': 'SubmitJobCommand', 'code': 'SubmitJobCommand',          │ SubmitJobCommand            │ <global>    │ IDENTIFIER │ :program        │ src/storagev3.ts::program │          5 │ src/storagev3.ts │ :program       │ src/storagev3.ts::program │\n",
            "│ 'typeFullName': '<export>::@aws-sdk/client-batch.js', 'columnNumber': 0, 'order': 1, '_label':   │                             │             │            │                 │                           │            │                  │                │                           │\n",
            "│ 'IDENTIFIER', 'argumentIndex': 1, 'lineNumber': 5, 'id': 1577}                                   │                             │             │            │                 │                           │            │                  │                │                           │\n",
            "├──────────────────────────────────────────────────────────────────────────────────────────────────┼─────────────────────────────┼─────────────┼────────────┼─────────────────┼───────────────────────────┼────────────┼──────────────────┼────────────────┼───────────────────────────┤\n",
            "│ {'dynamicTypeHintFullName': [], 'name': 'dynamodb', 'code': 'dynamodb', 'typeFullName':          │ dynamodb                    │ <global>    │ IDENTIFIER │ :program        │ src/users.ts::program     │          3 │ src/users.ts     │ :program       │ src/users.ts::program     │\n",
            "│ '<export>::aws-sdk/clients/dynamodb.js', 'columnNumber': 0, 'order': 1, '_label': 'IDENTIFIER',  │                             │             │            │                 │                           │            │                  │                │                           │\n",
            "│ 'argumentIndex': 1, 'lineNumber': 3, 'id': 2377}                                                 │                             │             │            │                 │                           │            │                  │                │                           │\n",
            "├──────────────────────────────────────────────────────────────────────────────────────────────────┼─────────────────────────────┼─────────────┼────────────┼─────────────────┼───────────────────────────┼────────────┼──────────────────┼────────────────┼───────────────────────────┤\n",
            "│ {'dynamicTypeHintFullName': [], 'name': 'SES', 'code': 'SES', 'typeFullName':                    │ SES                         │ <global>    │ IDENTIFIER │ :program        │ src/users.ts::program     │          5 │ src/users.ts     │ :program       │ src/users.ts::program     │\n",
            "│ '<export>::aws-sdk/clients/ses.js', 'columnNumber': 0, 'order': 1, '_label': 'IDENTIFIER',       │                             │             │            │                 │                           │            │                  │                │                           │\n",
            "│ 'argumentIndex': 1, 'lineNumber': 5, 'id': 2411}                                                 │                             │             │            │                 │                           │            │                  │                │                           │\n",
            "└──────────────────────────────────────────────────────────────────────────────────────────────────┴─────────────────────────────┴─────────────┴────────────┴─────────────────┴───────────────────────────┴────────────┴──────────────────┴────────────────┴───────────────────────────┘\n",
            "                                                                                                                                    Used AWS modules                                                                                                                                    \n",
            "┏━━━━━━━━━━━━━━━━━━━━━━━━━━━━━━━━━━━━━━━━━━━━━━━━━━━━━━━━━━━━━━━━━━━━━━━━━━━━━━━━━━━━━━━┳━━━━━━━━━━━━━━━━━━━━━━━━━━━━━┳━━━━━━━━━━━━━┳━━━━━━━━━━━━┳━━━━━━━━━━━━━━━━━┳━━━━━━━━━━━━━━━━━━━━━━━━━━━━━━━━━━━━━━┳━━━━━━━━━━━━┳━━━━━━━━━━━━━━━━━━┳━━━━━━━━━━━━━━━━┳━━━━━━━━━━━━━━━━━━━━━━━━━━━┓\n",
            "┃ node                                                                                  ┃ symbol                      ┃ packageName ┃ nodeLabel  ┃ methodShortName ┃ methodFullName                       ┃ lineNumber ┃ filename         ┃ classShortName ┃ className                 ┃\n",
            "┡━━━━━━━━━━━━━━━━━━━━━━━━━━━━━━━━━━━━━━━━━━━━━━━━━━━━━━━━━━━━━━━━━━━━━━━━━━━━━━━━━━━━━━━╇━━━━━━━━━━━━━━━━━━━━━━━━━━━━━╇━━━━━━━━━━━━━╇━━━━━━━━━━━━╇━━━━━━━━━━━━━━━━━╇━━━━━━━━━━━━━━━━━━━━━━━━━━━━━━━━━━━━━━╇━━━━━━━━━━━━╇━━━━━━━━━━━━━━━━━━╇━━━━━━━━━━━━━━━━╇━━━━━━━━━━━━━━━━━━━━━━━━━━━┩\n",
            "│ {'dynamicTypeHintFullName': [], 'name': 'EC2Client', 'code': 'EC2Client',             │ EC2Client                   │ <global>    │ IDENTIFIER │ createVM        │ src/ec2.ts::program:createVM         │         20 │ src/ec2.ts       │ :program       │ src/ec2.ts::program       │\n",
            "│ 'typeFullName': '<export>::@aws-sdk/client-ec2.js', 'columnNumber': 21, 'order': 1,   │                             │             │            │                 │                                      │            │                  │                │                           │\n",
            "│ '_label': 'IDENTIFIER', 'argumentIndex': -1, 'lineNumber': 20, 'id': 53}              │                             │             │            │                 │                                      │            │                  │                │                           │\n",
            "├───────────────────────────────────────────────────────────────────────────────────────┼─────────────────────────────┼─────────────┼────────────┼─────────────────┼──────────────────────────────────────┼────────────┼──────────────────┼────────────────┼───────────────────────────┤\n",
            "│ {'dynamicTypeHintFullName': [], 'name': 'CreateLaunchTemplateCommand', 'code':        │ CreateLaunchTemplateCommand │ <global>    │ IDENTIFIER │ createVM        │ src/ec2.ts::program:createVM         │         22 │ src/ec2.ts       │ :program       │ src/ec2.ts::program       │\n",
            "│ 'CreateLaunchTemplateCommand', 'typeFullName': '<export>::@aws-sdk/client-ec2.js',    │                             │             │            │                 │                                      │            │                  │                │                           │\n",
            "│ 'columnNumber': 22, 'order': 1, '_label': 'IDENTIFIER', 'argumentIndex': -1,          │                             │             │            │                 │                                      │            │                  │                │                           │\n",
            "│ 'lineNumber': 22, 'id': 69}                                                           │                             │             │            │                 │                                      │            │                  │                │                           │\n",
            "├───────────────────────────────────────────────────────────────────────────────────────┼─────────────────────────────┼─────────────┼────────────┼─────────────────┼──────────────────────────────────────┼────────────┼──────────────────┼────────────────┼───────────────────────────┤\n",
            "│ {'dynamicTypeHintFullName': [], 'name': 'LambdaClient', 'code': 'LambdaClient',       │ LambdaClient                │ <global>    │ IDENTIFIER │ executeJob      │ src/lambda.ts::program:executeJob    │         20 │ src/lambda.ts    │ :program       │ src/lambda.ts::program    │\n",
            "│ 'typeFullName': '<export>::@aws-sdk/client-lambda.js', 'columnNumber': 21, 'order':   │                             │             │            │                 │                                      │            │                  │                │                           │\n",
            "│ 1, '_label': 'IDENTIFIER', 'argumentIndex': -1, 'lineNumber': 20, 'id': 582}          │                             │             │            │                 │                                      │            │                  │                │                           │\n",
            "├───────────────────────────────────────────────────────────────────────────────────────┼─────────────────────────────┼─────────────┼────────────┼─────────────────┼──────────────────────────────────────┼────────────┼──────────────────┼────────────────┼───────────────────────────┤\n",
            "│ {'dynamicTypeHintFullName': [], 'name': 'InvokeCommand', 'code': 'InvokeCommand',     │ InvokeCommand               │ <global>    │ IDENTIFIER │ executeJob      │ src/lambda.ts::program:executeJob    │         21 │ src/lambda.ts    │ :program       │ src/lambda.ts::program    │\n",
            "│ 'typeFullName': '<export>::@aws-sdk/client-lambda.js', 'columnNumber': 22, 'order':   │                             │             │            │                 │                                      │            │                  │                │                           │\n",
            "│ 1, '_label': 'IDENTIFIER', 'argumentIndex': -1, 'lineNumber': 21, 'id': 592}          │                             │             │            │                 │                                      │            │                  │                │                           │\n",
            "├───────────────────────────────────────────────────────────────────────────────────────┼─────────────────────────────┼─────────────┼────────────┼─────────────────┼──────────────────────────────────────┼────────────┼──────────────────┼────────────────┼───────────────────────────┤\n",
            "│ {'dynamicTypeHintFullName': [], 'name': 'S3', 'code': 'S3', 'typeFullName':           │ S3                          │ <global>    │ IDENTIFIER │ anonymous       │ src/storage.ts::program:anonymous    │         15 │ src/storage.ts   │ :program       │ src/storage.ts::program   │\n",
            "│ '<export>::aws-sdk/clients/s3.js', 'columnNumber': 23, 'order': 1, '_label':          │                             │             │            │                 │                                      │            │                  │                │                           │\n",
            "│ 'IDENTIFIER', 'argumentIndex': -1, 'lineNumber': 15, 'id': 871}                       │                             │             │            │                 │                                      │            │                  │                │                           │\n",
            "├───────────────────────────────────────────────────────────────────────────────────────┼─────────────────────────────┼─────────────┼────────────┼─────────────────┼──────────────────────────────────────┼────────────┼──────────────────┼────────────────┼───────────────────────────┤\n",
            "│ {'dynamicTypeHintFullName': [], 'name': 'S3', 'code': 'S3', 'typeFullName':           │ S3                          │ <global>    │ IDENTIFIER │ anonymous1      │ src/storage.ts::program:anonymous1   │         33 │ src/storage.ts   │ :program       │ src/storage.ts::program   │\n",
            "│ '<export>::aws-sdk/clients/s3.js', 'columnNumber': 23, 'order': 1, '_label':          │                             │             │            │                 │                                      │            │                  │                │                           │\n",
            "│ 'IDENTIFIER', 'argumentIndex': -1, 'lineNumber': 33, 'id': 978}                       │                             │             │            │                 │                                      │            │                  │                │                           │\n",
            "├───────────────────────────────────────────────────────────────────────────────────────┼─────────────────────────────┼─────────────┼────────────┼─────────────────┼──────────────────────────────────────┼────────────┼──────────────────┼────────────────┼───────────────────────────┤\n",
            "│ {'dynamicTypeHintFullName': [], 'name': 'Credentials', 'code': 'Credentials',         │ Credentials                 │ <global>    │ IDENTIFIER │ anonymous1      │ src/storage.ts::program:anonymous1   │         34 │ src/storage.ts   │ :program       │ src/storage.ts::program   │\n",
            "│ 'typeFullName': '<export>::aws-sdk/lib/credentials.js', 'columnNumber': 21, 'order':  │                             │             │            │                 │                                      │            │                  │                │                           │\n",
            "│ 1, '_label': 'IDENTIFIER', 'argumentIndex': -1, 'lineNumber': 34, 'id': 988}          │                             │             │            │                 │                                      │            │                  │                │                           │\n",
            "├───────────────────────────────────────────────────────────────────────────────────────┼─────────────────────────────┼─────────────┼────────────┼─────────────────┼──────────────────────────────────────┼────────────┼──────────────────┼────────────────┼───────────────────────────┤\n",
            "│ {'dynamicTypeHintFullName': [], 'name': 'S3', 'code': 'S3', 'typeFullName':           │ S3                          │ <global>    │ IDENTIFIER │ anonymous2      │ src/storage.ts::program:anonymous2   │         51 │ src/storage.ts   │ :program       │ src/storage.ts::program   │\n",
            "│ '<export>::aws-sdk/clients/s3.js', 'columnNumber': 23, 'order': 1, '_label':          │                             │             │            │                 │                                      │            │                  │                │                           │\n",
            "│ 'IDENTIFIER', 'argumentIndex': -1, 'lineNumber': 51, 'id': 1088}                      │                             │             │            │                 │                                      │            │                  │                │                           │\n",
            "├───────────────────────────────────────────────────────────────────────────────────────┼─────────────────────────────┼─────────────┼────────────┼─────────────────┼──────────────────────────────────────┼────────────┼──────────────────┼────────────────┼───────────────────────────┤\n",
            "│ {'dynamicTypeHintFullName': [], 'name': 'Credentials', 'code': 'Credentials',         │ Credentials                 │ <global>    │ IDENTIFIER │ anonymous2      │ src/storage.ts::program:anonymous2   │         52 │ src/storage.ts   │ :program       │ src/storage.ts::program   │\n",
            "│ 'typeFullName': '<export>::aws-sdk/lib/credentials.js', 'columnNumber': 21, 'order':  │                             │             │            │                 │                                      │            │                  │                │                           │\n",
            "│ 1, '_label': 'IDENTIFIER', 'argumentIndex': -1, 'lineNumber': 52, 'id': 1098}         │                             │             │            │                 │                                      │            │                  │                │                           │\n",
            "├───────────────────────────────────────────────────────────────────────────────────────┼─────────────────────────────┼─────────────┼────────────┼─────────────────┼──────────────────────────────────────┼────────────┼──────────────────┼────────────────┼───────────────────────────┤\n",
            "│ {'dynamicTypeHintFullName': [], 'name': 'S3Client', 'code': 'S3Client',               │ S3Client                    │ <global>    │ IDENTIFIER │ anonymous       │ src/storagev3.ts::program:anonymous  │         17 │ src/storagev3.ts │ :program       │ src/storagev3.ts::program │\n",
            "│ 'typeFullName': '<export>::@aws-sdk/client-s3.js', 'columnNumber': 23, 'order': 1,    │                             │             │            │                 │                                      │            │                  │                │                           │\n",
            "│ '_label': 'IDENTIFIER', 'argumentIndex': -1, 'lineNumber': 17, 'id': 1316}            │                             │             │            │                 │                                      │            │                  │                │                           │\n",
            "├───────────────────────────────────────────────────────────────────────────────────────┼─────────────────────────────┼─────────────┼────────────┼─────────────────┼──────────────────────────────────────┼────────────┼──────────────────┼────────────────┼───────────────────────────┤\n",
            "│ {'dynamicTypeHintFullName': [], 'name': 'ListObjectsV2Command', 'code':               │ ListObjectsV2Command        │ <global>    │ IDENTIFIER │ anonymous       │ src/storagev3.ts::program:anonymous  │         24 │ src/storagev3.ts │ :program       │ src/storagev3.ts::program │\n",
            "│ 'ListObjectsV2Command', 'typeFullName': '<export>::@aws-sdk/client-s3.js',            │                             │             │            │                 │                                      │            │                  │                │                           │\n",
            "│ 'columnNumber': 22, 'order': 1, '_label': 'IDENTIFIER', 'argumentIndex': -1,          │                             │             │            │                 │                                      │            │                  │                │                           │\n",
            "│ 'lineNumber': 24, 'id': 1341}                                                         │                             │             │            │                 │                                      │            │                  │                │                           │\n",
            "├───────────────────────────────────────────────────────────────────────────────────────┼─────────────────────────────┼─────────────┼────────────┼─────────────────┼──────────────────────────────────────┼────────────┼──────────────────┼────────────────┼───────────────────────────┤\n",
            "│ {'dynamicTypeHintFullName': [], 'name': 'BatchClient', 'code': 'BatchClient',         │ BatchClient                 │ <global>    │ IDENTIFIER │ anonymous1      │ src/storagev3.ts::program:anonymous1 │         36 │ src/storagev3.ts │ :program       │ src/storagev3.ts::program │\n",
            "│ 'typeFullName': '<export>::@aws-sdk/client-batch.js', 'columnNumber': 26, 'order': 1, │                             │             │            │                 │                                      │            │                  │                │                           │\n",
            "│ '_label': 'IDENTIFIER', 'argumentIndex': -1, 'lineNumber': 36, 'id': 1410}            │                             │             │            │                 │                                      │            │                  │                │                           │\n",
            "├───────────────────────────────────────────────────────────────────────────────────────┼─────────────────────────────┼─────────────┼────────────┼─────────────────┼──────────────────────────────────────┼────────────┼──────────────────┼────────────────┼───────────────────────────┤\n",
            "│ {'dynamicTypeHintFullName': [], 'name': 'SubmitJobCommand', 'code':                   │ SubmitJobCommand            │ <global>    │ IDENTIFIER │ anonymous1      │ src/storagev3.ts::program:anonymous1 │         37 │ src/storagev3.ts │ :program       │ src/storagev3.ts::program │\n",
            "│ 'SubmitJobCommand', 'typeFullName': '<export>::@aws-sdk/client-batch.js',             │                             │             │            │                 │                                      │            │                  │                │                           │\n",
            "│ 'columnNumber': 22, 'order': 1, '_label': 'IDENTIFIER', 'argumentIndex': -1,          │                             │             │            │                 │                                      │            │                  │                │                           │\n",
            "│ 'lineNumber': 37, 'id': 1425}                                                         │                             │             │            │                 │                                      │            │                  │                │                           │\n",
            "├───────────────────────────────────────────────────────────────────────────────────────┼─────────────────────────────┼─────────────┼────────────┼─────────────────┼──────────────────────────────────────┼────────────┼──────────────────┼────────────────┼───────────────────────────┤\n",
            "│ {'dynamicTypeHintFullName': [], 'name': 'dynamodb', 'code': 'dynamodb',               │ dynamodb                    │ <global>    │ IDENTIFIER │ :program        │ src/users.ts::program                │         10 │ src/users.ts     │ :program       │ src/users.ts::program     │\n",
            "│ 'typeFullName': '<export>::aws-sdk/clients/dynamodb.js', 'columnNumber': 27, 'order': │                             │             │            │                 │                                      │            │                  │                │                           │\n",
            "│ 1, '_label': 'IDENTIFIER', 'argumentIndex': -1, 'lineNumber': 10, 'id': 2440}         │                             │             │            │                 │                                      │            │                  │                │                           │\n",
            "├───────────────────────────────────────────────────────────────────────────────────────┼─────────────────────────────┼─────────────┼────────────┼─────────────────┼──────────────────────────────────────┼────────────┼──────────────────┼────────────────┼───────────────────────────┤\n",
            "│ {'dynamicTypeHintFullName': [], 'name': 'SES', 'code': 'SES', 'typeFullName':         │ SES                         │ <global>    │ IDENTIFIER │ :program        │ src/users.ts::program                │         11 │ src/users.ts     │ :program       │ src/users.ts::program     │\n",
            "│ '<export>::aws-sdk/clients/ses.js', 'columnNumber': 22, 'order': 1, '_label':         │                             │             │            │                 │                                      │            │                  │                │                           │\n",
            "│ 'IDENTIFIER', 'argumentIndex': -1, 'lineNumber': 11, 'id': 2449}                      │                             │             │            │                 │                                      │            │                  │                │                           │\n",
            "└───────────────────────────────────────────────────────────────────────────────────────┴─────────────────────────────┴─────────────┴────────────┴─────────────────┴──────────────────────────────────────┴────────────┴──────────────────┴────────────────┴───────────────────────────┘\n"
          ],
          "output_type" : "stream"
        }
      ]
    },
    {
      "cell_type" : "markdown",
      "execution_count" : 7,
      "metadata" : {
        "language" : "text"
      },
      "language" : "text",
      "source" : [
        "## Insecure Authentication\n",
        "\n",
        "We can see the use of few services such as EC2, S3 but how is the application authenticating with these services? As per [AWS](https://docs.aws.amazon.com/sdk-for-javascript/v2/developer-guide/setting-credentials.html), applications should not hardcode the credentials so let's begin our search here. In the below snippet, we look for the pattern `new Credentials()`."
      ],
      "outputs" : [
      ]
    },
    {
      "cell_type" : "code",
      "execution_count" : 8,
      "metadata" : {
        "cell.metadata.exec_info" : {
          "startTs" : 1679413029075,
          "endTs" : 1679413039921
        },
        "language" : "python"
      },
      "language" : "python",
      "source" : [
        "async def safe_credentials_use():\n",
        "    connection = await client.get(joern_host, joern_username, joern_password)\n",
        "    await client.p(connection, \"\"\"cpg.call.name(\"<operator>.new\").code(\".*Credentials.*\").argument.order(3)\"\"\", title=\"AWS Credentials\")\n",
        "asyncio.run(safe_credentials_use())"
      ],
      "outputs" : [
        {
          "name" : "stdout",
          "text" : [
            "                                                                                                                                    AWS Credentials                                                                                                                                     \n",
            "┏━━━━━━━━━━━━━━━━━━━━━━━━━━━━━━━━━━━━━━━━━━━━━━━━┳━━━━━━━━━━━━━━━━━━━━━━━━━━━━━━━━━━━━━━━━━━━━━━━━━━━━━━━━━━━━━━━━━━━━━━━━━━━━━┳━━━━━━━━━━━━━━━━━━━━━━━━━━━┳━━━━━━━━━━━━━━━━━━━━━━━━━━━┳━━━━━━━━━━━━━━┳━━━━━━━━━━━━━━━━┳━━━━━━━━━━━━━━━━━━━━━━━━━━━━┳━━━━━━━━━━━━━━━━━━━━━━┳━━━━━━━━━━━┓\n",
            "┃ dynamicTypeHintFullName                        ┃ code                                                                        ┃ typeFullName              ┃              columnNumber ┃        order ┃ _label         ┃              argumentIndex ┃           lineNumber ┃        id ┃\n",
            "┡━━━━━━━━━━━━━━━━━━━━━━━━━━━━━━━━━━━━━━━━━━━━━━━━╇━━━━━━━━━━━━━━━━━━━━━━━━━━━━━━━━━━━━━━━━━━━━━━━━━━━━━━━━━━━━━━━━━━━━━━━━━━━━━╇━━━━━━━━━━━━━━━━━━━━━━━━━━━╇━━━━━━━━━━━━━━━━━━━━━━━━━━━╇━━━━━━━━━━━━━━╇━━━━━━━━━━━━━━━━╇━━━━━━━━━━━━━━━━━━━━━━━━━━━━╇━━━━━━━━━━━━━━━━━━━━━━╇━━━━━━━━━━━┩\n",
            "│                                                │ {                                                                           │ ANY                       │                        26 │            3 │ BLOCK          │                          1 │                   33 │       926 │\n",
            "│                                                │     credentials: new Credentials({                                          │                           │                           │              │                │                            │                      │           │\n",
            "│                                                │       accessKeyId: \"AKIAFOOBAR\",                                            │                           │                           │              │                │                            │                      │           │\n",
            "│                                                │       secretAccessKey: \"SECRETKEY123\",                                      │                           │                           │              │                │                            │                      │           │\n",
            "│                                                │     }),                                                                     │                           │                           │              │                │                            │                      │           │\n",
            "│                                                │   }                                                                         │                           │                           │              │                │                            │                      │           │\n",
            "├────────────────────────────────────────────────┼─────────────────────────────────────────────────────────────────────────────┼───────────────────────────┼───────────────────────────┼──────────────┼────────────────┼────────────────────────────┼──────────────────────┼───────────┤\n",
            "│                                                │ {                                                                           │ ANY                       │                        33 │            3 │ BLOCK          │                          1 │                   34 │       930 │\n",
            "│                                                │       accessKeyId: \"AKIAFOOBAR\",                                            │                           │                           │              │                │                            │                      │           │\n",
            "│                                                │       secretAccessKey: \"SECRETKEY123\",                                      │                           │                           │              │                │                            │                      │           │\n",
            "│                                                │     }                                                                       │                           │                           │              │                │                            │                      │           │\n",
            "├────────────────────────────────────────────────┼─────────────────────────────────────────────────────────────────────────────┼───────────────────────────┼───────────────────────────┼──────────────┼────────────────┼────────────────────────────┼──────────────────────┼───────────┤\n",
            "│                                                │ {                                                                           │ ANY                       │                        26 │            3 │ BLOCK          │                          1 │                   51 │      1048 │\n",
            "│                                                │     credentials: new Credentials({                                          │                           │                           │              │                │                            │                      │           │\n",
            "│                                                │       accessKeyId: \"AKIAFOOBAR\",                                            │                           │                           │              │                │                            │                      │           │\n",
            "│                                                │       secretAccessKey: \"SECRETKEY123\",                                      │                           │                           │              │                │                            │                      │           │\n",
            "│                                                │       sessionToken: \"123456\",                                               │                           │                           │              │                │                            │                      │           │\n",
            "│                                                │     }),                                                                     │                           │                           │              │                │                            │                      │           │\n",
            "│                                                │   }                                                                         │                           │                           │              │                │                            │                      │           │\n",
            "├────────────────────────────────────────────────┼─────────────────────────────────────────────────────────────────────────────┼───────────────────────────┼───────────────────────────┼──────────────┼────────────────┼────────────────────────────┼──────────────────────┼───────────┤\n",
            "│                                                │ {                                                                           │ ANY                       │                        33 │            3 │ BLOCK          │                          1 │                   52 │      1052 │\n",
            "│                                                │       accessKeyId: \"AKIAFOOBAR\",                                            │                           │                           │              │                │                            │                      │           │\n",
            "│                                                │       secretAccessKey: \"SECRETKEY123\",                                      │                           │                           │              │                │                            │                      │           │\n",
            "│                                                │       sessionToken: \"123456\",                                               │                           │                           │              │                │                            │                      │           │\n",
            "│                                                │     }                                                                       │                           │                           │              │                │                            │                      │           │\n",
            "└────────────────────────────────────────────────┴─────────────────────────────────────────────────────────────────────────────┴───────────────────────────┴───────────────────────────┴──────────────┴────────────────┴────────────────────────────┴──────────────────────┴───────────┘\n"
          ],
          "output_type" : "stream"
        }
      ]
    },
    {
      "cell_type" : "markdown",
      "execution_count" : 9,
      "metadata" : {
        "language" : "text"
      },
      "language" : "text",
      "source" : [
        "From the table, we can see several hardcoded credentials in use in this application. The snippet conveniently shows the use of `p` or `print` method which accepts native CPGQL query and displays the query result as a table."
      ],
      "outputs" : [
      ]
    },
    {
      "cell_type" : "markdown",
      "execution_count" : 10,
      "metadata" : {
        "language" : "text"
      },
      "language" : "text",
      "source" : [
        "## Attacker controlled input\n",
        "\n",
        "Next up is to determine whether any external attacker controlled input is used directly to interact with AWS services without validation or sanitization. For this we need to know some sources (or entrypoints) and sinks (or exitpoints) in the application. We can use the library method `get_http_sources` for this purpose."
      ],
      "outputs" : [
      ]
    },
    {
      "cell_type" : "code",
      "execution_count" : 11,
      "metadata" : {
        "cell.metadata.exec_info" : {
          "startTs" : 1679413039927,
          "endTs" : 1679413050579
        },
        "language" : "python"
      },
      "language" : "python",
      "source" : [
        "async def find_sources():\n",
        "    connection = await client.get(joern_host, joern_username, joern_password)\n",
        "    sources = await js.get_http_sources(connection)\n",
        "    print (len(sources))\n",
        "asyncio.run(find_sources())"
      ],
      "outputs" : [
        {
          "name" : "stdout",
          "text" : [
            "63\n"
          ],
          "output_type" : "stream"
        }
      ]
    },
    {
      "cell_type" : "markdown",
      "execution_count" : 12,
      "metadata" : {
        "language" : "text"
      },
      "language" : "text",
      "source" : [
        "For the sinks, we need a generic pattern for AWS sdk. The pattern `.*(send|upload|create|get|delete|list).*` should suffice for our use case."
      ],
      "outputs" : [
      ]
    },
    {
      "cell_type" : "code",
      "execution_count" : 13,
      "metadata" : {
        "cell.metadata.exec_info" : {
          "startTs" : 1679413050591,
          "endTs" : 1679413062180
        },
        "language" : "python"
      },
      "language" : "python",
      "source" : [
        "async def find_reachable_flows():\n",
        "    connection = await client.get(joern_host, joern_username, joern_password)\n",
        "    await client.flows(connection, 'def source=cpg.call.name(Operators.assignment).code(\".*(context|ctx)\\\\.request.*\").argument.isIdentifier', 'def sink=cpg.call.code(\".*(send|get|create|upload|delete|execute).*\").argument.isIdentifier')\n",
        "asyncio.run(find_reachable_flows())"
      ],
      "outputs" : [
        {
          "name" : "stdout",
          "text" : [
            "________________________________________________________________________________________\n",
            "| nodeType   | tracked                        | lineNumber| method     | file           |\n",
            "|=======================================================================================|\n",
            "| Identifier | _tmp_4 = ctx.request.body      | 29        | anonymous1 | src/storage.ts |\n",
            "| Call       | pictureBlob = _tmp_4.pictur... | 29        | anonymous1 | src/storage.ts |\n",
            "| Identifier | pictureBlob = _tmp_4.pictur... | 29        | anonymous1 | src/storage.ts |\n",
            "| Identifier | _tmp_9.Body = pictureBlob      | 42        | anonymous1 | src/storage.ts |\n",
            "| Call       | _tmp_9.Body = pictureBlob      | 42        | anonymous1 | src/storage.ts |\n",
            "| Block      | _tmp_9                         | 39        | anonymous1 | src/storage.ts |\n",
            "| Identifier | s3client.upload({ Bucke...     | 39        | anonymous1 | src/storage.ts |\n",
            "| Call       | s3client.upload({ Bucke...     | 39        | anonymous1 | src/storage.ts |\n",
            "| Identifier | const uploadResponse = s3cl... | 39        | anonymous1 | src/storage.ts |\n",
            "| Identifier | ctx.response.body = uploadR... | 45        | anonymous1 | src/storage.ts |\n",
            "\n",
            "________________________________________________________________________________________\n",
            "| nodeType   | tracked                        | lineNumber| method     | file           |\n",
            "|=======================================================================================|\n",
            "| Identifier | _tmp_4 = ctx.request.body      | 29        | anonymous1 | src/storage.ts |\n",
            "| Call       | userId = _tmp_4.userId         | 29        | anonymous1 | src/storage.ts |\n",
            "| Identifier | userId = _tmp_4.userId         | 29        | anonymous1 | src/storage.ts |\n",
            "| Identifier | __Runtime.TO_STRING(\"Receiv... | 31        | anonymous1 | src/storage.ts |\n",
            "| Call       | userId + \"-picture\"            | 41        | anonymous1 | src/storage.ts |\n",
            "| Call       | _tmp_9.Key = userId + \"-pic... | 41        | anonymous1 | src/storage.ts |\n",
            "| Block      | _tmp_9                         | 39        | anonymous1 | src/storage.ts |\n",
            "| Identifier | s3client.upload({ Bucke...     | 39        | anonymous1 | src/storage.ts |\n",
            "\n",
            "________________________________________________________________________________________\n",
            "| nodeType   | tracked                        | lineNumber| method     | file           |\n",
            "|=======================================================================================|\n",
            "| Identifier | _tmp_4 = ctx.request.body      | 29        | anonymous1 | src/storage.ts |\n",
            "| Call       | address = _tmp_4.address       | 29        | anonymous1 | src/storage.ts |\n",
            "| Identifier | address = _tmp_4.address       | 29        | anonymous1 | src/storage.ts |\n",
            "| Identifier | __Runtime.TO_STRING(\"Receiv... | 31        | anonymous1 | src/storage.ts |\n",
            "| Identifier | __Runtime.TO_STRING(\"Receiv... | 31        | anonymous1 | src/storage.ts |\n",
            "| Call       | userId + \"-picture\"            | 41        | anonymous1 | src/storage.ts |\n",
            "| Call       | _tmp_9.Key = userId + \"-pic... | 41        | anonymous1 | src/storage.ts |\n",
            "| Block      | _tmp_9                         | 39        | anonymous1 | src/storage.ts |\n",
            "| Identifier | s3client.upload({ Bucke...     | 39        | anonymous1 | src/storage.ts |\n",
            "| Call       | s3client.upload({ Bucke...     | 39        | anonymous1 | src/storage.ts |\n",
            "| Identifier | const uploadResponse = s3cl... | 39        | anonymous1 | src/storage.ts |\n",
            "\n",
            "________________________________________________________________________________________\n",
            "| nodeType   | tracked                        | lineNumber| method     | file           |\n",
            "|=======================================================================================|\n",
            "| Identifier | _tmp_10 = ctx.request.body     | 48        | anonymous2 | src/storage.ts |\n",
            "| Call       | userId = _tmp_10.userId        | 48        | anonymous2 | src/storage.ts |\n",
            "| Identifier | userId = _tmp_10.userId        | 48        | anonymous2 | src/storage.ts |\n",
            "| Identifier | __Runtime.TO_STRING(\"About ... | 49        | anonymous2 | src/storage.ts |\n",
            "| Call       | userId + \"-picture\"            | 60        | anonymous2 | src/storage.ts |\n",
            "| Call       | _tmp_15.Key = userId + \"-pi... | 60        | anonymous2 | src/storage.ts |\n",
            "| Block      | _tmp_15                        | 58        | anonymous2 | src/storage.ts |\n",
            "| Identifier | s3client.deleteObject({ ...    | 58        | anonymous2 | src/storage.ts |\n",
            "| Call       | s3client.deleteObject({ ...    | 58        | anonymous2 | src/storage.ts |\n",
            "| Identifier | const deleteResponse = s3cl... | 58        | anonymous2 | src/storage.ts |\n",
            "| Identifier | ctx.response.body = deleteR... | 63        | anonymous2 | src/storage.ts |\n",
            "\n",
            "________________________________________________________________________________________\n",
            "| nodeType   | tracked                        | lineNumber| method     | file           |\n",
            "|=======================================================================================|\n",
            "| Identifier | _tmp_10 = ctx.request.body     | 48        | anonymous2 | src/storage.ts |\n",
            "| Call       | userId = _tmp_10.userId        | 48        | anonymous2 | src/storage.ts |\n",
            "| Identifier | userId = _tmp_10.userId        | 48        | anonymous2 | src/storage.ts |\n",
            "| Identifier | __Runtime.TO_STRING(\"About ... | 49        | anonymous2 | src/storage.ts |\n",
            "\n",
            "________________________________________________________________________________________\n",
            "| nodeType   | tracked                        | lineNumber| method     | file           |\n",
            "|=======================================================================================|\n",
            "| Identifier | _tmp_10 = ctx.request.body     | 48        | anonymous2 | src/storage.ts |\n",
            "| Call       | userId = _tmp_10.userId        | 48        | anonymous2 | src/storage.ts |\n",
            "| Identifier | userId = _tmp_10.userId        | 48        | anonymous2 | src/storage.ts |\n",
            "| Identifier | __Runtime.TO_STRING(\"About ... | 49        | anonymous2 | src/storage.ts |\n",
            "| Call       | __Runtime.TO_STRING(\"About ... | 49        | anonymous2 | src/storage.ts |\n",
            "| Identifier | console.log(`About to delet... | 49        | anonymous2 | src/storage.ts |\n",
            "\n",
            "__________________________________________________________________________________________\n",
            "| nodeType   | tracked                        | lineNumber| method     | file             |\n",
            "|=========================================================================================|\n",
            "| Identifier | const parameters = ctx.requ... | 35        | anonymous1 | src/storagev3.ts |\n",
            "| Call       | _tmp_9.jobName = parameters... | 38        | anonymous1 | src/storagev3.ts |\n",
            "| Identifier | _tmp_9.parameters = parameters | 41        | anonymous1 | src/storagev3.ts |\n",
            "| Call       | _tmp_9.parameters = parameters | 41        | anonymous1 | src/storagev3.ts |\n",
            "| Block      | _tmp_9                         | 37        | anonymous1 | src/storagev3.ts |\n",
            "| Identifier | new SubmitJobCommand({ ...     | 37        | anonymous1 | src/storagev3.ts |\n",
            "| Call       | new SubmitJobCommand({ ...     | 37        | anonymous1 | src/storagev3.ts |\n",
            "| Block      | _tmp_8                         | 37        | anonymous1 | src/storagev3.ts |\n",
            "| Identifier | const command = new SubmitJ... | 37        | anonymous1 | src/storagev3.ts |\n",
            "| Identifier | batchClient.send(command)      | 44        | anonymous1 | src/storagev3.ts |\n",
            "| Identifier | batchClient.send(command)      | 44        | anonymous1 | src/storagev3.ts |\n",
            "| Call       | batchClient.send(command)      | 44        | anonymous1 | src/storagev3.ts |\n",
            "| Call       | await batchClient.send(comm... | 44        | anonymous1 | src/storagev3.ts |\n",
            "| Identifier | const objectsOutput = await... | 44        | anonymous1 | src/storagev3.ts |\n",
            "\n",
            "________________________________________________________________________________________\n",
            "| nodeType   | tracked                        | lineNumber| method     | file           |\n",
            "|=======================================================================================|\n",
            "| Identifier | _tmp_4 = ctx.request.body      | 29        | anonymous1 | src/storage.ts |\n",
            "| Call       | userId = _tmp_4.userId         | 29        | anonymous1 | src/storage.ts |\n",
            "| Identifier | userId = _tmp_4.userId         | 29        | anonymous1 | src/storage.ts |\n",
            "| Identifier | __Runtime.TO_STRING(\"Receiv... | 31        | anonymous1 | src/storage.ts |\n",
            "| Call       | userId + \"-picture\"            | 41        | anonymous1 | src/storage.ts |\n",
            "| Call       | _tmp_9.Key = userId + \"-pic... | 41        | anonymous1 | src/storage.ts |\n",
            "| Block      | _tmp_9                         | 39        | anonymous1 | src/storage.ts |\n",
            "| Identifier | s3client.upload({ Bucke...     | 39        | anonymous1 | src/storage.ts |\n",
            "| Call       | s3client.upload({ Bucke...     | 39        | anonymous1 | src/storage.ts |\n",
            "| Identifier | const uploadResponse = s3cl... | 39        | anonymous1 | src/storage.ts |\n",
            "\n",
            "__________________________________________________________________________________________\n",
            "| nodeType   | tracked                        | lineNumber| method     | file             |\n",
            "|=========================================================================================|\n",
            "| Identifier | const parameters = ctx.requ... | 35        | anonymous1 | src/storagev3.ts |\n",
            "| Call       | _tmp_9.jobName = parameters... | 38        | anonymous1 | src/storagev3.ts |\n",
            "| Identifier | _tmp_9.parameters = parameters | 41        | anonymous1 | src/storagev3.ts |\n",
            "| Call       | _tmp_9.parameters = parameters | 41        | anonymous1 | src/storagev3.ts |\n",
            "| Block      | _tmp_9                         | 37        | anonymous1 | src/storagev3.ts |\n",
            "| Identifier | new SubmitJobCommand({ ...     | 37        | anonymous1 | src/storagev3.ts |\n",
            "| Call       | new SubmitJobCommand({ ...     | 37        | anonymous1 | src/storagev3.ts |\n",
            "| Block      | _tmp_8                         | 37        | anonymous1 | src/storagev3.ts |\n",
            "| Identifier | const command = new SubmitJ... | 37        | anonymous1 | src/storagev3.ts |\n",
            "| Identifier | batchClient.send(command)      | 44        | anonymous1 | src/storagev3.ts |\n",
            "\n",
            "______________________________________________________________________________________\n",
            "| nodeType   | tracked                        | lineNumber| method     | file         |\n",
            "|=====================================================================================|\n",
            "| Identifier | _tmp_33 = ctx.request.body     | 128       | anonymous6 | src/users.ts |\n",
            "| Call       | vmSpecification = _tmp_33.v... | 128       | anonymous6 | src/users.ts |\n",
            "| Identifier | vmSpecification = _tmp_33.v... | 128       | anonymous6 | src/users.ts |\n",
            "| Identifier | createVM({ region: \"us-east... | 130       | anonymous6 | src/users.ts |\n",
            "\n",
            "__________________________________________________________________________________________\n",
            "| nodeType   | tracked                        | lineNumber| method     | file             |\n",
            "|=========================================================================================|\n",
            "| Identifier | const parameters = ctx.requ... | 35        | anonymous1 | src/storagev3.ts |\n",
            "| Call       | _tmp_9.jobName = parameters... | 38        | anonymous1 | src/storagev3.ts |\n",
            "| Identifier | _tmp_9.parameters = parameters | 41        | anonymous1 | src/storagev3.ts |\n",
            "| Call       | _tmp_9.parameters = parameters | 41        | anonymous1 | src/storagev3.ts |\n",
            "| Block      | _tmp_9                         | 37        | anonymous1 | src/storagev3.ts |\n",
            "| Identifier | new SubmitJobCommand({ ...     | 37        | anonymous1 | src/storagev3.ts |\n",
            "| Call       | new SubmitJobCommand({ ...     | 37        | anonymous1 | src/storagev3.ts |\n",
            "| Block      | _tmp_8                         | 37        | anonymous1 | src/storagev3.ts |\n",
            "| Identifier | const command = new SubmitJ... | 37        | anonymous1 | src/storagev3.ts |\n",
            "| Identifier | batchClient.send(command)      | 44        | anonymous1 | src/storagev3.ts |\n",
            "| Identifier | batchClient.send(command)      | 44        | anonymous1 | src/storagev3.ts |\n",
            "\n",
            "__________________________________________________________________________________\n",
            "| nodeType   | tracked                    | lineNumber| method     | file         |\n",
            "|=================================================================================|\n",
            "| Identifier | _tmp_18 = ctx.request.body | 71        | anonymous3 | src/users.ts |\n",
            "| Call       | body = _tmp_18.body        | 71        | anonymous3 | src/users.ts |\n",
            "| Identifier | body = _tmp_18.body        | 71        | anonymous3 | src/users.ts |\n",
            "| Identifier | _tmp_20.Body = body        | 78        | anonymous3 | src/users.ts |\n",
            "| Call       | _tmp_20.Body = body        | 78        | anonymous3 | src/users.ts |\n",
            "| Block      | _tmp_20                    | 76        | anonymous3 | src/users.ts |\n",
            "| Call       | _tmp_19.Message = { S...   | 76        | anonymous3 | src/users.ts |\n",
            "| Block      | _tmp_19                    | 73        | anonymous3 | src/users.ts |\n",
            "| Identifier | sesClient.sendEmail({ S... | 73        | anonymous3 | src/users.ts |\n",
            "\n",
            "________________________________________________________________________________________\n",
            "| nodeType   | tracked                        | lineNumber| method     | file           |\n",
            "|=======================================================================================|\n",
            "| Identifier | _tmp_4 = ctx.request.body      | 29        | anonymous1 | src/storage.ts |\n",
            "| Call       | address = _tmp_4.address       | 29        | anonymous1 | src/storage.ts |\n",
            "| Identifier | address = _tmp_4.address       | 29        | anonymous1 | src/storage.ts |\n",
            "| Identifier | __Runtime.TO_STRING(\"Receiv... | 31        | anonymous1 | src/storage.ts |\n",
            "| Identifier | __Runtime.TO_STRING(\"Receiv... | 31        | anonymous1 | src/storage.ts |\n",
            "| Call       | userId + \"-picture\"            | 41        | anonymous1 | src/storage.ts |\n",
            "| Call       | _tmp_9.Key = userId + \"-pic... | 41        | anonymous1 | src/storage.ts |\n",
            "| Block      | _tmp_9                         | 39        | anonymous1 | src/storage.ts |\n",
            "| Identifier | s3client.upload({ Bucke...     | 39        | anonymous1 | src/storage.ts |\n",
            "| Call       | s3client.upload({ Bucke...     | 39        | anonymous1 | src/storage.ts |\n",
            "| Identifier | const uploadResponse = s3cl... | 39        | anonymous1 | src/storage.ts |\n",
            "| Identifier | ctx.response.body = uploadR... | 45        | anonymous1 | src/storage.ts |\n",
            "\n",
            "__________________________________________________________________________________\n",
            "| nodeType   | tracked                    | lineNumber| method     | file         |\n",
            "|=================================================================================|\n",
            "| Identifier | _tmp_18 = ctx.request.body | 71        | anonymous3 | src/users.ts |\n",
            "| Call       | subject = _tmp_18.subject  | 71        | anonymous3 | src/users.ts |\n",
            "| Identifier | subject = _tmp_18.subject  | 71        | anonymous3 | src/users.ts |\n",
            "| Identifier | _tmp_20.Subject = subject  | 77        | anonymous3 | src/users.ts |\n",
            "| Call       | _tmp_20.Subject = subject  | 77        | anonymous3 | src/users.ts |\n",
            "| Block      | _tmp_20                    | 76        | anonymous3 | src/users.ts |\n",
            "| Call       | _tmp_19.Message = { S...   | 76        | anonymous3 | src/users.ts |\n",
            "| Block      | _tmp_19                    | 73        | anonymous3 | src/users.ts |\n",
            "| Identifier | sesClient.sendEmail({ S... | 73        | anonymous3 | src/users.ts |\n",
            "\n",
            "_____________________________________________________________________________________\n",
            "| nodeType   | tracked                       | lineNumber| method     | file         |\n",
            "|====================================================================================|\n",
            "| Identifier | _tmp_18 = ctx.request.body    | 71        | anonymous3 | src/users.ts |\n",
            "| Call       | toEmail = _tmp_18.toEmail     | 71        | anonymous3 | src/users.ts |\n",
            "| Identifier | toEmail = _tmp_18.toEmail     | 71        | anonymous3 | src/users.ts |\n",
            "| Identifier | _tmp_19.Destination = toEmail | 75        | anonymous3 | src/users.ts |\n",
            "| Call       | _tmp_19.Destination = toEmail | 75        | anonymous3 | src/users.ts |\n",
            "| Block      | _tmp_19                       | 73        | anonymous3 | src/users.ts |\n",
            "| Identifier | sesClient.sendEmail({ S...    | 73        | anonymous3 | src/users.ts |\n",
            "\n",
            "________________________________________________________________________________________\n",
            "| nodeType   | tracked                        | lineNumber| method     | file           |\n",
            "|=======================================================================================|\n",
            "| Identifier | _tmp_4 = ctx.request.body      | 29        | anonymous1 | src/storage.ts |\n",
            "| Call       | pictureBlob = _tmp_4.pictur... | 29        | anonymous1 | src/storage.ts |\n",
            "| Identifier | pictureBlob = _tmp_4.pictur... | 29        | anonymous1 | src/storage.ts |\n",
            "| Identifier | _tmp_9.Body = pictureBlob      | 42        | anonymous1 | src/storage.ts |\n",
            "| Call       | _tmp_9.Body = pictureBlob      | 42        | anonymous1 | src/storage.ts |\n",
            "| Block      | _tmp_9                         | 39        | anonymous1 | src/storage.ts |\n",
            "| Identifier | s3client.upload({ Bucke...     | 39        | anonymous1 | src/storage.ts |\n",
            "\n",
            "________________________________________________________________________________________\n",
            "| nodeType   | tracked                        | lineNumber| method     | file           |\n",
            "|=======================================================================================|\n",
            "| Identifier | _tmp_10 = ctx.request.body     | 48        | anonymous2 | src/storage.ts |\n",
            "| Call       | userId = _tmp_10.userId        | 48        | anonymous2 | src/storage.ts |\n",
            "| Identifier | userId = _tmp_10.userId        | 48        | anonymous2 | src/storage.ts |\n",
            "| Identifier | __Runtime.TO_STRING(\"About ... | 49        | anonymous2 | src/storage.ts |\n",
            "| Call       | userId + \"-picture\"            | 60        | anonymous2 | src/storage.ts |\n",
            "| Call       | _tmp_15.Key = userId + \"-pi... | 60        | anonymous2 | src/storage.ts |\n",
            "| Block      | _tmp_15                        | 58        | anonymous2 | src/storage.ts |\n",
            "| Identifier | s3client.deleteObject({ ...    | 58        | anonymous2 | src/storage.ts |\n",
            "\n",
            "________________________________________________________________________________________\n",
            "| nodeType   | tracked                        | lineNumber| method     | file           |\n",
            "|=======================================================================================|\n",
            "| Identifier | _tmp_4 = ctx.request.body      | 29        | anonymous1 | src/storage.ts |\n",
            "| Call       | userId = _tmp_4.userId         | 29        | anonymous1 | src/storage.ts |\n",
            "| Identifier | userId = _tmp_4.userId         | 29        | anonymous1 | src/storage.ts |\n",
            "| Identifier | __Runtime.TO_STRING(\"Receiv... | 31        | anonymous1 | src/storage.ts |\n",
            "| Call       | userId + \"-picture\"            | 41        | anonymous1 | src/storage.ts |\n",
            "| Call       | _tmp_9.Key = userId + \"-pic... | 41        | anonymous1 | src/storage.ts |\n",
            "| Block      | _tmp_9                         | 39        | anonymous1 | src/storage.ts |\n",
            "| Identifier | s3client.upload({ Bucke...     | 39        | anonymous1 | src/storage.ts |\n",
            "| Call       | s3client.upload({ Bucke...     | 39        | anonymous1 | src/storage.ts |\n",
            "| Identifier | const uploadResponse = s3cl... | 39        | anonymous1 | src/storage.ts |\n",
            "| Identifier | ctx.response.body = uploadR... | 45        | anonymous1 | src/storage.ts |\n",
            "\n",
            "________________________________________________________________________________________\n",
            "| nodeType   | tracked                        | lineNumber| method     | file           |\n",
            "|=======================================================================================|\n",
            "| Identifier | _tmp_10 = ctx.request.body     | 48        | anonymous2 | src/storage.ts |\n",
            "| Call       | userId = _tmp_10.userId        | 48        | anonymous2 | src/storage.ts |\n",
            "| Identifier | userId = _tmp_10.userId        | 48        | anonymous2 | src/storage.ts |\n",
            "| Identifier | __Runtime.TO_STRING(\"About ... | 49        | anonymous2 | src/storage.ts |\n",
            "| Call       | userId + \"-picture\"            | 60        | anonymous2 | src/storage.ts |\n",
            "| Call       | _tmp_15.Key = userId + \"-pi... | 60        | anonymous2 | src/storage.ts |\n",
            "| Block      | _tmp_15                        | 58        | anonymous2 | src/storage.ts |\n",
            "| Identifier | s3client.deleteObject({ ...    | 58        | anonymous2 | src/storage.ts |\n",
            "| Call       | s3client.deleteObject({ ...    | 58        | anonymous2 | src/storage.ts |\n",
            "| Identifier | const deleteResponse = s3cl... | 58        | anonymous2 | src/storage.ts |\n",
            "\n",
            "______________________________________________________________________________________\n",
            "| nodeType   | tracked                        | lineNumber| method     | file         |\n",
            "|=====================================================================================|\n",
            "| Identifier | _tmp_33 = ctx.request.body     | 128       | anonymous6 | src/users.ts |\n",
            "| Call       | vmSpecification = _tmp_33.v... | 128       | anonymous6 | src/users.ts |\n",
            "| Identifier | vmSpecification = _tmp_33.v... | 128       | anonymous6 | src/users.ts |\n",
            "| Identifier | createVM({ region: \"us-east... | 130       | anonymous6 | src/users.ts |\n",
            "| Identifier | createVM({ region: \"us-east... | 130       | anonymous6 | src/users.ts |\n",
            "\n",
            "_____________________________________________________________________________________\n",
            "| nodeType   | tracked                       | lineNumber| method     | file         |\n",
            "|====================================================================================|\n",
            "| Identifier | _tmp_18 = ctx.request.body    | 71        | anonymous3 | src/users.ts |\n",
            "| Call       | fromEmail = _tmp_18.fromEmail | 71        | anonymous3 | src/users.ts |\n",
            "| Identifier | fromEmail = _tmp_18.fromEmail | 71        | anonymous3 | src/users.ts |\n",
            "| Identifier | _tmp_19.Source = fromEmail    | 74        | anonymous3 | src/users.ts |\n",
            "| Call       | _tmp_19.Source = fromEmail    | 74        | anonymous3 | src/users.ts |\n",
            "| Block      | _tmp_19                       | 73        | anonymous3 | src/users.ts |\n",
            "| Identifier | sesClient.sendEmail({ S...    | 73        | anonymous3 | src/users.ts |\n",
            "\n",
            "________________________________________________________________________________________\n",
            "| nodeType   | tracked                        | lineNumber| method     | file           |\n",
            "|=======================================================================================|\n",
            "| Identifier | _tmp_4 = ctx.request.body      | 29        | anonymous1 | src/storage.ts |\n",
            "| Call       | address = _tmp_4.address       | 29        | anonymous1 | src/storage.ts |\n",
            "| Identifier | address = _tmp_4.address       | 29        | anonymous1 | src/storage.ts |\n",
            "| Identifier | __Runtime.TO_STRING(\"Receiv... | 31        | anonymous1 | src/storage.ts |\n",
            "| Identifier | __Runtime.TO_STRING(\"Receiv... | 31        | anonymous1 | src/storage.ts |\n",
            "| Call       | userId + \"-picture\"            | 41        | anonymous1 | src/storage.ts |\n",
            "| Call       | _tmp_9.Key = userId + \"-pic... | 41        | anonymous1 | src/storage.ts |\n",
            "| Block      | _tmp_9                         | 39        | anonymous1 | src/storage.ts |\n",
            "| Identifier | s3client.upload({ Bucke...     | 39        | anonymous1 | src/storage.ts |\n",
            "\n",
            "________________________________________________________________________________________\n",
            "| nodeType   | tracked                        | lineNumber| method     | file           |\n",
            "|=======================================================================================|\n",
            "| Identifier | _tmp_4 = ctx.request.body      | 29        | anonymous1 | src/storage.ts |\n",
            "| Call       | pictureBlob = _tmp_4.pictur... | 29        | anonymous1 | src/storage.ts |\n",
            "| Identifier | pictureBlob = _tmp_4.pictur... | 29        | anonymous1 | src/storage.ts |\n",
            "| Identifier | _tmp_9.Body = pictureBlob      | 42        | anonymous1 | src/storage.ts |\n",
            "| Call       | _tmp_9.Body = pictureBlob      | 42        | anonymous1 | src/storage.ts |\n",
            "| Block      | _tmp_9                         | 39        | anonymous1 | src/storage.ts |\n",
            "| Identifier | s3client.upload({ Bucke...     | 39        | anonymous1 | src/storage.ts |\n",
            "| Call       | s3client.upload({ Bucke...     | 39        | anonymous1 | src/storage.ts |\n",
            "| Identifier | const uploadResponse = s3cl... | 39        | anonymous1 | src/storage.ts |\n",
            "\n",
            "__________________________________________________________________________________________\n",
            "| nodeType   | tracked                        | lineNumber| method     | file             |\n",
            "|=========================================================================================|\n",
            "| Identifier | const parameters = ctx.requ... | 53        | anonymous2 | src/storagev3.ts |\n",
            "| Identifier | _tmp_11.Payload = parameters   | 59        | anonymous2 | src/storagev3.ts |\n",
            "| Call       | _tmp_11.Payload = parameters   | 59        | anonymous2 | src/storagev3.ts |\n",
            "| Block      | _tmp_11                        | 56        | anonymous2 | src/storagev3.ts |\n",
            "| Identifier | executeJob( { region: \"...     | 54        | anonymous2 | src/storagev3.ts |\n",
            "\n"
          ],
          "output_type" : "stream"
        }
      ]
    },
    {
      "cell_type" : "markdown",
      "execution_count" : 14,
      "metadata" : {
        "language" : "text"
      },
      "language" : "text",
      "source" : [
        "## Closing Thoughts\n",
        "\n",
        "This notebook demonstrated the mixed use of built-in library methods and native query methods to interactively identify vulnerabilities in this AWS application."
      ],
      "outputs" : [
      ]
    }
  ]
}