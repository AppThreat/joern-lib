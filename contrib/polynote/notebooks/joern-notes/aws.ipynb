{
  "metadata" : {
    "config" : {
      "dependencies" : {
        "python" : [
          "file:///opt/joern_lib"
        ]
      },
      "exclusions" : [
      ],
      "repositories" : [
      ],
      "sparkConfig" : {
        
      },
      "env" : {
        
      }
    },
    "language_info" : {
      "name" : "python"
    }
  },
  "nbformat" : 4,
  "nbformat_minor" : 0,
  "cells" : [
    {
      "cell_type" : "markdown",
      "execution_count" : 0,
      "metadata" : {
        "language" : "text"
      },
      "language" : "text",
      "source" : [
        "# Vulnerable AWS app\n",
        "\n",
        "Let's hunt for vulnerabilities in an app that use AWS SDK. We begin by setting up the basics for joern lib."
      ],
      "outputs" : [
      ]
    },
    {
      "cell_type" : "code",
      "execution_count" : 1,
      "metadata" : {
        "cell.metadata.exec_info" : {
          "startTs" : 1675295756209,
          "endTs" : 1675295758355
        },
        "language" : "python"
      },
      "language" : "python",
      "source" : [
        "import asyncio\n",
        "\n",
        "from joern_lib import client, workspace\n",
        "from joern_lib.detectors import common as cpg, js\n",
        "from joern_lib.utils import print_table\n",
        "\n",
        "joern_host = \"http://joern:9000\"\n",
        "joern_username = \"admin\"\n",
        "joern_password  = \"admin\""
      ],
      "outputs" : [
      ]
    },
    {
      "cell_type" : "markdown",
      "execution_count" : 2,
      "metadata" : {
        "language" : "text"
      },
      "language" : "text",
      "source" : [
        "## Clone the vulnerable app\n",
        "\n",
        "We use the vulnerable app from [HooliCorp](https://github.com/HooliCorp/vulnerable-aws-koa-app) for this notebook. We can clone this repo using GitPython and import to Joern using the import_code method."
      ],
      "outputs" : [
      ]
    },
    {
      "cell_type" : "code",
      "execution_count" : 3,
      "metadata" : {
        "cell.metadata.exec_info" : {
          "startTs" : 1675295758412,
          "endTs" : 1675295759901
        },
        "language" : "python"
      },
      "language" : "python",
      "source" : [
        "import git\n",
        "import os\n",
        "\n",
        "if not os.path.exists(\"/tmp/aws-koa\"):\n",
        "    try:\n",
        "        git.Repo.clone_from(\"https://github.com/HooliCorp/vulnerable-aws-koa-app.git\", \"/tmp/aws-koa\", branch=\"main\", depth=1)\n",
        "    except Exception as e:\n",
        "        print(e)\n",
        "else:\n",
        "    print(\"/tmp/aws-koa already exists\")"
      ],
      "outputs" : [
        {
          "name" : "stdout",
          "text" : [
            "[Errno 13] Permission denied: '/tmp/aws-koa/.git/config.lock'\n"
          ],
          "output_type" : "stream"
        }
      ]
    },
    {
      "cell_type" : "code",
      "execution_count" : 4,
      "metadata" : {
        "cell.metadata.exec_info" : {
          "startTs" : 1675295759917
        },
        "language" : "python"
      },
      "language" : "python",
      "source" : [
        "async def create_workspace():\n",
        "    connection = await client.get(joern_host, joern_username, joern_password)\n",
        "    res = await workspace.import_code(connection, \"/tmp/aws-koa\", \"aws-koa\");\n",
        "    print (res)\n",
        "asyncio.run(create_workspace())"
      ],
      "outputs" : [
      ]
    },
    {
      "cell_type" : "markdown",
      "execution_count" : 5,
      "metadata" : {
        "language" : "text"
      },
      "language" : "text",
      "source" : [
        "## Identify AWS services used\n",
        "\n",
        "To look for AWS related vulnerabilities, we need to identify the services used by this application. JavaScript detector in joern-lib includes a method called `list_aws_modules` for this purpose."
      ],
      "outputs" : [
      ]
    },
    {
      "cell_type" : "code",
      "execution_count" : 6,
      "metadata" : {
        "cell.metadata.exec_info" : {
          "startTs" : 1674528614770,
          "endTs" : 1674528626352
        },
        "language" : "python"
      },
      "language" : "python",
      "source" : [
        "async def detect_aws_services():\n",
        "    connection = await client.get(joern_host, joern_username, joern_password)\n",
        "    res = await js.list_aws_modules(connection)\n",
        "    print_table(res, title=\"Imported AWS modules\")\n",
        "    res = await js.used_aws_modules(connection)\n",
        "    print_table(res, title=\"Used AWS modules\")\n",
        "\n",
        "asyncio.run(detect_aws_services())"
      ],
      "outputs" : [
        {
          "name" : "stdout",
          "text" : [
            "                                                                                                                                  Imported AWS modules                                                                                                                                  \n",
            "┏━━━━━━━━━━━━━━━━━━━━━━━━━━━━━━━━━━━━━━━━━━━━━━━━━━━━━━━━━━━━━━━━━━━━━━━━━━━━━━━━━━━━━━━━━━━━━━━━━━┳━━━━━━━━━━━━━━━━━━━━━━━━━━━━━┳━━━━━━━━━━━━━┳━━━━━━━━━━━━┳━━━━━━━━━━━━━━━━━┳━━━━━━━━━━━━━━━━━━━━━━━━━━━┳━━━━━━━━━━━━┳━━━━━━━━━━━━━━━━━━┳━━━━━━━━━━━━━━━━┳━━━━━━━━━━━━━━━━━━━━━━━━━━━┓\n",
            "┃ node                                                                                             ┃ symbol                      ┃ packageName ┃ nodeLabel  ┃ methodShortName ┃ methodFullName            ┃ lineNumber ┃ filename         ┃ classShortName ┃ className                 ┃\n",
            "┡━━━━━━━━━━━━━━━━━━━━━━━━━━━━━━━━━━━━━━━━━━━━━━━━━━━━━━━━━━━━━━━━━━━━━━━━━━━━━━━━━━━━━━━━━━━━━━━━━━╇━━━━━━━━━━━━━━━━━━━━━━━━━━━━━╇━━━━━━━━━━━━━╇━━━━━━━━━━━━╇━━━━━━━━━━━━━━━━━╇━━━━━━━━━━━━━━━━━━━━━━━━━━━╇━━━━━━━━━━━━╇━━━━━━━━━━━━━━━━━━╇━━━━━━━━━━━━━━━━╇━━━━━━━━━━━━━━━━━━━━━━━━━━━┩\n",
            "│ {'dynamicTypeHintFullName': [], 'name': 'EC2Client', 'code': 'EC2Client', 'typeFullName':        │ EC2Client                   │ <global>    │ IDENTIFIER │ :program        │ src/ec2.ts::program       │          1 │ src/ec2.ts       │ :program       │ src/ec2.ts::program       │\n",
            "│ '<export>::@aws-sdk/client-ec2.js', 'columnNumber': 0, 'order': 1, '_label': 'IDENTIFIER',       │                             │             │            │                 │                           │            │                  │                │                           │\n",
            "│ 'argumentIndex': 1, 'lineNumber': 1, 'id': 267}                                                  │                             │             │            │                 │                           │            │                  │                │                           │\n",
            "├──────────────────────────────────────────────────────────────────────────────────────────────────┼─────────────────────────────┼─────────────┼────────────┼─────────────────┼───────────────────────────┼────────────┼──────────────────┼────────────────┼───────────────────────────┤\n",
            "│ {'dynamicTypeHintFullName': [], 'name': 'CreateLaunchTemplateCommand', 'code':                   │ CreateLaunchTemplateCommand │ <global>    │ IDENTIFIER │ :program        │ src/ec2.ts::program       │          1 │ src/ec2.ts       │ :program       │ src/ec2.ts::program       │\n",
            "│ 'CreateLaunchTemplateCommand', 'typeFullName': '<export>::@aws-sdk/client-ec2.js',               │                             │             │            │                 │                           │            │                  │                │                           │\n",
            "│ 'columnNumber': 0, 'order': 1, '_label': 'IDENTIFIER', 'argumentIndex': 1, 'lineNumber': 1,      │                             │             │            │                 │                           │            │                  │                │                           │\n",
            "│ 'id': 283}                                                                                       │                             │             │            │                 │                           │            │                  │                │                           │\n",
            "├──────────────────────────────────────────────────────────────────────────────────────────────────┼─────────────────────────────┼─────────────┼────────────┼─────────────────┼───────────────────────────┼────────────┼──────────────────┼────────────────┼───────────────────────────┤\n",
            "│ {'dynamicTypeHintFullName': [], 'name': 'LambdaClient', 'code': 'LambdaClient', 'typeFullName':  │ LambdaClient                │ <global>    │ IDENTIFIER │ :program        │ src/lambda.ts::program    │          1 │ src/lambda.ts    │ :program       │ src/lambda.ts::program    │\n",
            "│ '<export>::@aws-sdk/client-lambda.js', 'columnNumber': 0, 'order': 1, '_label': 'IDENTIFIER',    │                             │             │            │                 │                           │            │                  │                │                           │\n",
            "│ 'argumentIndex': 1, 'lineNumber': 1, 'id': 626}                                                  │                             │             │            │                 │                           │            │                  │                │                           │\n",
            "├──────────────────────────────────────────────────────────────────────────────────────────────────┼─────────────────────────────┼─────────────┼────────────┼─────────────────┼───────────────────────────┼────────────┼──────────────────┼────────────────┼───────────────────────────┤\n",
            "│ {'dynamicTypeHintFullName': [], 'name': 'InvokeCommand', 'code': 'InvokeCommand',                │ InvokeCommand               │ <global>    │ IDENTIFIER │ :program        │ src/lambda.ts::program    │          1 │ src/lambda.ts    │ :program       │ src/lambda.ts::program    │\n",
            "│ 'typeFullName': '<export>::@aws-sdk/client-lambda.js', 'columnNumber': 0, 'order': 1, '_label':  │                             │             │            │                 │                           │            │                  │                │                           │\n",
            "│ 'IDENTIFIER', 'argumentIndex': 1, 'lineNumber': 1, 'id': 634}                                    │                             │             │            │                 │                           │            │                  │                │                           │\n",
            "├──────────────────────────────────────────────────────────────────────────────────────────────────┼─────────────────────────────┼─────────────┼────────────┼─────────────────┼───────────────────────────┼────────────┼──────────────────┼────────────────┼───────────────────────────┤\n",
            "│ {'dynamicTypeHintFullName': [], 'name': 'S3', 'code': 'S3', 'typeFullName':                      │ S3                          │ <global>    │ IDENTIFIER │ :program        │ src/storage.ts::program   │          3 │ src/storage.ts   │ :program       │ src/storage.ts::program   │\n",
            "│ '<export>::aws-sdk/clients/s3.js', 'columnNumber': 0, 'order': 1, '_label': 'IDENTIFIER',        │                             │             │            │                 │                           │            │                  │                │                           │\n",
            "│ 'argumentIndex': 1, 'lineNumber': 3, 'id': 1165}                                                 │                             │             │            │                 │                           │            │                  │                │                           │\n",
            "├──────────────────────────────────────────────────────────────────────────────────────────────────┼─────────────────────────────┼─────────────┼────────────┼─────────────────┼───────────────────────────┼────────────┼──────────────────┼────────────────┼───────────────────────────┤\n",
            "│ {'dynamicTypeHintFullName': [], 'name': 'Credentials', 'code': 'Credentials', 'typeFullName':    │ Credentials                 │ <global>    │ IDENTIFIER │ :program        │ src/storage.ts::program   │          4 │ src/storage.ts   │ :program       │ src/storage.ts::program   │\n",
            "│ '<export>::aws-sdk/lib/credentials.js', 'columnNumber': 0, 'order': 1, '_label': 'IDENTIFIER',   │                             │             │            │                 │                           │            │                  │                │                           │\n",
            "│ 'argumentIndex': 1, 'lineNumber': 4, 'id': 1171}                                                 │                             │             │            │                 │                           │            │                  │                │                           │\n",
            "├──────────────────────────────────────────────────────────────────────────────────────────────────┼─────────────────────────────┼─────────────┼────────────┼─────────────────┼───────────────────────────┼────────────┼──────────────────┼────────────────┼───────────────────────────┤\n",
            "│ {'dynamicTypeHintFullName': [], 'name': 'S3Client', 'code': 'S3Client', 'typeFullName':          │ S3Client                    │ <global>    │ IDENTIFIER │ :program        │ src/storagev3.ts::program │          4 │ src/storagev3.ts │ :program       │ src/storagev3.ts::program │\n",
            "│ '<export>::@aws-sdk/client-s3.js', 'columnNumber': 0, 'order': 1, '_label': 'IDENTIFIER',        │                             │             │            │                 │                           │            │                  │                │                           │\n",
            "│ 'argumentIndex': 1, 'lineNumber': 4, 'id': 1550}                                                 │                             │             │            │                 │                           │            │                  │                │                           │\n",
            "├──────────────────────────────────────────────────────────────────────────────────────────────────┼─────────────────────────────┼─────────────┼────────────┼─────────────────┼───────────────────────────┼────────────┼──────────────────┼────────────────┼───────────────────────────┤\n",
            "│ {'dynamicTypeHintFullName': [], 'name': 'ListObjectsV2Command', 'code': 'ListObjectsV2Command',  │ ListObjectsV2Command        │ <global>    │ IDENTIFIER │ :program        │ src/storagev3.ts::program │          4 │ src/storagev3.ts │ :program       │ src/storagev3.ts::program │\n",
            "│ 'typeFullName': '<export>::@aws-sdk/client-s3.js', 'columnNumber': 0, 'order': 1, '_label':      │                             │             │            │                 │                           │            │                  │                │                           │\n",
            "│ 'IDENTIFIER', 'argumentIndex': 1, 'lineNumber': 4, 'id': 1558}                                   │                             │             │            │                 │                           │            │                  │                │                           │\n",
            "├──────────────────────────────────────────────────────────────────────────────────────────────────┼─────────────────────────────┼─────────────┼────────────┼─────────────────┼───────────────────────────┼────────────┼──────────────────┼────────────────┼───────────────────────────┤\n",
            "│ {'dynamicTypeHintFullName': [], 'name': 'BatchClient', 'code': 'BatchClient', 'typeFullName':    │ BatchClient                 │ <global>    │ IDENTIFIER │ :program        │ src/storagev3.ts::program │          5 │ src/storagev3.ts │ :program       │ src/storagev3.ts::program │\n",
            "│ '<export>::@aws-sdk/client-batch.js', 'columnNumber': 0, 'order': 1, '_label': 'IDENTIFIER',     │                             │             │            │                 │                           │            │                  │                │                           │\n",
            "│ 'argumentIndex': 1, 'lineNumber': 5, 'id': 1567}                                                 │                             │             │            │                 │                           │            │                  │                │                           │\n",
            "├──────────────────────────────────────────────────────────────────────────────────────────────────┼─────────────────────────────┼─────────────┼────────────┼─────────────────┼───────────────────────────┼────────────┼──────────────────┼────────────────┼───────────────────────────┤\n",
            "│ {'dynamicTypeHintFullName': [], 'name': 'SubmitJobCommand', 'code': 'SubmitJobCommand',          │ SubmitJobCommand            │ <global>    │ IDENTIFIER │ :program        │ src/storagev3.ts::program │          5 │ src/storagev3.ts │ :program       │ src/storagev3.ts::program │\n",
            "│ 'typeFullName': '<export>::@aws-sdk/client-batch.js', 'columnNumber': 0, 'order': 1, '_label':   │                             │             │            │                 │                           │            │                  │                │                           │\n",
            "│ 'IDENTIFIER', 'argumentIndex': 1, 'lineNumber': 5, 'id': 1575}                                   │                             │             │            │                 │                           │            │                  │                │                           │\n",
            "├──────────────────────────────────────────────────────────────────────────────────────────────────┼─────────────────────────────┼─────────────┼────────────┼─────────────────┼───────────────────────────┼────────────┼──────────────────┼────────────────┼───────────────────────────┤\n",
            "│ {'dynamicTypeHintFullName': [], 'name': 'dynamodb', 'code': 'dynamodb', 'typeFullName':          │ dynamodb                    │ <global>    │ IDENTIFIER │ :program        │ src/users.ts::program     │          3 │ src/users.ts     │ :program       │ src/users.ts::program     │\n",
            "│ '<export>::aws-sdk/clients/dynamodb.js', 'columnNumber': 0, 'order': 1, '_label': 'IDENTIFIER',  │                             │             │            │                 │                           │            │                  │                │                           │\n",
            "│ 'argumentIndex': 1, 'lineNumber': 3, 'id': 2370}                                                 │                             │             │            │                 │                           │            │                  │                │                           │\n",
            "├──────────────────────────────────────────────────────────────────────────────────────────────────┼─────────────────────────────┼─────────────┼────────────┼─────────────────┼───────────────────────────┼────────────┼──────────────────┼────────────────┼───────────────────────────┤\n",
            "│ {'dynamicTypeHintFullName': [], 'name': 'SES', 'code': 'SES', 'typeFullName':                    │ SES                         │ <global>    │ IDENTIFIER │ :program        │ src/users.ts::program     │          5 │ src/users.ts     │ :program       │ src/users.ts::program     │\n",
            "│ '<export>::aws-sdk/clients/ses.js', 'columnNumber': 0, 'order': 1, '_label': 'IDENTIFIER',       │                             │             │            │                 │                           │            │                  │                │                           │\n",
            "│ 'argumentIndex': 1, 'lineNumber': 5, 'id': 2409}                                                 │                             │             │            │                 │                           │            │                  │                │                           │\n",
            "└──────────────────────────────────────────────────────────────────────────────────────────────────┴─────────────────────────────┴─────────────┴────────────┴─────────────────┴───────────────────────────┴────────────┴──────────────────┴────────────────┴───────────────────────────┘\n",
            "                                                                                                                                    Used AWS modules                                                                                                                                    \n",
            "┏━━━━━━━━━━━━━━━━━━━━━━━━━━━━━━━━━━━━━━━━━━━━━━━━━━━━━━━━━━━━━━━━━━━━━━━━━━━━━━━━━━━━━━━┳━━━━━━━━━━━━━━━━━━━━━━━━━━━━━┳━━━━━━━━━━━━━┳━━━━━━━━━━━━┳━━━━━━━━━━━━━━━━━┳━━━━━━━━━━━━━━━━━━━━━━━━━━━━━━━━━━━━━━┳━━━━━━━━━━━━┳━━━━━━━━━━━━━━━━━━┳━━━━━━━━━━━━━━━━┳━━━━━━━━━━━━━━━━━━━━━━━━━━━┓\n",
            "┃ node                                                                                  ┃ symbol                      ┃ packageName ┃ nodeLabel  ┃ methodShortName ┃ methodFullName                       ┃ lineNumber ┃ filename         ┃ classShortName ┃ className                 ┃\n",
            "┡━━━━━━━━━━━━━━━━━━━━━━━━━━━━━━━━━━━━━━━━━━━━━━━━━━━━━━━━━━━━━━━━━━━━━━━━━━━━━━━━━━━━━━━╇━━━━━━━━━━━━━━━━━━━━━━━━━━━━━╇━━━━━━━━━━━━━╇━━━━━━━━━━━━╇━━━━━━━━━━━━━━━━━╇━━━━━━━━━━━━━━━━━━━━━━━━━━━━━━━━━━━━━━╇━━━━━━━━━━━━╇━━━━━━━━━━━━━━━━━━╇━━━━━━━━━━━━━━━━╇━━━━━━━━━━━━━━━━━━━━━━━━━━━┩\n",
            "│ {'dynamicTypeHintFullName': [], 'name': 'EC2Client', 'code': 'EC2Client',             │ EC2Client                   │ <global>    │ IDENTIFIER │ createVM        │ src/ec2.ts::program:createVM         │         20 │ src/ec2.ts       │ :program       │ src/ec2.ts::program       │\n",
            "│ 'typeFullName': '<export>::@aws-sdk/client-ec2.js', 'columnNumber': 21, 'order': 1,   │                             │             │            │                 │                                      │            │                  │                │                           │\n",
            "│ '_label': 'IDENTIFIER', 'argumentIndex': -1, 'lineNumber': 20, 'id': 48}              │                             │             │            │                 │                                      │            │                  │                │                           │\n",
            "├───────────────────────────────────────────────────────────────────────────────────────┼─────────────────────────────┼─────────────┼────────────┼─────────────────┼──────────────────────────────────────┼────────────┼──────────────────┼────────────────┼───────────────────────────┤\n",
            "│ {'dynamicTypeHintFullName': [], 'name': 'CreateLaunchTemplateCommand', 'code':        │ CreateLaunchTemplateCommand │ <global>    │ IDENTIFIER │ createVM        │ src/ec2.ts::program:createVM         │         22 │ src/ec2.ts       │ :program       │ src/ec2.ts::program       │\n",
            "│ 'CreateLaunchTemplateCommand', 'typeFullName': '<export>::@aws-sdk/client-ec2.js',    │                             │             │            │                 │                                      │            │                  │                │                           │\n",
            "│ 'columnNumber': 22, 'order': 1, '_label': 'IDENTIFIER', 'argumentIndex': -1,          │                             │             │            │                 │                                      │            │                  │                │                           │\n",
            "│ 'lineNumber': 22, 'id': 64}                                                           │                             │             │            │                 │                                      │            │                  │                │                           │\n",
            "├───────────────────────────────────────────────────────────────────────────────────────┼─────────────────────────────┼─────────────┼────────────┼─────────────────┼──────────────────────────────────────┼────────────┼──────────────────┼────────────────┼───────────────────────────┤\n",
            "│ {'dynamicTypeHintFullName': [], 'name': 'LambdaClient', 'code': 'LambdaClient',       │ LambdaClient                │ <global>    │ IDENTIFIER │ executeJob      │ src/lambda.ts::program:executeJob    │         20 │ src/lambda.ts    │ :program       │ src/lambda.ts::program    │\n",
            "│ 'typeFullName': '<export>::@aws-sdk/client-lambda.js', 'columnNumber': 21, 'order':   │                             │             │            │                 │                                      │            │                  │                │                           │\n",
            "│ 1, '_label': 'IDENTIFIER', 'argumentIndex': -1, 'lineNumber': 20, 'id': 578}          │                             │             │            │                 │                                      │            │                  │                │                           │\n",
            "├───────────────────────────────────────────────────────────────────────────────────────┼─────────────────────────────┼─────────────┼────────────┼─────────────────┼──────────────────────────────────────┼────────────┼──────────────────┼────────────────┼───────────────────────────┤\n",
            "│ {'dynamicTypeHintFullName': [], 'name': 'InvokeCommand', 'code': 'InvokeCommand',     │ InvokeCommand               │ <global>    │ IDENTIFIER │ executeJob      │ src/lambda.ts::program:executeJob    │         21 │ src/lambda.ts    │ :program       │ src/lambda.ts::program    │\n",
            "│ 'typeFullName': '<export>::@aws-sdk/client-lambda.js', 'columnNumber': 22, 'order':   │                             │             │            │                 │                                      │            │                  │                │                           │\n",
            "│ 1, '_label': 'IDENTIFIER', 'argumentIndex': -1, 'lineNumber': 21, 'id': 588}          │                             │             │            │                 │                                      │            │                  │                │                           │\n",
            "├───────────────────────────────────────────────────────────────────────────────────────┼─────────────────────────────┼─────────────┼────────────┼─────────────────┼──────────────────────────────────────┼────────────┼──────────────────┼────────────────┼───────────────────────────┤\n",
            "│ {'dynamicTypeHintFullName': [], 'name': 'S3', 'code': 'S3', 'typeFullName':           │ S3                          │ <global>    │ IDENTIFIER │ anonymous       │ src/storage.ts::program:anonymous    │         15 │ src/storage.ts   │ :program       │ src/storage.ts::program   │\n",
            "│ '<export>::aws-sdk/clients/s3.js', 'columnNumber': 23, 'order': 1, '_label':          │                             │             │            │                 │                                      │            │                  │                │                           │\n",
            "│ 'IDENTIFIER', 'argumentIndex': -1, 'lineNumber': 15, 'id': 868}                       │                             │             │            │                 │                                      │            │                  │                │                           │\n",
            "├───────────────────────────────────────────────────────────────────────────────────────┼─────────────────────────────┼─────────────┼────────────┼─────────────────┼──────────────────────────────────────┼────────────┼──────────────────┼────────────────┼───────────────────────────┤\n",
            "│ {'dynamicTypeHintFullName': [], 'name': 'S3', 'code': 'S3', 'typeFullName':           │ S3                          │ <global>    │ IDENTIFIER │ anonymous1      │ src/storage.ts::program:anonymous1   │         33 │ src/storage.ts   │ :program       │ src/storage.ts::program   │\n",
            "│ '<export>::aws-sdk/clients/s3.js', 'columnNumber': 23, 'order': 1, '_label':          │                             │             │            │                 │                                      │            │                  │                │                           │\n",
            "│ 'IDENTIFIER', 'argumentIndex': -1, 'lineNumber': 33, 'id': 975}                       │                             │             │            │                 │                                      │            │                  │                │                           │\n",
            "├───────────────────────────────────────────────────────────────────────────────────────┼─────────────────────────────┼─────────────┼────────────┼─────────────────┼──────────────────────────────────────┼────────────┼──────────────────┼────────────────┼───────────────────────────┤\n",
            "│ {'dynamicTypeHintFullName': [], 'name': 'Credentials', 'code': 'Credentials',         │ Credentials                 │ <global>    │ IDENTIFIER │ anonymous1      │ src/storage.ts::program:anonymous1   │         34 │ src/storage.ts   │ :program       │ src/storage.ts::program   │\n",
            "│ 'typeFullName': '<export>::aws-sdk/lib/credentials.js', 'columnNumber': 21, 'order':  │                             │             │            │                 │                                      │            │                  │                │                           │\n",
            "│ 1, '_label': 'IDENTIFIER', 'argumentIndex': -1, 'lineNumber': 34, 'id': 985}          │                             │             │            │                 │                                      │            │                  │                │                           │\n",
            "├───────────────────────────────────────────────────────────────────────────────────────┼─────────────────────────────┼─────────────┼────────────┼─────────────────┼──────────────────────────────────────┼────────────┼──────────────────┼────────────────┼───────────────────────────┤\n",
            "│ {'dynamicTypeHintFullName': [], 'name': 'S3', 'code': 'S3', 'typeFullName':           │ S3                          │ <global>    │ IDENTIFIER │ anonymous2      │ src/storage.ts::program:anonymous2   │         51 │ src/storage.ts   │ :program       │ src/storage.ts::program   │\n",
            "│ '<export>::aws-sdk/clients/s3.js', 'columnNumber': 23, 'order': 1, '_label':          │                             │             │            │                 │                                      │            │                  │                │                           │\n",
            "│ 'IDENTIFIER', 'argumentIndex': -1, 'lineNumber': 51, 'id': 1085}                      │                             │             │            │                 │                                      │            │                  │                │                           │\n",
            "├───────────────────────────────────────────────────────────────────────────────────────┼─────────────────────────────┼─────────────┼────────────┼─────────────────┼──────────────────────────────────────┼────────────┼──────────────────┼────────────────┼───────────────────────────┤\n",
            "│ {'dynamicTypeHintFullName': [], 'name': 'Credentials', 'code': 'Credentials',         │ Credentials                 │ <global>    │ IDENTIFIER │ anonymous2      │ src/storage.ts::program:anonymous2   │         52 │ src/storage.ts   │ :program       │ src/storage.ts::program   │\n",
            "│ 'typeFullName': '<export>::aws-sdk/lib/credentials.js', 'columnNumber': 21, 'order':  │                             │             │            │                 │                                      │            │                  │                │                           │\n",
            "│ 1, '_label': 'IDENTIFIER', 'argumentIndex': -1, 'lineNumber': 52, 'id': 1095}         │                             │             │            │                 │                                      │            │                  │                │                           │\n",
            "├───────────────────────────────────────────────────────────────────────────────────────┼─────────────────────────────┼─────────────┼────────────┼─────────────────┼──────────────────────────────────────┼────────────┼──────────────────┼────────────────┼───────────────────────────┤\n",
            "│ {'dynamicTypeHintFullName': [], 'name': 'S3Client', 'code': 'S3Client',               │ S3Client                    │ <global>    │ IDENTIFIER │ anonymous       │ src/storagev3.ts::program:anonymous  │         17 │ src/storagev3.ts │ :program       │ src/storagev3.ts::program │\n",
            "│ 'typeFullName': '<export>::@aws-sdk/client-s3.js', 'columnNumber': 23, 'order': 1,    │                             │             │            │                 │                                      │            │                  │                │                           │\n",
            "│ '_label': 'IDENTIFIER', 'argumentIndex': -1, 'lineNumber': 17, 'id': 1310}            │                             │             │            │                 │                                      │            │                  │                │                           │\n",
            "├───────────────────────────────────────────────────────────────────────────────────────┼─────────────────────────────┼─────────────┼────────────┼─────────────────┼──────────────────────────────────────┼────────────┼──────────────────┼────────────────┼───────────────────────────┤\n",
            "│ {'dynamicTypeHintFullName': [], 'name': 'ListObjectsV2Command', 'code':               │ ListObjectsV2Command        │ <global>    │ IDENTIFIER │ anonymous       │ src/storagev3.ts::program:anonymous  │         24 │ src/storagev3.ts │ :program       │ src/storagev3.ts::program │\n",
            "│ 'ListObjectsV2Command', 'typeFullName': '<export>::@aws-sdk/client-s3.js',            │                             │             │            │                 │                                      │            │                  │                │                           │\n",
            "│ 'columnNumber': 22, 'order': 1, '_label': 'IDENTIFIER', 'argumentIndex': -1,          │                             │             │            │                 │                                      │            │                  │                │                           │\n",
            "│ 'lineNumber': 24, 'id': 1335}                                                         │                             │             │            │                 │                                      │            │                  │                │                           │\n",
            "├───────────────────────────────────────────────────────────────────────────────────────┼─────────────────────────────┼─────────────┼────────────┼─────────────────┼──────────────────────────────────────┼────────────┼──────────────────┼────────────────┼───────────────────────────┤\n",
            "│ {'dynamicTypeHintFullName': [], 'name': 'BatchClient', 'code': 'BatchClient',         │ BatchClient                 │ <global>    │ IDENTIFIER │ anonymous1      │ src/storagev3.ts::program:anonymous1 │         36 │ src/storagev3.ts │ :program       │ src/storagev3.ts::program │\n",
            "│ 'typeFullName': '<export>::@aws-sdk/client-batch.js', 'columnNumber': 26, 'order': 1, │                             │             │            │                 │                                      │            │                  │                │                           │\n",
            "│ '_label': 'IDENTIFIER', 'argumentIndex': -1, 'lineNumber': 36, 'id': 1404}            │                             │             │            │                 │                                      │            │                  │                │                           │\n",
            "├───────────────────────────────────────────────────────────────────────────────────────┼─────────────────────────────┼─────────────┼────────────┼─────────────────┼──────────────────────────────────────┼────────────┼──────────────────┼────────────────┼───────────────────────────┤\n",
            "│ {'dynamicTypeHintFullName': [], 'name': 'SubmitJobCommand', 'code':                   │ SubmitJobCommand            │ <global>    │ IDENTIFIER │ anonymous1      │ src/storagev3.ts::program:anonymous1 │         37 │ src/storagev3.ts │ :program       │ src/storagev3.ts::program │\n",
            "│ 'SubmitJobCommand', 'typeFullName': '<export>::@aws-sdk/client-batch.js',             │                             │             │            │                 │                                      │            │                  │                │                           │\n",
            "│ 'columnNumber': 22, 'order': 1, '_label': 'IDENTIFIER', 'argumentIndex': -1,          │                             │             │            │                 │                                      │            │                  │                │                           │\n",
            "│ 'lineNumber': 37, 'id': 1419}                                                         │                             │             │            │                 │                                      │            │                  │                │                           │\n",
            "├───────────────────────────────────────────────────────────────────────────────────────┼─────────────────────────────┼─────────────┼────────────┼─────────────────┼──────────────────────────────────────┼────────────┼──────────────────┼────────────────┼───────────────────────────┤\n",
            "│ {'dynamicTypeHintFullName': [], 'name': 'dynamodb', 'code': 'dynamodb',               │ dynamodb                    │ <global>    │ IDENTIFIER │ :program        │ src/users.ts::program                │         10 │ src/users.ts     │ :program       │ src/users.ts::program     │\n",
            "│ 'typeFullName': '<export>::aws-sdk/clients/dynamodb.js', 'columnNumber': 27, 'order': │                             │             │            │                 │                                      │            │                  │                │                           │\n",
            "│ 1, '_label': 'IDENTIFIER', 'argumentIndex': -1, 'lineNumber': 10, 'id': 2440}         │                             │             │            │                 │                                      │            │                  │                │                           │\n",
            "├───────────────────────────────────────────────────────────────────────────────────────┼─────────────────────────────┼─────────────┼────────────┼─────────────────┼──────────────────────────────────────┼────────────┼──────────────────┼────────────────┼───────────────────────────┤\n",
            "│ {'dynamicTypeHintFullName': [], 'name': 'SES', 'code': 'SES', 'typeFullName':         │ SES                         │ <global>    │ IDENTIFIER │ :program        │ src/users.ts::program                │         11 │ src/users.ts     │ :program       │ src/users.ts::program     │\n",
            "│ '<export>::aws-sdk/clients/ses.js', 'columnNumber': 22, 'order': 1, '_label':         │                             │             │            │                 │                                      │            │                  │                │                           │\n",
            "│ 'IDENTIFIER', 'argumentIndex': -1, 'lineNumber': 11, 'id': 2449}                      │                             │             │            │                 │                                      │            │                  │                │                           │\n",
            "└───────────────────────────────────────────────────────────────────────────────────────┴─────────────────────────────┴─────────────┴────────────┴─────────────────┴──────────────────────────────────────┴────────────┴──────────────────┴────────────────┴───────────────────────────┘\n"
          ],
          "output_type" : "stream"
        }
      ]
    },
    {
      "cell_type" : "markdown",
      "execution_count" : 7,
      "metadata" : {
        "language" : "text"
      },
      "language" : "text",
      "source" : [
        "## Insecure Authentication\n",
        "\n",
        "We can see the use of few services such as EC2, S3 but how is the application authenticating with these services? As per [AWS](https://docs.aws.amazon.com/sdk-for-javascript/v2/developer-guide/setting-credentials.html), applications should not hardcode the credentials so let's begin our search here. In the below snippet, we look for the pattern `new Credentials()`."
      ],
      "outputs" : [
      ]
    },
    {
      "cell_type" : "code",
      "execution_count" : 8,
      "metadata" : {
        "cell.metadata.exec_info" : {
          "startTs" : 1674528626357,
          "endTs" : 1674528636911
        },
        "language" : "python"
      },
      "language" : "python",
      "source" : [
        "async def safe_credentials_use():\n",
        "    connection = await client.get(joern_host, joern_username, joern_password)\n",
        "    await client.p(connection, \"\"\"cpg.call.name(\"<operator>.new\").code(\".*Credentials.*\").argument.order(3)\"\"\", title=\"AWS Credentials\")\n",
        "asyncio.run(safe_credentials_use())"
      ],
      "outputs" : [
        {
          "name" : "stdout",
          "text" : [
            "                                                                                                                                    AWS Credentials                                                                                                                                     \n",
            "┏━━━━━━━━━━━━━━━━━━━━━━━━━━━━━━━━━━━━━━━━━━━━━━━━┳━━━━━━━━━━━━━━━━━━━━━━━━━━━━━━━━━━━━━━━━━━━━━━━━━━━━━━━━━━━━━━━━━━━━━━━━━━━━━┳━━━━━━━━━━━━━━━━━━━━━━━━━━━┳━━━━━━━━━━━━━━━━━━━━━━━━━━━┳━━━━━━━━━━━━━━┳━━━━━━━━━━━━━━━━┳━━━━━━━━━━━━━━━━━━━━━━━━━━━━┳━━━━━━━━━━━━━━━━━━━━━━┳━━━━━━━━━━━┓\n",
            "┃ dynamicTypeHintFullName                        ┃ code                                                                        ┃ typeFullName              ┃              columnNumber ┃        order ┃ _label         ┃              argumentIndex ┃           lineNumber ┃        id ┃\n",
            "┡━━━━━━━━━━━━━━━━━━━━━━━━━━━━━━━━━━━━━━━━━━━━━━━━╇━━━━━━━━━━━━━━━━━━━━━━━━━━━━━━━━━━━━━━━━━━━━━━━━━━━━━━━━━━━━━━━━━━━━━━━━━━━━━╇━━━━━━━━━━━━━━━━━━━━━━━━━━━╇━━━━━━━━━━━━━━━━━━━━━━━━━━━╇━━━━━━━━━━━━━━╇━━━━━━━━━━━━━━━━╇━━━━━━━━━━━━━━━━━━━━━━━━━━━━╇━━━━━━━━━━━━━━━━━━━━━━╇━━━━━━━━━━━┩\n",
            "│                                                │ {                                                                           │ ANY                       │                        26 │            3 │ BLOCK          │                          1 │                   33 │       923 │\n",
            "│                                                │     credentials: new Credentials({                                          │                           │                           │              │                │                            │                      │           │\n",
            "│                                                │       accessKeyId: \"AKIAFOOBAR\",                                            │                           │                           │              │                │                            │                      │           │\n",
            "│                                                │       secretAccessKey: \"SECRETKEY123\",                                      │                           │                           │              │                │                            │                      │           │\n",
            "│                                                │     }),                                                                     │                           │                           │              │                │                            │                      │           │\n",
            "│                                                │   }                                                                         │                           │                           │              │                │                            │                      │           │\n",
            "├────────────────────────────────────────────────┼─────────────────────────────────────────────────────────────────────────────┼───────────────────────────┼───────────────────────────┼──────────────┼────────────────┼────────────────────────────┼──────────────────────┼───────────┤\n",
            "│                                                │ {                                                                           │ ANY                       │                        33 │            3 │ BLOCK          │                          1 │                   34 │       927 │\n",
            "│                                                │       accessKeyId: \"AKIAFOOBAR\",                                            │                           │                           │              │                │                            │                      │           │\n",
            "│                                                │       secretAccessKey: \"SECRETKEY123\",                                      │                           │                           │              │                │                            │                      │           │\n",
            "│                                                │     }                                                                       │                           │                           │              │                │                            │                      │           │\n",
            "├────────────────────────────────────────────────┼─────────────────────────────────────────────────────────────────────────────┼───────────────────────────┼───────────────────────────┼──────────────┼────────────────┼────────────────────────────┼──────────────────────┼───────────┤\n",
            "│                                                │ {                                                                           │ ANY                       │                        26 │            3 │ BLOCK          │                          1 │                   51 │      1045 │\n",
            "│                                                │     credentials: new Credentials({                                          │                           │                           │              │                │                            │                      │           │\n",
            "│                                                │       accessKeyId: \"AKIAFOOBAR\",                                            │                           │                           │              │                │                            │                      │           │\n",
            "│                                                │       secretAccessKey: \"SECRETKEY123\",                                      │                           │                           │              │                │                            │                      │           │\n",
            "│                                                │       sessionToken: \"123456\",                                               │                           │                           │              │                │                            │                      │           │\n",
            "│                                                │     }),                                                                     │                           │                           │              │                │                            │                      │           │\n",
            "│                                                │   }                                                                         │                           │                           │              │                │                            │                      │           │\n",
            "├────────────────────────────────────────────────┼─────────────────────────────────────────────────────────────────────────────┼───────────────────────────┼───────────────────────────┼──────────────┼────────────────┼────────────────────────────┼──────────────────────┼───────────┤\n",
            "│                                                │ {                                                                           │ ANY                       │                        33 │            3 │ BLOCK          │                          1 │                   52 │      1049 │\n",
            "│                                                │       accessKeyId: \"AKIAFOOBAR\",                                            │                           │                           │              │                │                            │                      │           │\n",
            "│                                                │       secretAccessKey: \"SECRETKEY123\",                                      │                           │                           │              │                │                            │                      │           │\n",
            "│                                                │       sessionToken: \"123456\",                                               │                           │                           │              │                │                            │                      │           │\n",
            "│                                                │     }                                                                       │                           │                           │              │                │                            │                      │           │\n",
            "└────────────────────────────────────────────────┴─────────────────────────────────────────────────────────────────────────────┴───────────────────────────┴───────────────────────────┴──────────────┴────────────────┴────────────────────────────┴──────────────────────┴───────────┘\n"
          ],
          "output_type" : "stream"
        }
      ]
    },
    {
      "cell_type" : "markdown",
      "execution_count" : 9,
      "metadata" : {
        "language" : "text"
      },
      "language" : "text",
      "source" : [
        "From the table, we can see several hardcoded credentials in use in this application. The snippet conveniently shows the use of `p` or `print` method which accepts native CPGQL query and displays the query result as a table."
      ],
      "outputs" : [
      ]
    },
    {
      "cell_type" : "markdown",
      "execution_count" : 10,
      "metadata" : {
        "language" : "text"
      },
      "language" : "text",
      "source" : [
        "## Attacker controlled input\n",
        "\n",
        "Next up is to determine whether any external attacker controlled input is used directly to interact with AWS services without validation or sanitization. For this we need to know some sources (or entrypoints) and sinks (or exitpoints) in the application. We can use the library method `get_http_sources` for this purpose."
      ],
      "outputs" : [
      ]
    },
    {
      "cell_type" : "code",
      "execution_count" : 11,
      "metadata" : {
        "cell.metadata.exec_info" : {
          "startTs" : 1674528636940,
          "endTs" : 1674528647535
        },
        "language" : "python"
      },
      "language" : "python",
      "source" : [
        "async def find_sources():\n",
        "    connection = await client.get(joern_host, joern_username, joern_password)\n",
        "    sources = await js.get_http_sources(connection)\n",
        "    print (len(sources))\n",
        "asyncio.run(find_sources())"
      ],
      "outputs" : [
        {
          "name" : "stdout",
          "text" : [
            "63\n"
          ],
          "output_type" : "stream"
        }
      ]
    },
    {
      "cell_type" : "markdown",
      "execution_count" : 12,
      "metadata" : {
        "language" : "text"
      },
      "language" : "text",
      "source" : [
        "For the sinks, we need a generic pattern for AWS sdk. The pattern `.*(send|upload|create|get|delete|list).*` should suffice for our use case."
      ],
      "outputs" : [
      ]
    },
    {
      "cell_type" : "code",
      "execution_count" : 13,
      "metadata" : {
        "cell.metadata.exec_info" : {
          "startTs" : 1674528647544,
          "endTs" : 1674528658822
        },
        "language" : "python"
      },
      "language" : "python",
      "source" : [
        "async def find_reachable_flows():\n",
        "    connection = await client.get(joern_host, joern_username, joern_password)\n",
        "    await client.flows(connection, 'def source=cpg.call.name(Operators.assignment).code(\".*(context|ctx)\\\\.request.*\").argument.isIdentifier', 'def sink=cpg.call.code(\".*(send|get|create|upload|delete|execute).*\").argument.isIdentifier')\n",
        "asyncio.run(find_reachable_flows())"
      ],
      "outputs" : [
        {
          "name" : "stdout",
          "text" : [
            "______________________________________________________________________________\n",
            "| nodeType   | tracked              | lineNumber| method     | file           |\n",
            "|=============================================================================|\n",
            "| Identifier | _tmp_10 = ctx.req... | 48        | anonymous2 | src/storage.ts |\n",
            "| Call       | userId = _tmp_10.... | 48        | anonymous2 | src/storage.ts |\n",
            "| Identifier | userId = _tmp_10.... | 48        | anonymous2 | src/storage.ts |\n",
            "| Identifier | __Runtime.TO_STRI... | 49        | anonymous2 | src/storage.ts |\n",
            "| Call       | userId + \"-picture\"  | 60        | anonymous2 | src/storage.ts |\n",
            "| Call       | _tmp_15.Key = use... | 60        | anonymous2 | src/storage.ts |\n",
            "| Block      | _tmp_15              | 58        | anonymous2 | src/storage.ts |\n",
            "| Identifier | s3client.deleteOb... | 58        | anonymous2 | src/storage.ts |\n",
            "| Call       | s3client.deleteOb... | 58        | anonymous2 | src/storage.ts |\n",
            "| Identifier | const deleteRespo... | 58        | anonymous2 | src/storage.ts |\n",
            "\n",
            "______________________________________________________________________________\n",
            "| nodeType   | tracked              | lineNumber| method     | file           |\n",
            "|=============================================================================|\n",
            "| Identifier | _tmp_4 = ctx.requ... | 29        | anonymous1 | src/storage.ts |\n",
            "| Call       | address = _tmp_4.... | 29        | anonymous1 | src/storage.ts |\n",
            "| Identifier | address = _tmp_4.... | 29        | anonymous1 | src/storage.ts |\n",
            "| Identifier | __Runtime.TO_STRI... | 31        | anonymous1 | src/storage.ts |\n",
            "| Identifier | __Runtime.TO_STRI... | 31        | anonymous1 | src/storage.ts |\n",
            "| Call       | userId + \"-picture\"  | 41        | anonymous1 | src/storage.ts |\n",
            "| Call       | _tmp_9.Key = user... | 41        | anonymous1 | src/storage.ts |\n",
            "| Block      | _tmp_9               | 39        | anonymous1 | src/storage.ts |\n",
            "| Identifier | s3client.upload({... | 39        | anonymous1 | src/storage.ts |\n",
            "\n",
            "____________________________________________________________________________\n",
            "| nodeType   | tracked              | lineNumber| method     | file         |\n",
            "|===========================================================================|\n",
            "| Identifier | _tmp_33 = ctx.req... | 128       | anonymous6 | src/users.ts |\n",
            "| Call       | vmSpecification =... | 128       | anonymous6 | src/users.ts |\n",
            "| Identifier | vmSpecification =... | 128       | anonymous6 | src/users.ts |\n",
            "| Identifier | createVM({ region... | 130       | anonymous6 | src/users.ts |\n",
            "\n",
            "________________________________________________________________________________\n",
            "| nodeType   | tracked              | lineNumber| method     | file             |\n",
            "|===============================================================================|\n",
            "| Identifier | const parameters ... | 35        | anonymous1 | src/storagev3.ts |\n",
            "| Identifier | _tmp_9.parameters... | 41        | anonymous1 | src/storagev3.ts |\n",
            "| Call       | _tmp_9.parameters... | 41        | anonymous1 | src/storagev3.ts |\n",
            "| Block      | _tmp_9               | 37        | anonymous1 | src/storagev3.ts |\n",
            "| Identifier | new SubmitJobComm... | 37        | anonymous1 | src/storagev3.ts |\n",
            "| Call       | new SubmitJobComm... | 37        | anonymous1 | src/storagev3.ts |\n",
            "| Block      | _tmp_8               | 37        | anonymous1 | src/storagev3.ts |\n",
            "| Identifier | const command = n... | 37        | anonymous1 | src/storagev3.ts |\n",
            "| Identifier | batchClient.send(... | 44        | anonymous1 | src/storagev3.ts |\n",
            "| Identifier | batchClient.send(... | 44        | anonymous1 | src/storagev3.ts |\n",
            "\n",
            "________________________________________________________________________________\n",
            "| nodeType   | tracked              | lineNumber| method     | file             |\n",
            "|===============================================================================|\n",
            "| Identifier | const parameters ... | 53        | anonymous2 | src/storagev3.ts |\n",
            "| Identifier | _tmp_11.Payload =... | 59        | anonymous2 | src/storagev3.ts |\n",
            "| Call       | _tmp_11.Payload =... | 59        | anonymous2 | src/storagev3.ts |\n",
            "| Block      | _tmp_11              | 56        | anonymous2 | src/storagev3.ts |\n",
            "| Identifier | executeJob( {...     | 54        | anonymous2 | src/storagev3.ts |\n",
            "\n",
            "______________________________________________________________________________\n",
            "| nodeType   | tracked              | lineNumber| method     | file           |\n",
            "|=============================================================================|\n",
            "| Identifier | _tmp_10 = ctx.req... | 48        | anonymous2 | src/storage.ts |\n",
            "| Call       | userId = _tmp_10.... | 48        | anonymous2 | src/storage.ts |\n",
            "| Identifier | userId = _tmp_10.... | 48        | anonymous2 | src/storage.ts |\n",
            "| Identifier | __Runtime.TO_STRI... | 49        | anonymous2 | src/storage.ts |\n",
            "| Call       | userId + \"-picture\"  | 60        | anonymous2 | src/storage.ts |\n",
            "| Call       | _tmp_15.Key = use... | 60        | anonymous2 | src/storage.ts |\n",
            "| Block      | _tmp_15              | 58        | anonymous2 | src/storage.ts |\n",
            "| Identifier | s3client.deleteOb... | 58        | anonymous2 | src/storage.ts |\n",
            "\n",
            "______________________________________________________________________________\n",
            "| nodeType   | tracked              | lineNumber| method     | file           |\n",
            "|=============================================================================|\n",
            "| Identifier | _tmp_10 = ctx.req... | 48        | anonymous2 | src/storage.ts |\n",
            "| Call       | userId = _tmp_10.... | 48        | anonymous2 | src/storage.ts |\n",
            "| Identifier | userId = _tmp_10.... | 48        | anonymous2 | src/storage.ts |\n",
            "| Identifier | __Runtime.TO_STRI... | 49        | anonymous2 | src/storage.ts |\n",
            "| Call       | __Runtime.TO_STRI... | 49        | anonymous2 | src/storage.ts |\n",
            "| Identifier | console.log(`Abou... | 49        | anonymous2 | src/storage.ts |\n",
            "\n",
            "____________________________________________________________________________\n",
            "| nodeType   | tracked              | lineNumber| method     | file         |\n",
            "|===========================================================================|\n",
            "| Identifier | _tmp_18 = ctx.req... | 71        | anonymous3 | src/users.ts |\n",
            "| Call       | subject = _tmp_18... | 71        | anonymous3 | src/users.ts |\n",
            "| Identifier | subject = _tmp_18... | 71        | anonymous3 | src/users.ts |\n",
            "| Identifier | _tmp_20.Subject =... | 77        | anonymous3 | src/users.ts |\n",
            "| Call       | _tmp_20.Subject =... | 77        | anonymous3 | src/users.ts |\n",
            "| Block      | _tmp_20              | 76        | anonymous3 | src/users.ts |\n",
            "| Call       | _tmp_19.Message =... | 76        | anonymous3 | src/users.ts |\n",
            "| Block      | _tmp_19              | 73        | anonymous3 | src/users.ts |\n",
            "| Identifier | sesClient.sendEma... | 73        | anonymous3 | src/users.ts |\n",
            "\n",
            "____________________________________________________________________________\n",
            "| nodeType   | tracked              | lineNumber| method     | file         |\n",
            "|===========================================================================|\n",
            "| Identifier | _tmp_33 = ctx.req... | 128       | anonymous6 | src/users.ts |\n",
            "| Call       | vmSpecification =... | 128       | anonymous6 | src/users.ts |\n",
            "| Identifier | vmSpecification =... | 128       | anonymous6 | src/users.ts |\n",
            "| Identifier | createVM({ region... | 130       | anonymous6 | src/users.ts |\n",
            "| Identifier | createVM({ region... | 130       | anonymous6 | src/users.ts |\n",
            "\n",
            "______________________________________________________________________________\n",
            "| nodeType   | tracked              | lineNumber| method     | file           |\n",
            "|=============================================================================|\n",
            "| Identifier | _tmp_10 = ctx.req... | 48        | anonymous2 | src/storage.ts |\n",
            "| Call       | userId = _tmp_10.... | 48        | anonymous2 | src/storage.ts |\n",
            "| Identifier | userId = _tmp_10.... | 48        | anonymous2 | src/storage.ts |\n",
            "| Identifier | __Runtime.TO_STRI... | 49        | anonymous2 | src/storage.ts |\n",
            "| Call       | userId + \"-picture\"  | 60        | anonymous2 | src/storage.ts |\n",
            "| Call       | _tmp_15.Key = use... | 60        | anonymous2 | src/storage.ts |\n",
            "| Block      | _tmp_15              | 58        | anonymous2 | src/storage.ts |\n",
            "| Identifier | s3client.deleteOb... | 58        | anonymous2 | src/storage.ts |\n",
            "| Call       | s3client.deleteOb... | 58        | anonymous2 | src/storage.ts |\n",
            "| Identifier | const deleteRespo... | 58        | anonymous2 | src/storage.ts |\n",
            "| Identifier | ctx.response.body... | 63        | anonymous2 | src/storage.ts |\n",
            "\n",
            "______________________________________________________________________________\n",
            "| nodeType   | tracked              | lineNumber| method     | file           |\n",
            "|=============================================================================|\n",
            "| Identifier | _tmp_4 = ctx.requ... | 29        | anonymous1 | src/storage.ts |\n",
            "| Call       | address = _tmp_4.... | 29        | anonymous1 | src/storage.ts |\n",
            "| Identifier | address = _tmp_4.... | 29        | anonymous1 | src/storage.ts |\n",
            "| Identifier | __Runtime.TO_STRI... | 31        | anonymous1 | src/storage.ts |\n",
            "| Identifier | __Runtime.TO_STRI... | 31        | anonymous1 | src/storage.ts |\n",
            "| Call       | userId + \"-picture\"  | 41        | anonymous1 | src/storage.ts |\n",
            "| Call       | _tmp_9.Key = user... | 41        | anonymous1 | src/storage.ts |\n",
            "| Block      | _tmp_9               | 39        | anonymous1 | src/storage.ts |\n",
            "| Identifier | s3client.upload({... | 39        | anonymous1 | src/storage.ts |\n",
            "| Call       | s3client.upload({... | 39        | anonymous1 | src/storage.ts |\n",
            "| Identifier | const uploadRespo... | 39        | anonymous1 | src/storage.ts |\n",
            "\n",
            "________________________________________________________________________________\n",
            "| nodeType   | tracked              | lineNumber| method     | file             |\n",
            "|===============================================================================|\n",
            "| Identifier | const parameters ... | 35        | anonymous1 | src/storagev3.ts |\n",
            "| Identifier | _tmp_9.parameters... | 41        | anonymous1 | src/storagev3.ts |\n",
            "| Call       | _tmp_9.parameters... | 41        | anonymous1 | src/storagev3.ts |\n",
            "| Block      | _tmp_9               | 37        | anonymous1 | src/storagev3.ts |\n",
            "| Identifier | new SubmitJobComm... | 37        | anonymous1 | src/storagev3.ts |\n",
            "| Call       | new SubmitJobComm... | 37        | anonymous1 | src/storagev3.ts |\n",
            "| Block      | _tmp_8               | 37        | anonymous1 | src/storagev3.ts |\n",
            "| Identifier | const command = n... | 37        | anonymous1 | src/storagev3.ts |\n",
            "| Identifier | batchClient.send(... | 44        | anonymous1 | src/storagev3.ts |\n",
            "\n",
            "______________________________________________________________________________\n",
            "| nodeType   | tracked              | lineNumber| method     | file           |\n",
            "|=============================================================================|\n",
            "| Identifier | _tmp_4 = ctx.requ... | 29        | anonymous1 | src/storage.ts |\n",
            "| Call       | address = _tmp_4.... | 29        | anonymous1 | src/storage.ts |\n",
            "| Identifier | address = _tmp_4.... | 29        | anonymous1 | src/storage.ts |\n",
            "| Identifier | __Runtime.TO_STRI... | 31        | anonymous1 | src/storage.ts |\n",
            "| Identifier | __Runtime.TO_STRI... | 31        | anonymous1 | src/storage.ts |\n",
            "| Call       | userId + \"-picture\"  | 41        | anonymous1 | src/storage.ts |\n",
            "| Call       | _tmp_9.Key = user... | 41        | anonymous1 | src/storage.ts |\n",
            "| Block      | _tmp_9               | 39        | anonymous1 | src/storage.ts |\n",
            "| Identifier | s3client.upload({... | 39        | anonymous1 | src/storage.ts |\n",
            "| Call       | s3client.upload({... | 39        | anonymous1 | src/storage.ts |\n",
            "| Identifier | const uploadRespo... | 39        | anonymous1 | src/storage.ts |\n",
            "| Identifier | ctx.response.body... | 45        | anonymous1 | src/storage.ts |\n",
            "\n",
            "______________________________________________________________________________\n",
            "| nodeType   | tracked              | lineNumber| method     | file           |\n",
            "|=============================================================================|\n",
            "| Identifier | _tmp_10 = ctx.req... | 48        | anonymous2 | src/storage.ts |\n",
            "| Call       | userId = _tmp_10.... | 48        | anonymous2 | src/storage.ts |\n",
            "| Identifier | userId = _tmp_10.... | 48        | anonymous2 | src/storage.ts |\n",
            "| Identifier | __Runtime.TO_STRI... | 49        | anonymous2 | src/storage.ts |\n",
            "\n",
            "________________________________________________________________________________\n",
            "| nodeType   | tracked              | lineNumber| method     | file             |\n",
            "|===============================================================================|\n",
            "| Identifier | const parameters ... | 35        | anonymous1 | src/storagev3.ts |\n",
            "| Identifier | _tmp_9.parameters... | 41        | anonymous1 | src/storagev3.ts |\n",
            "| Call       | _tmp_9.parameters... | 41        | anonymous1 | src/storagev3.ts |\n",
            "| Block      | _tmp_9               | 37        | anonymous1 | src/storagev3.ts |\n",
            "| Identifier | new SubmitJobComm... | 37        | anonymous1 | src/storagev3.ts |\n",
            "| Call       | new SubmitJobComm... | 37        | anonymous1 | src/storagev3.ts |\n",
            "| Block      | _tmp_8               | 37        | anonymous1 | src/storagev3.ts |\n",
            "| Identifier | const command = n... | 37        | anonymous1 | src/storagev3.ts |\n",
            "| Identifier | batchClient.send(... | 44        | anonymous1 | src/storagev3.ts |\n",
            "| Call       | batchClient.send(... | 44        | anonymous1 | src/storagev3.ts |\n",
            "| Call       | await batchClient... | 44        | anonymous1 | src/storagev3.ts |\n",
            "| Identifier | const objectsOutp... | 44        | anonymous1 | src/storagev3.ts |\n",
            "\n"
          ],
          "output_type" : "stream"
        }
      ]
    },
    {
      "cell_type" : "markdown",
      "execution_count" : 14,
      "metadata" : {
        "language" : "text"
      },
      "language" : "text",
      "source" : [
        "## Closing Thoughts\n",
        "\n",
        "This notebook demonstrated the mixed use of built-in library methods and native query methods to interactively identify vulnerabilities in this AWS application."
      ],
      "outputs" : [
      ]
    }
  ]
}