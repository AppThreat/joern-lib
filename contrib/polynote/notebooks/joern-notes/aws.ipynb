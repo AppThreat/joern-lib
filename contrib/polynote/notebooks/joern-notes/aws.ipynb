{
  "metadata" : {
    "config" : {
      "dependencies" : {
        "python" : [
          "file:///opt/joern_lib",
          "rich"
        ]
      },
      "exclusions" : [
      ],
      "repositories" : [
      ],
      "sparkConfig" : {
        
      },
      "env" : {
        
      }
    },
    "language_info" : {
      "name" : "python"
    }
  },
  "nbformat" : 4,
  "nbformat_minor" : 0,
  "cells" : [
    {
      "cell_type" : "markdown",
      "execution_count" : 0,
      "metadata" : {
        "language" : "text"
      },
      "language" : "text",
      "source" : [
        "# Vulnerable AWS app\n",
        "\n",
        "Let's hunt for vulnerabilities in an app that use AWS SDK. We begin by setting up the basics for joern lib."
      ],
      "outputs" : [
      ]
    },
    {
      "cell_type" : "code",
      "execution_count" : 1,
      "metadata" : {
        "cell.metadata.exec_info" : {
          "startTs" : 1674146486768,
          "endTs" : 1674146488565
        },
        "language" : "python"
      },
      "language" : "python",
      "source" : [
        "import asyncio\n",
        "\n",
        "from joern_lib import client, workspace\n",
        "from joern_lib.detectors import common as cpg, js\n",
        "from joern_lib.utils import print_table\n",
        "\n",
        "joern_host = \"http://joern:9000\"\n",
        "joern_username = \"admin\"\n",
        "joern_password  = \"admin\""
      ],
      "outputs" : [
      ]
    },
    {
      "cell_type" : "markdown",
      "execution_count" : 2,
      "metadata" : {
        "language" : "text"
      },
      "language" : "text",
      "source" : [
        "## Clone the vulnerable app\n",
        "\n",
        "We use the vulnerable app from [HooliCorp](https://github.com/HooliCorp/vulnerable-aws-koa-app) for this notebook. We can clone this repo using GitPython and import to Joern using the import_code method."
      ],
      "outputs" : [
      ]
    },
    {
      "cell_type" : "code",
      "execution_count" : 3,
      "metadata" : {
        "cell.metadata.exec_info" : {
          "startTs" : 1674146488620,
          "endTs" : 1674146488908
        },
        "language" : "python"
      },
      "language" : "python",
      "source" : [
        "import git\n",
        "import os\n",
        "\n",
        "if not os.path.exists(\"/tmp/aws-koa\"):\n",
        "    repo = git.Repo.clone_from(\"https://github.com/HooliCorp/vulnerable-aws-koa-app.git\", \"/tmp/aws-koa\", branch=\"main\", depth=1)\n",
        "else:\n",
        "    print(\"/tmp/aws-koa already exists\")"
      ],
      "outputs" : [
        {
          "name" : "stdout",
          "text" : [
            "/tmp/aws-koa already exists\n"
          ],
          "output_type" : "stream"
        }
      ]
    },
    {
      "cell_type" : "code",
      "execution_count" : 4,
      "metadata" : {
        "cell.metadata.exec_info" : {
          "startTs" : 1674146488928
        },
        "language" : "python"
      },
      "language" : "python",
      "source" : [
        "async def create_workspace():\n",
        "    connection = await client.get(joern_host, joern_username, joern_password)\n",
        "    res = await workspace.import_code(connection, \"/tmp/aws-koa\", \"aws-koa\");\n",
        "    print (res)\n",
        "asyncio.run(create_workspace())"
      ],
      "outputs" : [
      ]
    },
    {
      "cell_type" : "markdown",
      "execution_count" : 5,
      "metadata" : {
        "language" : "text"
      },
      "language" : "text",
      "source" : [
        "## Identify AWS services used\n",
        "\n",
        "To look for AWS related vulnerabilities, we need to identify the services used by this application. JavaScript detector in joern-lib includes a method called `list_aws_modules` for this purpose."
      ],
      "outputs" : [
      ]
    },
    {
      "cell_type" : "code",
      "execution_count" : 6,
      "metadata" : {
        "cell.metadata.exec_info" : {
          "startTs" : 1673894389285,
          "endTs" : 1673894399777
        },
        "language" : "python"
      },
      "language" : "python",
      "source" : [
        "async def detect_aws_services():\n",
        "    connection = await client.get(joern_host, joern_username, joern_password)\n",
        "    res = await js.list_aws_modules(connection)\n",
        "    print_table(res)\n",
        "    \n",
        "asyncio.run(detect_aws_services())"
      ],
      "outputs" : [
        {
          "name" : "stdout",
          "text" : [
            "┏━━━━━━━━━━━━━━━━━━━━━━━━━━━━━━━━━━━━┳━━━━━━━━━━━━━━━━━━━━━━━━━━━━━━━━━━━━━━━━━━┳━━━━━━━━━━━━━━━━━━━━━━━━━━━━━━━━━━━━━━━━━━┳━━━━━━━━━━━━━━━━━━━━━━━━━━━━━━━━━━━━━━━━━━━━━━━━━━━━━━━━┳━━━━━━━━━━━━━━━━━━━━┳━━━━━━━━━━┳━━━━━━━━━━━━━━━━━┳━━━━━━━━━━━━━━━━━━━━━┳━━━━━━━━━━━━━━━━━┳━━━━━━━━┓\n",
            "┃ dynamicTypeHintFullName            ┃ name                                     ┃ code                                     ┃ typeFullName                                           ┃       columnNumber ┃    order ┃ _label          ┃       argumentIndex ┃      lineNumber ┃     id ┃\n",
            "┡━━━━━━━━━━━━━━━━━━━━━━━━━━━━━━━━━━━━╇━━━━━━━━━━━━━━━━━━━━━━━━━━━━━━━━━━━━━━━━━━╇━━━━━━━━━━━━━━━━━━━━━━━━━━━━━━━━━━━━━━━━━━╇━━━━━━━━━━━━━━━━━━━━━━━━━━━━━━━━━━━━━━━━━━━━━━━━━━━━━━━━╇━━━━━━━━━━━━━━━━━━━━╇━━━━━━━━━━╇━━━━━━━━━━━━━━━━━╇━━━━━━━━━━━━━━━━━━━━━╇━━━━━━━━━━━━━━━━━╇━━━━━━━━┩\n",
            "│                                    │ EC2Client                                │ EC2Client                                │ <export>::@aws-sdk/client-ec2.js                       │                  0 │        1 │ IDENTIFIER      │                   1 │               1 │    268 │\n",
            "├────────────────────────────────────┼──────────────────────────────────────────┼──────────────────────────────────────────┼────────────────────────────────────────────────────────┼────────────────────┼──────────┼─────────────────┼─────────────────────┼─────────────────┼────────┤\n",
            "│                                    │ CreateLaunchTemplateCommand              │ CreateLaunchTemplateCommand              │ <export>::@aws-sdk/client-ec2.js                       │                  0 │        1 │ IDENTIFIER      │                   1 │               1 │    284 │\n",
            "├────────────────────────────────────┼──────────────────────────────────────────┼──────────────────────────────────────────┼────────────────────────────────────────────────────────┼────────────────────┼──────────┼─────────────────┼─────────────────────┼─────────────────┼────────┤\n",
            "│                                    │ LambdaClient                             │ LambdaClient                             │ <export>::@aws-sdk/client-lambda.js                    │                  0 │        1 │ IDENTIFIER      │                   1 │               1 │    627 │\n",
            "├────────────────────────────────────┼──────────────────────────────────────────┼──────────────────────────────────────────┼────────────────────────────────────────────────────────┼────────────────────┼──────────┼─────────────────┼─────────────────────┼─────────────────┼────────┤\n",
            "│                                    │ InvokeCommand                            │ InvokeCommand                            │ <export>::@aws-sdk/client-lambda.js                    │                  0 │        1 │ IDENTIFIER      │                   1 │               1 │    635 │\n",
            "├────────────────────────────────────┼──────────────────────────────────────────┼──────────────────────────────────────────┼────────────────────────────────────────────────────────┼────────────────────┼──────────┼─────────────────┼─────────────────────┼─────────────────┼────────┤\n",
            "│                                    │ S3                                       │ S3                                       │ <export>::aws-sdk/clients/s3.js                        │                  0 │        1 │ IDENTIFIER      │                   1 │               3 │   1166 │\n",
            "├────────────────────────────────────┼──────────────────────────────────────────┼──────────────────────────────────────────┼────────────────────────────────────────────────────────┼────────────────────┼──────────┼─────────────────┼─────────────────────┼─────────────────┼────────┤\n",
            "│                                    │ Credentials                              │ Credentials                              │ <export>::aws-sdk/lib/credentials.js                   │                  0 │        1 │ IDENTIFIER      │                   1 │               4 │   1172 │\n",
            "├────────────────────────────────────┼──────────────────────────────────────────┼──────────────────────────────────────────┼────────────────────────────────────────────────────────┼────────────────────┼──────────┼─────────────────┼─────────────────────┼─────────────────┼────────┤\n",
            "│                                    │ S3Client                                 │ S3Client                                 │ <export>::@aws-sdk/client-s3.js                        │                  0 │        1 │ IDENTIFIER      │                   1 │               4 │   1551 │\n",
            "├────────────────────────────────────┼──────────────────────────────────────────┼──────────────────────────────────────────┼────────────────────────────────────────────────────────┼────────────────────┼──────────┼─────────────────┼─────────────────────┼─────────────────┼────────┤\n",
            "│                                    │ ListObjectsV2Command                     │ ListObjectsV2Command                     │ <export>::@aws-sdk/client-s3.js                        │                  0 │        1 │ IDENTIFIER      │                   1 │               4 │   1559 │\n",
            "├────────────────────────────────────┼──────────────────────────────────────────┼──────────────────────────────────────────┼────────────────────────────────────────────────────────┼────────────────────┼──────────┼─────────────────┼─────────────────────┼─────────────────┼────────┤\n",
            "│                                    │ BatchClient                              │ BatchClient                              │ <export>::@aws-sdk/client-batch.js                     │                  0 │        1 │ IDENTIFIER      │                   1 │               5 │   1568 │\n",
            "├────────────────────────────────────┼──────────────────────────────────────────┼──────────────────────────────────────────┼────────────────────────────────────────────────────────┼────────────────────┼──────────┼─────────────────┼─────────────────────┼─────────────────┼────────┤\n",
            "│                                    │ SubmitJobCommand                         │ SubmitJobCommand                         │ <export>::@aws-sdk/client-batch.js                     │                  0 │        1 │ IDENTIFIER      │                   1 │               5 │   1576 │\n",
            "├────────────────────────────────────┼──────────────────────────────────────────┼──────────────────────────────────────────┼────────────────────────────────────────────────────────┼────────────────────┼──────────┼─────────────────┼─────────────────────┼─────────────────┼────────┤\n",
            "│                                    │ dynamodb                                 │ dynamodb                                 │ <export>::aws-sdk/clients/dynamodb.js                  │                  0 │        1 │ IDENTIFIER      │                   1 │               3 │   2371 │\n",
            "├────────────────────────────────────┼──────────────────────────────────────────┼──────────────────────────────────────────┼────────────────────────────────────────────────────────┼────────────────────┼──────────┼─────────────────┼─────────────────────┼─────────────────┼────────┤\n",
            "│                                    │ SES                                      │ SES                                      │ <export>::aws-sdk/clients/ses.js                       │                  0 │        1 │ IDENTIFIER      │                   1 │               5 │   2410 │\n",
            "└────────────────────────────────────┴──────────────────────────────────────────┴──────────────────────────────────────────┴────────────────────────────────────────────────────────┴────────────────────┴──────────┴─────────────────┴─────────────────────┴─────────────────┴────────┘\n"
          ],
          "output_type" : "stream"
        }
      ]
    },
    {
      "cell_type" : "markdown",
      "execution_count" : 7,
      "metadata" : {
        "language" : "text"
      },
      "language" : "text",
      "source" : [
        "## Insecure Authentication\n",
        "\n",
        "We can see the use of few services such as EC2, S3 but how is the application authenticating with these services? As per [AWS](https://docs.aws.amazon.com/sdk-for-javascript/v2/developer-guide/setting-credentials.html), applications should not hardcode the credentials so let's begin our search here. In the below snippet, we look for the pattern `new Credentials()`."
      ],
      "outputs" : [
      ]
    },
    {
      "cell_type" : "code",
      "execution_count" : 8,
      "metadata" : {
        "cell.metadata.exec_info" : {
          "startTs" : 1673894399786,
          "endTs" : 1673894410164
        },
        "language" : "python"
      },
      "language" : "python",
      "source" : [
        "async def safe_credentials_use():\n",
        "    connection = await client.get(joern_host, joern_username, joern_password)\n",
        "    await client.p(connection, \"\"\"cpg.call.name(\"<operator>.new\").code(\".*Credentials.*\").argument.order(3)\"\"\", title=\"AWS Credentials\")\n",
        "asyncio.run(safe_credentials_use())"
      ],
      "outputs" : [
        {
          "name" : "stdout",
          "text" : [
            "                                                                                                                                    AWS Credentials                                                                                                                                     \n",
            "┏━━━━━━━━━━━━━━━━━━━━━━━━━━━━━━━━━━━━━━━━━━━━━━━━┳━━━━━━━━━━━━━━━━━━━━━━━━━━━━━━━━━━━━━━━━━━━━━━━━━━━━━━━━━━━━━━━━━━━━━━━━━━━━━┳━━━━━━━━━━━━━━━━━━━━━━━━━━━┳━━━━━━━━━━━━━━━━━━━━━━━━━━━┳━━━━━━━━━━━━━━┳━━━━━━━━━━━━━━━━┳━━━━━━━━━━━━━━━━━━━━━━━━━━━━┳━━━━━━━━━━━━━━━━━━━━━━┳━━━━━━━━━━━┓\n",
            "┃ dynamicTypeHintFullName                        ┃ code                                                                        ┃ typeFullName              ┃              columnNumber ┃        order ┃ _label         ┃              argumentIndex ┃           lineNumber ┃        id ┃\n",
            "┡━━━━━━━━━━━━━━━━━━━━━━━━━━━━━━━━━━━━━━━━━━━━━━━━╇━━━━━━━━━━━━━━━━━━━━━━━━━━━━━━━━━━━━━━━━━━━━━━━━━━━━━━━━━━━━━━━━━━━━━━━━━━━━━╇━━━━━━━━━━━━━━━━━━━━━━━━━━━╇━━━━━━━━━━━━━━━━━━━━━━━━━━━╇━━━━━━━━━━━━━━╇━━━━━━━━━━━━━━━━╇━━━━━━━━━━━━━━━━━━━━━━━━━━━━╇━━━━━━━━━━━━━━━━━━━━━━╇━━━━━━━━━━━┩\n",
            "│                                                │ {                                                                           │ ANY                       │                        26 │            3 │ BLOCK          │                          1 │                   33 │       925 │\n",
            "│                                                │     credentials: new Credentials({                                          │                           │                           │              │                │                            │                      │           │\n",
            "│                                                │       accessKeyId: \"AKIAFOOBAR\",                                            │                           │                           │              │                │                            │                      │           │\n",
            "│                                                │       secretAccessKey: \"SECRETKEY123\",                                      │                           │                           │              │                │                            │                      │           │\n",
            "│                                                │     }),                                                                     │                           │                           │              │                │                            │                      │           │\n",
            "│                                                │   }                                                                         │                           │                           │              │                │                            │                      │           │\n",
            "├────────────────────────────────────────────────┼─────────────────────────────────────────────────────────────────────────────┼───────────────────────────┼───────────────────────────┼──────────────┼────────────────┼────────────────────────────┼──────────────────────┼───────────┤\n",
            "│                                                │ {                                                                           │ ANY                       │                        33 │            3 │ BLOCK          │                          1 │                   34 │       929 │\n",
            "│                                                │       accessKeyId: \"AKIAFOOBAR\",                                            │                           │                           │              │                │                            │                      │           │\n",
            "│                                                │       secretAccessKey: \"SECRETKEY123\",                                      │                           │                           │              │                │                            │                      │           │\n",
            "│                                                │     }                                                                       │                           │                           │              │                │                            │                      │           │\n",
            "├────────────────────────────────────────────────┼─────────────────────────────────────────────────────────────────────────────┼───────────────────────────┼───────────────────────────┼──────────────┼────────────────┼────────────────────────────┼──────────────────────┼───────────┤\n",
            "│                                                │ {                                                                           │ ANY                       │                        26 │            3 │ BLOCK          │                          1 │                   51 │      1047 │\n",
            "│                                                │     credentials: new Credentials({                                          │                           │                           │              │                │                            │                      │           │\n",
            "│                                                │       accessKeyId: \"AKIAFOOBAR\",                                            │                           │                           │              │                │                            │                      │           │\n",
            "│                                                │       secretAccessKey: \"SECRETKEY123\",                                      │                           │                           │              │                │                            │                      │           │\n",
            "│                                                │       sessionToken: \"123456\",                                               │                           │                           │              │                │                            │                      │           │\n",
            "│                                                │     }),                                                                     │                           │                           │              │                │                            │                      │           │\n",
            "│                                                │   }                                                                         │                           │                           │              │                │                            │                      │           │\n",
            "├────────────────────────────────────────────────┼─────────────────────────────────────────────────────────────────────────────┼───────────────────────────┼───────────────────────────┼──────────────┼────────────────┼────────────────────────────┼──────────────────────┼───────────┤\n",
            "│                                                │ {                                                                           │ ANY                       │                        33 │            3 │ BLOCK          │                          1 │                   52 │      1051 │\n",
            "│                                                │       accessKeyId: \"AKIAFOOBAR\",                                            │                           │                           │              │                │                            │                      │           │\n",
            "│                                                │       secretAccessKey: \"SECRETKEY123\",                                      │                           │                           │              │                │                            │                      │           │\n",
            "│                                                │       sessionToken: \"123456\",                                               │                           │                           │              │                │                            │                      │           │\n",
            "│                                                │     }                                                                       │                           │                           │              │                │                            │                      │           │\n",
            "└────────────────────────────────────────────────┴─────────────────────────────────────────────────────────────────────────────┴───────────────────────────┴───────────────────────────┴──────────────┴────────────────┴────────────────────────────┴──────────────────────┴───────────┘\n"
          ],
          "output_type" : "stream"
        }
      ]
    },
    {
      "cell_type" : "markdown",
      "execution_count" : 9,
      "metadata" : {
        "language" : "text"
      },
      "language" : "text",
      "source" : [
        "From the table, we can see several hardcoded credentials in use in this application. The snippet conveniently shows the use of `p` or `print` method which accepts native CPGQL query and displays the query result as a table."
      ],
      "outputs" : [
      ]
    },
    {
      "cell_type" : "markdown",
      "execution_count" : 10,
      "metadata" : {
        "language" : "text"
      },
      "language" : "text",
      "source" : [
        "## Attacker controlled input\n",
        "\n",
        "Next up is to determine whether any external attacker controlled input is used directly to interact with AWS services without validation or sanitization. For this we need to know some sources (or entrypoints) and sinks (or exitpoints) in the application. We can use the library method `get_http_sources` for this purpose."
      ],
      "outputs" : [
      ]
    },
    {
      "cell_type" : "code",
      "execution_count" : 11,
      "metadata" : {
        "cell.metadata.exec_info" : {
          "startTs" : 1673894410171,
          "endTs" : 1673894420531
        },
        "language" : "python"
      },
      "language" : "python",
      "source" : [
        "async def find_sources():\n",
        "    connection = await client.get(joern_host, joern_username, joern_password)\n",
        "    sources = await js.get_http_sources(connection)\n",
        "    print (len(sources))\n",
        "asyncio.run(find_sources())"
      ],
      "outputs" : [
        {
          "name" : "stdout",
          "text" : [
            "63\n"
          ],
          "output_type" : "stream"
        }
      ]
    },
    {
      "cell_type" : "markdown",
      "execution_count" : 12,
      "metadata" : {
        "language" : "text"
      },
      "language" : "text",
      "source" : [
        "For the sinks, we need a generic pattern for AWS sdk. The pattern `.*(send|upload|create|get|delete|list).*` should suffice for our use case."
      ],
      "outputs" : [
      ]
    },
    {
      "cell_type" : "code",
      "execution_count" : 13,
      "metadata" : {
        "cell.metadata.exec_info" : {
          "startTs" : 1673894420537,
          "endTs" : 1673894431257
        },
        "language" : "python"
      },
      "language" : "python",
      "source" : [
        "async def find_reachable_flows():\n",
        "    connection = await client.get(joern_host, joern_username, joern_password)\n",
        "    await client.flows(connection, 'def source=cpg.call.name(Operators.assignment).code(\".*ctx\\\\.request.*\").argument.isIdentifier', 'def sink=cpg.call.code(\".*(send|get|create|upload|delete|execute).*\").argument.isIdentifier')\n",
        "asyncio.run(find_reachable_flows())"
      ],
      "outputs" : [
        {
          "name" : "stdout",
          "text" : [
            "______________________________________________________________________________\n",
            "| nodeType   | tracked              | lineNumber| method     | file           |\n",
            "|=============================================================================|\n",
            "| Identifier | _tmp_10 = ctx.req... | 48        | anonymous2 | src/storage.ts |\n",
            "| Call       | userId = _tmp_10.... | 48        | anonymous2 | src/storage.ts |\n",
            "| Identifier | userId = _tmp_10.... | 48        | anonymous2 | src/storage.ts |\n",
            "| Identifier | __Runtime.TO_STRI... | 49        | anonymous2 | src/storage.ts |\n",
            "| Call       | userId + \"-picture\"  | 60        | anonymous2 | src/storage.ts |\n",
            "| Call       | _tmp_15.Key = use... | 60        | anonymous2 | src/storage.ts |\n",
            "| Block      | _tmp_15              | 58        | anonymous2 | src/storage.ts |\n",
            "| Identifier | s3client.deleteOb... | 58        | anonymous2 | src/storage.ts |\n",
            "| Call       | s3client.deleteOb... | 58        | anonymous2 | src/storage.ts |\n",
            "| Identifier | const deleteRespo... | 58        | anonymous2 | src/storage.ts |\n",
            "| Identifier | ctx.response.body... | 63        | anonymous2 | src/storage.ts |\n",
            "\n",
            "____________________________________________________________________________\n",
            "| nodeType   | tracked              | lineNumber| method     | file         |\n",
            "|===========================================================================|\n",
            "| Identifier | _tmp_33 = ctx.req... | 128       | anonymous6 | src/users.ts |\n",
            "| Call       | vmSpecification =... | 128       | anonymous6 | src/users.ts |\n",
            "| Identifier | vmSpecification =... | 128       | anonymous6 | src/users.ts |\n",
            "| Identifier | createVM({ region... | 130       | anonymous6 | src/users.ts |\n",
            "\n",
            "______________________________________________________________________________\n",
            "| nodeType   | tracked              | lineNumber| method     | file           |\n",
            "|=============================================================================|\n",
            "| Identifier | _tmp_10 = ctx.req... | 48        | anonymous2 | src/storage.ts |\n",
            "| Call       | userId = _tmp_10.... | 48        | anonymous2 | src/storage.ts |\n",
            "| Identifier | userId = _tmp_10.... | 48        | anonymous2 | src/storage.ts |\n",
            "| Identifier | __Runtime.TO_STRI... | 49        | anonymous2 | src/storage.ts |\n",
            "| Call       | __Runtime.TO_STRI... | 49        | anonymous2 | src/storage.ts |\n",
            "| Identifier | console.log(`Abou... | 49        | anonymous2 | src/storage.ts |\n",
            "\n",
            "______________________________________________________________________________\n",
            "| nodeType   | tracked              | lineNumber| method     | file           |\n",
            "|=============================================================================|\n",
            "| Identifier | _tmp_4 = ctx.requ... | 29        | anonymous1 | src/storage.ts |\n",
            "| Call       | address = _tmp_4.... | 29        | anonymous1 | src/storage.ts |\n",
            "| Identifier | address = _tmp_4.... | 29        | anonymous1 | src/storage.ts |\n",
            "| Identifier | __Runtime.TO_STRI... | 31        | anonymous1 | src/storage.ts |\n",
            "| Identifier | __Runtime.TO_STRI... | 31        | anonymous1 | src/storage.ts |\n",
            "| Call       | userId + \"-picture\"  | 41        | anonymous1 | src/storage.ts |\n",
            "| Call       | _tmp_9.Key = user... | 41        | anonymous1 | src/storage.ts |\n",
            "| Block      | _tmp_9               | 39        | anonymous1 | src/storage.ts |\n",
            "| Identifier | s3client.upload({... | 39        | anonymous1 | src/storage.ts |\n",
            "| Call       | s3client.upload({... | 39        | anonymous1 | src/storage.ts |\n",
            "| Identifier | const uploadRespo... | 39        | anonymous1 | src/storage.ts |\n",
            "| Identifier | ctx.response.body... | 45        | anonymous1 | src/storage.ts |\n",
            "\n",
            "____________________________________________________________________________\n",
            "| nodeType   | tracked              | lineNumber| method     | file         |\n",
            "|===========================================================================|\n",
            "| Identifier | _tmp_18 = ctx.req... | 71        | anonymous3 | src/users.ts |\n",
            "| Call       | subject = _tmp_18... | 71        | anonymous3 | src/users.ts |\n",
            "| Identifier | subject = _tmp_18... | 71        | anonymous3 | src/users.ts |\n",
            "| Identifier | _tmp_20.Subject =... | 77        | anonymous3 | src/users.ts |\n",
            "| Call       | _tmp_20.Subject =... | 77        | anonymous3 | src/users.ts |\n",
            "| Block      | _tmp_20              | 76        | anonymous3 | src/users.ts |\n",
            "| Call       | _tmp_19.Message =... | 76        | anonymous3 | src/users.ts |\n",
            "| Block      | _tmp_19              | 73        | anonymous3 | src/users.ts |\n",
            "| Identifier | sesClient.sendEma... | 73        | anonymous3 | src/users.ts |\n",
            "\n",
            "______________________________________________________________________________\n",
            "| nodeType   | tracked              | lineNumber| method     | file           |\n",
            "|=============================================================================|\n",
            "| Identifier | _tmp_10 = ctx.req... | 48        | anonymous2 | src/storage.ts |\n",
            "| Call       | userId = _tmp_10.... | 48        | anonymous2 | src/storage.ts |\n",
            "| Identifier | userId = _tmp_10.... | 48        | anonymous2 | src/storage.ts |\n",
            "| Identifier | __Runtime.TO_STRI... | 49        | anonymous2 | src/storage.ts |\n",
            "\n",
            "______________________________________________________________________________\n",
            "| nodeType   | tracked              | lineNumber| method     | file           |\n",
            "|=============================================================================|\n",
            "| Identifier | _tmp_10 = ctx.req... | 48        | anonymous2 | src/storage.ts |\n",
            "| Call       | userId = _tmp_10.... | 48        | anonymous2 | src/storage.ts |\n",
            "| Identifier | userId = _tmp_10.... | 48        | anonymous2 | src/storage.ts |\n",
            "| Identifier | __Runtime.TO_STRI... | 49        | anonymous2 | src/storage.ts |\n",
            "| Call       | userId + \"-picture\"  | 60        | anonymous2 | src/storage.ts |\n",
            "| Call       | _tmp_15.Key = use... | 60        | anonymous2 | src/storage.ts |\n",
            "| Block      | _tmp_15              | 58        | anonymous2 | src/storage.ts |\n",
            "| Identifier | s3client.deleteOb... | 58        | anonymous2 | src/storage.ts |\n",
            "\n",
            "________________________________________________________________________________\n",
            "| nodeType   | tracked              | lineNumber| method     | file             |\n",
            "|===============================================================================|\n",
            "| Identifier | const parameters ... | 35        | anonymous1 | src/storagev3.ts |\n",
            "| Identifier | _tmp_9.parameters... | 41        | anonymous1 | src/storagev3.ts |\n",
            "| Call       | _tmp_9.parameters... | 41        | anonymous1 | src/storagev3.ts |\n",
            "| Block      | _tmp_9               | 37        | anonymous1 | src/storagev3.ts |\n",
            "| Identifier | new SubmitJobComm... | 37        | anonymous1 | src/storagev3.ts |\n",
            "| Call       | new SubmitJobComm... | 37        | anonymous1 | src/storagev3.ts |\n",
            "| Block      | _tmp_8               | 37        | anonymous1 | src/storagev3.ts |\n",
            "| Identifier | const command = n... | 37        | anonymous1 | src/storagev3.ts |\n",
            "| Identifier | batchClient.send(... | 44        | anonymous1 | src/storagev3.ts |\n",
            "| Call       | batchClient.send(... | 44        | anonymous1 | src/storagev3.ts |\n",
            "| Call       | await batchClient... | 44        | anonymous1 | src/storagev3.ts |\n",
            "| Identifier | const objectsOutp... | 44        | anonymous1 | src/storagev3.ts |\n",
            "\n",
            "________________________________________________________________________________\n",
            "| nodeType   | tracked              | lineNumber| method     | file             |\n",
            "|===============================================================================|\n",
            "| Identifier | const parameters ... | 53        | anonymous2 | src/storagev3.ts |\n",
            "| Identifier | _tmp_11.Payload =... | 59        | anonymous2 | src/storagev3.ts |\n",
            "| Call       | _tmp_11.Payload =... | 59        | anonymous2 | src/storagev3.ts |\n",
            "| Block      | _tmp_11              | 56        | anonymous2 | src/storagev3.ts |\n",
            "| Identifier | executeJob( {...     | 54        | anonymous2 | src/storagev3.ts |\n",
            "\n",
            "______________________________________________________________________________\n",
            "| nodeType   | tracked              | lineNumber| method     | file           |\n",
            "|=============================================================================|\n",
            "| Identifier | _tmp_10 = ctx.req... | 48        | anonymous2 | src/storage.ts |\n",
            "| Call       | userId = _tmp_10.... | 48        | anonymous2 | src/storage.ts |\n",
            "| Identifier | userId = _tmp_10.... | 48        | anonymous2 | src/storage.ts |\n",
            "| Identifier | __Runtime.TO_STRI... | 49        | anonymous2 | src/storage.ts |\n",
            "| Call       | userId + \"-picture\"  | 60        | anonymous2 | src/storage.ts |\n",
            "| Call       | _tmp_15.Key = use... | 60        | anonymous2 | src/storage.ts |\n",
            "| Block      | _tmp_15              | 58        | anonymous2 | src/storage.ts |\n",
            "| Identifier | s3client.deleteOb... | 58        | anonymous2 | src/storage.ts |\n",
            "| Call       | s3client.deleteOb... | 58        | anonymous2 | src/storage.ts |\n",
            "| Identifier | const deleteRespo... | 58        | anonymous2 | src/storage.ts |\n",
            "\n",
            "______________________________________________________________________________\n",
            "| nodeType   | tracked              | lineNumber| method     | file           |\n",
            "|=============================================================================|\n",
            "| Identifier | _tmp_4 = ctx.requ... | 29        | anonymous1 | src/storage.ts |\n",
            "| Call       | address = _tmp_4.... | 29        | anonymous1 | src/storage.ts |\n",
            "| Identifier | address = _tmp_4.... | 29        | anonymous1 | src/storage.ts |\n",
            "| Identifier | __Runtime.TO_STRI... | 31        | anonymous1 | src/storage.ts |\n",
            "| Identifier | __Runtime.TO_STRI... | 31        | anonymous1 | src/storage.ts |\n",
            "| Call       | userId + \"-picture\"  | 41        | anonymous1 | src/storage.ts |\n",
            "| Call       | _tmp_9.Key = user... | 41        | anonymous1 | src/storage.ts |\n",
            "| Block      | _tmp_9               | 39        | anonymous1 | src/storage.ts |\n",
            "| Identifier | s3client.upload({... | 39        | anonymous1 | src/storage.ts |\n",
            "| Call       | s3client.upload({... | 39        | anonymous1 | src/storage.ts |\n",
            "| Identifier | const uploadRespo... | 39        | anonymous1 | src/storage.ts |\n",
            "\n",
            "________________________________________________________________________________\n",
            "| nodeType   | tracked              | lineNumber| method     | file             |\n",
            "|===============================================================================|\n",
            "| Identifier | const parameters ... | 35        | anonymous1 | src/storagev3.ts |\n",
            "| Identifier | _tmp_9.parameters... | 41        | anonymous1 | src/storagev3.ts |\n",
            "| Call       | _tmp_9.parameters... | 41        | anonymous1 | src/storagev3.ts |\n",
            "| Block      | _tmp_9               | 37        | anonymous1 | src/storagev3.ts |\n",
            "| Identifier | new SubmitJobComm... | 37        | anonymous1 | src/storagev3.ts |\n",
            "| Call       | new SubmitJobComm... | 37        | anonymous1 | src/storagev3.ts |\n",
            "| Block      | _tmp_8               | 37        | anonymous1 | src/storagev3.ts |\n",
            "| Identifier | const command = n... | 37        | anonymous1 | src/storagev3.ts |\n",
            "| Identifier | batchClient.send(... | 44        | anonymous1 | src/storagev3.ts |\n",
            "\n",
            "______________________________________________________________________________\n",
            "| nodeType   | tracked              | lineNumber| method     | file           |\n",
            "|=============================================================================|\n",
            "| Identifier | _tmp_4 = ctx.requ... | 29        | anonymous1 | src/storage.ts |\n",
            "| Call       | address = _tmp_4.... | 29        | anonymous1 | src/storage.ts |\n",
            "| Identifier | address = _tmp_4.... | 29        | anonymous1 | src/storage.ts |\n",
            "| Identifier | __Runtime.TO_STRI... | 31        | anonymous1 | src/storage.ts |\n",
            "| Identifier | __Runtime.TO_STRI... | 31        | anonymous1 | src/storage.ts |\n",
            "| Call       | userId + \"-picture\"  | 41        | anonymous1 | src/storage.ts |\n",
            "| Call       | _tmp_9.Key = user... | 41        | anonymous1 | src/storage.ts |\n",
            "| Block      | _tmp_9               | 39        | anonymous1 | src/storage.ts |\n",
            "| Identifier | s3client.upload({... | 39        | anonymous1 | src/storage.ts |\n",
            "\n",
            "________________________________________________________________________________\n",
            "| nodeType   | tracked              | lineNumber| method     | file             |\n",
            "|===============================================================================|\n",
            "| Identifier | const parameters ... | 35        | anonymous1 | src/storagev3.ts |\n",
            "| Identifier | _tmp_9.parameters... | 41        | anonymous1 | src/storagev3.ts |\n",
            "| Call       | _tmp_9.parameters... | 41        | anonymous1 | src/storagev3.ts |\n",
            "| Block      | _tmp_9               | 37        | anonymous1 | src/storagev3.ts |\n",
            "| Identifier | new SubmitJobComm... | 37        | anonymous1 | src/storagev3.ts |\n",
            "| Call       | new SubmitJobComm... | 37        | anonymous1 | src/storagev3.ts |\n",
            "| Block      | _tmp_8               | 37        | anonymous1 | src/storagev3.ts |\n",
            "| Identifier | const command = n... | 37        | anonymous1 | src/storagev3.ts |\n",
            "| Identifier | batchClient.send(... | 44        | anonymous1 | src/storagev3.ts |\n",
            "| Identifier | batchClient.send(... | 44        | anonymous1 | src/storagev3.ts |\n",
            "\n",
            "____________________________________________________________________________\n",
            "| nodeType   | tracked              | lineNumber| method     | file         |\n",
            "|===========================================================================|\n",
            "| Identifier | _tmp_33 = ctx.req... | 128       | anonymous6 | src/users.ts |\n",
            "| Call       | vmSpecification =... | 128       | anonymous6 | src/users.ts |\n",
            "| Identifier | vmSpecification =... | 128       | anonymous6 | src/users.ts |\n",
            "| Identifier | createVM({ region... | 130       | anonymous6 | src/users.ts |\n",
            "| Identifier | createVM({ region... | 130       | anonymous6 | src/users.ts |\n",
            "\n"
          ],
          "output_type" : "stream"
        }
      ]
    },
    {
      "cell_type" : "markdown",
      "execution_count" : 14,
      "metadata" : {
        "language" : "text"
      },
      "language" : "text",
      "source" : [
        "## Closing Thoughts\n",
        "\n",
        "This notebook demonstrated the mixed use of built-in library methods and native query methods to interactively identify vulnerabilities in this AWS application."
      ],
      "outputs" : [
      ]
    }
  ]
}