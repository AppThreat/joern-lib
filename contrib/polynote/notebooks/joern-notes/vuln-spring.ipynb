{
  "metadata" : {
    "config" : {
      "dependencies" : {
        "python" : [
          "file:///opt/joern_lib"
        ]
      },
      "exclusions" : [
      ],
      "repositories" : [
      ],
      "sparkConfig" : {
        
      },
      "env" : {
        
      }
    },
    "language_info" : {
      "name" : "python"
    }
  },
  "nbformat" : 4,
  "nbformat_minor" : 0,
  "cells" : [
    {
      "cell_type" : "markdown",
      "execution_count" : 0,
      "metadata" : {
        "language" : "text"
      },
      "language" : "text",
      "source" : [
        "# Vulnerable Spring\n",
        "\n",
        "[vuln-spring](https://github.com/HooliCorp/vuln-spring) is an intentionally vulnerable spring application to test SAST tools. The purpose of this notebook is to demonstrate detecting the various vulnerabilities using joern's CPGQL queries.\n",
        "\n",
        "We begin by setting up the basics for joern."
      ],
      "outputs" : [
      ]
    },
    {
      "cell_type" : "code",
      "execution_count" : 1,
      "metadata" : {
        "cell.metadata.exec_info" : {
          "startTs" : 1683317772567,
          "endTs" : 1683317787139
        },
        "language" : "python"
      },
      "language" : "python",
      "source" : [
        "import asyncio\n",
        "\n",
        "from joern_lib import client, workspace\n",
        "from joern_lib.detectors import common as cpg, java\n",
        "from joern_lib.utils import print_table, print_tree, print_flows\n",
        "\n",
        "joern_host = \"http://joern:9000\"\n",
        "cpggen_host = \"http://cpggen:7072\"\n",
        "joern_username = \"admin\"\n",
        "joern_password  = \"admin\""
      ],
      "outputs" : [
      ]
    },
    {
      "cell_type" : "markdown",
      "execution_count" : 2,
      "metadata" : {
        "language" : "text"
      },
      "language" : "text",
      "source" : [
        "## Generate CPG using cpggen\n",
        "\n",
        "To improve performance, CPG for this project is generated using the cpggen server and then imported onto the joern server. The default docker-compose starts a cpggen server with the hostname `cpggen` and port `7072`.\n",
        "\n",
        "We use the `create_cpg` api from workspace to create a CPG from the git repo directly. This single call would handle both generation of the cpg and import onto joern. While languages parameter is optional, we specify the language `java-with-deps` which improves the method full names by inferring types."
      ],
      "outputs" : [
      ]
    },
    {
      "cell_type" : "code",
      "execution_count" : 3,
      "metadata" : {
        "cell.metadata.exec_info" : {
          "startTs" : 1683317787166,
          "endTs" : 1683317807655
        },
        "language" : "python"
      },
      "language" : "python",
      "source" : [
        "async def generate_cpg():\n",
        "    connection = await client.get(joern_host, cpggen_host, joern_username, joern_password)\n",
        "    res = await workspace.create_cpg(connection, \"https://github.com/HooliCorp/vuln-spring\", out_dir=\"/tmp/vuln-spring/cpg_out\", languages=\"java\", project_name=\"vuln-spring-java\")\n",
        "    print (res)\n",
        "asyncio.run(generate_cpg())"
      ],
      "outputs" : [
        {
          "name" : "stdout",
          "text" : [
            "True\n"
          ],
          "output_type" : "stream"
        }
      ]
    },
    {
      "cell_type" : "markdown",
      "execution_count" : 4,
      "metadata" : {
        "language" : "text"
      },
      "language" : "text",
      "source" : [
        "## Inspect methods\n",
        "\n",
        "With a fresh CPG imported, one of the initial activities to perform as a threat hunter is to inspect the methods in the application. Visually inspecting the methods, would help understand not just the custom code but also the frameworks and libraries used.\n",
        "\n",
        "joern-lib offers a convenient api called `list_methods` to simplify the inspection. You can invoke this method without arguments to receive a full list of methods or provide a regex to narrow the results."
      ],
      "outputs" : [
      ]
    },
    {
      "cell_type" : "code",
      "execution_count" : 5,
      "metadata" : {
        "cell.metadata.exec_info" : {
          "startTs" : 1683317807660,
          "endTs" : 1683317818577
        },
        "language" : "python"
      },
      "language" : "python",
      "source" : [
        "async def inspect_methods():\n",
        "    connection = await client.get(joern_host, cpggen_host, joern_username, joern_password)\n",
        "    res = await cpg.list_methods(connection)\n",
        "    print_table(res, title=\"vuln-spring methods\")\n",
        "asyncio.run(inspect_methods())"
      ],
      "outputs" : [
        {
          "name" : "stdout",
          "text" : [
            "                                                                                                                                  vuln-spring methods                                                                                                                                   \n",
            "┏━━━━━━━━━━━━━━━━━━━━━━━━━━━━━━━━━━━┳━━━━━━━━━━━━━━━━━━━━━━━━━━━━━━━━━━━━┳━━━━━━━━━━━━━━━━━━━━━━━━━━━━━━━━━━━━┳━━━━━━━━━━━━━━━┳━━━━━━━━┳━━━━━━━━━━━━━━━━━━━━━━━━━━━━━━━━━━━━┳━━━━━━━━━━━━┳━━━━━━━━━━━━┳━━━━━━━━━━━━━━━━━━━━━━━━━━━━━━━━━━━┳━━━━━━━┳━━━━━━━━━━━━━━━━━━━━━━━━━━━━━━━━━━━━┓\n",
            "┃ name                              ┃ fullName                           ┃ signature                          ┃ lineNumberEnd ┃ _label ┃ code                               ┃ isExternal ┃ lineNumber ┃                                id ┃ order ┃ filename                           ┃\n",
            "┡━━━━━━━━━━━━━━━━━━━━━━━━━━━━━━━━━━━╇━━━━━━━━━━━━━━━━━━━━━━━━━━━━━━━━━━━━╇━━━━━━━━━━━━━━━━━━━━━━━━━━━━━━━━━━━━╇━━━━━━━━━━━━━━━╇━━━━━━━━╇━━━━━━━━━━━━━━━━━━━━━━━━━━━━━━━━━━━━╇━━━━━━━━━━━━╇━━━━━━━━━━━━╇━━━━━━━━━━━━━━━━━━━━━━━━━━━━━━━━━━━╇━━━━━━━╇━━━━━━━━━━━━━━━━━━━━━━━━━━━━━━━━━━━━┩\n",
            "│ home                              │ com.example.vulnspring.WebControll │ java.lang.String(org.springframewo │            50 │ METHOD │ public String home(Model model, Ht │ False      │         46 │                                75 │     3 │ src/main/java/com/example/vulnspri │\n",
            "│                                   │ er.home:java.lang.String(org.sprin │ rk.ui.Model,javax.servlet.http.Htt │               │        │                                    │            │            │                                   │       │ ng/WebController.java              │\n",
            "│                                   │ gframework.ui.Model,javax.servlet. │ pSession)                          │               │        │                                    │            │            │                                   │       │                                    │\n",
            "│                                   │ http.HttpSession)                  │                                    │               │        │                                    │            │            │                                   │       │                                    │\n",
            "├───────────────────────────────────┼────────────────────────────────────┼────────────────────────────────────┼───────────────┼────────┼────────────────────────────────────┼────────────┼────────────┼───────────────────────────────────┼───────┼────────────────────────────────────┤\n",
            "│ login                             │ com.example.vulnspring.WebControll │ java.lang.String(org.springframewo │            55 │ METHOD │ public String login(Model model)   │ False      │         52 │                                97 │     4 │ src/main/java/com/example/vulnspri │\n",
            "│                                   │ er.login:java.lang.String(org.spri │ rk.ui.Model)                       │               │        │                                    │            │            │                                   │       │ ng/WebController.java              │\n",
            "│                                   │ ngframework.ui.Model)              │                                    │               │        │                                    │            │            │                                   │       │                                    │\n",
            "├───────────────────────────────────┼────────────────────────────────────┼────────────────────────────────────┼───────────────┼────────┼────────────────────────────────────┼────────────┼────────────┼───────────────────────────────────┼───────┼────────────────────────────────────┤\n",
            "│ login                             │ com.example.vulnspring.WebControll │ java.lang.String(javax.servlet.htt │            67 │ METHOD │ public String login(HttpSession se │ False      │         57 │                               110 │     5 │ src/main/java/com/example/vulnspri │\n",
            "│                                   │ er.login:java.lang.String(javax.se │ p.HttpSession,java.lang.String,jav │               │        │                                    │            │            │                                   │       │ ng/WebController.java              │\n",
            "│                                   │ rvlet.http.HttpSession,java.lang.S │ a.lang.String,org.springframework. │               │        │                                    │            │            │                                   │       │                                    │\n",
            "│                                   │ tring,java.lang.String,org.springf │ ui.Model)                          │               │        │                                    │            │            │                                   │       │                                    │\n",
            "│                                   │ ramework.ui.Model)                 │                                    │               │        │                                    │            │            │                                   │       │                                    │\n",
            "├───────────────────────────────────┼────────────────────────────────────┼────────────────────────────────────┼───────────────┼────────┼────────────────────────────────────┼────────────┼────────────┼───────────────────────────────────┼───────┼────────────────────────────────────┤\n",
            "│ loginSuccess                      │ com.example.vulnspring.WebControll │ boolean(java.lang.String,java.lang │            83 │ METHOD │ private boolean loginSuccess(Strin │ False      │         69 │                               168 │     6 │ src/main/java/com/example/vulnspri │\n",
            "│                                   │ er.loginSuccess:boolean(java.lang. │ .String)                           │               │        │                                    │            │            │                                   │       │ ng/WebController.java              │\n",
            "│                                   │ String,java.lang.String)           │                                    │               │        │                                    │            │            │                                   │       │                                    │\n",
            "├───────────────────────────────────┼────────────────────────────────────┼────────────────────────────────────┼───────────────┼────────┼────────────────────────────────────┼────────────┼────────────┼───────────────────────────────────┼───────┼────────────────────────────────────┤\n",
            "│ logout                            │ com.example.vulnspring.WebControll │ java.lang.String(javax.servlet.htt │            89 │ METHOD │ public String logout(HttpSession s │ False      │         85 │                               221 │     7 │ src/main/java/com/example/vulnspri │\n",
            "│                                   │ er.logout:java.lang.String(javax.s │ p.HttpSession)                     │               │        │                                    │            │            │                                   │       │ ng/WebController.java              │\n",
            "│                                   │ ervlet.http.HttpSession)           │                                    │               │        │                                    │            │            │                                   │       │                                    │\n",
            "├───────────────────────────────────┼────────────────────────────────────┼────────────────────────────────────┼───────────────┼────────┼────────────────────────────────────┼────────────┼────────────┼───────────────────────────────────┼───────┼────────────────────────────────────┤\n",
            "│ update                            │ com.example.vulnspring.WebControll │ java.lang.String(javax.servlet.htt │           100 │ METHOD │ public String update(HttpSession s │ False      │         91 │                               236 │     8 │ src/main/java/com/example/vulnspri │\n",
            "│                                   │ er.update:java.lang.String(javax.s │ p.HttpSession,org.springframework. │               │        │                                    │            │            │                                   │       │ ng/WebController.java              │\n",
            "│                                   │ ervlet.http.HttpSession,org.spring │ ui.Model)                          │               │        │                                    │            │            │                                   │       │                                    │\n",
            "│                                   │ framework.ui.Model)                │                                    │               │        │                                    │            │            │                                   │       │                                    │\n",
            "├───────────────────────────────────┼────────────────────────────────────┼────────────────────────────────────┼───────────────┼────────┼────────────────────────────────────┼────────────┼────────────┼───────────────────────────────────┼───────┼────────────────────────────────────┤\n",
            "│ update                            │ com.example.vulnspring.WebControll │ java.lang.String(javax.servlet.htt │           115 │ METHOD │ public String update(HttpSession s │ False      │        102 │                               273 │     9 │ src/main/java/com/example/vulnspri │\n",
            "│                                   │ er.update:java.lang.String(javax.s │ p.HttpSession,java.lang.String,org │               │        │                                    │            │            │                                   │       │ ng/WebController.java              │\n",
            "│                                   │ ervlet.http.HttpSession,java.lang. │ .springframework.ui.Model)         │               │        │                                    │            │            │                                   │       │                                    │\n",
            "│                                   │ String,org.springframework.ui.Mode │                                    │               │        │                                    │            │            │                                   │       │                                    │\n",
            "│                                   │ l)                                 │                                    │               │        │                                    │            │            │                                   │       │                                    │\n",
            "├───────────────────────────────────┼────────────────────────────────────┼────────────────────────────────────┼───────────────┼────────┼────────────────────────────────────┼────────────┼────────────┼───────────────────────────────────┼───────┼────────────────────────────────────┤\n",
            "│ checkDB                           │ com.example.vulnspring.WebControll │ java.lang.String(java.lang.String, │           133 │ METHOD │ public String checkDB(@RequestPara │ False      │        117 │                               347 │    10 │ src/main/java/com/example/vulnspri │\n",
            "│                                   │ er.checkDB:java.lang.String(java.l │ org.springframework.ui.Model)      │               │        │                                    │            │            │                                   │       │ ng/WebController.java              │\n",
            "│                                   │ ang.String,org.springframework.ui. │                                    │               │        │                                    │            │            │                                   │       │                                    │\n",
            "│                                   │ Model)                             │                                    │               │        │                                    │            │            │                                   │       │                                    │\n",
            "├───────────────────────────────────┼────────────────────────────────────┼────────────────────────────────────┼───────────────┼────────┼────────────────────────────────────┼────────────┼────────────┼───────────────────────────────────┼───────┼────────────────────────────────────┤\n",
            "│ checkDB                           │ com.example.vulnspring.WebControll │ java.lang.String()                 │           138 │ METHOD │ public String checkDB()            │ False      │        135 │                               432 │    11 │ src/main/java/com/example/vulnspri │\n",
            "│                                   │ er.checkDB:java.lang.String()      │                                    │               │        │                                    │            │            │                                   │       │ ng/WebController.java              │\n",
            "├───────────────────────────────────┼────────────────────────────────────┼────────────────────────────────────┼───────────────┼────────┼────────────────────────────────────┼────────────┼────────────┼───────────────────────────────────┼───────┼────────────────────────────────────┤\n",
            "│ transfer                          │ com.example.vulnspring.WebControll │ java.lang.String(javax.servlet.htt │           149 │ METHOD │ public String transfer(HttpSession │ False      │        140 │                               444 │    12 │ src/main/java/com/example/vulnspri │\n",
            "│                                   │ er.transfer:java.lang.String(javax │ p.HttpSession,org.springframework. │               │        │                                    │            │            │                                   │       │ ng/WebController.java              │\n",
            "│                                   │ .servlet.http.HttpSession,org.spri │ ui.Model)                          │               │        │                                    │            │            │                                   │       │                                    │\n",
            "│                                   │ ngframework.ui.Model)              │                                    │               │        │                                    │            │            │                                   │       │                                    │\n",
            "├───────────────────────────────────┼────────────────────────────────────┼────────────────────────────────────┼───────────────┼────────┼────────────────────────────────────┼────────────┼────────────┼───────────────────────────────────┼───────┼────────────────────────────────────┤\n",
            "│ transfer                          │ com.example.vulnspring.WebControll │ java.lang.String(javax.servlet.htt │           219 │ METHOD │ public String transfer(HttpSession │ False      │        152 │                               487 │    13 │ src/main/java/com/example/vulnspri │\n",
            "│                                   │ er.transfer:java.lang.String(javax │ p.HttpSession,java.lang.String,jav │               │        │                                    │            │            │                                   │       │ ng/WebController.java              │\n",
            "│                                   │ .servlet.http.HttpSession,java.lan │ a.lang.Float,org.springframework.u │               │        │                                    │            │            │                                   │       │                                    │\n",
            "│                                   │ g.String,java.lang.Float,org.sprin │ i.Model)                           │               │        │                                    │            │            │                                   │       │                                    │\n",
            "│                                   │ gframework.ui.Model)               │                                    │               │        │                                    │            │            │                                   │       │                                    │\n",
            "├───────────────────────────────────┼────────────────────────────────────┼────────────────────────────────────┼───────────────┼────────┼────────────────────────────────────┼────────────┼────────────┼───────────────────────────────────┼───────┼────────────────────────────────────┤\n",
            "│ issue                             │ com.example.vulnspring.WebControll │ java.lang.String(org.springframewo │           224 │ METHOD │ public String issue(Model model)   │ False      │        221 │                               741 │    14 │ src/main/java/com/example/vulnspri │\n",
            "│                                   │ er.issue:java.lang.String(org.spri │ rk.ui.Model)                       │               │        │                                    │            │            │                                   │       │ ng/WebController.java              │\n",
            "│                                   │ ngframework.ui.Model)              │                                    │               │        │                                    │            │            │                                   │       │                                    │\n",
            "├───────────────────────────────────┼────────────────────────────────────┼────────────────────────────────────┼───────────────┼────────┼────────────────────────────────────┼────────────┼────────────┼───────────────────────────────────┼───────┼────────────────────────────────────┤\n",
            "│ issue                             │ com.example.vulnspring.WebControll │ java.lang.String(org.springframewo │           239 │ METHOD │ public String issue(Model model, @ │ False      │        226 │                               754 │    15 │ src/main/java/com/example/vulnspri │\n",
            "│                                   │ er.issue:java.lang.String(org.spri │ rk.ui.Model,java.lang.String)      │               │        │                                    │            │            │                                   │       │ ng/WebController.java              │\n",
            "│                                   │ ngframework.ui.Model,java.lang.Str │                                    │               │        │                                    │            │            │                                   │       │                                    │\n",
            "│                                   │ ing)                               │                                    │               │        │                                    │            │            │                                   │       │                                    │\n",
            "├───────────────────────────────────┼────────────────────────────────────┼────────────────────────────────────┼───────────────┼────────┼────────────────────────────────────┼────────────┼────────────┼───────────────────────────────────┼───────┼────────────────────────────────────┤\n",
            "│ getNodeString                     │ com.example.vulnspring.WebControll │ <unresolvedSignature>(2)           │           256 │ METHOD │ StringBuffer getNodeString(Node no │ False      │        241 │                               825 │    16 │ src/main/java/com/example/vulnspri │\n",
            "│                                   │ er.getNodeString:<unresolvedSignat │                                    │               │        │                                    │            │            │                                   │       │ ng/WebController.java              │\n",
            "│                                   │ ure>(2)                            │                                    │               │        │                                    │            │            │                                   │       │                                    │\n",
            "├───────────────────────────────────┼────────────────────────────────────┼────────────────────────────────────┼───────────────┼────────┼────────────────────────────────────┼────────────┼────────────┼───────────────────────────────────┼───────┼────────────────────────────────────┤\n",
            "│ support                           │ com.example.vulnspring.WebControll │ java.lang.String(java.lang.String) │           265 │ METHOD │ public String support(@RequestPara │ False      │        258 │                               896 │    17 │ src/main/java/com/example/vulnspri │\n",
            "│                                   │ er.support:java.lang.String(java.l │                                    │               │        │                                    │            │            │                                   │       │ ng/WebController.java              │\n",
            "│                                   │ ang.String)                        │                                    │               │        │                                    │            │            │                                   │       │                                    │\n",
            "├───────────────────────────────────┼────────────────────────────────────┼────────────────────────────────────┼───────────────┼────────┼────────────────────────────────────┼────────────┼────────────┼───────────────────────────────────┼───────┼────────────────────────────────────┤\n",
            "│ support                           │ com.example.vulnspring.WebControll │ java.lang.String(org.springframewo │           272 │ METHOD │ public String support(Model model) │ False      │        267 │                               925 │    18 │ src/main/java/com/example/vulnspri │\n",
            "│                                   │ er.support:java.lang.String(org.sp │ rk.ui.Model)                       │               │        │                                    │            │            │                                   │       │ ng/WebController.java              │\n",
            "│                                   │ ringframework.ui.Model)            │                                    │               │        │                                    │            │            │                                   │       │                                    │\n",
            "├───────────────────────────────────┼────────────────────────────────────┼────────────────────────────────────┼───────────────┼────────┼────────────────────────────────────┼────────────┼────────────┼───────────────────────────────────┼───────┼────────────────────────────────────┤\n",
            "│ jwt                               │ com.example.vulnspring.WebControll │ java.lang.String(javax.servlet.htt │           284 │ METHOD │ public String jwt(HttpSession sess │ False      │        274 │                               942 │    19 │ src/main/java/com/example/vulnspri │\n",
            "│                                   │ er.jwt:java.lang.String(javax.serv │ p.HttpSession,org.springframework. │               │        │                                    │            │            │                                   │       │ ng/WebController.java              │\n",
            "│                                   │ let.http.HttpSession,org.springfra │ ui.Model)                          │               │        │                                    │            │            │                                   │       │                                    │\n",
            "│                                   │ mework.ui.Model)                   │                                    │               │        │                                    │            │            │                                   │       │                                    │\n",
            "├───────────────────────────────────┼────────────────────────────────────┼────────────────────────────────────┼───────────────┼────────┼────────────────────────────────────┼────────────┼────────────┼───────────────────────────────────┼───────┼────────────────────────────────────┤\n",
            "│ jwt                               │ com.example.vulnspring.WebControll │ java.lang.String(org.springframewo │           298 │ METHOD │ public String jwt(Model model, @Re │ False      │        286 │                               992 │    20 │ src/main/java/com/example/vulnspri │\n",
            "│                                   │ er.jwt:java.lang.String(org.spring │ rk.ui.Model,java.lang.String,javax │               │        │                                    │            │            │                                   │       │ ng/WebController.java              │\n",
            "│                                   │ framework.ui.Model,java.lang.Strin │ .servlet.http.HttpSession)         │               │        │                                    │            │            │                                   │       │                                    │\n",
            "│                                   │ g,javax.servlet.http.HttpSession)  │                                    │               │        │                                    │            │            │                                   │       │                                    │\n",
            "├───────────────────────────────────┼────────────────────────────────────┼────────────────────────────────────┼───────────────┼────────┼────────────────────────────────────┼────────────┼────────────┼───────────────────────────────────┼───────┼────────────────────────────────────┤\n",
            "│ addressValidation                 │ com.example.vulnspring.WebControll │ java.lang.String(org.springframewo │           311 │ METHOD │ public String addressValidation(Mo │ False      │        300 │                              1040 │    21 │ src/main/java/com/example/vulnspri │\n",
            "│                                   │ er.addressValidation:java.lang.Str │ rk.ui.Model)                       │               │        │                                    │            │            │                                   │       │ ng/WebController.java              │\n",
            "│                                   │ ing(org.springframework.ui.Model)  │                                    │               │        │                                    │            │            │                                   │       │                                    │\n",
            "├───────────────────────────────────┼────────────────────────────────────┼────────────────────────────────────┼───────────────┼────────┼────────────────────────────────────┼────────────┼────────────┼───────────────────────────────────┼───────┼────────────────────────────────────┤\n",
            "│ addressValidation                 │ com.example.vulnspring.WebControll │ java.lang.String(org.springframewo │           331 │ METHOD │ public String addressValidation(Mo │ False      │        313 │                              1085 │    22 │ src/main/java/com/example/vulnspri │\n",
            "│                                   │ er.addressValidation:java.lang.Str │ rk.ui.Model,java.lang.String)      │               │        │                                    │            │            │                                   │       │ ng/WebController.java              │\n",
            "│                                   │ ing(org.springframework.ui.Model,j │                                    │               │        │                                    │            │            │                                   │       │                                    │\n",
            "│                                   │ ava.lang.String)                   │                                    │               │        │                                    │            │            │                                   │       │                                    │\n",
            "├───────────────────────────────────┼────────────────────────────────────┼────────────────────────────────────┼───────────────┼────────┼────────────────────────────────────┼────────────┼────────────┼───────────────────────────────────┼───────┼────────────────────────────────────┤\n",
            "│ <init>                            │ com.example.vulnspring.WebControll │ void()                             │        METHOD │        │ False                              │ 1149       │         23 │ src/main/java/com/example/vulnspr │       │                                    │\n",
            "│                                   │ er.<init>:void()                   │                                    │               │        │                                    │            │            │            ing/WebController.java │       │                                    │\n",
            "├───────────────────────────────────┼────────────────────────────────────┼────────────────────────────────────┼───────────────┼────────┼────────────────────────────────────┼────────────┼────────────┼───────────────────────────────────┼───────┼────────────────────────────────────┤\n",
            "│ <clinit>                          │ com.example.vulnspring.WebControll │ void()                             │        METHOD │        │ False                              │ 1156       │         25 │                                   │       │                                    │\n",
            "│                                   │ er.<clinit>:void()                 │                                    │               │        │                                    │            │            │                                   │       │                                    │\n",
            "├───────────────────────────────────┼────────────────────────────────────┼────────────────────────────────────┼───────────────┼────────┼────────────────────────────────────┼────────────┼────────────┼───────────────────────────────────┼───────┼────────────────────────────────────┤\n",
            "│ getStreetNumber                   │ com.example.vulnspring.AddressDeta │ int()                              │           340 │ METHOD │ public int getStreetNumber()       │ False      │        338 │                              1169 │     2 │ src/main/java/com/example/vulnspri │\n",
            "│                                   │ ils.getStreetNumber:int()          │                                    │               │        │                                    │            │            │                                   │       │ ng/WebController.java              │\n",
            "├───────────────────────────────────┼────────────────────────────────────┼────────────────────────────────────┼───────────────┼────────┼────────────────────────────────────┼────────────┼────────────┼───────────────────────────────────┼───────┼────────────────────────────────────┤\n",
            "│ getStreetName                     │ com.example.vulnspring.AddressDeta │ java.lang.String()                 │           344 │ METHOD │ public String getStreetName()      │ False      │        342 │                              1179 │     3 │ src/main/java/com/example/vulnspri │\n",
            "│                                   │ ils.getStreetName:java.lang.String │                                    │               │        │                                    │            │            │                                   │       │ ng/WebController.java              │\n",
            "│                                   │ ()                                 │                                    │               │        │                                    │            │            │                                   │       │                                    │\n",
            "├───────────────────────────────────┼────────────────────────────────────┼────────────────────────────────────┼───────────────┼────────┼────────────────────────────────────┼────────────┼────────────┼───────────────────────────────────┼───────┼────────────────────────────────────┤\n",
            "│ <init>                            │ com.example.vulnspring.AddressDeta │ void(int,java.lang.String)         │           351 │ METHOD │ AddressDetails(int streetNumber, S │ False      │        348 │                              1190 │     5 │ src/main/java/com/example/vulnspri │\n",
            "│                                   │ ils.<init>:void(int,java.lang.Stri │                                    │               │        │                                    │            │            │                                   │       │ ng/WebController.java              │\n",
            "│                                   │ ng)                                │                                    │               │        │                                    │            │            │                                   │       │                                    │\n",
            "├───────────────────────────────────┼────────────────────────────────────┼────────────────────────────────────┼───────────────┼────────┼────────────────────────────────────┼────────────┼────────────┼───────────────────────────────────┼───────┼────────────────────────────────────┤\n",
            "│ toString                          │ com.example.vulnspring.AddressDeta │ java.lang.String()                 │           356 │ METHOD │ public String toString()           │ False      │        353 │                              1204 │     6 │ src/main/java/com/example/vulnspri │\n",
            "│                                   │ ils.toString:java.lang.String()    │                                    │               │        │                                    │            │            │                                   │       │ ng/WebController.java              │\n",
            "├───────────────────────────────────┼────────────────────────────────────┼────────────────────────────────────┼───────────────┼────────┼────────────────────────────────────┼────────────┼────────────┼───────────────────────────────────┼───────┼────────────────────────────────────┤\n",
            "│ main                              │ com.example.vulnspring.VulnSpringA │ void(java.lang.String[])           │            11 │ METHOD │ public static void main(String[] a │ False      │          9 │                              1268 │     1 │ src/main/java/com/example/vulnspri │\n",
            "│                                   │ pplication.main:void(java.lang.Str │                                    │               │        │                                    │            │            │                                   │       │ ng/VulnSpringApplication.java      │\n",
            "│                                   │ ing[])                             │                                    │               │        │                                    │            │            │                                   │       │                                    │\n",
            "├───────────────────────────────────┼────────────────────────────────────┼────────────────────────────────────┼───────────────┼────────┼────────────────────────────────────┼────────────┼────────────┼───────────────────────────────────┼───────┼────────────────────────────────────┤\n",
            "│ <init>                            │ com.example.vulnspring.VulnSpringA │ void()                             │        METHOD │        │ False                              │ 1281       │          2 │ src/main/java/com/example/vulnspr │       │                                    │\n",
            "│                                   │ pplication.<init>:void()           │                                    │               │        │                                    │            │            │    ing/VulnSpringApplication.java │       │                                    │\n",
            "├───────────────────────────────────┼────────────────────────────────────┼────────────────────────────────────┼───────────────┼────────┼────────────────────────────────────┼────────────┼────────────┼───────────────────────────────────┼───────┼────────────────────────────────────┤\n",
            "│ doFilter                          │ com.example.vulnspring.SessionFilt │ void(javax.servlet.ServletRequest, │            40 │ METHOD │ public void doFilter(ServletReques │ False      │         23 │                              1311 │     2 │ src/main/java/com/example/vulnspri │\n",
            "│                                   │ er.doFilter:void(javax.servlet.Ser │ javax.servlet.ServletResponse,java │               │        │                                    │            │            │                                   │       │ ng/SessionFilter.java              │\n",
            "│                                   │ vletRequest,javax.servlet.ServletR │ x.servlet.FilterChain)             │               │        │                                    │            │            │                                   │       │                                    │\n",
            "│                                   │ esponse,javax.servlet.FilterChain) │                                    │               │        │                                    │            │            │                                   │       │                                    │\n",
            "├───────────────────────────────────┼────────────────────────────────────┼────────────────────────────────────┼───────────────┼────────┼────────────────────────────────────┼────────────┼────────────┼───────────────────────────────────┼───────┼────────────────────────────────────┤\n",
            "│ <init>                            │ com.example.vulnspring.SessionFilt │ void()                             │        METHOD │        │ False                              │ 1384       │          3 │ src/main/java/com/example/vulnspr │       │                                    │\n",
            "│                                   │ er.<init>:void()                   │                                    │               │        │                                    │            │            │            ing/SessionFilter.java │       │                                    │\n",
            "├───────────────────────────────────┼────────────────────────────────────┼────────────────────────────────────┼───────────────┼────────┼────────────────────────────────────┼────────────┼────────────┼───────────────────────────────────┼───────┼────────────────────────────────────┤\n",
            "│ <clinit>                          │ com.example.vulnspring.SessionFilt │ void()                             │        METHOD │        │ False                              │ 1396       │          6 │                                   │       │                                    │\n",
            "│                                   │ er.<clinit>:void()                 │                                    │               │        │                                    │            │            │                                   │       │                                    │\n",
            "├───────────────────────────────────┼────────────────────────────────────┼────────────────────────────────────┼───────────────┼────────┼────────────────────────────────────┼────────────┼────────────┼───────────────────────────────────┼───────┼────────────────────────────────────┤\n",
            "│ addAttribute                      │ org.springframework.ui.Model.addAt │ org.springframework.ui.Model(java. │        METHOD │        │ True                               │ 1583       │          0 │                                   │       │                                    │\n",
            "│                                   │ tribute:org.springframework.ui.Mod │ lang.String,java.lang.Object)      │               │        │                                    │            │            │                                   │       │                                    │\n",
            "│                                   │ el(java.lang.String,java.lang.Obje │                                    │               │        │                                    │            │            │                                   │       │                                    │\n",
            "│                                   │ ct)                                │                                    │               │        │                                    │            │            │                                   │       │                                    │\n",
            "├───────────────────────────────────┼────────────────────────────────────┼────────────────────────────────────┼───────────────┼────────┼────────────────────────────────────┼────────────┼────────────┼───────────────────────────────────┼───────┼────────────────────────────────────┤\n",
            "│ getAttribute                      │ javax.servlet.http.HttpSession.get │ java.lang.Object(java.lang.String) │        METHOD │        │ True                               │ 1590       │          0 │                                   │       │                                    │\n",
            "│                                   │ Attribute:java.lang.Object(java.la │                                    │               │        │                                    │            │            │                                   │       │                                    │\n",
            "│                                   │ ng.String)                         │                                    │               │        │                                    │            │            │                                   │       │                                    │\n",
            "├───────────────────────────────────┼────────────────────────────────────┼────────────────────────────────────┼───────────────┼────────┼────────────────────────────────────┼────────────┼────────────┼───────────────────────────────────┼───────┼────────────────────────────────────┤\n",
            "│ debug                             │ org.slf4j.Logger.debug:void(java.l │ void(java.lang.String)             │        METHOD │        │ True                               │ 1596       │          0 │                                   │       │                                    │\n",
            "│                                   │ ang.String)                        │                                    │               │        │                                    │            │            │                                   │       │                                    │\n",
            "├───────────────────────────────────┼────────────────────────────────────┼────────────────────────────────────┼───────────────┼────────┼────────────────────────────────────┼────────────┼────────────┼───────────────────────────────────┼───────┼────────────────────────────────────┤\n",
            "│ setAttribute                      │ javax.servlet.http.HttpSession.set │ void(java.lang.String,java.lang.Ob │        METHOD │        │ True                               │ 1612       │          0 │                                   │       │                                    │\n",
            "│                                   │ Attribute:void(java.lang.String,ja │ ject)                              │               │        │                                    │            │            │                                   │       │                                    │\n",
            "│                                   │ va.lang.Object)                    │                                    │               │        │                                    │            │            │                                   │       │                                    │\n",
            "├───────────────────────────────────┼────────────────────────────────────┼────────────────────────────────────┼───────────────┼────────┼────────────────────────────────────┼────────────┼────────────┼───────────────────────────────────┼───────┼────────────────────────────────────┤\n",
            "│ queryForMap                       │ org.springframework.jdbc.core.Jdbc │ java.util.Map(java.lang.String)    │        METHOD │        │ True                               │ 1634       │          0 │                                   │       │                                    │\n",
            "│                                   │ Template.queryForMap:java.util.Map │                                    │               │        │                                    │            │            │                                   │       │                                    │\n",
            "│                                   │ (java.lang.String)                 │                                    │               │        │                                    │            │            │                                   │       │                                    │\n",
            "├───────────────────────────────────┼────────────────────────────────────┼────────────────────────────────────┼───────────────┼────────┼────────────────────────────────────┼────────────┼────────────┼───────────────────────────────────┼───────┼────────────────────────────────────┤\n",
            "│ containsKey                       │ java.util.Map.containsKey:boolean( │ boolean(java.lang.Object)          │        METHOD │        │ True                               │ 1640       │          0 │                                   │       │                                    │\n",
            "│                                   │ java.lang.Object)                  │                                    │               │        │                                    │            │            │                                   │       │                                    │\n",
            "├───────────────────────────────────┼────────────────────────────────────┼────────────────────────────────────┼───────────────┼────────┼────────────────────────────────────┼────────────┼────────────┼───────────────────────────────────┼───────┼────────────────────────────────────┤\n",
            "│ invalidate                        │ javax.servlet.http.HttpSession.inv │ void()                             │        METHOD │        │ True                               │ 1646       │          0 │                                   │       │                                    │\n",
            "│                                   │ alidate:void()                     │                                    │               │        │                                    │            │            │                                   │       │                                    │\n",
            "├───────────────────────────────────┼────────────────────────────────────┼────────────────────────────────────┼───────────────┼────────┼────────────────────────────────────┼────────────┼────────────┼───────────────────────────────────┼───────┼────────────────────────────────────┤\n",
            "│ queryForMap                       │ org.springframework.jdbc.core.Jdbc │ java.util.Map(java.lang.String,jav │        METHOD │        │ True                               │ 1651       │          0 │                                   │       │                                    │\n",
            "│                                   │ Template.queryForMap:java.util.Map │ a.lang.Object[])                   │               │        │                                    │            │            │                                   │       │                                    │\n",
            "│                                   │ (java.lang.String,java.lang.Object │                                    │               │        │                                    │            │            │                                   │       │                                    │\n",
            "│                                   │ [])                                │                                    │               │        │                                    │            │            │                                   │       │                                    │\n",
            "├───────────────────────────────────┼────────────────────────────────────┼────────────────────────────────────┼───────────────┼────────┼────────────────────────────────────┼────────────┼────────────┼───────────────────────────────────┼───────┼────────────────────────────────────┤\n",
            "│ get                               │ java.util.Map.get:java.lang.Object │ java.lang.Object(java.lang.Object) │        METHOD │        │ True                               │ 1662       │          0 │                                   │       │                                    │\n",
            "│                                   │ (java.lang.Object)                 │                                    │               │        │                                    │            │            │                                   │       │                                    │\n",
            "├───────────────────────────────────┼────────────────────────────────────┼────────────────────────────────────┼───────────────┼────────┼────────────────────────────────────┼────────────┼────────────┼───────────────────────────────────┼───────┼────────────────────────────────────┤\n",
            "│ update                            │ org.springframework.jdbc.core.Jdbc │ int(java.lang.String,java.lang.Obj │        METHOD │        │ True                               │ 1668       │          0 │                                   │       │                                    │\n",
            "│                                   │ Template.update:int(java.lang.Stri │ ect[])                             │               │        │                                    │            │            │                                   │       │                                    │\n",
            "│                                   │ ng,java.lang.Object[])             │                                    │               │        │                                    │            │            │                                   │       │                                    │\n",
            "├───────────────────────────────────┼────────────────────────────────────┼────────────────────────────────────┼───────────────┼────────┼────────────────────────────────────┼────────────┼────────────┼───────────────────────────────────┼───────┼────────────────────────────────────┤\n",
            "│ info                              │ org.slf4j.Logger.info:void(java.la │ void(java.lang.String)             │        METHOD │        │ True                               │ 1675       │          0 │                                   │       │                                    │\n",
            "│                                   │ ng.String)                         │                                    │               │        │                                    │            │            │                                   │       │                                    │\n",
            "├───────────────────────────────────┼────────────────────────────────────┼────────────────────────────────────┼───────────────┼────────┼────────────────────────────────────┼────────────┼────────────┼───────────────────────────────────┼───────┼────────────────────────────────────┤\n",
            "│ valueOf                           │ java.lang.String.valueOf:java.lang │ java.lang.String(int)              │        METHOD │        │ True                               │ 1681       │          0 │                                   │       │                                    │\n",
            "│                                   │ .String(int)                       │                                    │               │        │                                    │            │            │                                   │       │                                    │\n",
            "├───────────────────────────────────┼────────────────────────────────────┼────────────────────────────────────┼───────────────┼────────┼────────────────────────────────────┼────────────┼────────────┼───────────────────────────────────┼───────┼────────────────────────────────────┤\n",
            "│ getBaseName                       │ org.apache.commons.io.FilenameUtil │ java.lang.String(java.lang.String) │        METHOD │        │ True                               │ 1686       │          0 │                                   │       │                                    │\n",
            "│                                   │ s.getBaseName:java.lang.String(jav │                                    │               │        │                                    │            │            │                                   │       │                                    │\n",
            "│                                   │ a.lang.String)                     │                                    │               │        │                                    │            │            │                                   │       │                                    │\n",
            "├───────────────────────────────────┼────────────────────────────────────┼────────────────────────────────────┼───────────────┼────────┼────────────────────────────────────┼────────────┼────────────┼───────────────────────────────────┼───────┼────────────────────────────────────┤\n",
            "│ equalsIgnoreCase                  │ java.lang.String.equalsIgnoreCase: │ boolean(java.lang.String)          │        METHOD │        │ True                               │ 1691       │          0 │                                   │       │                                    │\n",
            "│                                   │ boolean(java.lang.String)          │                                    │               │        │                                    │            │            │                                   │       │                                    │\n",
            "├───────────────────────────────────┼────────────────────────────────────┼────────────────────────────────────┼───────────────┼────────┼────────────────────────────────────┼────────────┼────────────┼───────────────────────────────────┼───────┼────────────────────────────────────┤\n",
            "│ <init>                            │ java.net.URL.<init>:void(java.lang │ void(java.lang.String)             │        METHOD │        │ True                               │ 1700       │          0 │                                   │       │                                    │\n",
            "│                                   │ .String)                           │                                    │               │        │                                    │            │            │                                   │       │                                    │\n",
            "├───────────────────────────────────┼────────────────────────────────────┼────────────────────────────────────┼───────────────┼────────┼────────────────────────────────────┼────────────┼────────────┼───────────────────────────────────┼───────┼────────────────────────────────────┤\n",
            "│ next                              │ java.util.Scanner.next:java.lang.S │ java.lang.String()                 │        METHOD │        │ True                               │ 1705       │          0 │                                   │       │                                    │\n",
            "│                                   │ tring()                            │                                    │               │        │                                    │            │            │                                   │       │                                    │\n",
            "├───────────────────────────────────┼────────────────────────────────────┼────────────────────────────────────┼───────────────┼────────┼────────────────────────────────────┼────────────┼────────────┼───────────────────────────────────┼───────┼────────────────────────────────────┤\n",
            "│ useDelimiter                      │ java.util.Scanner.useDelimiter:jav │ java.util.Scanner(java.lang.String │        METHOD │        │ True                               │ 1710       │          0 │                                   │       │                                    │\n",
            "│                                   │ a.util.Scanner(java.lang.String)   │ )                                  │               │        │                                    │            │            │                                   │       │                                    │\n",
            "├───────────────────────────────────┼────────────────────────────────────┼────────────────────────────────────┼───────────────┼────────┼────────────────────────────────────┼────────────┼────────────┼───────────────────────────────────┼───────┼────────────────────────────────────┤\n",
            "│ <init>                            │ java.util.Scanner.<init>:void(java │ void(java.io.InputStream,java.lang │        METHOD │        │ True                               │ 1716       │          0 │                                   │       │                                    │\n",
            "│                                   │ .io.InputStream,java.lang.String)  │ .String)                           │               │        │                                    │            │            │                                   │       │                                    │\n",
            "├───────────────────────────────────┼────────────────────────────────────┼────────────────────────────────────┼───────────────┼────────┼────────────────────────────────────┼────────────┼────────────┼───────────────────────────────────┼───────┼────────────────────────────────────┤\n",
            "│ openStream                        │ java.net.URL.openStream:java.io.In │ java.io.InputStream()              │        METHOD │        │ True                               │ 1722       │          0 │                                   │       │                                    │\n",
            "│                                   │ putStream()                        │                                    │               │        │                                    │            │            │                                   │       │                                    │\n",
            "├───────────────────────────────────┼────────────────────────────────────┼────────────────────────────────────┼───────────────┼────────┼────────────────────────────────────┼────────────┼────────────┼───────────────────────────────────┼───────┼────────────────────────────────────┤\n",
            "│ copy                              │ org.apache.commons.io.IOUtils.copy │ long(java.net.URL,java.io.File)    │        METHOD │        │ True                               │ 1727       │          0 │                                   │       │                                    │\n",
            "│                                   │ :long(java.net.URL,java.io.File)   │                                    │               │        │                                    │            │            │                                   │       │                                    │\n",
            "├───────────────────────────────────┼────────────────────────────────────┼────────────────────────────────────┼───────────────┼────────┼────────────────────────────────────┼────────────┼────────────┼───────────────────────────────────┼───────┼────────────────────────────────────┤\n",
            "│ <init>                            │ java.io.File.<init>:void(java.lang │ void(java.lang.String)             │        METHOD │        │ True                               │ 1733       │          0 │                                   │       │                                    │\n",
            "│                                   │ .String)                           │                                    │               │        │                                    │            │            │                                   │       │                                    │\n",
            "├───────────────────────────────────┼────────────────────────────────────┼────────────────────────────────────┼───────────────┼────────┼────────────────────────────────────┼────────────┼────────────┼───────────────────────────────────┼───────┼────────────────────────────────────┤\n",
            "│ valueOf                           │ java.lang.String.valueOf:java.lang │ java.lang.String(java.lang.Object) │        METHOD │        │ True                               │ 1748       │          0 │                                   │       │                                    │\n",
            "│                                   │ .String(java.lang.Object)          │                                    │               │        │                                    │            │            │                                   │       │                                    │\n",
            "├───────────────────────────────────┼────────────────────────────────────┼────────────────────────────────────┼───────────────┼────────┼────────────────────────────────────┼────────────┼────────────┼───────────────────────────────────┼───────┼────────────────────────────────────┤\n",
            "│ newInstance                       │ javax.xml.parsers.DocumentBuilderF │ javax.xml.parsers.DocumentBuilderF │        METHOD │        │ True                               │ 1763       │          0 │                                   │       │                                    │\n",
            "│                                   │ actory.newInstance:javax.xml.parse │ actory()                           │               │        │                                    │            │            │                                   │       │                                    │\n",
            "│                                   │ rs.DocumentBuilderFactory()        │                                    │               │        │                                    │            │            │                                   │       │                                    │\n",
            "├───────────────────────────────────┼────────────────────────────────────┼────────────────────────────────────┼───────────────┼────────┼────────────────────────────────────┼────────────┼────────────┼───────────────────────────────────┼───────┼────────────────────────────────────┤\n",
            "│ newDocumentBuilder                │ javax.xml.parsers.DocumentBuilderF │ javax.xml.parsers.DocumentBuilder( │        METHOD │        │ True                               │ 1767       │          0 │                                   │       │                                    │\n",
            "│                                   │ actory.newDocumentBuilder:javax.xm │ )                                  │               │        │                                    │            │            │                                   │       │                                    │\n",
            "│                                   │ l.parsers.DocumentBuilder()        │                                    │               │        │                                    │            │            │                                   │       │                                    │\n",
            "├───────────────────────────────────┼────────────────────────────────────┼────────────────────────────────────┼───────────────┼────────┼────────────────────────────────────┼────────────┼────────────┼───────────────────────────────────┼───────┼────────────────────────────────────┤\n",
            "│ parse                             │ javax.xml.parsers.DocumentBuilder. │ <unresolvedSignature>(1)           │        METHOD │        │ True                               │ 1772       │          0 │                                   │       │                                    │\n",
            "│                                   │ parse:<unresolvedSignature>(1)     │                                    │               │        │                                    │            │            │                                   │       │                                    │\n",
            "├───────────────────────────────────┼────────────────────────────────────┼────────────────────────────────────┼───────────────┼────────┼────────────────────────────────────┼────────────┼────────────┼───────────────────────────────────┼───────┼────────────────────────────────────┤\n",
            "│ <init>                            │ org.xml.sax.InputSource.<init>:<un │ <unresolvedSignature>(1)           │        METHOD │        │ True                               │ 1778       │          0 │                                   │       │                                    │\n",
            "│                                   │ resolvedSignature>(1)              │                                    │               │        │                                    │            │            │                                   │       │                                    │\n",
            "├───────────────────────────────────┼────────────────────────────────────┼────────────────────────────────────┼───────────────┼────────┼────────────────────────────────────┼────────────┼────────────┼───────────────────────────────────┼───────┼────────────────────────────────────┤\n",
            "│ <init>                            │ java.io.StringReader.<init>:void(j │ void(java.lang.String)             │        METHOD │        │ True                               │ 1783       │          0 │                                   │       │                                    │\n",
            "│                                   │ ava.lang.String)                   │                                    │               │        │                                    │            │            │                                   │       │                                    │\n",
            "├───────────────────────────────────┼────────────────────────────────────┼────────────────────────────────────┼───────────────┼────────┼────────────────────────────────────┼────────────┼────────────┼───────────────────────────────────┼───────┼────────────────────────────────────┤\n",
            "│ toString                          │ <unresolvedNamespace>.toString:<un │ <unresolvedSignature>(0)           │        METHOD │        │ True                               │ 1788       │          0 │                                   │       │                                    │\n",
            "│                                   │ resolvedSignature>(0)              │                                    │               │        │                                    │            │            │                                   │       │                                    │\n",
            "├───────────────────────────────────┼────────────────────────────────────┼────────────────────────────────────┼───────────────┼────────┼────────────────────────────────────┼────────────┼────────────┼───────────────────────────────────┼───────┼────────────────────────────────────┤\n",
            "│ getFirstChild                     │ org.w3c.dom.Document.getFirstChild │ <unresolvedSignature>(0)           │        METHOD │        │ True                               │ 1793       │          0 │                                   │       │                                    │\n",
            "│                                   │ :<unresolvedSignature>(0)          │                                    │               │        │                                    │            │            │                                   │       │                                    │\n",
            "├───────────────────────────────────┼────────────────────────────────────┼────────────────────────────────────┼───────────────┼────────┼────────────────────────────────────┼────────────┼────────────┼───────────────────────────────────┼───────┼────────────────────────────────────┤\n",
            "│ <init>                            │ java.lang.StringBuffer.<init>:void │ void()                             │        METHOD │        │ True                               │ 1798       │          0 │                                   │       │                                    │\n",
            "│                                   │ ()                                 │                                    │               │        │                                    │            │            │                                   │       │                                    │\n",
            "├───────────────────────────────────┼────────────────────────────────────┼────────────────────────────────────┼───────────────┼────────┼────────────────────────────────────┼────────────┼────────────┼───────────────────────────────────┼───────┼────────────────────────────────────┤\n",
            "│ getNodeName                       │ org.w3c.dom.Node.getNodeName:<unre │ <unresolvedSignature>(0)           │        METHOD │        │ True                               │ 1802       │          0 │                                   │       │                                    │\n",
            "│                                   │ solvedSignature>(0)                │                                    │               │        │                                    │            │            │                                   │       │                                    │\n",
            "├───────────────────────────────────┼────────────────────────────────────┼────────────────────────────────────┼───────────────┼────────┼────────────────────────────────────┼────────────┼────────────┼───────────────────────────────────┼───────┼────────────────────────────────────┤\n",
            "│ equals                            │ java.lang.String.equals:boolean(ja │ boolean(java.lang.Object)          │        METHOD │        │ True                               │ 1807       │          0 │                                   │       │                                    │\n",
            "│                                   │ va.lang.Object)                    │                                    │               │        │                                    │            │            │                                   │       │                                    │\n",
            "├───────────────────────────────────┼────────────────────────────────────┼────────────────────────────────────┼───────────────┼────────┼────────────────────────────────────┼────────────┼────────────┼───────────────────────────────────┼───────┼────────────────────────────────────┤\n",
            "│ equals                            │ <unresolvedNamespace>.equals:<unre │ <unresolvedSignature>(1)           │        METHOD │        │ True                               │ 1813       │          0 │                                   │       │                                    │\n",
            "│                                   │ solvedSignature>(1)                │                                    │               │        │                                    │            │            │                                   │       │                                    │\n",
            "├───────────────────────────────────┼────────────────────────────────────┼────────────────────────────────────┼───────────────┼────────┼────────────────────────────────────┼────────────┼────────────┼───────────────────────────────────┼───────┼────────────────────────────────────┤\n",
            "│ trim                              │ <unresolvedNamespace>.trim:<unreso │ <unresolvedSignature>(0)           │        METHOD │        │ True                               │ 1819       │          0 │                                   │       │                                    │\n",
            "│                                   │ lvedSignature>(0)                  │                                    │               │        │                                    │            │            │                                   │       │                                    │\n",
            "├───────────────────────────────────┼────────────────────────────────────┼────────────────────────────────────┼───────────────┼────────┼────────────────────────────────────┼────────────┼────────────┼───────────────────────────────────┼───────┼────────────────────────────────────┤\n",
            "│ getNodeValue                      │ org.w3c.dom.Node.getNodeValue:<unr │ <unresolvedSignature>(0)           │        METHOD │        │ True                               │ 1824       │          0 │                                   │       │                                    │\n",
            "│                                   │ esolvedSignature>(0)               │                                    │               │        │                                    │            │            │                                   │       │                                    │\n",
            "├───────────────────────────────────┼────────────────────────────────────┼────────────────────────────────────┼───────────────┼────────┼────────────────────────────────────┼────────────┼────────────┼───────────────────────────────────┼───────┼────────────────────────────────────┤\n",
            "│ append                            │ java.lang.StringBuffer.append:java │ java.lang.StringBuffer(java.lang.S │        METHOD │        │ True                               │ 1829       │          0 │                                   │       │                                    │\n",
            "│                                   │ .lang.StringBuffer(java.lang.Strin │ tring)                             │               │        │                                    │            │            │                                   │       │                                    │\n",
            "│                                   │ g)                                 │                                    │               │        │                                    │            │            │                                   │       │                                    │\n",
            "├───────────────────────────────────┼────────────────────────────────────┼────────────────────────────────────┼───────────────┼────────┼────────────────────────────────────┼────────────┼────────────┼───────────────────────────────────┼───────┼────────────────────────────────────┤\n",
            "│ append                            │ java.lang.StringBuffer.append:<unr │ <unresolvedSignature>(1)           │        METHOD │        │ True                               │ 1840       │          0 │                                   │       │                                    │\n",
            "│                                   │ esolvedSignature>(1)               │                                    │               │        │                                    │            │            │                                   │       │                                    │\n",
            "├───────────────────────────────────┼────────────────────────────────────┼────────────────────────────────────┼───────────────┼────────┼────────────────────────────────────┼────────────┼────────────┼───────────────────────────────────┼───────┼────────────────────────────────────┤\n",
            "│ getLength                         │ <unresolvedNamespace>.getLength:<u │ <unresolvedSignature>(0)           │        METHOD │        │ True                               │ 1846       │          0 │                                   │       │                                    │\n",
            "│                                   │ nresolvedSignature>(0)             │                                    │               │        │                                    │            │            │                                   │       │                                    │\n",
            "├───────────────────────────────────┼────────────────────────────────────┼────────────────────────────────────┼───────────────┼────────┼────────────────────────────────────┼────────────┼────────────┼───────────────────────────────────┼───────┼────────────────────────────────────┤\n",
            "│ getChildNodes                     │ org.w3c.dom.Node.getChildNodes:<un │ <unresolvedSignature>(0)           │        METHOD │        │ True                               │ 1851       │          0 │                                   │       │                                    │\n",
            "│                                   │ resolvedSignature>(0)              │                                    │               │        │                                    │            │            │                                   │       │                                    │\n",
            "├───────────────────────────────────┼────────────────────────────────────┼────────────────────────────────────┼───────────────┼────────┼────────────────────────────────────┼────────────┼────────────┼───────────────────────────────────┼───────┼────────────────────────────────────┤\n",
            "│ item                              │ <unresolvedNamespace>.item:<unreso │ <unresolvedSignature>(1)           │        METHOD │        │ True                               │ 1860       │          0 │                                   │       │                                    │\n",
            "│                                   │ lvedSignature>(1)                  │                                    │               │        │                                    │            │            │                                   │       │                                    │\n",
            "├───────────────────────────────────┼────────────────────────────────────┼────────────────────────────────────┼───────────────┼────────┼────────────────────────────────────┼────────────┼────────────┼───────────────────────────────────┼───────┼────────────────────────────────────┤\n",
            "│ none                              │ com.auth0.jwt.algorithms.Algorithm │ com.auth0.jwt.algorithms.Algorithm │        METHOD │        │ True                               │ 1866       │          0 │                                   │       │                                    │\n",
            "│                                   │ .none:com.auth0.jwt.algorithms.Alg │ ()                                 │               │        │                                    │            │            │                                   │       │                                    │\n",
            "│                                   │ orithm()                           │                                    │               │        │                                    │            │            │                                   │       │                                    │\n",
            "├───────────────────────────────────┼────────────────────────────────────┼────────────────────────────────────┼───────────────┼────────┼────────────────────────────────────┼────────────┼────────────┼───────────────────────────────────┼───────┼────────────────────────────────────┤\n",
            "│ sign                              │ com.auth0.jwt.JWTCreator$Builder.s │ java.lang.String(com.auth0.jwt.alg │        METHOD │        │ True                               │ 1870       │          0 │                                   │       │                                    │\n",
            "│                                   │ ign:java.lang.String(com.auth0.jwt │ orithms.Algorithm)                 │               │        │                                    │            │            │                                   │       │                                    │\n",
            "│                                   │ .algorithms.Algorithm)             │                                    │               │        │                                    │            │            │                                   │       │                                    │\n",
            "├───────────────────────────────────┼────────────────────────────────────┼────────────────────────────────────┼───────────────┼────────┼────────────────────────────────────┼────────────┼────────────┼───────────────────────────────────┼───────┼────────────────────────────────────┤\n",
            "│ withClaim                         │ com.auth0.jwt.JWTCreator$Builder.w │ com.auth0.jwt.JWTCreator$Builder(j │        METHOD │        │ True                               │ 1876       │          0 │                                   │       │                                    │\n",
            "│                                   │ ithClaim:com.auth0.jwt.JWTCreator$ │ ava.lang.String,java.lang.String)  │               │        │                                    │            │            │                                   │       │                                    │\n",
            "│                                   │ Builder(java.lang.String,java.lang │                                    │               │        │                                    │            │            │                                   │       │                                    │\n",
            "│                                   │ .String)                           │                                    │               │        │                                    │            │            │                                   │       │                                    │\n",
            "├───────────────────────────────────┼────────────────────────────────────┼────────────────────────────────────┼───────────────┼────────┼────────────────────────────────────┼────────────┼────────────┼───────────────────────────────────┼───────┼────────────────────────────────────┤\n",
            "│ withIssuer                        │ com.auth0.jwt.JWTCreator$Builder.w │ com.auth0.jwt.JWTCreator$Builder(j │        METHOD │        │ True                               │ 1883       │          0 │                                   │       │                                    │\n",
            "│                                   │ ithIssuer:com.auth0.jwt.JWTCreator │ ava.lang.String)                   │               │        │                                    │            │            │                                   │       │                                    │\n",
            "│                                   │ $Builder(java.lang.String)         │                                    │               │        │                                    │            │            │                                   │       │                                    │\n",
            "├───────────────────────────────────┼────────────────────────────────────┼────────────────────────────────────┼───────────────┼────────┼────────────────────────────────────┼────────────┼────────────┼───────────────────────────────────┼───────┼────────────────────────────────────┤\n",
            "│ create                            │ com.auth0.jwt.JWT.create:com.auth0 │ com.auth0.jwt.JWTCreator$Builder() │        METHOD │        │ True                               │ 1889       │          0 │                                   │       │                                    │\n",
            "│                                   │ .jwt.JWTCreator$Builder()          │                                    │               │        │                                    │            │            │                                   │       │                                    │\n",
            "├───────────────────────────────────┼────────────────────────────────────┼────────────────────────────────────┼───────────────┼────────┼────────────────────────────────────┼────────────┼────────────┼───────────────────────────────────┼───────┼────────────────────────────────────┤\n",
            "│ decode                            │ com.auth0.jwt.JWT.decode:com.auth0 │ com.auth0.jwt.interfaces.DecodedJW │        METHOD │        │ True                               │ 1893       │          0 │                                   │       │                                    │\n",
            "│                                   │ .jwt.interfaces.DecodedJWT(java.la │ T(java.lang.String)                │               │        │                                    │            │            │                                   │       │                                    │\n",
            "│                                   │ ng.String)                         │                                    │               │        │                                    │            │            │                                   │       │                                    │\n",
            "├───────────────────────────────────┼────────────────────────────────────┼────────────────────────────────────┼───────────────┼────────┼────────────────────────────────────┼────────────┼────────────┼───────────────────────────────────┼───────┼────────────────────────────────────┤\n",
            "│ asString                          │ com.auth0.jwt.interfaces.Claim.asS │ java.lang.String()                 │        METHOD │        │ True                               │ 1898       │          0 │                                   │       │                                    │\n",
            "│                                   │ tring:java.lang.String()           │                                    │               │        │                                    │            │            │                                   │       │                                    │\n",
            "├───────────────────────────────────┼────────────────────────────────────┼────────────────────────────────────┼───────────────┼────────┼────────────────────────────────────┼────────────┼────────────┼───────────────────────────────────┼───────┼────────────────────────────────────┤\n",
            "│ getClaim                          │ com.auth0.jwt.interfaces.DecodedJW │ com.auth0.jwt.interfaces.Claim(jav │        METHOD │        │ True                               │ 1903       │          0 │                                   │       │                                    │\n",
            "│                                   │ T.getClaim:com.auth0.jwt.interface │ a.lang.String)                     │               │        │                                    │            │            │                                   │       │                                    │\n",
            "│                                   │ s.Claim(java.lang.String)          │                                    │               │        │                                    │            │            │                                   │       │                                    │\n",
            "├───────────────────────────────────┼────────────────────────────────────┼────────────────────────────────────┼───────────────┼────────┼────────────────────────────────────┼────────────┼────────────┼───────────────────────────────────┼───────┼────────────────────────────────────┤\n",
            "│ <init>                            │ java.io.ByteArrayOutputStream.<ini │ void()                             │        METHOD │        │ True                               │ 1909       │          0 │                                   │       │                                    │\n",
            "│                                   │ t>:void()                          │                                    │               │        │                                    │            │            │                                   │       │                                    │\n",
            "├───────────────────────────────────┼────────────────────────────────────┼────────────────────────────────────┼───────────────┼────────┼────────────────────────────────────┼────────────┼────────────┼───────────────────────────────────┼───────┼────────────────────────────────────┤\n",
            "│ <init>                            │ java.io.ObjectOutputStream.<init>: │ void(java.io.OutputStream)         │        METHOD │        │ True                               │ 1913       │          0 │                                   │       │                                    │\n",
            "│                                   │ void(java.io.OutputStream)         │                                    │               │        │                                    │            │            │                                   │       │                                    │\n",
            "├───────────────────────────────────┼────────────────────────────────────┼────────────────────────────────────┼───────────────┼────────┼────────────────────────────────────┼────────────┼────────────┼───────────────────────────────────┼───────┼────────────────────────────────────┤\n",
            "│ writeObject                       │ java.io.ObjectOutputStream.writeOb │ void(java.lang.Object)             │        METHOD │        │ True                               │ 1918       │          0 │                                   │       │                                    │\n",
            "│                                   │ ject:void(java.lang.Object)        │                                    │               │        │                                    │            │            │                                   │       │                                    │\n",
            "├───────────────────────────────────┼────────────────────────────────────┼────────────────────────────────────┼───────────────┼────────┼────────────────────────────────────┼────────────┼────────────┼───────────────────────────────────┼───────┼────────────────────────────────────┤\n",
            "│ close                             │ java.io.ObjectOutputStream.close:v │ void()                             │        METHOD │        │ True                               │ 1924       │          0 │                                   │       │                                    │\n",
            "│                                   │ oid()                              │                                    │               │        │                                    │            │            │                                   │       │                                    │\n",
            "├───────────────────────────────────┼────────────────────────────────────┼────────────────────────────────────┼───────────────┼────────┼────────────────────────────────────┼────────────┼────────────┼───────────────────────────────────┼───────┼────────────────────────────────────┤\n",
            "│ encodeToString                    │ java.util.Base64$Encoder.encodeToS │ java.lang.String(byte[])           │        METHOD │        │ True                               │ 1929       │          0 │                                   │       │                                    │\n",
            "│                                   │ tring:java.lang.String(byte[])     │                                    │               │        │                                    │            │            │                                   │       │                                    │\n",
            "├───────────────────────────────────┼────────────────────────────────────┼────────────────────────────────────┼───────────────┼────────┼────────────────────────────────────┼────────────┼────────────┼───────────────────────────────────┼───────┼────────────────────────────────────┤\n",
            "│ getEncoder                        │ java.util.Base64.getEncoder:java.u │ java.util.Base64$Encoder()         │        METHOD │        │ True                               │ 1935       │          0 │                                   │       │                                    │\n",
            "│                                   │ til.Base64$Encoder()               │                                    │               │        │                                    │            │            │                                   │       │                                    │\n",
            "├───────────────────────────────────┼────────────────────────────────────┼────────────────────────────────────┼───────────────┼────────┼────────────────────────────────────┼────────────┼────────────┼───────────────────────────────────┼───────┼────────────────────────────────────┤\n",
            "│ toByteArray                       │ java.io.ByteArrayOutputStream.toBy │ byte[]()                           │        METHOD │        │ True                               │ 1939       │          0 │                                   │       │                                    │\n",
            "│                                   │ teArray:byte[]()                   │                                    │               │        │                                    │            │            │                                   │       │                                    │\n",
            "├───────────────────────────────────┼────────────────────────────────────┼────────────────────────────────────┼───────────────┼────────┼────────────────────────────────────┼────────────┼────────────┼───────────────────────────────────┼───────┼────────────────────────────────────┤\n",
            "│ decode                            │ java.util.Base64$Decoder.decode:by │ byte[](java.lang.String)           │        METHOD │        │ True                               │ 1944       │          0 │                                   │       │                                    │\n",
            "│                                   │ te[](java.lang.String)             │                                    │               │        │                                    │            │            │                                   │       │                                    │\n",
            "├───────────────────────────────────┼────────────────────────────────────┼────────────────────────────────────┼───────────────┼────────┼────────────────────────────────────┼────────────┼────────────┼───────────────────────────────────┼───────┼────────────────────────────────────┤\n",
            "│ getDecoder                        │ java.util.Base64.getDecoder:java.u │ java.util.Base64$Decoder()         │        METHOD │        │ True                               │ 1950       │          0 │                                   │       │                                    │\n",
            "│                                   │ til.Base64$Decoder()               │                                    │               │        │                                    │            │            │                                   │       │                                    │\n",
            "├───────────────────────────────────┼────────────────────────────────────┼────────────────────────────────────┼───────────────┼────────┼────────────────────────────────────┼────────────┼────────────┼───────────────────────────────────┼───────┼────────────────────────────────────┤\n",
            "│ <init>                            │ java.io.ObjectInputStream.<init>:v │ void(java.io.InputStream)          │        METHOD │        │ True                               │ 1954       │          0 │                                   │       │                                    │\n",
            "│                                   │ oid(java.io.InputStream)           │                                    │               │        │                                    │            │            │                                   │       │                                    │\n",
            "├───────────────────────────────────┼────────────────────────────────────┼────────────────────────────────────┼───────────────┼────────┼────────────────────────────────────┼────────────┼────────────┼───────────────────────────────────┼───────┼────────────────────────────────────┤\n",
            "│ <init>                            │ java.io.ByteArrayInputStream.<init │ void(byte[])                       │        METHOD │        │ True                               │ 1959       │          0 │                                   │       │                                    │\n",
            "│                                   │ >:void(byte[])                     │                                    │               │        │                                    │            │            │                                   │       │                                    │\n",
            "├───────────────────────────────────┼────────────────────────────────────┼────────────────────────────────────┼───────────────┼────────┼────────────────────────────────────┼────────────┼────────────┼───────────────────────────────────┼───────┼────────────────────────────────────┤\n",
            "│ readObject                        │ java.io.ObjectInputStream.readObje │ java.lang.Object()                 │        METHOD │        │ True                               │ 1964       │          0 │                                   │       │                                    │\n",
            "│                                   │ ct:java.lang.Object()              │                                    │               │        │                                    │            │            │                                   │       │                                    │\n",
            "├───────────────────────────────────┼────────────────────────────────────┼────────────────────────────────────┼───────────────┼────────┼────────────────────────────────────┼────────────┼────────────┼───────────────────────────────────┼───────┼────────────────────────────────────┤\n",
            "│ close                             │ java.io.ObjectInputStream.close:vo │ void()                             │        METHOD │        │ True                               │ 1969       │          0 │                                   │       │                                    │\n",
            "│                                   │ id()                               │                                    │               │        │                                    │            │            │                                   │       │                                    │\n",
            "├───────────────────────────────────┼────────────────────────────────────┼────────────────────────────────────┼───────────────┼────────┼────────────────────────────────────┼────────────┼────────────┼───────────────────────────────────┼───────┼────────────────────────────────────┤\n",
            "│ printStackTrace                   │ java.io.IOException.printStackTrac │ void()                             │        METHOD │        │ True                               │ 1974       │          0 │                                   │       │                                    │\n",
            "│                                   │ e:void()                           │                                    │               │        │                                    │            │            │                                   │       │                                    │\n",
            "├───────────────────────────────────┼────────────────────────────────────┼────────────────────────────────────┼───────────────┼────────┼────────────────────────────────────┼────────────┼────────────┼───────────────────────────────────┼───────┼────────────────────────────────────┤\n",
            "│ printStackTrace                   │ java.lang.ClassNotFoundException.p │ void()                             │        METHOD │        │ True                               │ 1979       │          0 │                                   │       │                                    │\n",
            "│                                   │ rintStackTrace:void()              │                                    │               │        │                                    │            │            │                                   │       │                                    │\n",
            "├───────────────────────────────────┼────────────────────────────────────┼────────────────────────────────────┼───────────────┼────────┼────────────────────────────────────┼────────────┼────────────┼───────────────────────────────────┼───────┼────────────────────────────────────┤\n",
            "│ getLogger                         │ org.slf4j.LoggerFactory.getLogger: │ org.slf4j.Logger(java.lang.Class)  │        METHOD │        │ True                               │ 1984       │          0 │                                   │       │                                    │\n",
            "│                                   │ org.slf4j.Logger(java.lang.Class)  │                                    │               │        │                                    │            │            │                                   │       │                                    │\n",
            "├───────────────────────────────────┼────────────────────────────────────┼────────────────────────────────────┼───────────────┼────────┼────────────────────────────────────┼────────────┼────────────┼───────────────────────────────────┼───────┼────────────────────────────────────┤\n",
            "│ run                               │ org.springframework.boot.SpringApp │ org.springframework.context.Config │        METHOD │        │ True                               │ 1989       │          0 │                                   │       │                                    │\n",
            "│                                   │ lication.run:org.springframework.c │ urableApplicationContext(java.lang │               │        │                                    │            │            │                                   │       │                                    │\n",
            "│                                   │ ontext.ConfigurableApplicationCont │ .Class,java.lang.String[])         │               │        │                                    │            │            │                                   │       │                                    │\n",
            "│                                   │ ext(java.lang.Class,java.lang.Stri │                                    │               │        │                                    │            │            │                                   │       │                                    │\n",
            "│                                   │ ng[])                              │                                    │               │        │                                    │            │            │                                   │       │                                    │\n",
            "├───────────────────────────────────┼────────────────────────────────────┼────────────────────────────────────┼───────────────┼────────┼────────────────────────────────────┼────────────┼────────────┼───────────────────────────────────┼───────┼────────────────────────────────────┤\n",
            "│ getSession                        │ javax.servlet.http.HttpServletRequ │ javax.servlet.http.HttpSession()   │        METHOD │        │ True                               │ 1995       │          0 │                                   │       │                                    │\n",
            "│                                   │ est.getSession:javax.servlet.http. │                                    │               │        │                                    │            │            │                                   │       │                                    │\n",
            "│                                   │ HttpSession()                      │                                    │               │        │                                    │            │            │                                   │       │                                    │\n",
            "├───────────────────────────────────┼────────────────────────────────────┼────────────────────────────────────┼───────────────┼────────┼────────────────────────────────────┼────────────┼────────────┼───────────────────────────────────┼───────┼────────────────────────────────────┤\n",
            "│ getMethod                         │ javax.servlet.http.HttpServletRequ │ java.lang.String()                 │        METHOD │        │ True                               │ 2000       │          0 │                                   │       │                                    │\n",
            "│                                   │ est.getMethod:java.lang.String()   │                                    │               │        │                                    │            │            │                                   │       │                                    │\n",
            "├───────────────────────────────────┼────────────────────────────────────┼────────────────────────────────────┼───────────────┼────────┼────────────────────────────────────┼────────────┼────────────┼───────────────────────────────────┼───────┼────────────────────────────────────┤\n",
            "│ getServletPath                    │ javax.servlet.http.HttpServletRequ │ java.lang.String()                 │        METHOD │        │ True                               │ 2005       │          0 │                                   │       │                                    │\n",
            "│                                   │ est.getServletPath:java.lang.Strin │                                    │               │        │                                    │            │            │                                   │       │                                    │\n",
            "│                                   │ g()                                │                                    │               │        │                                    │            │            │                                   │       │                                    │\n",
            "├───────────────────────────────────┼────────────────────────────────────┼────────────────────────────────────┼───────────────┼────────┼────────────────────────────────────┼────────────┼────────────┼───────────────────────────────────┼───────┼────────────────────────────────────┤\n",
            "│ matches                           │ java.lang.String.matches:boolean(j │ boolean(java.lang.String)          │        METHOD │        │ True                               │ 2010       │          0 │                                   │       │                                    │\n",
            "│                                   │ ava.lang.String)                   │                                    │               │        │                                    │            │            │                                   │       │                                    │\n",
            "├───────────────────────────────────┼────────────────────────────────────┼────────────────────────────────────┼───────────────┼────────┼────────────────────────────────────┼────────────┼────────────┼───────────────────────────────────┼───────┼────────────────────────────────────┤\n",
            "│ doFilter                          │ javax.servlet.FilterChain.doFilter │ void(javax.servlet.ServletRequest, │        METHOD │        │ True                               │ 2016       │          0 │                                   │       │                                    │\n",
            "│                                   │ :void(javax.servlet.ServletRequest │ javax.servlet.ServletResponse)     │               │        │                                    │            │            │                                   │       │                                    │\n",
            "│                                   │ ,javax.servlet.ServletResponse)    │                                    │               │        │                                    │            │            │                                   │       │                                    │\n",
            "├───────────────────────────────────┼────────────────────────────────────┼────────────────────────────────────┼───────────────┼────────┼────────────────────────────────────┼────────────┼────────────┼───────────────────────────────────┼───────┼────────────────────────────────────┤\n",
            "│ sendRedirect                      │ javax.servlet.http.HttpServletResp │ void(java.lang.String)             │        METHOD │        │ True                               │ 2023       │          0 │                                   │       │                                    │\n",
            "│                                   │ onse.sendRedirect:void(java.lang.S │                                    │               │        │                                    │            │            │                                   │       │                                    │\n",
            "│                                   │ tring)                             │                                    │               │        │                                    │            │            │                                   │       │                                    │\n",
            "├───────────────────────────────────┼────────────────────────────────────┼────────────────────────────────────┼───────────────┼────────┼────────────────────────────────────┼────────────┼────────────┼───────────────────────────────────┼───────┼────────────────────────────────────┤\n",
            "│ toString:<unresolvedSignature>(0) │ java.lang.StringBuffer.toString:<u │                                    │        METHOD │        │ True                               │ 2295       │          0 │                                   │       │                                    │\n",
            "│                                   │ nresolvedSignature>(0)             │                                    │               │        │                                    │            │            │                                   │       │                                    │\n",
            "└───────────────────────────────────┴────────────────────────────────────┴────────────────────────────────────┴───────────────┴────────┴────────────────────────────────────┴────────────┴────────────┴───────────────────────────────────┴───────┴────────────────────────────────────┘\n"
          ],
          "output_type" : "stream"
        }
      ]
    },
    {
      "cell_type" : "code",
      "execution_count" : 6,
      "metadata" : {
        "cell.metadata.exec_info" : {
          "startTs" : 1683317818582,
          "endTs" : 1683317829157
        },
        "language" : "python"
      },
      "language" : "python",
      "source" : [
        "async def search_methods():\n",
        "    connection = await client.get(joern_host, cpggen_host, joern_username, joern_password)\n",
        "    res = await cpg.list_methods(connection, \".*vulnspring.*\")\n",
        "    print_table(res, title=\"Methods Search Result\")\n",
        "asyncio.run(search_methods())"
      ],
      "outputs" : [
        {
          "name" : "stdout",
          "text" : [
            "                                                                                                                                 Methods Search Result                                                                                                                                  \n",
            "┏━━━━━━━━━━━━━━━━━━━┳━━━━━━━━━━━━━━━━━━━━━━━━━━━━━━━━━━━━━━━┳━━━━━━━━━━━━━━━━━━━━━━━━━━━━━━━━━━━━━━━┳━━━━━━━━━━━━━━━┳━━━━━━━━┳━━━━━━━━━━━━━━━━━━━━━━━━━━━━━━━━━━━━━━━┳━━━━━━━━━━━━┳━━━━━━━━━━━━┳━━━━━━━━━━━━━━━━━━━━━━━━━━━━━━━━━━━━━━━┳━━━━━━━┳━━━━━━━━━━━━━━━━━━━━━━━━━━━━━━━━━━━━━━━┓\n",
            "┃ name              ┃ fullName                              ┃ signature                             ┃ lineNumberEnd ┃ _label ┃ code                                  ┃ isExternal ┃ lineNumber ┃                                    id ┃ order ┃ filename                              ┃\n",
            "┡━━━━━━━━━━━━━━━━━━━╇━━━━━━━━━━━━━━━━━━━━━━━━━━━━━━━━━━━━━━━╇━━━━━━━━━━━━━━━━━━━━━━━━━━━━━━━━━━━━━━━╇━━━━━━━━━━━━━━━╇━━━━━━━━╇━━━━━━━━━━━━━━━━━━━━━━━━━━━━━━━━━━━━━━━╇━━━━━━━━━━━━╇━━━━━━━━━━━━╇━━━━━━━━━━━━━━━━━━━━━━━━━━━━━━━━━━━━━━━╇━━━━━━━╇━━━━━━━━━━━━━━━━━━━━━━━━━━━━━━━━━━━━━━━┩\n",
            "│ home              │ com.example.vulnspring.WebController. │ java.lang.String(org.springframework. │            50 │ METHOD │ public String home(Model model, HttpS │ False      │         46 │                                    75 │     3 │ src/main/java/com/example/vulnspring/ │\n",
            "│                   │ home:java.lang.String(org.springframe │ ui.Model,javax.servlet.http.HttpSessi │               │        │                                       │            │            │                                       │       │ WebController.java                    │\n",
            "│                   │ work.ui.Model,javax.servlet.http.Http │ on)                                   │               │        │                                       │            │            │                                       │       │                                       │\n",
            "│                   │ Session)                              │                                       │               │        │                                       │            │            │                                       │       │                                       │\n",
            "├───────────────────┼───────────────────────────────────────┼───────────────────────────────────────┼───────────────┼────────┼───────────────────────────────────────┼────────────┼────────────┼───────────────────────────────────────┼───────┼───────────────────────────────────────┤\n",
            "│ login             │ com.example.vulnspring.WebController. │ java.lang.String(org.springframework. │            55 │ METHOD │ public String login(Model model)      │ False      │         52 │                                    97 │     4 │ src/main/java/com/example/vulnspring/ │\n",
            "│                   │ login:java.lang.String(org.springfram │ ui.Model)                             │               │        │                                       │            │            │                                       │       │ WebController.java                    │\n",
            "│                   │ ework.ui.Model)                       │                                       │               │        │                                       │            │            │                                       │       │                                       │\n",
            "├───────────────────┼───────────────────────────────────────┼───────────────────────────────────────┼───────────────┼────────┼───────────────────────────────────────┼────────────┼────────────┼───────────────────────────────────────┼───────┼───────────────────────────────────────┤\n",
            "│ login             │ com.example.vulnspring.WebController. │ java.lang.String(javax.servlet.http.H │            67 │ METHOD │ public String login(HttpSession sessi │ False      │         57 │                                   110 │     5 │ src/main/java/com/example/vulnspring/ │\n",
            "│                   │ login:java.lang.String(javax.servlet. │ ttpSession,java.lang.String,java.lang │               │        │                                       │            │            │                                       │       │ WebController.java                    │\n",
            "│                   │ http.HttpSession,java.lang.String,jav │ .String,org.springframework.ui.Model) │               │        │                                       │            │            │                                       │       │                                       │\n",
            "│                   │ a.lang.String,org.springframework.ui. │                                       │               │        │                                       │            │            │                                       │       │                                       │\n",
            "│                   │ Model)                                │                                       │               │        │                                       │            │            │                                       │       │                                       │\n",
            "├───────────────────┼───────────────────────────────────────┼───────────────────────────────────────┼───────────────┼────────┼───────────────────────────────────────┼────────────┼────────────┼───────────────────────────────────────┼───────┼───────────────────────────────────────┤\n",
            "│ loginSuccess      │ com.example.vulnspring.WebController. │ boolean(java.lang.String,java.lang.St │            83 │ METHOD │ private boolean loginSuccess(String u │ False      │         69 │                                   168 │     6 │ src/main/java/com/example/vulnspring/ │\n",
            "│                   │ loginSuccess:boolean(java.lang.String │ ring)                                 │               │        │                                       │            │            │                                       │       │ WebController.java                    │\n",
            "│                   │ ,java.lang.String)                    │                                       │               │        │                                       │            │            │                                       │       │                                       │\n",
            "├───────────────────┼───────────────────────────────────────┼───────────────────────────────────────┼───────────────┼────────┼───────────────────────────────────────┼────────────┼────────────┼───────────────────────────────────────┼───────┼───────────────────────────────────────┤\n",
            "│ logout            │ com.example.vulnspring.WebController. │ java.lang.String(javax.servlet.http.H │            89 │ METHOD │ public String logout(HttpSession sess │ False      │         85 │                                   221 │     7 │ src/main/java/com/example/vulnspring/ │\n",
            "│                   │ logout:java.lang.String(javax.servlet │ ttpSession)                           │               │        │                                       │            │            │                                       │       │ WebController.java                    │\n",
            "│                   │ .http.HttpSession)                    │                                       │               │        │                                       │            │            │                                       │       │                                       │\n",
            "├───────────────────┼───────────────────────────────────────┼───────────────────────────────────────┼───────────────┼────────┼───────────────────────────────────────┼────────────┼────────────┼───────────────────────────────────────┼───────┼───────────────────────────────────────┤\n",
            "│ update            │ com.example.vulnspring.WebController. │ java.lang.String(javax.servlet.http.H │           100 │ METHOD │ public String update(HttpSession sess │ False      │         91 │                                   236 │     8 │ src/main/java/com/example/vulnspring/ │\n",
            "│                   │ update:java.lang.String(javax.servlet │ ttpSession,org.springframework.ui.Mod │               │        │                                       │            │            │                                       │       │ WebController.java                    │\n",
            "│                   │ .http.HttpSession,org.springframework │ el)                                   │               │        │                                       │            │            │                                       │       │                                       │\n",
            "│                   │ .ui.Model)                            │                                       │               │        │                                       │            │            │                                       │       │                                       │\n",
            "├───────────────────┼───────────────────────────────────────┼───────────────────────────────────────┼───────────────┼────────┼───────────────────────────────────────┼────────────┼────────────┼───────────────────────────────────────┼───────┼───────────────────────────────────────┤\n",
            "│ update            │ com.example.vulnspring.WebController. │ java.lang.String(javax.servlet.http.H │           115 │ METHOD │ public String update(HttpSession sess │ False      │        102 │                                   273 │     9 │ src/main/java/com/example/vulnspring/ │\n",
            "│                   │ update:java.lang.String(javax.servlet │ ttpSession,java.lang.String,org.sprin │               │        │                                       │            │            │                                       │       │ WebController.java                    │\n",
            "│                   │ .http.HttpSession,java.lang.String,or │ gframework.ui.Model)                  │               │        │                                       │            │            │                                       │       │                                       │\n",
            "│                   │ g.springframework.ui.Model)           │                                       │               │        │                                       │            │            │                                       │       │                                       │\n",
            "├───────────────────┼───────────────────────────────────────┼───────────────────────────────────────┼───────────────┼────────┼───────────────────────────────────────┼────────────┼────────────┼───────────────────────────────────────┼───────┼───────────────────────────────────────┤\n",
            "│ checkDB           │ com.example.vulnspring.WebController. │ java.lang.String(java.lang.String,org │           133 │ METHOD │ public String checkDB(@RequestParam(n │ False      │        117 │                                   347 │    10 │ src/main/java/com/example/vulnspring/ │\n",
            "│                   │ checkDB:java.lang.String(java.lang.St │ .springframework.ui.Model)            │               │        │                                       │            │            │                                       │       │ WebController.java                    │\n",
            "│                   │ ring,org.springframework.ui.Model)    │                                       │               │        │                                       │            │            │                                       │       │                                       │\n",
            "├───────────────────┼───────────────────────────────────────┼───────────────────────────────────────┼───────────────┼────────┼───────────────────────────────────────┼────────────┼────────────┼───────────────────────────────────────┼───────┼───────────────────────────────────────┤\n",
            "│ checkDB           │ com.example.vulnspring.WebController. │ java.lang.String()                    │           138 │ METHOD │ public String checkDB()               │ False      │        135 │                                   432 │    11 │ src/main/java/com/example/vulnspring/ │\n",
            "│                   │ checkDB:java.lang.String()            │                                       │               │        │                                       │            │            │                                       │       │ WebController.java                    │\n",
            "├───────────────────┼───────────────────────────────────────┼───────────────────────────────────────┼───────────────┼────────┼───────────────────────────────────────┼────────────┼────────────┼───────────────────────────────────────┼───────┼───────────────────────────────────────┤\n",
            "│ transfer          │ com.example.vulnspring.WebController. │ java.lang.String(javax.servlet.http.H │           149 │ METHOD │ public String transfer(HttpSession se │ False      │        140 │                                   444 │    12 │ src/main/java/com/example/vulnspring/ │\n",
            "│                   │ transfer:java.lang.String(javax.servl │ ttpSession,org.springframework.ui.Mod │               │        │                                       │            │            │                                       │       │ WebController.java                    │\n",
            "│                   │ et.http.HttpSession,org.springframewo │ el)                                   │               │        │                                       │            │            │                                       │       │                                       │\n",
            "│                   │ rk.ui.Model)                          │                                       │               │        │                                       │            │            │                                       │       │                                       │\n",
            "├───────────────────┼───────────────────────────────────────┼───────────────────────────────────────┼───────────────┼────────┼───────────────────────────────────────┼────────────┼────────────┼───────────────────────────────────────┼───────┼───────────────────────────────────────┤\n",
            "│ transfer          │ com.example.vulnspring.WebController. │ java.lang.String(javax.servlet.http.H │           219 │ METHOD │ public String transfer(HttpSession se │ False      │        152 │                                   487 │    13 │ src/main/java/com/example/vulnspring/ │\n",
            "│                   │ transfer:java.lang.String(javax.servl │ ttpSession,java.lang.String,java.lang │               │        │                                       │            │            │                                       │       │ WebController.java                    │\n",
            "│                   │ et.http.HttpSession,java.lang.String, │ .Float,org.springframework.ui.Model)  │               │        │                                       │            │            │                                       │       │                                       │\n",
            "│                   │ java.lang.Float,org.springframework.u │                                       │               │        │                                       │            │            │                                       │       │                                       │\n",
            "│                   │ i.Model)                              │                                       │               │        │                                       │            │            │                                       │       │                                       │\n",
            "├───────────────────┼───────────────────────────────────────┼───────────────────────────────────────┼───────────────┼────────┼───────────────────────────────────────┼────────────┼────────────┼───────────────────────────────────────┼───────┼───────────────────────────────────────┤\n",
            "│ issue             │ com.example.vulnspring.WebController. │ java.lang.String(org.springframework. │           224 │ METHOD │ public String issue(Model model)      │ False      │        221 │                                   741 │    14 │ src/main/java/com/example/vulnspring/ │\n",
            "│                   │ issue:java.lang.String(org.springfram │ ui.Model)                             │               │        │                                       │            │            │                                       │       │ WebController.java                    │\n",
            "│                   │ ework.ui.Model)                       │                                       │               │        │                                       │            │            │                                       │       │                                       │\n",
            "├───────────────────┼───────────────────────────────────────┼───────────────────────────────────────┼───────────────┼────────┼───────────────────────────────────────┼────────────┼────────────┼───────────────────────────────────────┼───────┼───────────────────────────────────────┤\n",
            "│ issue             │ com.example.vulnspring.WebController. │ java.lang.String(org.springframework. │           239 │ METHOD │ public String issue(Model model, @Req │ False      │        226 │                                   754 │    15 │ src/main/java/com/example/vulnspring/ │\n",
            "│                   │ issue:java.lang.String(org.springfram │ ui.Model,java.lang.String)            │               │        │                                       │            │            │                                       │       │ WebController.java                    │\n",
            "│                   │ ework.ui.Model,java.lang.String)      │                                       │               │        │                                       │            │            │                                       │       │                                       │\n",
            "├───────────────────┼───────────────────────────────────────┼───────────────────────────────────────┼───────────────┼────────┼───────────────────────────────────────┼────────────┼────────────┼───────────────────────────────────────┼───────┼───────────────────────────────────────┤\n",
            "│ getNodeString     │ com.example.vulnspring.WebController. │ <unresolvedSignature>(2)              │           256 │ METHOD │ StringBuffer getNodeString(Node node, │ False      │        241 │                                   825 │    16 │ src/main/java/com/example/vulnspring/ │\n",
            "│                   │ getNodeString:<unresolvedSignature>(2 │                                       │               │        │                                       │            │            │                                       │       │ WebController.java                    │\n",
            "│                   │ )                                     │                                       │               │        │                                       │            │            │                                       │       │                                       │\n",
            "├───────────────────┼───────────────────────────────────────┼───────────────────────────────────────┼───────────────┼────────┼───────────────────────────────────────┼────────────┼────────────┼───────────────────────────────────────┼───────┼───────────────────────────────────────┤\n",
            "│ support           │ com.example.vulnspring.WebController. │ java.lang.String(java.lang.String)    │           265 │ METHOD │ public String support(@RequestParam(r │ False      │        258 │                                   896 │    17 │ src/main/java/com/example/vulnspring/ │\n",
            "│                   │ support:java.lang.String(java.lang.St │                                       │               │        │                                       │            │            │                                       │       │ WebController.java                    │\n",
            "│                   │ ring)                                 │                                       │               │        │                                       │            │            │                                       │       │                                       │\n",
            "├───────────────────┼───────────────────────────────────────┼───────────────────────────────────────┼───────────────┼────────┼───────────────────────────────────────┼────────────┼────────────┼───────────────────────────────────────┼───────┼───────────────────────────────────────┤\n",
            "│ support           │ com.example.vulnspring.WebController. │ java.lang.String(org.springframework. │           272 │ METHOD │ public String support(Model model)    │ False      │        267 │                                   925 │    18 │ src/main/java/com/example/vulnspring/ │\n",
            "│                   │ support:java.lang.String(org.springfr │ ui.Model)                             │               │        │                                       │            │            │                                       │       │ WebController.java                    │\n",
            "│                   │ amework.ui.Model)                     │                                       │               │        │                                       │            │            │                                       │       │                                       │\n",
            "├───────────────────┼───────────────────────────────────────┼───────────────────────────────────────┼───────────────┼────────┼───────────────────────────────────────┼────────────┼────────────┼───────────────────────────────────────┼───────┼───────────────────────────────────────┤\n",
            "│ jwt               │ com.example.vulnspring.WebController. │ java.lang.String(javax.servlet.http.H │           284 │ METHOD │ public String jwt(HttpSession session │ False      │        274 │                                   942 │    19 │ src/main/java/com/example/vulnspring/ │\n",
            "│                   │ jwt:java.lang.String(javax.servlet.ht │ ttpSession,org.springframework.ui.Mod │               │        │                                       │            │            │                                       │       │ WebController.java                    │\n",
            "│                   │ tp.HttpSession,org.springframework.ui │ el)                                   │               │        │                                       │            │            │                                       │       │                                       │\n",
            "│                   │ .Model)                               │                                       │               │        │                                       │            │            │                                       │       │                                       │\n",
            "├───────────────────┼───────────────────────────────────────┼───────────────────────────────────────┼───────────────┼────────┼───────────────────────────────────────┼────────────┼────────────┼───────────────────────────────────────┼───────┼───────────────────────────────────────┤\n",
            "│ jwt               │ com.example.vulnspring.WebController. │ java.lang.String(org.springframework. │           298 │ METHOD │ public String jwt(Model model, @Reque │ False      │        286 │                                   992 │    20 │ src/main/java/com/example/vulnspring/ │\n",
            "│                   │ jwt:java.lang.String(org.springframew │ ui.Model,java.lang.String,javax.servl │               │        │                                       │            │            │                                       │       │ WebController.java                    │\n",
            "│                   │ ork.ui.Model,java.lang.String,javax.s │ et.http.HttpSession)                  │               │        │                                       │            │            │                                       │       │                                       │\n",
            "│                   │ ervlet.http.HttpSession)              │                                       │               │        │                                       │            │            │                                       │       │                                       │\n",
            "├───────────────────┼───────────────────────────────────────┼───────────────────────────────────────┼───────────────┼────────┼───────────────────────────────────────┼────────────┼────────────┼───────────────────────────────────────┼───────┼───────────────────────────────────────┤\n",
            "│ addressValidation │ com.example.vulnspring.WebController. │ java.lang.String(org.springframework. │           311 │ METHOD │ public String addressValidation(Model │ False      │        300 │                                  1040 │    21 │ src/main/java/com/example/vulnspring/ │\n",
            "│                   │ addressValidation:java.lang.String(or │ ui.Model)                             │               │        │                                       │            │            │                                       │       │ WebController.java                    │\n",
            "│                   │ g.springframework.ui.Model)           │                                       │               │        │                                       │            │            │                                       │       │                                       │\n",
            "├───────────────────┼───────────────────────────────────────┼───────────────────────────────────────┼───────────────┼────────┼───────────────────────────────────────┼────────────┼────────────┼───────────────────────────────────────┼───────┼───────────────────────────────────────┤\n",
            "│ addressValidation │ com.example.vulnspring.WebController. │ java.lang.String(org.springframework. │           331 │ METHOD │ public String addressValidation(Model │ False      │        313 │                                  1085 │    22 │ src/main/java/com/example/vulnspring/ │\n",
            "│                   │ addressValidation:java.lang.String(or │ ui.Model,java.lang.String)            │               │        │                                       │            │            │                                       │       │ WebController.java                    │\n",
            "│                   │ g.springframework.ui.Model,java.lang. │                                       │               │        │                                       │            │            │                                       │       │                                       │\n",
            "│                   │ String)                               │                                       │               │        │                                       │            │            │                                       │       │                                       │\n",
            "├───────────────────┼───────────────────────────────────────┼───────────────────────────────────────┼───────────────┼────────┼───────────────────────────────────────┼────────────┼────────────┼───────────────────────────────────────┼───────┼───────────────────────────────────────┤\n",
            "│ <init>            │ com.example.vulnspring.WebController. │ void()                                │        METHOD │        │ False                                 │ 1149       │         23 │ src/main/java/com/example/vulnspring/ │       │                                       │\n",
            "│                   │ <init>:void()                         │                                       │               │        │                                       │            │            │                    WebController.java │       │                                       │\n",
            "├───────────────────┼───────────────────────────────────────┼───────────────────────────────────────┼───────────────┼────────┼───────────────────────────────────────┼────────────┼────────────┼───────────────────────────────────────┼───────┼───────────────────────────────────────┤\n",
            "│ <clinit>          │ com.example.vulnspring.WebController. │ void()                                │        METHOD │        │ False                                 │ 1156       │         25 │                                       │       │                                       │\n",
            "│                   │ <clinit>:void()                       │                                       │               │        │                                       │            │            │                                       │       │                                       │\n",
            "├───────────────────┼───────────────────────────────────────┼───────────────────────────────────────┼───────────────┼────────┼───────────────────────────────────────┼────────────┼────────────┼───────────────────────────────────────┼───────┼───────────────────────────────────────┤\n",
            "│ getStreetNumber   │ com.example.vulnspring.AddressDetails │ int()                                 │           340 │ METHOD │ public int getStreetNumber()          │ False      │        338 │                                  1169 │     2 │ src/main/java/com/example/vulnspring/ │\n",
            "│                   │ .getStreetNumber:int()                │                                       │               │        │                                       │            │            │                                       │       │ WebController.java                    │\n",
            "├───────────────────┼───────────────────────────────────────┼───────────────────────────────────────┼───────────────┼────────┼───────────────────────────────────────┼────────────┼────────────┼───────────────────────────────────────┼───────┼───────────────────────────────────────┤\n",
            "│ getStreetName     │ com.example.vulnspring.AddressDetails │ java.lang.String()                    │           344 │ METHOD │ public String getStreetName()         │ False      │        342 │                                  1179 │     3 │ src/main/java/com/example/vulnspring/ │\n",
            "│                   │ .getStreetName:java.lang.String()     │                                       │               │        │                                       │            │            │                                       │       │ WebController.java                    │\n",
            "├───────────────────┼───────────────────────────────────────┼───────────────────────────────────────┼───────────────┼────────┼───────────────────────────────────────┼────────────┼────────────┼───────────────────────────────────────┼───────┼───────────────────────────────────────┤\n",
            "│ <init>            │ com.example.vulnspring.AddressDetails │ void(int,java.lang.String)            │           351 │ METHOD │ AddressDetails(int streetNumber, Stri │ False      │        348 │                                  1190 │     5 │ src/main/java/com/example/vulnspring/ │\n",
            "│                   │ .<init>:void(int,java.lang.String)    │                                       │               │        │                                       │            │            │                                       │       │ WebController.java                    │\n",
            "├───────────────────┼───────────────────────────────────────┼───────────────────────────────────────┼───────────────┼────────┼───────────────────────────────────────┼────────────┼────────────┼───────────────────────────────────────┼───────┼───────────────────────────────────────┤\n",
            "│ toString          │ com.example.vulnspring.AddressDetails │ java.lang.String()                    │           356 │ METHOD │ public String toString()              │ False      │        353 │                                  1204 │     6 │ src/main/java/com/example/vulnspring/ │\n",
            "│                   │ .toString:java.lang.String()          │                                       │               │        │                                       │            │            │                                       │       │ WebController.java                    │\n",
            "├───────────────────┼───────────────────────────────────────┼───────────────────────────────────────┼───────────────┼────────┼───────────────────────────────────────┼────────────┼────────────┼───────────────────────────────────────┼───────┼───────────────────────────────────────┤\n",
            "│ main              │ com.example.vulnspring.VulnSpringAppl │ void(java.lang.String[])              │            11 │ METHOD │ public static void main(String[] args │ False      │          9 │                                  1268 │     1 │ src/main/java/com/example/vulnspring/ │\n",
            "│                   │ ication.main:void(java.lang.String[]) │                                       │               │        │                                       │            │            │                                       │       │ VulnSpringApplication.java            │\n",
            "├───────────────────┼───────────────────────────────────────┼───────────────────────────────────────┼───────────────┼────────┼───────────────────────────────────────┼────────────┼────────────┼───────────────────────────────────────┼───────┼───────────────────────────────────────┤\n",
            "│ <init>            │ com.example.vulnspring.VulnSpringAppl │ void()                                │        METHOD │        │ False                                 │ 1281       │          2 │ src/main/java/com/example/vulnspring/ │       │                                       │\n",
            "│                   │ ication.<init>:void()                 │                                       │               │        │                                       │            │            │            VulnSpringApplication.java │       │                                       │\n",
            "├───────────────────┼───────────────────────────────────────┼───────────────────────────────────────┼───────────────┼────────┼───────────────────────────────────────┼────────────┼────────────┼───────────────────────────────────────┼───────┼───────────────────────────────────────┤\n",
            "│ doFilter          │ com.example.vulnspring.SessionFilter. │ void(javax.servlet.ServletRequest,jav │            40 │ METHOD │ public void doFilter(ServletRequest r │ False      │         23 │                                  1311 │     2 │ src/main/java/com/example/vulnspring/ │\n",
            "│                   │ doFilter:void(javax.servlet.ServletRe │ ax.servlet.ServletResponse,javax.serv │               │        │                                       │            │            │                                       │       │ SessionFilter.java                    │\n",
            "│                   │ quest,javax.servlet.ServletResponse,j │ let.FilterChain)                      │               │        │                                       │            │            │                                       │       │                                       │\n",
            "│                   │ avax.servlet.FilterChain)             │                                       │               │        │                                       │            │            │                                       │       │                                       │\n",
            "├───────────────────┼───────────────────────────────────────┼───────────────────────────────────────┼───────────────┼────────┼───────────────────────────────────────┼────────────┼────────────┼───────────────────────────────────────┼───────┼───────────────────────────────────────┤\n",
            "│ <init>            │ com.example.vulnspring.SessionFilter. │ void()                                │        METHOD │        │ False                                 │ 1384       │          3 │ src/main/java/com/example/vulnspring/ │       │                                       │\n",
            "│                   │ <init>:void()                         │                                       │               │        │                                       │            │            │                    SessionFilter.java │       │                                       │\n",
            "├───────────────────┼───────────────────────────────────────┼───────────────────────────────────────┼───────────────┼────────┼───────────────────────────────────────┼────────────┼────────────┼───────────────────────────────────────┼───────┼───────────────────────────────────────┤\n",
            "│ <clinit>          │ com.example.vulnspring.SessionFilter. │ void()                                │        METHOD │        │ False                                 │ 1396       │          6 │                                       │       │                                       │\n",
            "│                   │ <clinit>:void()                       │                                       │               │        │                                       │            │            │                                       │       │                                       │\n",
            "└───────────────────┴───────────────────────────────────────┴───────────────────────────────────────┴───────────────┴────────┴───────────────────────────────────────┴────────────┴────────────┴───────────────────────────────────────┴───────┴───────────────────────────────────────┘\n"
          ],
          "output_type" : "stream"
        }
      ]
    },
    {
      "cell_type" : "markdown",
      "execution_count" : 7,
      "metadata" : {
        "language" : "text"
      },
      "language" : "text",
      "source" : [
        "## Inspect annotations\n",
        "\n",
        "Inspecting annotations is a quicker way to identify the various http routes, components, and controllers in web applications. You can use the `list_annotations` api from cpg."
      ],
      "outputs" : [
      ]
    },
    {
      "cell_type" : "code",
      "execution_count" : 8,
      "metadata" : {
        "cell.metadata.exec_info" : {
          "startTs" : 1683317829162,
          "endTs" : 1683317839660
        },
        "language" : "python"
      },
      "language" : "python",
      "source" : [
        "async def inspect_annotations():\n",
        "    connection = await client.get(joern_host, cpggen_host, joern_username, joern_password)\n",
        "    res = await cpg.list_annotations(connection)\n",
        "    print_table(res, title=\"vuln-spring annotations\")\n",
        "asyncio.run(inspect_annotations())"
      ],
      "outputs" : [
        {
          "name" : "stdout",
          "text" : [
            "                                                                                                                                vuln-spring annotations                                                                                                                                 \n",
            "┏━━━━━━━━━━━━━━━━━━━━━━━━━━━━━━┳━━━━━━━━━━━━━━━━━━━━━━━━━━━━━━━━━━━━━━━━━━━━━━━━━━━━━━━━━━━━━━━━━━━━━━━━━━━━━━━━━━━━━━━━━━━━━━━━━┳━━━━━━━━━┳━━━━━━━━━━━━━━━━┳━━━━━━━━━━━━━━━━━━━┳━━━━━━━━━━━━━━━━━━━━━━━━━━━━━━━━━━━━━━━━━━━━━━━━━━━━━━━━━━━━━━━━━━━━━━━━━━━━━━┳━━━━━━━━━━━━━━━┳━━━━━━━┓\n",
            "┃ name                         ┃ code                                                                                            ┃   order ┃ _label         ┃     argumentIndex ┃ fullName                                                                     ┃    lineNumber ┃    id ┃\n",
            "┡━━━━━━━━━━━━━━━━━━━━━━━━━━━━━━╇━━━━━━━━━━━━━━━━━━━━━━━━━━━━━━━━━━━━━━━━━━━━━━━━━━━━━━━━━━━━━━━━━━━━━━━━━━━━━━━━━━━━━━━━━━━━━━━━━╇━━━━━━━━━╇━━━━━━━━━━━━━━━━╇━━━━━━━━━━━━━━━━━━━╇━━━━━━━━━━━━━━━━━━━━━━━━━━━━━━━━━━━━━━━━━━━━━━━━━━━━━━━━━━━━━━━━━━━━━━━━━━━━━━╇━━━━━━━━━━━━━━━╇━━━━━━━┩\n",
            "│ Autowired                    │ @Autowired                                                                                      │       1 │ ANNOTATION     │                -1 │ org.springframework.beans.factory.annotation.Autowired                       │            41 │    71 │\n",
            "├──────────────────────────────┼─────────────────────────────────────────────────────────────────────────────────────────────────┼─────────┼────────────────┼───────────────────┼──────────────────────────────────────────────────────────────────────────────┼───────────────┼───────┤\n",
            "│ GetMapping                   │ @GetMapping(value = { \"/\", \"/home\" })                                                           │       7 │ ANNOTATION     │                -1 │ org.springframework.web.bind.annotation.GetMapping                           │            46 │    90 │\n",
            "├──────────────────────────────┼─────────────────────────────────────────────────────────────────────────────────────────────────┼─────────┼────────────────┼───────────────────┼──────────────────────────────────────────────────────────────────────────────┼───────────────┼───────┤\n",
            "│ GetMapping                   │ @GetMapping(\"/login\")                                                                           │       6 │ ANNOTATION     │                -1 │ org.springframework.web.bind.annotation.GetMapping                           │            52 │   105 │\n",
            "├──────────────────────────────┼─────────────────────────────────────────────────────────────────────────────────────────────────┼─────────┼────────────────┼───────────────────┼──────────────────────────────────────────────────────────────────────────────┼───────────────┼───────┤\n",
            "│ RequestParam                 │ @RequestParam(name = \"username\", required = true)                                               │       1 │ ANNOTATION     │                -1 │ org.springframework.web.bind.annotation.RequestParam                         │            58 │   113 │\n",
            "├──────────────────────────────┼─────────────────────────────────────────────────────────────────────────────────────────────────┼─────────┼────────────────┼───────────────────┼──────────────────────────────────────────────────────────────────────────────┼───────────────┼───────┤\n",
            "│ RequestParam                 │ @RequestParam(name = \"password\", required = true)                                               │       1 │ ANNOTATION     │                -1 │ org.springframework.web.bind.annotation.RequestParam                         │            59 │   121 │\n",
            "├──────────────────────────────┼─────────────────────────────────────────────────────────────────────────────────────────────────┼─────────┼────────────────┼───────────────────┼──────────────────────────────────────────────────────────────────────────────┼───────────────┼───────┤\n",
            "│ PostMapping                  │ @PostMapping(\"/login\")                                                                          │       9 │ ANNOTATION     │                -1 │ org.springframework.web.bind.annotation.PostMapping                          │            57 │   163 │\n",
            "├──────────────────────────────┼─────────────────────────────────────────────────────────────────────────────────────────────────┼─────────┼────────────────┼───────────────────┼──────────────────────────────────────────────────────────────────────────────┼───────────────┼───────┤\n",
            "│ GetMapping                   │ @GetMapping(\"/logout\")                                                                          │       6 │ ANNOTATION     │                -1 │ org.springframework.web.bind.annotation.GetMapping                           │            85 │   231 │\n",
            "├──────────────────────────────┼─────────────────────────────────────────────────────────────────────────────────────────────────┼─────────┼────────────────┼───────────────────┼──────────────────────────────────────────────────────────────────────────────┼───────────────┼───────┤\n",
            "│ GetMapping                   │ @GetMapping(\"/update\")                                                                          │       7 │ ANNOTATION     │                -1 │ org.springframework.web.bind.annotation.GetMapping                           │            91 │   268 │\n",
            "├──────────────────────────────┼─────────────────────────────────────────────────────────────────────────────────────────────────┼─────────┼────────────────┼───────────────────┼──────────────────────────────────────────────────────────────────────────────┼───────────────┼───────┤\n",
            "│ RequestParam                 │ @RequestParam(name = \"newname\")                                                                 │       1 │ ANNOTATION     │                -1 │ org.springframework.web.bind.annotation.RequestParam                         │           103 │   277 │\n",
            "├──────────────────────────────┼─────────────────────────────────────────────────────────────────────────────────────────────────┼─────────┼────────────────┼───────────────────┼──────────────────────────────────────────────────────────────────────────────┼───────────────┼───────┤\n",
            "│ PostMapping                  │ @PostMapping(\"/update\")                                                                         │       8 │ ANNOTATION     │                -1 │ org.springframework.web.bind.annotation.PostMapping                          │           102 │   342 │\n",
            "├──────────────────────────────┼─────────────────────────────────────────────────────────────────────────────────────────────────┼─────────┼────────────────┼───────────────────┼──────────────────────────────────────────────────────────────────────────────┼───────────────┼───────┤\n",
            "│ RequestParam                 │ @RequestParam(name = \"dbpath\")                                                                  │       1 │ ANNOTATION     │                -1 │ org.springframework.web.bind.annotation.RequestParam                         │           119 │   350 │\n",
            "├──────────────────────────────┼─────────────────────────────────────────────────────────────────────────────────────────────────┼─────────┼────────────────┼───────────────────┼──────────────────────────────────────────────────────────────────────────────┼───────────────┼───────┤\n",
            "│ PostMapping                  │ @PostMapping(\"/checkdb\")                                                                        │       7 │ ANNOTATION     │                -1 │ org.springframework.web.bind.annotation.PostMapping                          │           117 │   426 │\n",
            "├──────────────────────────────┼─────────────────────────────────────────────────────────────────────────────────────────────────┼─────────┼────────────────┼───────────────────┼──────────────────────────────────────────────────────────────────────────────┼───────────────┼───────┤\n",
            "│ ResponseBody                 │ @ResponseBody                                                                                   │       8 │ ANNOTATION     │                -1 │ org.springframework.web.bind.annotation.ResponseBody                         │           118 │   430 │\n",
            "├──────────────────────────────┼─────────────────────────────────────────────────────────────────────────────────────────────────┼─────────┼────────────────┼───────────────────┼──────────────────────────────────────────────────────────────────────────────┼───────────────┼───────┤\n",
            "│ GetMapping                   │ @GetMapping(\"/checkdb\")                                                                         │       5 │ ANNOTATION     │                -1 │ org.springframework.web.bind.annotation.GetMapping                           │           135 │   439 │\n",
            "├──────────────────────────────┼─────────────────────────────────────────────────────────────────────────────────────────────────┼─────────┼────────────────┼───────────────────┼──────────────────────────────────────────────────────────────────────────────┼───────────────┼───────┤\n",
            "│ GetMapping                   │ @GetMapping(\"/transfer\")                                                                        │       7 │ ANNOTATION     │                -1 │ org.springframework.web.bind.annotation.GetMapping                           │           140 │   482 │\n",
            "├──────────────────────────────┼─────────────────────────────────────────────────────────────────────────────────────────────────┼─────────┼────────────────┼───────────────────┼──────────────────────────────────────────────────────────────────────────────┼───────────────┼───────┤\n",
            "│ RequestParam                 │ @RequestParam(name = \"toaccount\")                                                               │       1 │ ANNOTATION     │                -1 │ org.springframework.web.bind.annotation.RequestParam                         │           154 │   491 │\n",
            "├──────────────────────────────┼─────────────────────────────────────────────────────────────────────────────────────────────────┼─────────┼────────────────┼───────────────────┼──────────────────────────────────────────────────────────────────────────────┼───────────────┼───────┤\n",
            "│ RequestParam                 │ @RequestParam(name = \"amount\")                                                                  │       1 │ ANNOTATION     │                -1 │ org.springframework.web.bind.annotation.RequestParam                         │           155 │   496 │\n",
            "├──────────────────────────────┼─────────────────────────────────────────────────────────────────────────────────────────────────┼─────────┼────────────────┼───────────────────┼──────────────────────────────────────────────────────────────────────────────┼───────────────┼───────┤\n",
            "│ Transactional                │ @Transactional                                                                                  │       9 │ ANNOTATION     │                -1 │ org.springframework.transaction.annotation.Transactional                     │           152 │   735 │\n",
            "├──────────────────────────────┼─────────────────────────────────────────────────────────────────────────────────────────────────┼─────────┼────────────────┼───────────────────┼──────────────────────────────────────────────────────────────────────────────┼───────────────┼───────┤\n",
            "│ PostMapping                  │ @PostMapping(\"/transfer\")                                                                       │      10 │ ANNOTATION     │                -1 │ org.springframework.web.bind.annotation.PostMapping                          │           153 │   736 │\n",
            "├──────────────────────────────┼─────────────────────────────────────────────────────────────────────────────────────────────────┼─────────┼────────────────┼───────────────────┼──────────────────────────────────────────────────────────────────────────────┼───────────────┼───────┤\n",
            "│ GetMapping                   │ @GetMapping(\"/issue\")                                                                           │       6 │ ANNOTATION     │                -1 │ org.springframework.web.bind.annotation.GetMapping                           │           221 │   749 │\n",
            "├──────────────────────────────┼─────────────────────────────────────────────────────────────────────────────────────────────────┼─────────┼────────────────┼───────────────────┼──────────────────────────────────────────────────────────────────────────────┼───────────────┼───────┤\n",
            "│ RequestBody                  │ @RequestBody                                                                                    │       1 │ ANNOTATION     │                -1 │ org.springframework.web.bind.annotation.RequestBody                          │           227 │   757 │\n",
            "├──────────────────────────────┼─────────────────────────────────────────────────────────────────────────────────────────────────┼─────────┼────────────────┼───────────────────┼──────────────────────────────────────────────────────────────────────────────┼───────────────┼───────┤\n",
            "│ PostMapping                  │ @PostMapping(value = \"/issue\", consumes = MediaType.APPLICATION_XML_VALUE)                      │       7 │ ANNOTATION     │                -1 │ org.springframework.web.bind.annotation.PostMapping                          │           226 │   818 │\n",
            "├──────────────────────────────┼─────────────────────────────────────────────────────────────────────────────────────────────────┼─────────┼────────────────┼───────────────────┼──────────────────────────────────────────────────────────────────────────────┼───────────────┼───────┤\n",
            "│ RequestParam                 │ @RequestParam(required = false)                                                                 │       1 │ ANNOTATION     │                -1 │ org.springframework.web.bind.annotation.RequestParam                         │           259 │   899 │\n",
            "├──────────────────────────────┼─────────────────────────────────────────────────────────────────────────────────────────────────┼─────────┼────────────────┼───────────────────┼──────────────────────────────────────────────────────────────────────────────┼───────────────┼───────┤\n",
            "│ GetMapping                   │ @GetMapping(\"/support\")                                                                         │       6 │ ANNOTATION     │                -1 │ org.springframework.web.bind.annotation.GetMapping                           │           258 │   920 │\n",
            "├──────────────────────────────┼─────────────────────────────────────────────────────────────────────────────────────────────────┼─────────┼────────────────┼───────────────────┼──────────────────────────────────────────────────────────────────────────────┼───────────────┼───────┤\n",
            "│ GetMapping                   │ @GetMapping(\"/support/*\")                                                                       │       6 │ ANNOTATION     │                -1 │ org.springframework.web.bind.annotation.GetMapping                           │           267 │   937 │\n",
            "├──────────────────────────────┼─────────────────────────────────────────────────────────────────────────────────────────────────┼─────────┼────────────────┼───────────────────┼──────────────────────────────────────────────────────────────────────────────┼───────────────┼───────┤\n",
            "│ GetMapping                   │ @GetMapping(\"/token\")                                                                           │       7 │ ANNOTATION     │                -1 │ org.springframework.web.bind.annotation.GetMapping                           │           274 │   987 │\n",
            "├──────────────────────────────┼─────────────────────────────────────────────────────────────────────────────────────────────────┼─────────┼────────────────┼───────────────────┼──────────────────────────────────────────────────────────────────────────────┼───────────────┼───────┤\n",
            "│ RequestParam                 │ @RequestParam                                                                                   │       1 │ ANNOTATION     │                -1 │ org.springframework.web.bind.annotation.RequestParam                         │           287 │   996 │\n",
            "├──────────────────────────────┼─────────────────────────────────────────────────────────────────────────────────────────────────┼─────────┼────────────────┼───────────────────┼──────────────────────────────────────────────────────────────────────────────┼───────────────┼───────┤\n",
            "│ PostMapping                  │ @PostMapping(\"/token\")                                                                          │       8 │ ANNOTATION     │                -1 │ org.springframework.web.bind.annotation.PostMapping                          │           286 │  1035 │\n",
            "├──────────────────────────────┼─────────────────────────────────────────────────────────────────────────────────────────────────┼─────────┼────────────────┼───────────────────┼──────────────────────────────────────────────────────────────────────────────┼───────────────┼───────┤\n",
            "│ GetMapping                   │ @GetMapping(\"/address\")                                                                         │       6 │ ANNOTATION     │                -1 │ org.springframework.web.bind.annotation.GetMapping                           │           300 │  1080 │\n",
            "├──────────────────────────────┼─────────────────────────────────────────────────────────────────────────────────────────────────┼─────────┼────────────────┼───────────────────┼──────────────────────────────────────────────────────────────────────────────┼───────────────┼───────┤\n",
            "│ RequestParam                 │ @RequestParam                                                                                   │       1 │ ANNOTATION     │                -1 │ org.springframework.web.bind.annotation.RequestParam                         │           314 │  1089 │\n",
            "├──────────────────────────────┼─────────────────────────────────────────────────────────────────────────────────────────────────┼─────────┼────────────────┼───────────────────┼──────────────────────────────────────────────────────────────────────────────┼───────────────┼───────┤\n",
            "│ PostMapping                  │ @PostMapping(\"/address\")                                                                        │       7 │ ANNOTATION     │                -1 │ org.springframework.web.bind.annotation.PostMapping                          │           313 │  1144 │\n",
            "├──────────────────────────────┼─────────────────────────────────────────────────────────────────────────────────────────────────┼─────────┼────────────────┼───────────────────┼──────────────────────────────────────────────────────────────────────────────┼───────────────┼───────┤\n",
            "│ Controller                   │ @Controller                                                                                     │      24 │ ANNOTATION     │                -1 │ org.springframework.stereotype.Controller                                    │            38 │  1155 │\n",
            "├──────────────────────────────┼─────────────────────────────────────────────────────────────────────────────────────────────────┼─────────┼────────────────┼───────────────────┼──────────────────────────────────────────────────────────────────────────────┼───────────────┼───────┤\n",
            "│ Override                     │ @Override                                                                                       │       5 │ ANNOTATION     │                -1 │ <unresolvedNamespace>.Override                                               │           353 │  1223 │\n",
            "├──────────────────────────────┼─────────────────────────────────────────────────────────────────────────────────────────────────┼─────────┼────────────────┼───────────────────┼──────────────────────────────────────────────────────────────────────────────┼───────────────┼───────┤\n",
            "│ SpringBootApplication        │ @SpringBootApplication                                                                          │       3 │ ANNOTATION     │                -1 │ org.springframework.boot.autoconfigure.SpringBootApplication                 │             6 │  1287 │\n",
            "├──────────────────────────────┼─────────────────────────────────────────────────────────────────────────────────────────────────┼─────────┼────────────────┼───────────────────┼──────────────────────────────────────────────────────────────────────────────┼───────────────┼───────┤\n",
            "│ Override                     │ @Override                                                                                       │       8 │ ANNOTATION     │                -1 │ <unresolvedNamespace>.Override                                               │            23 │  1382 │\n",
            "├──────────────────────────────┼─────────────────────────────────────────────────────────────────────────────────────────────────┼─────────┼────────────────┼───────────────────┼──────────────────────────────────────────────────────────────────────────────┼───────────────┼───────┤\n",
            "│ Component                    │ @Component                                                                                      │       4 │ ANNOTATION     │                -1 │ org.springframework.stereotype.Component                                     │            18 │  1390 │\n",
            "├──────────────────────────────┼─────────────────────────────────────────────────────────────────────────────────────────────────┼─────────┼────────────────┼───────────────────┼──────────────────────────────────────────────────────────────────────────────┼───────────────┼───────┤\n",
            "│ WebFilter                    │ @WebFilter(urlPatterns = { \"*\" })                                                               │       5 │ ANNOTATION     │                -1 │ javax.servlet.annotation.WebFilter                                           │            19 │  1391 │\n",
            "└──────────────────────────────┴─────────────────────────────────────────────────────────────────────────────────────────────────┴─────────┴────────────────┴───────────────────┴──────────────────────────────────────────────────────────────────────────────┴───────────────┴───────┘\n"
          ],
          "output_type" : "stream"
        }
      ]
    },
    {
      "cell_type" : "markdown",
      "execution_count" : 9,
      "metadata" : {
        "language" : "text"
      },
      "language" : "text",
      "source" : [
        "## Identify complex methods\n",
        "\n",
        "Complex methods typically contain a number of control structures. A convenient function called `get_complex_functions` could be used with the `n` argument to identify such methods of interest."
      ],
      "outputs" : [
      ]
    },
    {
      "cell_type" : "code",
      "execution_count" : 10,
      "metadata" : {
        "cell.metadata.exec_info" : {
          "startTs" : 1683317839666,
          "endTs" : 1683317850175
        },
        "language" : "python"
      },
      "language" : "python",
      "source" : [
        "async def inspect_complex_methods():\n",
        "    connection = await client.get(joern_host, cpggen_host, joern_username, joern_password)\n",
        "    res = await cpg.get_complex_methods(connection, n=3)\n",
        "    print_table(res, title=\"vuln-spring complex methods\")\n",
        "asyncio.run(inspect_complex_methods())"
      ],
      "outputs" : [
        {
          "name" : "stdout",
          "text" : [
            "                                                                                                                              vuln-spring complex methods                                                                                                                               \n",
            "┏━━━━━━━━━━━━━━━━━━━━━━━━┳━━━━━━━━━━━━━━┳━━━━━━━━━━━━━━━━━━━━━━━━━━━━━━━━━━━━━━━━━━┳━━━━━━━━━━━━━━━━━━━━━━━━━━━━━━━━━━━━━━┳━━━━━━━━━━━━━━━━━━━━━━━━━━━━━━━━━━━━━━━━━━┳━━━━━━━━━━━━┳━━━━━━━━━━━━━━━━┳━━━━━━━━━━━━━━━━━┳━━━━━━━━━━━━━━━━━━━━━━━━━━━━━━━━━━━━━━━━━━┳━━━━━━━━━━┳━━━━━━━━━━━┓\n",
            "┃ packageName            ┃ symbol       ┃ filename                                 ┃ className                            ┃ methodFullName                           ┃ lineNumber ┃ classShortName ┃ methodShortName ┃ node                                     ┃ _label   ┃ nodeLabel ┃\n",
            "┡━━━━━━━━━━━━━━━━━━━━━━━━╇━━━━━━━━━━━━━━╇━━━━━━━━━━━━━━━━━━━━━━━━━━━━━━━━━━━━━━━━━━╇━━━━━━━━━━━━━━━━━━━━━━━━━━━━━━━━━━━━━━╇━━━━━━━━━━━━━━━━━━━━━━━━━━━━━━━━━━━━━━━━━━╇━━━━━━━━━━━━╇━━━━━━━━━━━━━━━━╇━━━━━━━━━━━━━━━━━╇━━━━━━━━━━━━━━━━━━━━━━━━━━━━━━━━━━━━━━━━━━╇━━━━━━━━━━╇━━━━━━━━━━━┩\n",
            "│ com.example.vulnspring │ loginSuccess │ src/main/java/com/example/vulnspring/Web │ com.example.vulnspring.WebController │ com.example.vulnspring.WebController.log │         69 │ WebController  │ loginSuccess    │ {                                        │ LOCATION │ METHOD    │\n",
            "│                        │              │ Controller.java                          │                                      │ inSuccess:boolean(java.lang.String,java. │            │                │                 │   \"name\": \"loginSuccess\",                │          │           │\n",
            "│                        │              │                                          │                                      │ lang.String)                             │            │                │                 │   \"astParentFullName\": \"<empty>\",        │          │           │\n",
            "│                        │              │                                          │                                      │                                          │            │                │                 │   \"columnNumberEnd\": 2,                  │          │           │\n",
            "│                        │              │                                          │                                      │                                          │            │                │                 │   \"fullName\": \"com.example.vulnspring.We │          │           │\n",
            "│                        │              │                                          │                                      │                                          │            │                │                 │   \"signature\": \"boolean(java.lang.String │          │           │\n",
            "│                        │              │                                          │                                      │                                          │            │                │                 │   \"astParentType\": \"<empty>\",            │          │           │\n",
            "│                        │              │                                          │                                      │                                          │            │                │                 │   \"columnNumber\": 2,                     │          │           │\n",
            "│                        │              │                                          │                                      │                                          │            │                │                 │   \"lineNumberEnd\": 83,                   │          │           │\n",
            "│                        │              │                                          │                                      │                                          │            │                │                 │   \"_label\": \"METHOD\",                    │          │           │\n",
            "│                        │              │                                          │                                      │                                          │            │                │                 │   \"code\": \"private boolean loginSuccess( │          │           │\n",
            "│                        │              │                                          │                                      │                                          │            │                │                 │   \"isExternal\": false,                   │          │           │\n",
            "│                        │              │                                          │                                      │                                          │            │                │                 │   \"lineNumber\": 69,                      │          │           │\n",
            "│                        │              │                                          │                                      │                                          │            │                │                 │   \"id\": 168,                             │          │           │\n",
            "│                        │              │                                          │                                      │                                          │            │                │                 │   \"order\": 6,                            │          │           │\n",
            "│                        │              │                                          │                                      │                                          │            │                │                 │   \"filename\": \"src/main/java/com/example │          │           │\n",
            "│                        │              │                                          │                                      │                                          │            │                │                 │ }                                        │          │           │\n",
            "├────────────────────────┼──────────────┼──────────────────────────────────────────┼──────────────────────────────────────┼──────────────────────────────────────────┼────────────┼────────────────┼─────────────────┼──────────────────────────────────────────┼──────────┼───────────┤\n",
            "│ com.example.vulnspring │ transfer     │ src/main/java/com/example/vulnspring/Web │ com.example.vulnspring.WebController │ com.example.vulnspring.WebController.tra │        152 │ WebController  │ transfer        │ {                                        │ LOCATION │ METHOD    │\n",
            "│                        │              │ Controller.java                          │                                      │ nsfer:java.lang.String(javax.servlet.htt │            │                │                 │   \"name\": \"transfer\",                    │          │           │\n",
            "│                        │              │                                          │                                      │ p.HttpSession,java.lang.String,java.lang │            │                │                 │   \"astParentFullName\": \"<empty>\",        │          │           │\n",
            "│                        │              │                                          │                                      │ .Float,org.springframework.ui.Model)     │            │                │                 │   \"columnNumberEnd\": 2,                  │          │           │\n",
            "│                        │              │                                          │                                      │                                          │            │                │                 │   \"fullName\": \"com.example.vulnspring.We │          │           │\n",
            "│                        │              │                                          │                                      │                                          │            │                │                 │   \"signature\": \"java.lang.String(javax.s │          │           │\n",
            "│                        │              │                                          │                                      │                                          │            │                │                 │   \"astParentType\": \"<empty>\",            │          │           │\n",
            "│                        │              │                                          │                                      │                                          │            │                │                 │   \"columnNumber\": 2,                     │          │           │\n",
            "│                        │              │                                          │                                      │                                          │            │                │                 │   \"lineNumberEnd\": 219,                  │          │           │\n",
            "│                        │              │                                          │                                      │                                          │            │                │                 │   \"_label\": \"METHOD\",                    │          │           │\n",
            "│                        │              │                                          │                                      │                                          │            │                │                 │   \"code\": \"public String transfer(HttpSe │          │           │\n",
            "│                        │              │                                          │                                      │                                          │            │                │                 │   \"isExternal\": false,                   │          │           │\n",
            "│                        │              │                                          │                                      │                                          │            │                │                 │   \"lineNumber\": 152,                     │          │           │\n",
            "│                        │              │                                          │                                      │                                          │            │                │                 │   \"id\": 487,                             │          │           │\n",
            "│                        │              │                                          │                                      │                                          │            │                │                 │   \"order\": 13,                           │          │           │\n",
            "│                        │              │                                          │                                      │                                          │            │                │                 │   \"filename\": \"src/main/java/com/example │          │           │\n",
            "│                        │              │                                          │                                      │                                          │            │                │                 │ }                                        │          │           │\n",
            "├────────────────────────┼──────────────┼──────────────────────────────────────────┼──────────────────────────────────────┼──────────────────────────────────────────┼────────────┼────────────────┼─────────────────┼──────────────────────────────────────────┼──────────┼───────────┤\n",
            "│ com.example.vulnspring │ doFilter     │ src/main/java/com/example/vulnspring/Ses │ com.example.vulnspring.SessionFilter │ com.example.vulnspring.SessionFilter.doF │         23 │ SessionFilter  │ doFilter        │ {                                        │ LOCATION │ METHOD    │\n",
            "│                        │              │ sionFilter.java                          │                                      │ ilter:void(javax.servlet.ServletRequest, │            │                │                 │   \"name\": \"doFilter\",                    │          │           │\n",
            "│                        │              │                                          │                                      │ javax.servlet.ServletResponse,javax.serv │            │                │                 │   \"astParentFullName\": \"<empty>\",        │          │           │\n",
            "│                        │              │                                          │                                      │ let.FilterChain)                         │            │                │                 │   \"columnNumberEnd\": 2,                  │          │           │\n",
            "│                        │              │                                          │                                      │                                          │            │                │                 │   \"fullName\": \"com.example.vulnspring.Se │          │           │\n",
            "│                        │              │                                          │                                      │                                          │            │                │                 │   \"signature\": \"void(javax.servlet.Servl │          │           │\n",
            "│                        │              │                                          │                                      │                                          │            │                │                 │   \"astParentType\": \"<empty>\",            │          │           │\n",
            "│                        │              │                                          │                                      │                                          │            │                │                 │   \"columnNumber\": 2,                     │          │           │\n",
            "│                        │              │                                          │                                      │                                          │            │                │                 │   \"lineNumberEnd\": 40,                   │          │           │\n",
            "│                        │              │                                          │                                      │                                          │            │                │                 │   \"_label\": \"METHOD\",                    │          │           │\n",
            "│                        │              │                                          │                                      │                                          │            │                │                 │   \"code\": \"public void doFilter(ServletR │          │           │\n",
            "│                        │              │                                          │                                      │                                          │            │                │                 │   \"isExternal\": false,                   │          │           │\n",
            "│                        │              │                                          │                                      │                                          │            │                │                 │   \"lineNumber\": 23,                      │          │           │\n",
            "│                        │              │                                          │                                      │                                          │            │                │                 │   \"id\": 1311,                            │          │           │\n",
            "│                        │              │                                          │                                      │                                          │            │                │                 │   \"order\": 2,                            │          │           │\n",
            "│                        │              │                                          │                                      │                                          │            │                │                 │   \"filename\": \"src/main/java/com/example │          │           │\n",
            "│                        │              │                                          │                                      │                                          │            │                │                 │ }                                        │          │           │\n",
            "└────────────────────────┴──────────────┴──────────────────────────────────────────┴──────────────────────────────────────┴──────────────────────────────────────────┴────────────┴────────────────┴─────────────────┴──────────────────────────────────────────┴──────────┴───────────┘\n"
          ],
          "output_type" : "stream"
        }
      ]
    },
    {
      "cell_type" : "markdown",
      "execution_count" : 11,
      "metadata" : {
        "language" : "text"
      },
      "language" : "text",
      "source" : [
        "## Get the call tree\n",
        "\n",
        "The next step in our journey is to visualize the call tree for some interesting methods to dig deeper."
      ],
      "outputs" : [
      ]
    },
    {
      "cell_type" : "code",
      "execution_count" : 12,
      "metadata" : {
        "cell.metadata.exec_info" : {
          "startTs" : 1683317850180,
          "endTs" : 1683317861283
        },
        "language" : "python"
      },
      "language" : "python",
      "source" : [
        "async def get_call_tree():\n",
        "    connection = await client.get(joern_host, cpggen_host, joern_username, joern_password)\n",
        "    res = await cpg.get_call_tree(connection, \"com.example.vulnspring.WebController.login:java.lang.String(javax.servlet.http.HttpSession,java.lang.String,java.lang.String,org.springframework.ui.Model)\")\n",
        "    print_tree(res)\n",
        "asyncio.run(get_call_tree())"
      ],
      "outputs" : [
        {
          "name" : "stdout",
          "text" : [
            "com.example.vulnspring.WebController.login:java.lang.String(javax.servlet.http.HttpSession,java.lang.String,java.lang.String,org.springframework.ui.Model)\n",
            "┣━━ org.slf4j.Logger.debug:void(java.lang.String)\n",
            "┣━━ com.example.vulnspring.WebController.loginSuccess:boolean(java.lang.String,java.lang.String)\n",
            "┣━━ org.springframework.jdbc.core.JdbcTemplate.queryForMap:java.util.Map(java.lang.String)\n",
            "┣━━ |    java.util.Map.containsKey:boolean(java.lang.Object)\n",
            "┣━━ |    |    org.slf4j.Logger.debug:void(java.lang.String)\n",
            "┗━━ |    |    |    javax.servlet.http.HttpSession.setAttribute:void(java.lang.String,java.lang.Object)\n"
          ],
          "output_type" : "stream"
        }
      ]
    },
    {
      "cell_type" : "markdown",
      "execution_count" : 13,
      "metadata" : {
        "language" : "text"
      },
      "language" : "text",
      "source" : [
        "## List HTTP routes and filters\n",
        "\n",
        "joern-lib comes packaged with useful api methods to simplify code analysis. `list_http_routes` and `list_http_filters` are starter methods to list some HTTP routes and filters (sources) for the application."
      ],
      "outputs" : [
      ]
    },
    {
      "cell_type" : "code",
      "execution_count" : 14,
      "metadata" : {
        "cell.metadata.exec_info" : {
          "startTs" : 1683317861289,
          "endTs" : 1683317871998
        },
        "language" : "python"
      },
      "language" : "python",
      "source" : [
        "async def get_routes():\n",
        "    connection = await client.get(joern_host, cpggen_host, joern_username, joern_password)\n",
        "    res = await java.list_http_routes(connection)\n",
        "    print_table(res, title=\"vuln-spring http routes\")\n",
        "asyncio.run(get_routes())"
      ],
      "outputs" : [
        {
          "name" : "stdout",
          "text" : [
            "                                                                                                                                vuln-spring http routes                                                                                                                                 \n",
            "┏━━━━━━━━━━━━━━━━━━━┳━━━━━━━━━━━━━━━━━━━━━━━━━━━━━━━━━━━━━━┳━━━━━━━━━━━━━━━━━━━━━━━━━━━━━━━━━━━━━┳━━━━━━━━━━━━━━━┳━━━━━━━━┳━━━━━━━━━━━━━━━━━━━━━━━━━━━━━━━━━━━━━━┳━━━━━━━━━━━━┳━━━━━━━━━━━━┳━━━━━━┳━━━━━━━┳━━━━━━━━━━━━━━━━━━━━━━━━━━━━━━━━━━━━━┳━━━━━━━━━━━━━━━━━━━━━━━━━━━━━━━━━━━━━━┓\n",
            "┃ name              ┃ fullName                             ┃ signature                           ┃ lineNumberEnd ┃ _label ┃ code                                 ┃ isExternal ┃ lineNumber ┃   id ┃ order ┃ filename                            ┃ annotation                           ┃\n",
            "┡━━━━━━━━━━━━━━━━━━━╇━━━━━━━━━━━━━━━━━━━━━━━━━━━━━━━━━━━━━━╇━━━━━━━━━━━━━━━━━━━━━━━━━━━━━━━━━━━━━╇━━━━━━━━━━━━━━━╇━━━━━━━━╇━━━━━━━━━━━━━━━━━━━━━━━━━━━━━━━━━━━━━━╇━━━━━━━━━━━━╇━━━━━━━━━━━━╇━━━━━━╇━━━━━━━╇━━━━━━━━━━━━━━━━━━━━━━━━━━━━━━━━━━━━━╇━━━━━━━━━━━━━━━━━━━━━━━━━━━━━━━━━━━━━━┩\n",
            "│ home              │ com.example.vulnspring.WebController │ java.lang.String(org.springframewor │            50 │ METHOD │ public String home(Model model, Http │ False      │         46 │   75 │     3 │ src/main/java/com/example/vulnsprin │ {                                    │\n",
            "│                   │ .home:java.lang.String(org.springfra │ k.ui.Model,javax.servlet.http.HttpS │               │        │                                      │            │            │      │       │ g/WebController.java                │   \"name\": \"GetMapping\",              │\n",
            "│                   │ mework.ui.Model,javax.servlet.http.H │ ession)                             │               │        │                                      │            │            │      │       │                                     │   \"code\": \"@GetMapping(value = { \\\"/ │\n",
            "│                   │ ttpSession)                          │                                     │               │        │                                      │            │            │      │       │                                     │   \"columnNumber\": 2,                 │\n",
            "│                   │                                      │                                     │               │        │                                      │            │            │      │       │                                     │   \"order\": 7,                        │\n",
            "│                   │                                      │                                     │               │        │                                      │            │            │      │       │                                     │   \"_label\": \"ANNOTATION\",            │\n",
            "│                   │                                      │                                     │               │        │                                      │            │            │      │       │                                     │   \"argumentIndex\": -1,               │\n",
            "│                   │                                      │                                     │               │        │                                      │            │            │      │       │                                     │   \"fullName\": \"org.springframework.w │\n",
            "│                   │                                      │                                     │               │        │                                      │            │            │      │       │                                     │   \"lineNumber\": 46,                  │\n",
            "│                   │                                      │                                     │               │        │                                      │            │            │      │       │                                     │   \"id\": 90,                          │\n",
            "│                   │                                      │                                     │               │        │                                      │            │            │      │       │                                     │   \"httpMethod\": \"GET\",               │\n",
            "│                   │                                      │                                     │               │        │                                      │            │            │      │       │                                     │   \"routePattern\": \"/, /home\"         │\n",
            "│                   │                                      │                                     │               │        │                                      │            │            │      │       │                                     │ }                                    │\n",
            "├───────────────────┼──────────────────────────────────────┼─────────────────────────────────────┼───────────────┼────────┼──────────────────────────────────────┼────────────┼────────────┼──────┼───────┼─────────────────────────────────────┼──────────────────────────────────────┤\n",
            "│ login             │ com.example.vulnspring.WebController │ java.lang.String(org.springframewor │            55 │ METHOD │ public String login(Model model)     │ False      │         52 │   97 │     4 │ src/main/java/com/example/vulnsprin │ {                                    │\n",
            "│                   │ .login:java.lang.String(org.springfr │ k.ui.Model)                         │               │        │                                      │            │            │      │       │ g/WebController.java                │   \"name\": \"GetMapping\",              │\n",
            "│                   │ amework.ui.Model)                    │                                     │               │        │                                      │            │            │      │       │                                     │   \"code\": \"@GetMapping(\\\"/login\\\")\", │\n",
            "│                   │                                      │                                     │               │        │                                      │            │            │      │       │                                     │   \"columnNumber\": 2,                 │\n",
            "│                   │                                      │                                     │               │        │                                      │            │            │      │       │                                     │   \"order\": 6,                        │\n",
            "│                   │                                      │                                     │               │        │                                      │            │            │      │       │                                     │   \"_label\": \"ANNOTATION\",            │\n",
            "│                   │                                      │                                     │               │        │                                      │            │            │      │       │                                     │   \"argumentIndex\": -1,               │\n",
            "│                   │                                      │                                     │               │        │                                      │            │            │      │       │                                     │   \"fullName\": \"org.springframework.w │\n",
            "│                   │                                      │                                     │               │        │                                      │            │            │      │       │                                     │   \"lineNumber\": 52,                  │\n",
            "│                   │                                      │                                     │               │        │                                      │            │            │      │       │                                     │   \"id\": 105,                         │\n",
            "│                   │                                      │                                     │               │        │                                      │            │            │      │       │                                     │   \"httpMethod\": \"GET\",               │\n",
            "│                   │                                      │                                     │               │        │                                      │            │            │      │       │                                     │   \"routePattern\": \"/login\"           │\n",
            "│                   │                                      │                                     │               │        │                                      │            │            │      │       │                                     │ }                                    │\n",
            "├───────────────────┼──────────────────────────────────────┼─────────────────────────────────────┼───────────────┼────────┼──────────────────────────────────────┼────────────┼────────────┼──────┼───────┼─────────────────────────────────────┼──────────────────────────────────────┤\n",
            "│ login             │ com.example.vulnspring.WebController │ java.lang.String(javax.servlet.http │            67 │ METHOD │ public String login(HttpSession sess │ False      │         57 │  110 │     5 │ src/main/java/com/example/vulnsprin │ {                                    │\n",
            "│                   │ .login:java.lang.String(javax.servle │ .HttpSession,java.lang.String,java. │               │        │                                      │            │            │      │       │ g/WebController.java                │   \"name\": \"PostMapping\",             │\n",
            "│                   │ t.http.HttpSession,java.lang.String, │ lang.String,org.springframework.ui. │               │        │                                      │            │            │      │       │                                     │   \"code\": \"@PostMapping(\\\"/login\\\")\" │\n",
            "│                   │ java.lang.String,org.springframework │ Model)                              │               │        │                                      │            │            │      │       │                                     │   \"columnNumber\": 2,                 │\n",
            "│                   │ .ui.Model)                           │                                     │               │        │                                      │            │            │      │       │                                     │   \"order\": 9,                        │\n",
            "│                   │                                      │                                     │               │        │                                      │            │            │      │       │                                     │   \"_label\": \"ANNOTATION\",            │\n",
            "│                   │                                      │                                     │               │        │                                      │            │            │      │       │                                     │   \"argumentIndex\": -1,               │\n",
            "│                   │                                      │                                     │               │        │                                      │            │            │      │       │                                     │   \"fullName\": \"org.springframework.w │\n",
            "│                   │                                      │                                     │               │        │                                      │            │            │      │       │                                     │   \"lineNumber\": 57,                  │\n",
            "│                   │                                      │                                     │               │        │                                      │            │            │      │       │                                     │   \"id\": 163,                         │\n",
            "│                   │                                      │                                     │               │        │                                      │            │            │      │       │                                     │   \"httpMethod\": \"POST\",              │\n",
            "│                   │                                      │                                     │               │        │                                      │            │            │      │       │                                     │   \"routePattern\": \"/login\"           │\n",
            "│                   │                                      │                                     │               │        │                                      │            │            │      │       │                                     │ }                                    │\n",
            "├───────────────────┼──────────────────────────────────────┼─────────────────────────────────────┼───────────────┼────────┼──────────────────────────────────────┼────────────┼────────────┼──────┼───────┼─────────────────────────────────────┼──────────────────────────────────────┤\n",
            "│ logout            │ com.example.vulnspring.WebController │ java.lang.String(javax.servlet.http │            89 │ METHOD │ public String logout(HttpSession ses │ False      │         85 │  221 │     7 │ src/main/java/com/example/vulnsprin │ {                                    │\n",
            "│                   │ .logout:java.lang.String(javax.servl │ .HttpSession)                       │               │        │                                      │            │            │      │       │ g/WebController.java                │   \"name\": \"GetMapping\",              │\n",
            "│                   │ et.http.HttpSession)                 │                                     │               │        │                                      │            │            │      │       │                                     │   \"code\": \"@GetMapping(\\\"/logout\\\")\" │\n",
            "│                   │                                      │                                     │               │        │                                      │            │            │      │       │                                     │   \"columnNumber\": 2,                 │\n",
            "│                   │                                      │                                     │               │        │                                      │            │            │      │       │                                     │   \"order\": 6,                        │\n",
            "│                   │                                      │                                     │               │        │                                      │            │            │      │       │                                     │   \"_label\": \"ANNOTATION\",            │\n",
            "│                   │                                      │                                     │               │        │                                      │            │            │      │       │                                     │   \"argumentIndex\": -1,               │\n",
            "│                   │                                      │                                     │               │        │                                      │            │            │      │       │                                     │   \"fullName\": \"org.springframework.w │\n",
            "│                   │                                      │                                     │               │        │                                      │            │            │      │       │                                     │   \"lineNumber\": 85,                  │\n",
            "│                   │                                      │                                     │               │        │                                      │            │            │      │       │                                     │   \"id\": 231,                         │\n",
            "│                   │                                      │                                     │               │        │                                      │            │            │      │       │                                     │   \"httpMethod\": \"GET\",               │\n",
            "│                   │                                      │                                     │               │        │                                      │            │            │      │       │                                     │   \"routePattern\": \"/logout\"          │\n",
            "│                   │                                      │                                     │               │        │                                      │            │            │      │       │                                     │ }                                    │\n",
            "├───────────────────┼──────────────────────────────────────┼─────────────────────────────────────┼───────────────┼────────┼──────────────────────────────────────┼────────────┼────────────┼──────┼───────┼─────────────────────────────────────┼──────────────────────────────────────┤\n",
            "│ update            │ com.example.vulnspring.WebController │ java.lang.String(javax.servlet.http │           100 │ METHOD │ public String update(HttpSession ses │ False      │         91 │  236 │     8 │ src/main/java/com/example/vulnsprin │ {                                    │\n",
            "│                   │ .update:java.lang.String(javax.servl │ .HttpSession,org.springframework.ui │               │        │                                      │            │            │      │       │ g/WebController.java                │   \"name\": \"GetMapping\",              │\n",
            "│                   │ et.http.HttpSession,org.springframew │ .Model)                             │               │        │                                      │            │            │      │       │                                     │   \"code\": \"@GetMapping(\\\"/update\\\")\" │\n",
            "│                   │ ork.ui.Model)                        │                                     │               │        │                                      │            │            │      │       │                                     │   \"columnNumber\": 2,                 │\n",
            "│                   │                                      │                                     │               │        │                                      │            │            │      │       │                                     │   \"order\": 7,                        │\n",
            "│                   │                                      │                                     │               │        │                                      │            │            │      │       │                                     │   \"_label\": \"ANNOTATION\",            │\n",
            "│                   │                                      │                                     │               │        │                                      │            │            │      │       │                                     │   \"argumentIndex\": -1,               │\n",
            "│                   │                                      │                                     │               │        │                                      │            │            │      │       │                                     │   \"fullName\": \"org.springframework.w │\n",
            "│                   │                                      │                                     │               │        │                                      │            │            │      │       │                                     │   \"lineNumber\": 91,                  │\n",
            "│                   │                                      │                                     │               │        │                                      │            │            │      │       │                                     │   \"id\": 268,                         │\n",
            "│                   │                                      │                                     │               │        │                                      │            │            │      │       │                                     │   \"httpMethod\": \"GET\",               │\n",
            "│                   │                                      │                                     │               │        │                                      │            │            │      │       │                                     │   \"routePattern\": \"/update\"          │\n",
            "│                   │                                      │                                     │               │        │                                      │            │            │      │       │                                     │ }                                    │\n",
            "├───────────────────┼──────────────────────────────────────┼─────────────────────────────────────┼───────────────┼────────┼──────────────────────────────────────┼────────────┼────────────┼──────┼───────┼─────────────────────────────────────┼──────────────────────────────────────┤\n",
            "│ update            │ com.example.vulnspring.WebController │ java.lang.String(javax.servlet.http │           115 │ METHOD │ public String update(HttpSession ses │ False      │        102 │  273 │     9 │ src/main/java/com/example/vulnsprin │ {                                    │\n",
            "│                   │ .update:java.lang.String(javax.servl │ .HttpSession,java.lang.String,org.s │               │        │                                      │            │            │      │       │ g/WebController.java                │   \"name\": \"PostMapping\",             │\n",
            "│                   │ et.http.HttpSession,java.lang.String │ pringframework.ui.Model)            │               │        │                                      │            │            │      │       │                                     │   \"code\": \"@PostMapping(\\\"/update\\\") │\n",
            "│                   │ ,org.springframework.ui.Model)       │                                     │               │        │                                      │            │            │      │       │                                     │   \"columnNumber\": 2,                 │\n",
            "│                   │                                      │                                     │               │        │                                      │            │            │      │       │                                     │   \"order\": 8,                        │\n",
            "│                   │                                      │                                     │               │        │                                      │            │            │      │       │                                     │   \"_label\": \"ANNOTATION\",            │\n",
            "│                   │                                      │                                     │               │        │                                      │            │            │      │       │                                     │   \"argumentIndex\": -1,               │\n",
            "│                   │                                      │                                     │               │        │                                      │            │            │      │       │                                     │   \"fullName\": \"org.springframework.w │\n",
            "│                   │                                      │                                     │               │        │                                      │            │            │      │       │                                     │   \"lineNumber\": 102,                 │\n",
            "│                   │                                      │                                     │               │        │                                      │            │            │      │       │                                     │   \"id\": 342,                         │\n",
            "│                   │                                      │                                     │               │        │                                      │            │            │      │       │                                     │   \"httpMethod\": \"POST\",              │\n",
            "│                   │                                      │                                     │               │        │                                      │            │            │      │       │                                     │   \"routePattern\": \"/update\"          │\n",
            "│                   │                                      │                                     │               │        │                                      │            │            │      │       │                                     │ }                                    │\n",
            "├───────────────────┼──────────────────────────────────────┼─────────────────────────────────────┼───────────────┼────────┼──────────────────────────────────────┼────────────┼────────────┼──────┼───────┼─────────────────────────────────────┼──────────────────────────────────────┤\n",
            "│ checkDB           │ com.example.vulnspring.WebController │ java.lang.String(java.lang.String,o │           133 │ METHOD │ public String checkDB(@RequestParam( │ False      │        117 │  347 │    10 │ src/main/java/com/example/vulnsprin │ [                                    │\n",
            "│                   │ .checkDB:java.lang.String(java.lang. │ rg.springframework.ui.Model)        │               │        │                                      │            │            │      │       │ g/WebController.java                │   {                                  │\n",
            "│                   │ String,org.springframework.ui.Model) │                                     │               │        │                                      │            │            │      │       │                                     │     \"name\": \"PostMapping\",           │\n",
            "│                   │                                      │                                     │               │        │                                      │            │            │      │       │                                     │     \"code\": \"@PostMapping(\\\"/checkdb │\n",
            "│                   │                                      │                                     │               │        │                                      │            │            │      │       │                                     │     \"columnNumber\": 2,               │\n",
            "│                   │                                      │                                     │               │        │                                      │            │            │      │       │                                     │     \"order\": 7,                      │\n",
            "│                   │                                      │                                     │               │        │                                      │            │            │      │       │                                     │     \"_label\": \"ANNOTATION\",          │\n",
            "│                   │                                      │                                     │               │        │                                      │            │            │      │       │                                     │     \"argumentIndex\": -1,             │\n",
            "│                   │                                      │                                     │               │        │                                      │            │            │      │       │                                     │     \"fullName\": \"org.springframework │\n",
            "│                   │                                      │                                     │               │        │                                      │            │            │      │       │                                     │     \"lineNumber\": 117,               │\n",
            "│                   │                                      │                                     │               │        │                                      │            │            │      │       │                                     │     \"id\": 426,                       │\n",
            "│                   │                                      │                                     │               │        │                                      │            │            │      │       │                                     │     \"httpMethod\": \"POST\",            │\n",
            "│                   │                                      │                                     │               │        │                                      │            │            │      │       │                                     │     \"routePattern\": \"/checkdb\"       │\n",
            "│                   │                                      │                                     │               │        │                                      │            │            │      │       │                                     │   },                                 │\n",
            "│                   │                                      │                                     │               │        │                                      │            │            │      │       │                                     │   {                                  │\n",
            "│                   │                                      │                                     │               │        │                                      │            │            │      │       │                                     │     \"name\": \"ResponseBody\",          │\n",
            "│                   │                                      │                                     │               │        │                                      │            │            │      │       │                                     │     \"code\": \"@ResponseBody\",         │\n",
            "│                   │                                      │                                     │               │        │                                      │            │            │      │       │                                     │     \"columnNumber\": 2,               │\n",
            "│                   │                                      │                                     │               │        │                                      │            │            │      │       │                                     │     \"order\": 8,                      │\n",
            "│                   │                                      │                                     │               │        │                                      │            │            │      │       │                                     │     \"_label\": \"ANNOTATION\",          │\n",
            "│                   │                                      │                                     │               │        │                                      │            │            │      │       │                                     │     \"argumentIndex\": -1,             │\n",
            "│                   │                                      │                                     │               │        │                                      │            │            │      │       │                                     │     \"fullName\": \"org.springframework │\n",
            "│                   │                                      │                                     │               │        │                                      │            │            │      │       │                                     │     \"lineNumber\": 118,               │\n",
            "│                   │                                      │                                     │               │        │                                      │            │            │      │       │                                     │     \"id\": 430,                       │\n",
            "│                   │                                      │                                     │               │        │                                      │            │            │      │       │                                     │     \"httpMethod\": \"RESPONSEBODY\"     │\n",
            "│                   │                                      │                                     │               │        │                                      │            │            │      │       │                                     │   }                                  │\n",
            "│                   │                                      │                                     │               │        │                                      │            │            │      │       │                                     │ ]                                    │\n",
            "├───────────────────┼──────────────────────────────────────┼─────────────────────────────────────┼───────────────┼────────┼──────────────────────────────────────┼────────────┼────────────┼──────┼───────┼─────────────────────────────────────┼──────────────────────────────────────┤\n",
            "│ checkDB           │ com.example.vulnspring.WebController │ java.lang.String()                  │           138 │ METHOD │ public String checkDB()              │ False      │        135 │  432 │    11 │ src/main/java/com/example/vulnsprin │ {                                    │\n",
            "│                   │ .checkDB:java.lang.String()          │                                     │               │        │                                      │            │            │      │       │ g/WebController.java                │   \"name\": \"GetMapping\",              │\n",
            "│                   │                                      │                                     │               │        │                                      │            │            │      │       │                                     │   \"code\": \"@GetMapping(\\\"/checkdb\\\") │\n",
            "│                   │                                      │                                     │               │        │                                      │            │            │      │       │                                     │   \"columnNumber\": 2,                 │\n",
            "│                   │                                      │                                     │               │        │                                      │            │            │      │       │                                     │   \"order\": 5,                        │\n",
            "│                   │                                      │                                     │               │        │                                      │            │            │      │       │                                     │   \"_label\": \"ANNOTATION\",            │\n",
            "│                   │                                      │                                     │               │        │                                      │            │            │      │       │                                     │   \"argumentIndex\": -1,               │\n",
            "│                   │                                      │                                     │               │        │                                      │            │            │      │       │                                     │   \"fullName\": \"org.springframework.w │\n",
            "│                   │                                      │                                     │               │        │                                      │            │            │      │       │                                     │   \"lineNumber\": 135,                 │\n",
            "│                   │                                      │                                     │               │        │                                      │            │            │      │       │                                     │   \"id\": 439,                         │\n",
            "│                   │                                      │                                     │               │        │                                      │            │            │      │       │                                     │   \"httpMethod\": \"GET\",               │\n",
            "│                   │                                      │                                     │               │        │                                      │            │            │      │       │                                     │   \"routePattern\": \"/checkdb\"         │\n",
            "│                   │                                      │                                     │               │        │                                      │            │            │      │       │                                     │ }                                    │\n",
            "├───────────────────┼──────────────────────────────────────┼─────────────────────────────────────┼───────────────┼────────┼──────────────────────────────────────┼────────────┼────────────┼──────┼───────┼─────────────────────────────────────┼──────────────────────────────────────┤\n",
            "│ transfer          │ com.example.vulnspring.WebController │ java.lang.String(javax.servlet.http │           149 │ METHOD │ public String transfer(HttpSession s │ False      │        140 │  444 │    12 │ src/main/java/com/example/vulnsprin │ {                                    │\n",
            "│                   │ .transfer:java.lang.String(javax.ser │ .HttpSession,org.springframework.ui │               │        │                                      │            │            │      │       │ g/WebController.java                │   \"name\": \"GetMapping\",              │\n",
            "│                   │ vlet.http.HttpSession,org.springfram │ .Model)                             │               │        │                                      │            │            │      │       │                                     │   \"code\": \"@GetMapping(\\\"/transfer\\\" │\n",
            "│                   │ ework.ui.Model)                      │                                     │               │        │                                      │            │            │      │       │                                     │   \"columnNumber\": 2,                 │\n",
            "│                   │                                      │                                     │               │        │                                      │            │            │      │       │                                     │   \"order\": 7,                        │\n",
            "│                   │                                      │                                     │               │        │                                      │            │            │      │       │                                     │   \"_label\": \"ANNOTATION\",            │\n",
            "│                   │                                      │                                     │               │        │                                      │            │            │      │       │                                     │   \"argumentIndex\": -1,               │\n",
            "│                   │                                      │                                     │               │        │                                      │            │            │      │       │                                     │   \"fullName\": \"org.springframework.w │\n",
            "│                   │                                      │                                     │               │        │                                      │            │            │      │       │                                     │   \"lineNumber\": 140,                 │\n",
            "│                   │                                      │                                     │               │        │                                      │            │            │      │       │                                     │   \"id\": 482,                         │\n",
            "│                   │                                      │                                     │               │        │                                      │            │            │      │       │                                     │   \"httpMethod\": \"GET\",               │\n",
            "│                   │                                      │                                     │               │        │                                      │            │            │      │       │                                     │   \"routePattern\": \"/transfer\"        │\n",
            "│                   │                                      │                                     │               │        │                                      │            │            │      │       │                                     │ }                                    │\n",
            "├───────────────────┼──────────────────────────────────────┼─────────────────────────────────────┼───────────────┼────────┼──────────────────────────────────────┼────────────┼────────────┼──────┼───────┼─────────────────────────────────────┼──────────────────────────────────────┤\n",
            "│ transfer          │ com.example.vulnspring.WebController │ java.lang.String(javax.servlet.http │           219 │ METHOD │ public String transfer(HttpSession s │ False      │        152 │  487 │    13 │ src/main/java/com/example/vulnsprin │ [                                    │\n",
            "│                   │ .transfer:java.lang.String(javax.ser │ .HttpSession,java.lang.String,java. │               │        │                                      │            │            │      │       │ g/WebController.java                │   {                                  │\n",
            "│                   │ vlet.http.HttpSession,java.lang.Stri │ lang.Float,org.springframework.ui.M │               │        │                                      │            │            │      │       │                                     │     \"name\": \"Transactional\",         │\n",
            "│                   │ ng,java.lang.Float,org.springframewo │ odel)                               │               │        │                                      │            │            │      │       │                                     │     \"code\": \"@Transactional\",        │\n",
            "│                   │ rk.ui.Model)                         │                                     │               │        │                                      │            │            │      │       │                                     │     \"columnNumber\": 2,               │\n",
            "│                   │                                      │                                     │               │        │                                      │            │            │      │       │                                     │     \"order\": 9,                      │\n",
            "│                   │                                      │                                     │               │        │                                      │            │            │      │       │                                     │     \"_label\": \"ANNOTATION\",          │\n",
            "│                   │                                      │                                     │               │        │                                      │            │            │      │       │                                     │     \"argumentIndex\": -1,             │\n",
            "│                   │                                      │                                     │               │        │                                      │            │            │      │       │                                     │     \"fullName\": \"org.springframework │\n",
            "│                   │                                      │                                     │               │        │                                      │            │            │      │       │                                     │     \"lineNumber\": 152,               │\n",
            "│                   │                                      │                                     │               │        │                                      │            │            │      │       │                                     │     \"id\": 735                        │\n",
            "│                   │                                      │                                     │               │        │                                      │            │            │      │       │                                     │   },                                 │\n",
            "│                   │                                      │                                     │               │        │                                      │            │            │      │       │                                     │   {                                  │\n",
            "│                   │                                      │                                     │               │        │                                      │            │            │      │       │                                     │     \"name\": \"PostMapping\",           │\n",
            "│                   │                                      │                                     │               │        │                                      │            │            │      │       │                                     │     \"code\": \"@PostMapping(\\\"/transfe │\n",
            "│                   │                                      │                                     │               │        │                                      │            │            │      │       │                                     │     \"columnNumber\": 2,               │\n",
            "│                   │                                      │                                     │               │        │                                      │            │            │      │       │                                     │     \"order\": 10,                     │\n",
            "│                   │                                      │                                     │               │        │                                      │            │            │      │       │                                     │     \"_label\": \"ANNOTATION\",          │\n",
            "│                   │                                      │                                     │               │        │                                      │            │            │      │       │                                     │     \"argumentIndex\": -1,             │\n",
            "│                   │                                      │                                     │               │        │                                      │            │            │      │       │                                     │     \"fullName\": \"org.springframework │\n",
            "│                   │                                      │                                     │               │        │                                      │            │            │      │       │                                     │     \"lineNumber\": 153,               │\n",
            "│                   │                                      │                                     │               │        │                                      │            │            │      │       │                                     │     \"id\": 736,                       │\n",
            "│                   │                                      │                                     │               │        │                                      │            │            │      │       │                                     │     \"httpMethod\": \"POST\",            │\n",
            "│                   │                                      │                                     │               │        │                                      │            │            │      │       │                                     │     \"routePattern\": \"/transfer\"      │\n",
            "│                   │                                      │                                     │               │        │                                      │            │            │      │       │                                     │   }                                  │\n",
            "│                   │                                      │                                     │               │        │                                      │            │            │      │       │                                     │ ]                                    │\n",
            "├───────────────────┼──────────────────────────────────────┼─────────────────────────────────────┼───────────────┼────────┼──────────────────────────────────────┼────────────┼────────────┼──────┼───────┼─────────────────────────────────────┼──────────────────────────────────────┤\n",
            "│ issue             │ com.example.vulnspring.WebController │ java.lang.String(org.springframewor │           224 │ METHOD │ public String issue(Model model)     │ False      │        221 │  741 │    14 │ src/main/java/com/example/vulnsprin │ {                                    │\n",
            "│                   │ .issue:java.lang.String(org.springfr │ k.ui.Model)                         │               │        │                                      │            │            │      │       │ g/WebController.java                │   \"name\": \"GetMapping\",              │\n",
            "│                   │ amework.ui.Model)                    │                                     │               │        │                                      │            │            │      │       │                                     │   \"code\": \"@GetMapping(\\\"/issue\\\")\", │\n",
            "│                   │                                      │                                     │               │        │                                      │            │            │      │       │                                     │   \"columnNumber\": 2,                 │\n",
            "│                   │                                      │                                     │               │        │                                      │            │            │      │       │                                     │   \"order\": 6,                        │\n",
            "│                   │                                      │                                     │               │        │                                      │            │            │      │       │                                     │   \"_label\": \"ANNOTATION\",            │\n",
            "│                   │                                      │                                     │               │        │                                      │            │            │      │       │                                     │   \"argumentIndex\": -1,               │\n",
            "│                   │                                      │                                     │               │        │                                      │            │            │      │       │                                     │   \"fullName\": \"org.springframework.w │\n",
            "│                   │                                      │                                     │               │        │                                      │            │            │      │       │                                     │   \"lineNumber\": 221,                 │\n",
            "│                   │                                      │                                     │               │        │                                      │            │            │      │       │                                     │   \"id\": 749,                         │\n",
            "│                   │                                      │                                     │               │        │                                      │            │            │      │       │                                     │   \"httpMethod\": \"GET\",               │\n",
            "│                   │                                      │                                     │               │        │                                      │            │            │      │       │                                     │   \"routePattern\": \"/issue\"           │\n",
            "│                   │                                      │                                     │               │        │                                      │            │            │      │       │                                     │ }                                    │\n",
            "├───────────────────┼──────────────────────────────────────┼─────────────────────────────────────┼───────────────┼────────┼──────────────────────────────────────┼────────────┼────────────┼──────┼───────┼─────────────────────────────────────┼──────────────────────────────────────┤\n",
            "│ issue             │ com.example.vulnspring.WebController │ java.lang.String(org.springframewor │           239 │ METHOD │ public String issue(Model model, @Re │ False      │        226 │  754 │    15 │ src/main/java/com/example/vulnsprin │ {                                    │\n",
            "│                   │ .issue:java.lang.String(org.springfr │ k.ui.Model,java.lang.String)        │               │        │                                      │            │            │      │       │ g/WebController.java                │   \"name\": \"PostMapping\",             │\n",
            "│                   │ amework.ui.Model,java.lang.String)   │                                     │               │        │                                      │            │            │      │       │                                     │   \"code\": \"@PostMapping(value = \\\"/i │\n",
            "│                   │                                      │                                     │               │        │                                      │            │            │      │       │                                     │   \"columnNumber\": 2,                 │\n",
            "│                   │                                      │                                     │               │        │                                      │            │            │      │       │                                     │   \"order\": 7,                        │\n",
            "│                   │                                      │                                     │               │        │                                      │            │            │      │       │                                     │   \"_label\": \"ANNOTATION\",            │\n",
            "│                   │                                      │                                     │               │        │                                      │            │            │      │       │                                     │   \"argumentIndex\": -1,               │\n",
            "│                   │                                      │                                     │               │        │                                      │            │            │      │       │                                     │   \"fullName\": \"org.springframework.w │\n",
            "│                   │                                      │                                     │               │        │                                      │            │            │      │       │                                     │   \"lineNumber\": 226,                 │\n",
            "│                   │                                      │                                     │               │        │                                      │            │            │      │       │                                     │   \"id\": 818,                         │\n",
            "│                   │                                      │                                     │               │        │                                      │            │            │      │       │                                     │   \"httpMethod\": \"POST\",              │\n",
            "│                   │                                      │                                     │               │        │                                      │            │            │      │       │                                     │   \"routePattern\": \"/issue\"           │\n",
            "│                   │                                      │                                     │               │        │                                      │            │            │      │       │                                     │ }                                    │\n",
            "├───────────────────┼──────────────────────────────────────┼─────────────────────────────────────┼───────────────┼────────┼──────────────────────────────────────┼────────────┼────────────┼──────┼───────┼─────────────────────────────────────┼──────────────────────────────────────┤\n",
            "│ support           │ com.example.vulnspring.WebController │ java.lang.String(java.lang.String)  │           265 │ METHOD │ public String support(@RequestParam( │ False      │        258 │  896 │    17 │ src/main/java/com/example/vulnsprin │ {                                    │\n",
            "│                   │ .support:java.lang.String(java.lang. │                                     │               │        │                                      │            │            │      │       │ g/WebController.java                │   \"name\": \"GetMapping\",              │\n",
            "│                   │ String)                              │                                     │               │        │                                      │            │            │      │       │                                     │   \"code\": \"@GetMapping(\\\"/support\\\") │\n",
            "│                   │                                      │                                     │               │        │                                      │            │            │      │       │                                     │   \"columnNumber\": 2,                 │\n",
            "│                   │                                      │                                     │               │        │                                      │            │            │      │       │                                     │   \"order\": 6,                        │\n",
            "│                   │                                      │                                     │               │        │                                      │            │            │      │       │                                     │   \"_label\": \"ANNOTATION\",            │\n",
            "│                   │                                      │                                     │               │        │                                      │            │            │      │       │                                     │   \"argumentIndex\": -1,               │\n",
            "│                   │                                      │                                     │               │        │                                      │            │            │      │       │                                     │   \"fullName\": \"org.springframework.w │\n",
            "│                   │                                      │                                     │               │        │                                      │            │            │      │       │                                     │   \"lineNumber\": 258,                 │\n",
            "│                   │                                      │                                     │               │        │                                      │            │            │      │       │                                     │   \"id\": 920,                         │\n",
            "│                   │                                      │                                     │               │        │                                      │            │            │      │       │                                     │   \"httpMethod\": \"GET\",               │\n",
            "│                   │                                      │                                     │               │        │                                      │            │            │      │       │                                     │   \"routePattern\": \"/support\"         │\n",
            "│                   │                                      │                                     │               │        │                                      │            │            │      │       │                                     │ }                                    │\n",
            "├───────────────────┼──────────────────────────────────────┼─────────────────────────────────────┼───────────────┼────────┼──────────────────────────────────────┼────────────┼────────────┼──────┼───────┼─────────────────────────────────────┼──────────────────────────────────────┤\n",
            "│ support           │ com.example.vulnspring.WebController │ java.lang.String(org.springframewor │           272 │ METHOD │ public String support(Model model)   │ False      │        267 │  925 │    18 │ src/main/java/com/example/vulnsprin │ {                                    │\n",
            "│                   │ .support:java.lang.String(org.spring │ k.ui.Model)                         │               │        │                                      │            │            │      │       │ g/WebController.java                │   \"name\": \"GetMapping\",              │\n",
            "│                   │ framework.ui.Model)                  │                                     │               │        │                                      │            │            │      │       │                                     │   \"code\": \"@GetMapping(\\\"/support/*\\ │\n",
            "│                   │                                      │                                     │               │        │                                      │            │            │      │       │                                     │   \"columnNumber\": 2,                 │\n",
            "│                   │                                      │                                     │               │        │                                      │            │            │      │       │                                     │   \"order\": 6,                        │\n",
            "│                   │                                      │                                     │               │        │                                      │            │            │      │       │                                     │   \"_label\": \"ANNOTATION\",            │\n",
            "│                   │                                      │                                     │               │        │                                      │            │            │      │       │                                     │   \"argumentIndex\": -1,               │\n",
            "│                   │                                      │                                     │               │        │                                      │            │            │      │       │                                     │   \"fullName\": \"org.springframework.w │\n",
            "│                   │                                      │                                     │               │        │                                      │            │            │      │       │                                     │   \"lineNumber\": 267,                 │\n",
            "│                   │                                      │                                     │               │        │                                      │            │            │      │       │                                     │   \"id\": 937,                         │\n",
            "│                   │                                      │                                     │               │        │                                      │            │            │      │       │                                     │   \"httpMethod\": \"GET\",               │\n",
            "│                   │                                      │                                     │               │        │                                      │            │            │      │       │                                     │   \"routePattern\": \"/support/*\"       │\n",
            "│                   │                                      │                                     │               │        │                                      │            │            │      │       │                                     │ }                                    │\n",
            "├───────────────────┼──────────────────────────────────────┼─────────────────────────────────────┼───────────────┼────────┼──────────────────────────────────────┼────────────┼────────────┼──────┼───────┼─────────────────────────────────────┼──────────────────────────────────────┤\n",
            "│ jwt               │ com.example.vulnspring.WebController │ java.lang.String(javax.servlet.http │           284 │ METHOD │ public String jwt(HttpSession sessio │ False      │        274 │  942 │    19 │ src/main/java/com/example/vulnsprin │ {                                    │\n",
            "│                   │ .jwt:java.lang.String(javax.servlet. │ .HttpSession,org.springframework.ui │               │        │                                      │            │            │      │       │ g/WebController.java                │   \"name\": \"GetMapping\",              │\n",
            "│                   │ http.HttpSession,org.springframework │ .Model)                             │               │        │                                      │            │            │      │       │                                     │   \"code\": \"@GetMapping(\\\"/token\\\")\", │\n",
            "│                   │ .ui.Model)                           │                                     │               │        │                                      │            │            │      │       │                                     │   \"columnNumber\": 2,                 │\n",
            "│                   │                                      │                                     │               │        │                                      │            │            │      │       │                                     │   \"order\": 7,                        │\n",
            "│                   │                                      │                                     │               │        │                                      │            │            │      │       │                                     │   \"_label\": \"ANNOTATION\",            │\n",
            "│                   │                                      │                                     │               │        │                                      │            │            │      │       │                                     │   \"argumentIndex\": -1,               │\n",
            "│                   │                                      │                                     │               │        │                                      │            │            │      │       │                                     │   \"fullName\": \"org.springframework.w │\n",
            "│                   │                                      │                                     │               │        │                                      │            │            │      │       │                                     │   \"lineNumber\": 274,                 │\n",
            "│                   │                                      │                                     │               │        │                                      │            │            │      │       │                                     │   \"id\": 987,                         │\n",
            "│                   │                                      │                                     │               │        │                                      │            │            │      │       │                                     │   \"httpMethod\": \"GET\",               │\n",
            "│                   │                                      │                                     │               │        │                                      │            │            │      │       │                                     │   \"routePattern\": \"/token\"           │\n",
            "│                   │                                      │                                     │               │        │                                      │            │            │      │       │                                     │ }                                    │\n",
            "├───────────────────┼──────────────────────────────────────┼─────────────────────────────────────┼───────────────┼────────┼──────────────────────────────────────┼────────────┼────────────┼──────┼───────┼─────────────────────────────────────┼──────────────────────────────────────┤\n",
            "│ jwt               │ com.example.vulnspring.WebController │ java.lang.String(org.springframewor │           298 │ METHOD │ public String jwt(Model model, @Requ │ False      │        286 │  992 │    20 │ src/main/java/com/example/vulnsprin │ {                                    │\n",
            "│                   │ .jwt:java.lang.String(org.springfram │ k.ui.Model,java.lang.String,javax.s │               │        │                                      │            │            │      │       │ g/WebController.java                │   \"name\": \"PostMapping\",             │\n",
            "│                   │ ework.ui.Model,java.lang.String,java │ ervlet.http.HttpSession)            │               │        │                                      │            │            │      │       │                                     │   \"code\": \"@PostMapping(\\\"/token\\\")\" │\n",
            "│                   │ x.servlet.http.HttpSession)          │                                     │               │        │                                      │            │            │      │       │                                     │   \"columnNumber\": 2,                 │\n",
            "│                   │                                      │                                     │               │        │                                      │            │            │      │       │                                     │   \"order\": 8,                        │\n",
            "│                   │                                      │                                     │               │        │                                      │            │            │      │       │                                     │   \"_label\": \"ANNOTATION\",            │\n",
            "│                   │                                      │                                     │               │        │                                      │            │            │      │       │                                     │   \"argumentIndex\": -1,               │\n",
            "│                   │                                      │                                     │               │        │                                      │            │            │      │       │                                     │   \"fullName\": \"org.springframework.w │\n",
            "│                   │                                      │                                     │               │        │                                      │            │            │      │       │                                     │   \"lineNumber\": 286,                 │\n",
            "│                   │                                      │                                     │               │        │                                      │            │            │      │       │                                     │   \"id\": 1035,                        │\n",
            "│                   │                                      │                                     │               │        │                                      │            │            │      │       │                                     │   \"httpMethod\": \"POST\",              │\n",
            "│                   │                                      │                                     │               │        │                                      │            │            │      │       │                                     │   \"routePattern\": \"/token\"           │\n",
            "│                   │                                      │                                     │               │        │                                      │            │            │      │       │                                     │ }                                    │\n",
            "├───────────────────┼──────────────────────────────────────┼─────────────────────────────────────┼───────────────┼────────┼──────────────────────────────────────┼────────────┼────────────┼──────┼───────┼─────────────────────────────────────┼──────────────────────────────────────┤\n",
            "│ addressValidation │ com.example.vulnspring.WebController │ java.lang.String(org.springframewor │           311 │ METHOD │ public String addressValidation(Mode │ False      │        300 │ 1040 │    21 │ src/main/java/com/example/vulnsprin │ {                                    │\n",
            "│                   │ .addressValidation:java.lang.String( │ k.ui.Model)                         │               │        │                                      │            │            │      │       │ g/WebController.java                │   \"name\": \"GetMapping\",              │\n",
            "│                   │ org.springframework.ui.Model)        │                                     │               │        │                                      │            │            │      │       │                                     │   \"code\": \"@GetMapping(\\\"/address\\\") │\n",
            "│                   │                                      │                                     │               │        │                                      │            │            │      │       │                                     │   \"columnNumber\": 2,                 │\n",
            "│                   │                                      │                                     │               │        │                                      │            │            │      │       │                                     │   \"order\": 6,                        │\n",
            "│                   │                                      │                                     │               │        │                                      │            │            │      │       │                                     │   \"_label\": \"ANNOTATION\",            │\n",
            "│                   │                                      │                                     │               │        │                                      │            │            │      │       │                                     │   \"argumentIndex\": -1,               │\n",
            "│                   │                                      │                                     │               │        │                                      │            │            │      │       │                                     │   \"fullName\": \"org.springframework.w │\n",
            "│                   │                                      │                                     │               │        │                                      │            │            │      │       │                                     │   \"lineNumber\": 300,                 │\n",
            "│                   │                                      │                                     │               │        │                                      │            │            │      │       │                                     │   \"id\": 1080,                        │\n",
            "│                   │                                      │                                     │               │        │                                      │            │            │      │       │                                     │   \"httpMethod\": \"GET\",               │\n",
            "│                   │                                      │                                     │               │        │                                      │            │            │      │       │                                     │   \"routePattern\": \"/address\"         │\n",
            "│                   │                                      │                                     │               │        │                                      │            │            │      │       │                                     │ }                                    │\n",
            "├───────────────────┼──────────────────────────────────────┼─────────────────────────────────────┼───────────────┼────────┼──────────────────────────────────────┼────────────┼────────────┼──────┼───────┼─────────────────────────────────────┼──────────────────────────────────────┤\n",
            "│ addressValidation │ com.example.vulnspring.WebController │ java.lang.String(org.springframewor │           331 │ METHOD │ public String addressValidation(Mode │ False      │        313 │ 1085 │    22 │ src/main/java/com/example/vulnsprin │ {                                    │\n",
            "│                   │ .addressValidation:java.lang.String( │ k.ui.Model,java.lang.String)        │               │        │                                      │            │            │      │       │ g/WebController.java                │   \"name\": \"PostMapping\",             │\n",
            "│                   │ org.springframework.ui.Model,java.la │                                     │               │        │                                      │            │            │      │       │                                     │   \"code\": \"@PostMapping(\\\"/address\\\" │\n",
            "│                   │ ng.String)                           │                                     │               │        │                                      │            │            │      │       │                                     │   \"columnNumber\": 2,                 │\n",
            "│                   │                                      │                                     │               │        │                                      │            │            │      │       │                                     │   \"order\": 7,                        │\n",
            "│                   │                                      │                                     │               │        │                                      │            │            │      │       │                                     │   \"_label\": \"ANNOTATION\",            │\n",
            "│                   │                                      │                                     │               │        │                                      │            │            │      │       │                                     │   \"argumentIndex\": -1,               │\n",
            "│                   │                                      │                                     │               │        │                                      │            │            │      │       │                                     │   \"fullName\": \"org.springframework.w │\n",
            "│                   │                                      │                                     │               │        │                                      │            │            │      │       │                                     │   \"lineNumber\": 313,                 │\n",
            "│                   │                                      │                                     │               │        │                                      │            │            │      │       │                                     │   \"id\": 1144,                        │\n",
            "│                   │                                      │                                     │               │        │                                      │            │            │      │       │                                     │   \"httpMethod\": \"POST\",              │\n",
            "│                   │                                      │                                     │               │        │                                      │            │            │      │       │                                     │   \"routePattern\": \"/address\"         │\n",
            "│                   │                                      │                                     │               │        │                                      │            │            │      │       │                                     │ }                                    │\n",
            "└───────────────────┴──────────────────────────────────────┴─────────────────────────────────────┴───────────────┴────────┴──────────────────────────────────────┴────────────┴────────────┴──────┴───────┴─────────────────────────────────────┴──────────────────────────────────────┘\n"
          ],
          "output_type" : "stream"
        }
      ]
    },
    {
      "cell_type" : "code",
      "execution_count" : 15,
      "metadata" : {
        "cell.metadata.exec_info" : {
          "startTs" : 1683317872004,
          "endTs" : 1683317882420
        },
        "language" : "python"
      },
      "language" : "python",
      "source" : [
        "async def get_filters():\n",
        "    connection = await client.get(joern_host, cpggen_host, joern_username, joern_password)\n",
        "    res = await java.list_http_filters(connection)\n",
        "    print_table(res, title=\"vuln-spring web filters\")\n",
        "asyncio.run(get_filters())"
      ],
      "outputs" : [
        {
          "name" : "stdout",
          "text" : [
            "                                                                                                                                vuln-spring web filters                                                                                                                                 \n",
            "┏━━━━━━━━━━━━━━━━━━━━━━━━━━━━━━━━━━━━━━━━━━━━━━┳━━━━━━━━━━━━━━━┳━━━━━━━━━━━━━━━━━━━━━━━━━━━━━━━━━━━━━━┳━━━━━━━━━━━┳━━━━━━━━━━━━━━━━━━━━━━━━━━━━┳━━━━━━━━━━━━┳━━━━━━━━━━━━┳━━━━━━┳━━━━━━━┳━━━━━━━━━━━━━━━━━━━━━━━━━━━━━━━━━━━━━━━━━━━━━━━┳━━━━━━━━━━━━━━━━━━━━━━━━━━━━━━━━━━━━━━━━━━━━━━┓\n",
            "┃ inheritsFromTypeFullName                     ┃ name          ┃ fullName                             ┃ _label    ┃ code                       ┃ isExternal ┃ lineNumber ┃   id ┃ order ┃ filename                                      ┃ annotation                                   ┃\n",
            "┡━━━━━━━━━━━━━━━━━━━━━━━━━━━━━━━━━━━━━━━━━━━━━━╇━━━━━━━━━━━━━━━╇━━━━━━━━━━━━━━━━━━━━━━━━━━━━━━━━━━━━━━╇━━━━━━━━━━━╇━━━━━━━━━━━━━━━━━━━━━━━━━━━━╇━━━━━━━━━━━━╇━━━━━━━━━━━━╇━━━━━━╇━━━━━━━╇━━━━━━━━━━━━━━━━━━━━━━━━━━━━━━━━━━━━━━━━━━━━━━━╇━━━━━━━━━━━━━━━━━━━━━━━━━━━━━━━━━━━━━━━━━━━━━━┩\n",
            "│ ['java.lang.Object', 'javax.servlet.Filter'] │ SessionFilter │ com.example.vulnspring.SessionFilter │ TYPE_DECL │ public class SessionFilter │ False      │         18 │ 1292 │     1 │ src/main/java/com/example/vulnspring/SessionF │ [                                            │\n",
            "│                                              │               │                                      │           │                            │            │            │      │       │ ilter.java                                    │   {                                          │\n",
            "│                                              │               │                                      │           │                            │            │            │      │       │                                               │     \"name\": \"Component\",                     │\n",
            "│                                              │               │                                      │           │                            │            │            │      │       │                                               │     \"code\": \"@Component\",                    │\n",
            "│                                              │               │                                      │           │                            │            │            │      │       │                                               │     \"columnNumber\": 1,                       │\n",
            "│                                              │               │                                      │           │                            │            │            │      │       │                                               │     \"order\": 4,                              │\n",
            "│                                              │               │                                      │           │                            │            │            │      │       │                                               │     \"_label\": \"ANNOTATION\",                  │\n",
            "│                                              │               │                                      │           │                            │            │            │      │       │                                               │     \"argumentIndex\": -1,                     │\n",
            "│                                              │               │                                      │           │                            │            │            │      │       │                                               │     \"fullName\": \"org.springframework.stereot │\n",
            "│                                              │               │                                      │           │                            │            │            │      │       │                                               │     \"lineNumber\": 18,                        │\n",
            "│                                              │               │                                      │           │                            │            │            │      │       │                                               │     \"id\": 1390                               │\n",
            "│                                              │               │                                      │           │                            │            │            │      │       │                                               │   },                                         │\n",
            "│                                              │               │                                      │           │                            │            │            │      │       │                                               │   {                                          │\n",
            "│                                              │               │                                      │           │                            │            │            │      │       │                                               │     \"name\": \"WebFilter\",                     │\n",
            "│                                              │               │                                      │           │                            │            │            │      │       │                                               │     \"code\": \"@WebFilter(urlPatterns = { \\\"*\\ │\n",
            "│                                              │               │                                      │           │                            │            │            │      │       │                                               │     \"columnNumber\": 1,                       │\n",
            "│                                              │               │                                      │           │                            │            │            │      │       │                                               │     \"order\": 5,                              │\n",
            "│                                              │               │                                      │           │                            │            │            │      │       │                                               │     \"_label\": \"ANNOTATION\",                  │\n",
            "│                                              │               │                                      │           │                            │            │            │      │       │                                               │     \"argumentIndex\": -1,                     │\n",
            "│                                              │               │                                      │           │                            │            │            │      │       │                                               │     \"fullName\": \"javax.servlet.annotation.We │\n",
            "│                                              │               │                                      │           │                            │            │            │      │       │                                               │     \"lineNumber\": 19,                        │\n",
            "│                                              │               │                                      │           │                            │            │            │      │       │                                               │     \"id\": 1391,                              │\n",
            "│                                              │               │                                      │           │                            │            │            │      │       │                                               │     \"routePattern\": \"*\"                      │\n",
            "│                                              │               │                                      │           │                            │            │            │      │       │                                               │   }                                          │\n",
            "│                                              │               │                                      │           │                            │            │            │      │       │                                               │ ]                                            │\n",
            "└──────────────────────────────────────────────┴───────────────┴──────────────────────────────────────┴───────────┴────────────────────────────┴────────────┴────────────┴──────┴───────┴───────────────────────────────────────────────┴──────────────────────────────────────────────┘\n"
          ],
          "output_type" : "stream"
        }
      ]
    },
    {
      "cell_type" : "markdown",
      "execution_count" : 16,
      "metadata" : {
        "language" : "text"
      },
      "language" : "text",
      "source" : [
        "# OWASP Top 10\n",
        "\n",
        "Having mastered the basics of Joern and joern-lib, it is time to dive into detecting OWASP top 10 vulnerabilities in this project. To make life easy, we first tag all spring request parameters as `attacker-controlled`. This would help simplify future data-flow queries."
      ],
      "outputs" : [
      ]
    },
    {
      "cell_type" : "code",
      "execution_count" : 17,
      "metadata" : {
        "cell.metadata.exec_info" : {
          "startTs" : 1683317882424,
          "endTs" : 1683317893073
        },
        "language" : "python"
      },
      "language" : "python",
      "source" : [
        "async def create_attacker_controlled_tag():\n",
        "    connection = await client.get(joern_host, cpggen_host, joern_username, joern_password)\n",
        "    await cpg.create_tags(connection, query='cpg.annotation.fullName(\"org.springframework.web.bind.annotation.Request.*\").parameter.typeFullNameExact(\"java.lang.String\")', tags=[\"attacker-controlled\"])\n",
        "    res = await cpg.list_tags(connection, name=\"attacker-controlled\", is_parameter=True)\n",
        "    print_table(res)\n",
        "asyncio.run(create_attacker_controlled_tag())"
      ],
      "outputs" : [
        {
          "name" : "stdout",
          "text" : [
            "┏━━━━━━━━━━━━━━━━━━━━━━━━━━━━━━━━┳━━━━━━━━━━━━━━━━━━━━┳━━━━━━━━━━━━━━━━━━━━━━━━━━┳━━━━━━━━━━━━━━━━┳━━━━━━━━━━━━━━━━━━━━━━━━━━━━━━━━━━━━━━━━━━━━━━━━━━━━━━━━━━━━━━━━━━━━━━━━━━━━━━━━━━━━━┳━━━━━━━━━━━━━━━━━━━━━━━┳━━━━━━━━━┳━━━━━━━━━━━━━━━━━━━━━━━━━━━┳━━━━━━━━━┳━━━━━━━━━━━━━━┳━━━━━━━┓\n",
            "┃ dynamicTypeHintFullName        ┃ name               ┃ evaluationStrategy       ┃ isVariadic     ┃ code                                                                                ┃ typeFullName          ┃   order ┃ _label                    ┃   index ┃   lineNumber ┃    id ┃\n",
            "┡━━━━━━━━━━━━━━━━━━━━━━━━━━━━━━━━╇━━━━━━━━━━━━━━━━━━━━╇━━━━━━━━━━━━━━━━━━━━━━━━━━╇━━━━━━━━━━━━━━━━╇━━━━━━━━━━━━━━━━━━━━━━━━━━━━━━━━━━━━━━━━━━━━━━━━━━━━━━━━━━━━━━━━━━━━━━━━━━━━━━━━━━━━━╇━━━━━━━━━━━━━━━━━━━━━━━╇━━━━━━━━━╇━━━━━━━━━━━━━━━━━━━━━━━━━━━╇━━━━━━━━━╇━━━━━━━━━━━━━━╇━━━━━━━┩\n",
            "│                                │ username           │ BY_SHARING               │ False          │ @RequestParam(name = \"username\", required = true) String username                   │ java.lang.String      │       2 │ METHOD_PARAMETER_IN       │       2 │           58 │   112 │\n",
            "├────────────────────────────────┼────────────────────┼──────────────────────────┼────────────────┼─────────────────────────────────────────────────────────────────────────────────────┼───────────────────────┼─────────┼───────────────────────────┼─────────┼──────────────┼───────┤\n",
            "│                                │ password           │ BY_SHARING               │ False          │ @RequestParam(name = \"password\", required = true) String password                   │ java.lang.String      │       3 │ METHOD_PARAMETER_IN       │       3 │           59 │   120 │\n",
            "├────────────────────────────────┼────────────────────┼──────────────────────────┼────────────────┼─────────────────────────────────────────────────────────────────────────────────────┼───────────────────────┼─────────┼───────────────────────────┼─────────┼──────────────┼───────┤\n",
            "│                                │ newName            │ BY_SHARING               │ False          │ @RequestParam(name = \"newname\") String newName                                      │ java.lang.String      │       2 │ METHOD_PARAMETER_IN       │       2 │          103 │   276 │\n",
            "├────────────────────────────────┼────────────────────┼──────────────────────────┼────────────────┼─────────────────────────────────────────────────────────────────────────────────────┼───────────────────────┼─────────┼───────────────────────────┼─────────┼──────────────┼───────┤\n",
            "│                                │ dbpath             │ BY_SHARING               │ False          │ @RequestParam(name = \"dbpath\") String dbpath                                        │ java.lang.String      │       1 │ METHOD_PARAMETER_IN       │       1 │          119 │   349 │\n",
            "├────────────────────────────────┼────────────────────┼──────────────────────────┼────────────────┼─────────────────────────────────────────────────────────────────────────────────────┼───────────────────────┼─────────┼───────────────────────────┼─────────┼──────────────┼───────┤\n",
            "│                                │ toAccount          │ BY_SHARING               │ False          │ @RequestParam(name = \"toaccount\") String toAccount                                  │ java.lang.String      │       2 │ METHOD_PARAMETER_IN       │       2 │          154 │   490 │\n",
            "├────────────────────────────────┼────────────────────┼──────────────────────────┼────────────────┼─────────────────────────────────────────────────────────────────────────────────────┼───────────────────────┼─────────┼───────────────────────────┼─────────┼──────────────┼───────┤\n",
            "│                                │ body               │ BY_SHARING               │ False          │ @RequestBody String body                                                            │ java.lang.String      │       2 │ METHOD_PARAMETER_IN       │       2 │          227 │   756 │\n",
            "├────────────────────────────────┼────────────────────┼──────────────────────────┼────────────────┼─────────────────────────────────────────────────────────────────────────────────────┼───────────────────────┼─────────┼───────────────────────────┼─────────┼──────────────┼───────┤\n",
            "│                                │ desk               │ BY_SHARING               │ False          │ @RequestParam(required = false) String desk                                         │ java.lang.String      │       1 │ METHOD_PARAMETER_IN       │       1 │          259 │   898 │\n",
            "├────────────────────────────────┼────────────────────┼──────────────────────────┼────────────────┼─────────────────────────────────────────────────────────────────────────────────────┼───────────────────────┼─────────┼───────────────────────────┼─────────┼──────────────┼───────┤\n",
            "│                                │ jwtString          │ BY_SHARING               │ False          │ @RequestParam String jwtString                                                      │ java.lang.String      │       2 │ METHOD_PARAMETER_IN       │       2 │          287 │   995 │\n",
            "├────────────────────────────────┼────────────────────┼──────────────────────────┼────────────────┼─────────────────────────────────────────────────────────────────────────────────────┼───────────────────────┼─────────┼───────────────────────────┼─────────┼──────────────┼───────┤\n",
            "│                                │ encodedString      │ BY_SHARING               │ False          │ @RequestParam String encodedString                                                  │ java.lang.String      │       2 │ METHOD_PARAMETER_IN       │       2 │          314 │  1088 │\n",
            "└────────────────────────────────┴────────────────────┴──────────────────────────┴────────────────┴─────────────────────────────────────────────────────────────────────────────────────┴───────────────────────┴─────────┴───────────────────────────┴─────────┴──────────────┴───────┘\n"
          ],
          "output_type" : "stream"
        }
      ]
    },
    {
      "cell_type" : "markdown",
      "execution_count" : 18,
      "metadata" : {
        "language" : "text"
      },
      "language" : "text",
      "source" : [
        "## A01:2021 – Broken Access Control\n",
        "\n",
        "Directory Traversal vulnerability exists when an attacker-controlled parameter is passed to a file read operation."
      ],
      "outputs" : [
      ]
    },
    {
      "cell_type" : "code",
      "execution_count" : 19,
      "metadata" : {
        "cell.metadata.exec_info" : {
          "startTs" : 1683317893078,
          "endTs" : 1683317904072
        },
        "language" : "python"
      },
      "language" : "python",
      "source" : [
        "async def detect_traversal():\n",
        "    connection = await client.get(joern_host, cpggen_host, joern_username, joern_password)\n",
        "    await client.df(connection, {\"parameter\": \"attacker-controlled\"}, 'cpg.method.fullNameExact(\"java.io.File.<init>:void(java.lang.String)\").parameter.order(1)')\n",
        "asyncio.run(detect_traversal())"
      ],
      "outputs" : [
        {
          "name" : "stdout",
          "text" : [
            "src/main/java/com/example/vulnspring/WebController.java:119 @RequestParam(name = \"dbpath\") String dbpath\n",
            "├── src/main/java/com/example/vulnspring/WebController.java:121 FilenameUtils.getBaseName(dbpath)\n",
            "├── src/main/java/com/example/vulnspring/WebController.java:131 sanitizedValue + \".bak\"\n",
            "└── java.io.File( p1 )\n",
            "\n"
          ],
          "output_type" : "stream"
        }
      ]
    },
    {
      "cell_type" : "markdown",
      "execution_count" : 20,
      "metadata" : {
        "language" : "text"
      },
      "language" : "text",
      "source" : [
        "Sensitive data exposure arises when a sensitive data such as password or PII data is exposed to an external service or logging method without obfuscation."
      ],
      "outputs" : [
      ]
    },
    {
      "cell_type" : "code",
      "execution_count" : 21,
      "metadata" : {
        "cell.metadata.exec_info" : {
          "startTs" : 1683317904076,
          "endTs" : 1683317915203
        },
        "language" : "python"
      },
      "language" : "python",
      "source" : [
        "async def detect_sde():\n",
        "    connection = await client.get(joern_host, cpggen_host, joern_username, joern_password)\n",
        "    # Tag certain parameters as sensitive\n",
        "    await cpg.create_tags(connection, query='cpg.annotation.fullNameExact(\"org.springframework.web.bind.annotation.RequestParam\").parameter.name(\"(?i).*(password|token|key|secret).*\")', tags=[\"sensitive\"])\n",
        "    # Query based on the tag\n",
        "    await client.df(connection, {\"parameter\": \"sensitive\"}, 'cpg.method.fullName(\"org.slf4j.Logger.*\").parameter.orderGt(0)')\n",
        "asyncio.run(detect_sde())"
      ],
      "outputs" : [
        {
          "name" : "stdout",
          "text" : [
            "src/main/java/com/example/vulnspring/WebController.java:59 @RequestParam(name = \"password\", required = true) String password\n",
            "├── src/main/java/com/example/vulnspring/WebController.java:69 String password\n",
            "├── src/main/java/com/example/vulnspring/WebController.java:61 \"Login with: \" + username + \":\" + password\n",
            "└── org.slf4j.Logger.debug( p1 )\n",
            "\n"
          ],
          "output_type" : "stream"
        }
      ]
    },
    {
      "cell_type" : "markdown",
      "execution_count" : 22,
      "metadata" : {
        "language" : "text"
      },
      "language" : "text",
      "source" : [
        "JWT encode/decode misconfigurations"
      ],
      "outputs" : [
      ]
    },
    {
      "cell_type" : "code",
      "execution_count" : 23,
      "metadata" : {
        "cell.metadata.exec_info" : {
          "startTs" : 1683317915208,
          "endTs" : 1683317927991
        },
        "language" : "python"
      },
      "language" : "python",
      "source" : [
        "async def detect_jwt_issues():\n",
        "    connection = await client.get(joern_host, cpggen_host, joern_username, joern_password)\n",
        "    await client.df(connection, {\"parameter\": \"attacker-controlled\"}, 'cpg.typeDecl.fullName(\"com.auth0.jwt.*\").method.parameter')\n",
        "    print(\"*** WARNING: JWT none algorithm used here ***\\n\")\n",
        "    # Find usages of JWT none algorithm\n",
        "    await client.df(connection, 'cpg.typeDecl.fullName(\"com.auth0.jwt.algorithms.Algorithm\").method.name(\"none\").methodReturn', 'cpg.typeDecl.fullName(\"com.auth0.jwt.*\").method.parameter.order(1)')\n",
        "asyncio.run(detect_jwt_issues())"
      ],
      "outputs" : [
        {
          "name" : "stdout",
          "text" : [
            "src/main/java/com/example/vulnspring/WebController.java:287 @RequestParam String jwtString\n",
            "├── src/main/java/com/example/vulnspring/WebController.java:288 JWT.decode(jwtString)\n",
            "└── com.auth0.jwt.interfaces.DecodedJWT.getClaim( p0 )\n",
            "\n",
            "src/main/java/com/example/vulnspring/WebController.java:287 @RequestParam String jwtString\n",
            "├── src/main/java/com/example/vulnspring/WebController.java:288 JWT.decode(jwtString)\n",
            "├── src/main/java/com/example/vulnspring/WebController.java:291 decodedJWT.getClaim(\"username\")\n",
            "└── com.auth0.jwt.interfaces.Claim.asString( p0 )\n",
            "\n",
            "src/main/java/com/example/vulnspring/WebController.java:287 @RequestParam String jwtString\n",
            "└── com.auth0.jwt.JWT.decode( p1 )\n",
            "\n",
            "*** WARNING: JWT none algorithm used here ***\n",
            "\n",
            "src/main/java/com/example/vulnspring/WebController.java:279 Algorithm.none()\n",
            "└── com.auth0.jwt.JWTCreator$Builder.sign( p1 )\n",
            "\n"
          ],
          "output_type" : "stream"
        }
      ]
    },
    {
      "cell_type" : "markdown",
      "execution_count" : 24,
      "metadata" : {
        "language" : "text"
      },
      "language" : "text",
      "source" : [
        "Open redirect"
      ],
      "outputs" : [
      ]
    },
    {
      "cell_type" : "code",
      "execution_count" : 25,
      "metadata" : {
        "cell.metadata.exec_info" : {
          "startTs" : 1683317927996,
          "endTs" : 1683317938682
        },
        "language" : "python"
      },
      "language" : "python",
      "source" : [
        "async def detect_open_redirect():\n",
        "    connection = await client.get(joern_host, cpggen_host, joern_username, joern_password)\n",
        "    await client.df(connection, {\"parameter\": \"attacker-controlled\"}, 'cpg.call(Operators.addition).code(\".*redirect.*\").method.methodReturn')\n",
        "asyncio.run(detect_open_redirect())"
      ],
      "outputs" : [
        {
          "name" : "stdout",
          "text" : [
            "src/main/java/com/example/vulnspring/WebController.java:259 @RequestParam(required = false) String desk\n",
            "└── src/main/java/com/example/vulnspring/WebController.java:263 \"redirect:\" + helpDeskLocation\n",
            "\n"
          ],
          "output_type" : "stream"
        }
      ]
    },
    {
      "cell_type" : "markdown",
      "execution_count" : 26,
      "metadata" : {
        "language" : "text"
      },
      "language" : "text",
      "source" : [
        "## A03:2021 – Injection\n",
        "\n",
        "### SQL Injection\n",
        "\n",
        "The first style of SQL Injection we will detect with joern is an end-to-end example where attacker-controlled string parameter is used directly in a query without parameterization.\n",
        "\n",
        "It is important to limit only to string parameter since numeric values cannot result in a successful injection. We first show the implementation using the `RequestParam` parameter."
      ],
      "outputs" : [
      ]
    },
    {
      "cell_type" : "code",
      "execution_count" : 27,
      "metadata" : {
        "cell.metadata.exec_info" : {
          "startTs" : 1683317938687,
          "endTs" : 1683317972083
        },
        "language" : "python"
      },
      "language" : "python",
      "source" : [
        "async def detect_sqli():\n",
        "    connection = await client.get(joern_host, cpggen_host, joern_username, joern_password)\n",
        "    await client.df(connection, 'cpg.annotation.fullNameExact(\"org.springframework.web.bind.annotation.RequestParam\").parameter.typeFullNameExact(\"java.lang.String\")',\n",
        "        'cpg.typeDecl.fullName(\"org.springframework.jdbc.core.JdbcTemplate\").method.parameter.index(0)')\n",
        "asyncio.run(detect_sqli())"
      ],
      "outputs" : [
        {
          "name" : "stdout",
          "text" : [
            "src/main/java/com/example/vulnspring/WebController.java:103 @RequestParam(name = \"newname\") String newName\n",
            "├── src/main/java/com/example/vulnspring/WebController.java:105 new Object[] { newName, session.getAttribute(\"username\") }\n",
            "├── src/main/java/com/example/vulnspring/WebController.java:105 this.jdbcTemplate\n",
            "└── org.springframework.jdbc.core.JdbcTemplate.update( p0 )\n",
            "\n",
            "src/main/java/com/example/vulnspring/WebController.java:154 @RequestParam(name = \"toaccount\") String toAccount\n",
            "├── src/main/java/com/example/vulnspring/WebController.java:172 new Object[] { toAccount }\n",
            "├── src/main/java/com/example/vulnspring/WebController.java:171 this.jdbcTemplate\n",
            "├── src/main/java/com/example/vulnspring/WebController.java:182 this.jdbcTemplate\n",
            "└── org.springframework.jdbc.core.JdbcTemplate.queryForMap( p0 )\n",
            "\n",
            "src/main/java/com/example/vulnspring/WebController.java:58 @RequestParam(name = \"username\", required = true) String username\n",
            "├── src/main/java/com/example/vulnspring/WebController.java:69 String username\n",
            "├── src/main/java/com/example/vulnspring/WebController.java:74 \"SELECT * FROM users WHERE USERNAME=\\\"\" + username + \"\\\" AND PASSWORD=\\\"\" + password + \"\\\"\"\n",
            "├── src/main/java/com/example/vulnspring/WebController.java:75 this.jdbcTemplate\n",
            "└── org.springframework.jdbc.core.JdbcTemplate.queryForMap( p0 )\n",
            "\n",
            "src/main/java/com/example/vulnspring/WebController.java:154 @RequestParam(name = \"toaccount\") String toAccount\n",
            "├── src/main/java/com/example/vulnspring/WebController.java:172 new Object[] { toAccount }\n",
            "├── src/main/java/com/example/vulnspring/WebController.java:171 this.jdbcTemplate\n",
            "├── src/main/java/com/example/vulnspring/WebController.java:182 jdbcTemplate.queryForMap(fromAccountStatement, new Object[] { session.getAttribute(\"username\") })\n",
            "├── src/main/java/com/example/vulnspring/WebController.java:185 (float) fromResultMap.get(\"balance\")\n",
            "├── src/main/java/com/example/vulnspring/WebController.java:205 new Object[] { fromAccountBalance - amount, fromAccount }\n",
            "├── src/main/java/com/example/vulnspring/WebController.java:204 this.jdbcTemplate\n",
            "└── org.springframework.jdbc.core.JdbcTemplate.update( p0 )\n",
            "\n",
            "src/main/java/com/example/vulnspring/WebController.java:59 @RequestParam(name = \"password\", required = true) String password\n",
            "├── src/main/java/com/example/vulnspring/WebController.java:69 String password\n",
            "├── src/main/java/com/example/vulnspring/WebController.java:74 \"SELECT * FROM users WHERE USERNAME=\\\"\" + username + \"\\\" AND PASSWORD=\\\"\" + password + \"\\\"\"\n",
            "├── src/main/java/com/example/vulnspring/WebController.java:75 this.jdbcTemplate\n",
            "└── org.springframework.jdbc.core.JdbcTemplate.queryForMap( p0 )\n",
            "\n"
          ],
          "output_type" : "stream"
        }
      ]
    },
    {
      "cell_type" : "markdown",
      "execution_count" : 28,
      "metadata" : {
        "language" : "text"
      },
      "language" : "text",
      "source" : [
        "The source parameter in the above example could be rewritten to use the custom `attacker-controlled` tag that we created. This style is adopted in the rest of the exercise."
      ],
      "outputs" : [
      ]
    },
    {
      "cell_type" : "code",
      "execution_count" : 29,
      "metadata" : {
        "cell.metadata.exec_info" : {
          "startTs" : 1683318170062,
          "endTs" : 1683318202281
        },
        "language" : "python"
      },
      "language" : "python",
      "source" : [
        "async def detect_sqli_attacker_controlled():\n",
        "    connection = await client.get(joern_host, cpggen_host, joern_username, joern_password)\n",
        "    await client.df(connection, {\"parameter\": \"attacker-controlled\"}, 'cpg.typeDecl.fullName(\"org.springframework.jdbc.core.JdbcTemplate\").method.parameter.order(1)')\n",
        "asyncio.run(detect_sqli_attacker_controlled())"
      ],
      "outputs" : [
        {
          "name" : "stdout",
          "text" : [
            "src/main/java/com/example/vulnspring/WebController.java:154 @RequestParam(name = \"toaccount\") String toAccount\n",
            "├── src/main/java/com/example/vulnspring/WebController.java:172 new Object[] { toAccount }\n",
            "├── src/main/java/com/example/vulnspring/WebController.java:171 this.jdbcTemplate\n",
            "├── src/main/java/com/example/vulnspring/WebController.java:182 jdbcTemplate.queryForMap(fromAccountStatement, new Object[] { session.getAttribute(\"username\") })\n",
            "├── src/main/java/com/example/vulnspring/WebController.java:185 (float) fromResultMap.get(\"balance\")\n",
            "├── src/main/java/com/example/vulnspring/WebController.java:205 new Object[] { fromAccountBalance - amount, fromAccount }\n",
            "├── src/main/java/com/example/vulnspring/WebController.java:204 this.jdbcTemplate\n",
            "└── org.springframework.jdbc.core.JdbcTemplate.update( p1 )\n",
            "\n",
            "src/main/java/com/example/vulnspring/WebController.java:59 @RequestParam(name = \"password\", required = true) String password\n",
            "├── src/main/java/com/example/vulnspring/WebController.java:69 String password\n",
            "├── src/main/java/com/example/vulnspring/WebController.java:74 \"SELECT * FROM users WHERE USERNAME=\\\"\" + username + \"\\\" AND PASSWORD=\\\"\" + password + \"\\\"\"\n",
            "└── org.springframework.jdbc.core.JdbcTemplate.queryForMap( p1 )\n",
            "\n",
            "src/main/java/com/example/vulnspring/WebController.java:58 @RequestParam(name = \"username\", required = true) String username\n",
            "├── src/main/java/com/example/vulnspring/WebController.java:69 String username\n",
            "├── src/main/java/com/example/vulnspring/WebController.java:74 \"SELECT * FROM users WHERE USERNAME=\\\"\" + username + \"\\\" AND PASSWORD=\\\"\" + password + \"\\\"\"\n",
            "└── org.springframework.jdbc.core.JdbcTemplate.queryForMap( p1 )\n",
            "\n",
            "src/main/java/com/example/vulnspring/WebController.java:154 @RequestParam(name = \"toaccount\") String toAccount\n",
            "├── src/main/java/com/example/vulnspring/WebController.java:172 new Object[] { toAccount }\n",
            "├── src/main/java/com/example/vulnspring/WebController.java:171 this.jdbcTemplate\n",
            "├── src/main/java/com/example/vulnspring/WebController.java:182 this.jdbcTemplate\n",
            "└── org.springframework.jdbc.core.JdbcTemplate.queryForMap( p1 )\n",
            "\n",
            "src/main/java/com/example/vulnspring/WebController.java:103 @RequestParam(name = \"newname\") String newName\n",
            "├── src/main/java/com/example/vulnspring/WebController.java:105 new Object[] { newName, session.getAttribute(\"username\") }\n",
            "├── src/main/java/com/example/vulnspring/WebController.java:105 this.jdbcTemplate\n",
            "└── org.springframework.jdbc.core.JdbcTemplate.update( p1 )\n",
            "\n"
          ],
          "output_type" : "stream"
        }
      ]
    },
    {
      "cell_type" : "markdown",
      "execution_count" : 30,
      "metadata" : {
        "language" : "text"
      },
      "language" : "text",
      "source" : [
        "The sink query could be rewritten to use a tag called `sql-sink`"
      ],
      "outputs" : [
      ]
    },
    {
      "cell_type" : "code",
      "execution_count" : 31,
      "metadata" : {
        "cell.metadata.exec_info" : {
          "startTs" : 1683318004547,
          "endTs" : 1683318015137
        },
        "language" : "python"
      },
      "language" : "python",
      "source" : [
        "async def create_sql_sink_tag():\n",
        "    connection = await client.get(joern_host, cpggen_host, joern_username, joern_password)\n",
        "    await cpg.create_tags(connection, query='cpg.typeDecl.fullName(\"org.springframework.jdbc.core.JdbcTemplate\").method.parameter.order(1)', tags=[\"sql-sink\"])\n",
        "    res = await cpg.list_tags(connection, name=\"sql-sink\", is_parameter=True)\n",
        "    print_table(res)\n",
        "asyncio.run(create_sql_sink_tag())"
      ],
      "outputs" : [
        {
          "name" : "stdout",
          "text" : [
            "┏━━━━━━━━━━━━━━━━━━━━━━━━━━━━━━━━━━━━━━━━━━━━━━━━━━━━━━━┳━━━━━━━━━━━━━┳━━━━━━━━━━━━━━━━━━━━━━━━━━━━━━━━━━━━━━━━━━━━┳━━━━━━━━━━━━━━━━━━━━━━━━━━┳━━━━━━━━━━━━━┳━━━━━━━━━━━━━━━━━━━━━━━━━━━━━━━┳━━━━━━━━━━━━━━━┳━━━━━━━━━━━━━━━━━━━━━━━━━━━━━━━━━━━━━━━━━━━━━┳━━━━━━━━━━━━━━━┳━━━━━━━━━━━━┓\n",
            "┃ dynamicTypeHintFullName                               ┃ name        ┃ evaluationStrategy                         ┃ isVariadic               ┃ code        ┃ typeFullName                  ┃         order ┃ _label                                      ┃         index ┃         id ┃\n",
            "┡━━━━━━━━━━━━━━━━━━━━━━━━━━━━━━━━━━━━━━━━━━━━━━━━━━━━━━━╇━━━━━━━━━━━━━╇━━━━━━━━━━━━━━━━━━━━━━━━━━━━━━━━━━━━━━━━━━━━╇━━━━━━━━━━━━━━━━━━━━━━━━━━╇━━━━━━━━━━━━━╇━━━━━━━━━━━━━━━━━━━━━━━━━━━━━━━╇━━━━━━━━━━━━━━━╇━━━━━━━━━━━━━━━━━━━━━━━━━━━━━━━━━━━━━━━━━━━━━╇━━━━━━━━━━━━━━━╇━━━━━━━━━━━━┩\n",
            "│                                                       │ p1          │ BY_VALUE                                   │ False                    │ p1          │ ANY                           │             1 │ METHOD_PARAMETER_IN                         │             1 │       1636 │\n",
            "├───────────────────────────────────────────────────────┼─────────────┼────────────────────────────────────────────┼──────────────────────────┼─────────────┼───────────────────────────────┼───────────────┼─────────────────────────────────────────────┼───────────────┼────────────┤\n",
            "│                                                       │ p1          │ BY_VALUE                                   │ False                    │ p1          │ ANY                           │             1 │ METHOD_PARAMETER_IN                         │             1 │       1653 │\n",
            "├───────────────────────────────────────────────────────┼─────────────┼────────────────────────────────────────────┼──────────────────────────┼─────────────┼───────────────────────────────┼───────────────┼─────────────────────────────────────────────┼───────────────┼────────────┤\n",
            "│                                                       │ p1          │ BY_VALUE                                   │ False                    │ p1          │ ANY                           │             1 │ METHOD_PARAMETER_IN                         │             1 │       1670 │\n",
            "└───────────────────────────────────────────────────────┴─────────────┴────────────────────────────────────────────┴──────────────────────────┴─────────────┴───────────────────────────────┴───────────────┴─────────────────────────────────────────────┴───────────────┴────────────┘\n"
          ],
          "output_type" : "stream"
        }
      ]
    },
    {
      "cell_type" : "code",
      "execution_count" : 32,
      "metadata" : {
        "cell.metadata.exec_info" : {
          "startTs" : 1683318015141,
          "endTs" : 1683318047337
        },
        "language" : "python"
      },
      "language" : "python",
      "source" : [
        "async def detect_sqli_taggged():\n",
        "    connection = await client.get(joern_host, cpggen_host, joern_username, joern_password)\n",
        "    await client.df(connection, {\"parameter\": \"attacker-controlled\"}, {\"parameter\": \"sql-sink\"})\n",
        "asyncio.run(detect_sqli_taggged())"
      ],
      "outputs" : [
        {
          "name" : "stdout",
          "text" : [
            "src/main/java/com/example/vulnspring/WebController.java:154 @RequestParam(name = \"toaccount\") String toAccount\n",
            "├── src/main/java/com/example/vulnspring/WebController.java:172 new Object[] { toAccount }\n",
            "├── src/main/java/com/example/vulnspring/WebController.java:171 this.jdbcTemplate\n",
            "├── src/main/java/com/example/vulnspring/WebController.java:182 jdbcTemplate.queryForMap(fromAccountStatement, new Object[] { session.getAttribute(\"username\") })\n",
            "├── src/main/java/com/example/vulnspring/WebController.java:185 (float) fromResultMap.get(\"balance\")\n",
            "├── src/main/java/com/example/vulnspring/WebController.java:205 new Object[] { fromAccountBalance - amount, fromAccount }\n",
            "├── src/main/java/com/example/vulnspring/WebController.java:204 this.jdbcTemplate\n",
            "└── org.springframework.jdbc.core.JdbcTemplate.update( p1 )\n",
            "\n",
            "src/main/java/com/example/vulnspring/WebController.java:59 @RequestParam(name = \"password\", required = true) String password\n",
            "├── src/main/java/com/example/vulnspring/WebController.java:69 String password\n",
            "├── src/main/java/com/example/vulnspring/WebController.java:74 \"SELECT * FROM users WHERE USERNAME=\\\"\" + username + \"\\\" AND PASSWORD=\\\"\" + password + \"\\\"\"\n",
            "└── org.springframework.jdbc.core.JdbcTemplate.queryForMap( p1 )\n",
            "\n",
            "src/main/java/com/example/vulnspring/WebController.java:58 @RequestParam(name = \"username\", required = true) String username\n",
            "├── src/main/java/com/example/vulnspring/WebController.java:69 String username\n",
            "├── src/main/java/com/example/vulnspring/WebController.java:74 \"SELECT * FROM users WHERE USERNAME=\\\"\" + username + \"\\\" AND PASSWORD=\\\"\" + password + \"\\\"\"\n",
            "└── org.springframework.jdbc.core.JdbcTemplate.queryForMap( p1 )\n",
            "\n",
            "src/main/java/com/example/vulnspring/WebController.java:154 @RequestParam(name = \"toaccount\") String toAccount\n",
            "├── src/main/java/com/example/vulnspring/WebController.java:172 new Object[] { toAccount }\n",
            "├── src/main/java/com/example/vulnspring/WebController.java:171 this.jdbcTemplate\n",
            "├── src/main/java/com/example/vulnspring/WebController.java:182 this.jdbcTemplate\n",
            "└── org.springframework.jdbc.core.JdbcTemplate.queryForMap( p1 )\n",
            "\n",
            "src/main/java/com/example/vulnspring/WebController.java:103 @RequestParam(name = \"newname\") String newName\n",
            "├── src/main/java/com/example/vulnspring/WebController.java:105 new Object[] { newName, session.getAttribute(\"username\") }\n",
            "├── src/main/java/com/example/vulnspring/WebController.java:105 this.jdbcTemplate\n",
            "└── org.springframework.jdbc.core.JdbcTemplate.update( p1 )\n",
            "\n"
          ],
          "output_type" : "stream"
        }
      ]
    },
    {
      "cell_type" : "code",
      "execution_count" : 33,
      "metadata" : {
        "cell.metadata.exec_info" : {
          "startTs" : 1683318990703,
          "endTs" : 1683319004984
        },
        "language" : "python"
      },
      "language" : "python",
      "source" : [
        "async def detect_reflected_xss():\n",
        "    connection = await client.get(joern_host, cpggen_host, joern_username, joern_password)\n",
        "    await client.df(connection, 'cpg.annotation.fullNameExact(\"org.springframework.web.bind.annotation.RequestParam\").parameter.typeFullNameExact(\"java.lang.String\")', 'cpg.typeDecl.fullName(\"org.springframework.ui.Model\").method.parameter.order(2)', filter=['skip_checks'])\n",
        "asyncio.run(detect_reflected_xss())"
      ],
      "outputs" : [
        {
          "name" : "stdout",
          "text" : [
            "src/main/java/com/example/vulnspring/WebController.java:154 @RequestParam(name = \"toaccount\") String toAccount\n",
            "├── src/main/java/com/example/vulnspring/WebController.java:172 new Object[] { toAccount }\n",
            "├── src/main/java/com/example/vulnspring/WebController.java:171 this.jdbcTemplate\n",
            "├── src/main/java/com/example/vulnspring/WebController.java:182 jdbcTemplate.queryForMap(fromAccountStatement, new Object[] { session.getAttribute(\"username\") })\n",
            "├── src/main/java/com/example/vulnspring/WebController.java:185 (float) fromResultMap.get(\"balance\")\n",
            "├── src/main/java/com/example/vulnspring/WebController.java:189 fromAccountBalance - amount\n",
            "└── org.springframework.ui.Model.addAttribute( p2 )\n",
            "\n",
            "src/main/java/com/example/vulnspring/WebController.java:103 @RequestParam(name = \"newname\") String newName\n",
            "└── org.springframework.ui.Model.addAttribute( p2 )\n",
            "\n"
          ],
          "output_type" : "stream"
        }
      ]
    },
    {
      "cell_type" : "markdown",
      "execution_count" : 34,
      "metadata" : {
        "language" : "text"
      },
      "language" : "text",
      "source" : [
        "## A05:2021 – Security Misconfiguration\n",
        "\n",
        "XXE"
      ],
      "outputs" : [
      ]
    },
    {
      "cell_type" : "code",
      "execution_count" : 35,
      "metadata" : {
        "cell.metadata.exec_info" : {
          "startTs" : 1683318064722,
          "endTs" : 1683318075314
        },
        "language" : "python"
      },
      "language" : "python",
      "source" : [
        "async def detect_xxe():\n",
        "    connection = await client.get(joern_host, cpggen_host, joern_username, joern_password)\n",
        "    await client.df(connection, {\"parameter\": \"attacker-controlled\"}, 'cpg.method.fullName(\"javax.xml.parsers.DocumentBuilder.*\").parameter.order(1)')\n",
        "asyncio.run(detect_xxe())"
      ],
      "outputs" : [
        {
          "name" : "stdout",
          "text" : [
            "src/main/java/com/example/vulnspring/WebController.java:227 @RequestBody String body\n",
            "└── javax.xml.parsers.DocumentBuilder.parse( p1 )\n",
            "\n"
          ],
          "output_type" : "stream"
        }
      ]
    },
    {
      "cell_type" : "markdown",
      "execution_count" : 36,
      "metadata" : {
        "language" : "text"
      },
      "language" : "text",
      "source" : [
        "## A10:2021 – Server-Side Request Forgery (SSRF)"
      ],
      "outputs" : [
      ]
    },
    {
      "cell_type" : "code",
      "execution_count" : 37,
      "metadata" : {
        "cell.metadata.exec_info" : {
          "startTs" : 1683318075318,
          "endTs" : 1683318086410
        },
        "language" : "python"
      },
      "language" : "python",
      "source" : [
        "async def detect_ssrf():\n",
        "    connection = await client.get(joern_host, cpggen_host, joern_username, joern_password)\n",
        "    await client.df(connection, {\"parameter\": \"attacker-controlled\"}, 'cpg.method.isExternal(true).where(_.typeDecl.fullName(\"java.util.Scanner\")).parameter.order(1)')\n",
        "asyncio.run(detect_ssrf())"
      ],
      "outputs" : [
        {
          "name" : "stdout",
          "text" : [
            "src/main/java/com/example/vulnspring/WebController.java:119 @RequestParam(name = \"dbpath\") String dbpath\n",
            "├── src/main/java/com/example/vulnspring/WebController.java:121 FilenameUtils.getBaseName(dbpath)\n",
            "├── src/main/java/com/example/vulnspring/WebController.java:128 remoteUrl.openStream()\n",
            "└── java.util.Scanner( p1 )\n",
            "\n"
          ],
          "output_type" : "stream"
        }
      ]
    }
  ]
}