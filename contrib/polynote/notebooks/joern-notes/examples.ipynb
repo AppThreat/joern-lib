{
  "metadata" : {
    "config" : {
      "dependencies" : {
        "python" : [
          "file:///opt/joern_lib?nocache"
        ]
      },
      "exclusions" : [
      ],
      "repositories" : [
      ],
      "sparkConfig" : {
        
      },
      "env" : {
        
      }
    },
    "language_info" : {
      "name" : "python"
    }
  },
  "nbformat" : 4,
  "nbformat_minor" : 0,
  "cells" : [
    {
      "cell_type" : "markdown",
      "execution_count" : 0,
      "metadata" : {
        "language" : "text"
      },
      "language" : "text",
      "source" : [
        "# Using joern-lib with Joern server\n",
        "\n",
        "Common imports and console logging settings for the rest of this note."
      ],
      "outputs" : [
      ]
    },
    {
      "cell_type" : "code",
      "execution_count" : 1,
      "metadata" : {
        "cell.metadata.exec_info" : {
          "startTs" : 1684239160489,
          "endTs" : 1684239179837
        },
        "language" : "python"
      },
      "language" : "python",
      "source" : [
        "import asyncio\n",
        "\n",
        "from joern_lib import client, workspace\n",
        "from joern_lib.detectors import common as cpg, js\n",
        "\n",
        "# Configure console logging\n",
        "from rich.console import Console\n",
        "\n",
        "console = Console(\n",
        "    log_time=False,\n",
        "    log_path=False,\n",
        "    width=280,\n",
        "    color_system=\"auto\"\n",
        ")\n",
        "\n",
        "joern_host = \"http://joern:9000\"\n",
        "cpggen_host = \"http://cpggen:7072\"\n",
        "joern_username = \"admin\"\n",
        "joern_password  = \"admin\""
      ],
      "outputs" : [
      ]
    },
    {
      "cell_type" : "markdown",
      "execution_count" : 2,
      "metadata" : {
        "language" : "text"
      },
      "language" : "text",
      "source" : [
        "If you're running this note via docker compose, you can access the joern server using the hostname joern and port 7000."
      ],
      "outputs" : [
      ]
    },
    {
      "cell_type" : "code",
      "execution_count" : 3,
      "metadata" : {
        "cell.metadata.exec_info" : {
          "startTs" : 1684239179870,
          "endTs" : 1684239190201
        },
        "language" : "python"
      },
      "language" : "python",
      "source" : [
        "async def connect():\n",
        "    connection = await client.get(joern_host, cpggen_host, joern_username, joern_password)\n",
        "\n",
        "asyncio.run(connect())"
      ],
      "outputs" : [
      ]
    },
    {
      "cell_type" : "markdown",
      "execution_count" : 4,
      "metadata" : {
        "language" : "text"
      },
      "language" : "text",
      "source" : [
        "## Test connection with a simple query\n",
        "\n",
        "We can begin by testing the connection with a simple query."
      ],
      "outputs" : [
      ]
    },
    {
      "cell_type" : "code",
      "execution_count" : 5,
      "metadata" : {
        "cell.metadata.exec_info" : {
          "startTs" : 1684239190208,
          "endTs" : 1684239201365
        },
        "language" : "python"
      },
      "language" : "python",
      "source" : [
        "async def test_eval():\n",
        "    connection = await client.get(joern_host, cpggen_host, joern_username, joern_password)\n",
        "    res = await client.q(connection, \"val a=1\");\n",
        "    print (res)\n",
        "asyncio.run(test_eval())"
      ],
      "outputs" : [
        {
          "name" : "stdout",
          "text" : [
            "╭─ CPGQL Query ─╮\n",
            "│ val a=1       │\n",
            "╰───────────────╯\n",
            "{'response': 'a: Int = 1\\n'}\n"
          ],
          "output_type" : "stream"
        }
      ]
    },
    {
      "cell_type" : "markdown",
      "execution_count" : 6,
      "metadata" : {
        "cell.metadata.exec_info" : {
          "startTs" : 1672062929437,
          "endTs" : 1672062956128
        },
        "language" : "text"
      },
      "language" : "text",
      "source" : [
        "**NOTE:** Joern lib uses asyncio and websockets to interact with the Joern server. Therefore, every use of the library methods must use the async-await syntax."
      ],
      "outputs" : [
      ]
    },
    {
      "cell_type" : "markdown",
      "execution_count" : 7,
      "metadata" : {
        "cell.metadata.exec_info" : {
          "startTs" : 1672062929437,
          "endTs" : 1672062956128
        },
        "language" : "text"
      },
      "language" : "text",
      "source" : [
        "## Interacting with Joern workspace\n",
        "\n",
        "Joern lib offers several useful methods to query and create joern workspaces. Full list of methods could be obtained by using dir method."
      ],
      "outputs" : [
      ]
    },
    {
      "cell_type" : "code",
      "execution_count" : 8,
      "metadata" : {
        "cell.metadata.exec_info" : {
          "startTs" : 1684239201371,
          "endTs" : 1684239201521
        },
        "language" : "python"
      },
      "language" : "python",
      "source" : [
        "list(filter(lambda m: not m.startswith(\"__\"), dir(workspace)))"
      ],
      "outputs" : [
        {
          "execution_count" : 8,
          "data" : {
            "text/plain" : [
              "['client', 'cpg_exists', 'create_cpg', 'delete_project', 'dir_exists', 'extract_dir', 'from_string', 'get_active_project', 'get_overlay_dir', 'get_path', 'import_code', 'import_cpg', 'json', 'ls', 'os', 'reset', 'set_active_project', 'slice_cpg']"
            ]
          },
          "metadata" : {
            "name" : "Out",
            "type" : "TypedPythonObject[list]"
          },
          "output_type" : "execute_result"
        }
      ]
    },
    {
      "cell_type" : "markdown",
      "execution_count" : 9,
      "metadata" : {
        "language" : "text"
      },
      "language" : "text",
      "source" : [
        "### List any existing workspace\n",
        "\n"
      ],
      "outputs" : [
      ]
    },
    {
      "cell_type" : "code",
      "execution_count" : 10,
      "metadata" : {
        "cell.metadata.exec_info" : {
          "startTs" : 1684239201528,
          "endTs" : 1684239212097
        },
        "language" : "python"
      },
      "language" : "python",
      "source" : [
        "async def test_workspace():\n",
        "    connection = await client.get(joern_host, cpggen_host, joern_username, joern_password)\n",
        "    res = await workspace.ls(connection);\n",
        "    print (res)\n",
        "asyncio.run(test_workspace())"
      ],
      "outputs" : [
        {
          "name" : "stdout",
          "text" : [
            "╭─ CPGQL Query ─╮\n",
            "│ workspace     │\n",
            "╰───────────────╯\n",
            "res3: workspacehandling.WorkspaceManager[io.joern.joerncli.console.JoernProject] = \n",
            "_______________________________________________________________________________________________________________________________________________\n",
            "| name                | overlays                                       | inputPath                                                     | open  |\n",
            "|==============================================================================================================================================|\n",
            "| commons-text-1.10.0 |                                                | /tmp/cpggen_cpg_outzjw1_pa5/cpggenqldt9ve7-jimple-cpg.bin.zip | false |\n",
            "| NodeGoat            | base,controlflow,typerel,callgraph,dataflowOss | /tmp/NodeGoat                                                 | false |\n",
            "\n"
          ],
          "output_type" : "stream"
        }
      ]
    },
    {
      "cell_type" : "markdown",
      "execution_count" : 11,
      "metadata" : {
        "language" : "text"
      },
      "language" : "text",
      "source" : [
        "If the list is empty, it is time to create a new workspace by importing some code.\n",
        "\n",
        "## Clone and scan NodeGoat\n",
        "\n",
        "What better way to learn joern and this library than scanning a real application? This polynote comes with the GitPython package installed so that we can clone and import repos effortlessly. The directory /tmp is shared between polynote and joern containers to help with this exercise.\n",
        "\n",
        "Let's clone the OWASP [NodeGoat](https://github.com/OWASP/NodeGoat) repo."
      ],
      "outputs" : [
      ]
    },
    {
      "cell_type" : "code",
      "execution_count" : 12,
      "metadata" : {
        "cell.metadata.exec_info" : {
          "startTs" : 1684239212103,
          "endTs" : 1684239212293
        },
        "language" : "python"
      },
      "language" : "python",
      "source" : [
        "import git\n",
        "import os\n",
        "\n",
        "if not os.path.exists(\"/tmp/NodeGoat\"):\n",
        "    repo = git.Repo.clone_from(\"https://github.com/OWASP/NodeGoat.git\", \"/tmp/NodeGoat\", branch=\"master\", depth=1)\n",
        "else:\n",
        "    print(\"/tmp/NodeGoat already exists\")"
      ],
      "outputs" : [
        {
          "name" : "stdout",
          "text" : [
            "/tmp/NodeGoat already exists\n"
          ],
          "output_type" : "stream"
        }
      ]
    },
    {
      "cell_type" : "markdown",
      "execution_count" : 13,
      "metadata" : {
        "cell.metadata.exec_info" : {
          "startTs" : 1672069146478,
          "endTs" : 1672069146526
        },
        "language" : "text"
      },
      "language" : "text",
      "source" : [
        "Now that we have the source code, let's import this into joern."
      ],
      "outputs" : [
      ]
    },
    {
      "cell_type" : "code",
      "execution_count" : 14,
      "metadata" : {
        "cell.metadata.exec_info" : {
          "startTs" : 1684239212300,
          "endTs" : 1684239231769
        },
        "language" : "python"
      },
      "language" : "python",
      "source" : [
        "async def create_workspace():\n",
        "    connection = await client.get(joern_host, cpggen_host, joern_username, joern_password)\n",
        "    res = await workspace.import_code(connection, \"/tmp/NodeGoat\", \"NodeGoat\")\n",
        "    print (res)\n",
        "asyncio.run(create_workspace())"
      ],
      "outputs" : [
        {
          "name" : "stdout",
          "text" : [
            "╭──────────── CPGQL Query ────────────╮\n",
            "│ os.exists(os.Path(\"/tmp/NodeGoat\")) │\n",
            "╰─────────────────────────────────────╯\n",
            "╭────────────── CPGQL Query ──────────────╮\n",
            "│ importCode(\"/tmp/NodeGoat\", \"NodeGoat\") │\n",
            "╰─────────────────────────────────────────╯\n",
            "╭─ CPGQL Query ─╮\n",
            "│ save          │\n",
            "╰───────────────╯\n",
            "True\n"
          ],
          "output_type" : "stream"
        }
      ]
    },
    {
      "cell_type" : "markdown",
      "execution_count" : 15,
      "metadata" : {
        "language" : "text"
      },
      "language" : "text",
      "source" : [
        "### Queries\n",
        "\n",
        "With the source code for NodeGoat imported, it is time to query joern about our application. We can ask about generic information such as list of files or advanced JavaScript specific information."
      ],
      "outputs" : [
      ]
    },
    {
      "cell_type" : "code",
      "execution_count" : 16,
      "metadata" : {
        "cell.metadata.exec_info" : {
          "startTs" : 1684239231774,
          "endTs" : 1684239242234
        },
        "language" : "python"
      },
      "language" : "python",
      "source" : [
        "async def files_lister():\n",
        "    connection = await client.get(joern_host, cpggen_host, joern_username, joern_password)\n",
        "    # detectors.common is imported as cpg in the beginning of this notebook\n",
        "    # list_files api is used to retrieve the list of files in the cpg\n",
        "    res = await cpg.list_files(connection)\n",
        "    print ([f[\"name\"] for f in res])\n",
        "asyncio.run(files_lister())"
      ],
      "outputs" : [
        {
          "name" : "stdout",
          "text" : [
            "╭───── CPGQL Query ─────╮\n",
            "│ cpg.file.toJsonPretty │\n",
            "╰───────────────────────╯\n",
            "['Gruntfile.js', 'app/assets/js/chart/chart-data-morris.js', 'app/assets/js/tour/redirects-steps.js', 'app/data/allocations-dao.js', 'app/data/benefits-dao.js', 'app/data/contributions-dao.js', 'app/data/memos-dao.js', 'app/data/profile-dao.js', 'app/data/research-dao.js', 'app/data/user-dao.js', 'app/routes/allocations.js', 'app/routes/benefits.js', 'app/routes/contributions.js', 'app/routes/error.js', 'app/routes/index.js', 'app/routes/memos.js', 'app/routes/profile.js', 'app/routes/research.js', 'app/routes/session.js', 'artifacts/db-reset.js', 'config/config.js', 'config/env/all.js', 'config/env/development.js', 'config/env/production.js', 'server.js', 'builtintypes']\n"
          ],
          "output_type" : "stream"
        }
      ]
    },
    {
      "cell_type" : "markdown",
      "execution_count" : 17,
      "metadata" : {
        "language" : "text"
      },
      "language" : "text",
      "source" : [
        "NodeGoat is a Node.js application that use [Express.js framework](https://expressjs.com). We can use joern-lib to query for HTTP routes defined by the application."
      ],
      "outputs" : [
      ]
    },
    {
      "cell_type" : "code",
      "execution_count" : 18,
      "metadata" : {
        "cell.metadata.exec_info" : {
          "startTs" : 1684239242240,
          "endTs" : 1684239252798
        },
        "language" : "python"
      },
      "language" : "python",
      "source" : [
        "async def js_insights():\n",
        "    connection = await client.get(joern_host, cpggen_host, joern_username, joern_password)\n",
        "    res = await js.list_http_routes(connection, include_middlewares=False)\n",
        "    print ([n[\"node\"][\"code\"] for n in res])\n",
        "asyncio.run(js_insights())"
      ],
      "outputs" : [
        {
          "name" : "stdout",
          "text" : [
            "╭─────────────────────────────────────────────────── CPGQL Query ────────────────────────────────────────────────────╮\n",
            "│ cpg.call.code(\".*(app|router).(head|get|post|put|patch|delete|options).*\").argument.order(3).location.toJsonPretty │\n",
            "╰────────────────────────────────────────────────────────────────────────────────────────────────────────────────────╯\n",
            "['/', '/login', '/login', '/signup', '/signup', '/logout', '/dashboard', '/profile', '/profile', '/contributions', '/contributions', '/benefits', '/benefits', '/allocations/:userId', '/memos', '/memos', '/learn', '/tutorial', '/tutorial/:page', '/research']\n"
          ],
          "output_type" : "stream"
        }
      ]
    },
    {
      "cell_type" : "markdown",
      "execution_count" : 19,
      "metadata" : {
        "language" : "text"
      },
      "language" : "text",
      "source" : [
        "`list_http_routes` api includes [middlewares](https://expressjs.com/en/guide/using-middleware.html) by default. In the above example, we exclude middlewares by setting `include_middlewares=False`.\n",
        "\n",
        "Next, we identify the various HTTP sources and sinks exposed by the application."
      ],
      "outputs" : [
      ]
    },
    {
      "cell_type" : "code",
      "execution_count" : 20,
      "metadata" : {
        "cell.metadata.exec_info" : {
          "startTs" : 1684239252804,
          "endTs" : 1684239263802
        },
        "language" : "python"
      },
      "language" : "python",
      "source" : [
        "async def identify_sources_sinks():\n",
        "    connection = await client.get(joern_host, cpggen_host, joern_username, joern_password)\n",
        "    sources = await js.get_http_sources(connection)\n",
        "    print (len(sources))\n",
        "    sinks = await js.get_http_sinks(connection)\n",
        "    print (len(sinks))\n",
        "asyncio.run(identify_sources_sinks())"
      ],
      "outputs" : [
        {
          "name" : "stdout",
          "text" : [
            "╭────────────────────────────────────────────────────────────────────────────────── CPGQL Query ───────────────────────────────────────────────────────────────────────────────────╮\n",
            "│ cpg.call.code(\"(?i)(?s)(?i).*(req|ctx)\\\\.(originalUrl|path|protocol|route|secure|signedCookies|stale|subdomains|xhr|app|pipe|file|files|baseUrl|fresh|hostname|ip|url|ips|method │\n",
            "╰──────────────────────────────────────────────────────────────────────────────────────────────────────────────────────────────────────────────────────────────────────────────────╯\n",
            "56\n",
            "╭────────────────────────────────────────────────────────────────────────────────── CPGQL Query ───────────────────────────────────────────────────────────────────────────────────╮\n",
            "│ cpg.call.code(\"(?i)(?s)(?i).*res\\\\.(append|attachment|cookie|clearCookie|download|end|format|get|json|jsonp|links|location|redirect|render|send|sendFile|sendStatus|set|status|t │\n",
            "╰──────────────────────────────────────────────────────────────────────────────────────────────────────────────────────────────────────────────────────────────────────────────────╯\n",
            "108\n"
          ],
          "output_type" : "stream"
        }
      ]
    },
    {
      "cell_type" : "markdown",
      "execution_count" : 21,
      "metadata" : {
        "language" : "text"
      },
      "language" : "text",
      "source" : [
        "js detector comes with a couple of useful patterns called `REQUEST_PATTERN` and `RESPONSE_PATTERN` which gets used by the above methods.\n",
        "\n",
        "### Reachability Queries\n",
        "\n",
        "The power of joern is to connect the sources with sinks to identify vulnerable data flows using the CPGQL method `reachableByFlows`. An example query using this method is below."
      ],
      "outputs" : [
      ]
    },
    {
      "cell_type" : "code",
      "execution_count" : 22,
      "metadata" : {
        "cell.metadata.exec_info" : {
          "startTs" : 1684239263807,
          "endTs" : 1684239276501
        },
        "language" : "python"
      },
      "language" : "python",
      "source" : [
        "async def vulnerable_flows():\n",
        "    connection = await client.get(joern_host, cpggen_host, joern_username, joern_password)\n",
        "    await client.df(connection, f'cpg.call.code(\"{js.REQUEST_PATTERN}\")', f'cpg.call.code(\"{js.RESPONSE_PATTERN}\")')\n",
        "asyncio.run(vulnerable_flows())"
      ],
      "outputs" : [
        {
          "name" : "stdout",
          "text" : [
            "╭────────────────────────────────────────────────────────────────────────────────── CPGQL Query ───────────────────────────────────────────────────────────────────────────────────╮\n",
            "│ def source = cpg.call.code(\"(?s)(?i).*(req|ctx)\\\\.(originalUrl|path|protocol|route|secure|signedCookies|stale|subdomains|xhr|app|pipe|file|files|baseUrl|fresh|hostname|ip|url|i │\n",
            "╰──────────────────────────────────────────────────────────────────────────────────────────────────────────────────────────────────────────────────────────────────────────────────╯\n",
            "╭────────────────────────────────────────────────────────────────────────────────── CPGQL Query ───────────────────────────────────────────────────────────────────────────────────╮\n",
            "│ def sink = cpg.call.code(\"(?s)(?i).*res\\\\.(append|attachment|cookie|clearCookie|download|end|format|get|json|jsonp|links|location|redirect|render|send|sendFile|sendStatus|set|s │\n",
            "╰──────────────────────────────────────────────────────────────────────────────────────────────────────────────────────────────────────────────────────────────────────────────────╯\n",
            "╭────────────────────────────────── CPGQL Query ──────────────────────────────────╮\n",
            "│ sink.reachableByFlows(source).map(m => (m, m.elements.location.l)).toJsonPretty │\n",
            "╰─────────────────────────────────────────────────────────────────────────────────╯\n",
            "╭─ Tainted Identifiers ─╮\n",
            "│ _tmp_9                │\n",
            "│ page                  │\n",
            "│ res                   │\n",
            "╰───────────────────────╯\n",
            "╭──────────────────────────────────────────── Data Flow ────────────────────────────────────────────╮\n",
            "│ app/routes/index.js:87 anonymous2() req.params                                                    │\n",
            "│ ├── app/routes/index.js:86 anonymous2() _tmp_9.page                                               │\n",
            "│ └── app/routes/index.js:88 anonymous2() res.render(`tutorial/${page}`, {environmentalScripts   }) │\n",
            "╰───────────────────────────────────────────────────────────────────────────────────────────────────╯\n",
            "\n",
            "╭─ Tainted Identifiers ─╮\n",
            "│ _tmp_4                │\n",
            "│ bankAcc               │\n",
            "│ dob                   │\n",
            "│ bankRouting           │\n",
            "│ ssn                   │\n",
            "│ address               │\n",
            "│ firstName             │\n",
            "│ profile               │\n",
            "│ lastName              │\n",
            "╰───────────────────────╯\n",
            "╭────────────────────────────────────────────────────────────────────────────────── Data Flow ───────────────────────────────────────────────────────────────────────────────────╮\n",
            "│ app/routes/profile.js:50 anonymous1() req.body                                                                                                                                 │\n",
            "│ ├── app/routes/profile.js:48 anonymous1() _tmp_4.bankAcc                                                                                                                       │\n",
            "│ ├── app/routes/profile.js:83 anonymous1() parseInt(userId)                                                                                                                     │\n",
            "│ └── app/routes/profile.js:82 anonymous1() profile.updateUser(parseInt(userId),firstName,lastName,ssn,dob,address,bankAcc,bankRouting,(err, user) => {  if (err) return nex ... │\n",
            "╰────────────────────────────────────────────────────────────────────────────────────────────────────────────────────────────────────────────────────────────────────────────────╯\n",
            "\n",
            "╭────────────────────────────────────────────────────────────────────────────── Data Flow ───────────────────────────────────────────────────────────────────────────────╮\n",
            "│ app/routes/index.js:13 :program() const index = (app, db) => {   \"use strict\";   const sessionHandler = new SessionHandler(db);  const profileHandler = new Profil ... │\n",
            "╰────────────────────────────────────────────────────────────────────────────────────────────────────────────────────────────────────────────────────────────────────────╯\n",
            "\n",
            "╭─────────────────────────────────────────────────────────────────────────────────── Data Flow ───────────────────────────────────────────────────────────────────────────────────╮\n",
            "│ app/routes/session.js:189 SessionHandler() this.handleSignup = (req, res, next) => {const {email,userName,firstName,lastName,password,verify   } = req.body;// set these up ... │\n",
            "╰─────────────────────────────────────────────────────────────────────────────────────────────────────────────────────────────────────────────────────────────────────────────────╯\n",
            "\n",
            "╭─────────────────────────────────────────────────────────────────────────────────── Data Flow ────────────────────────────────────────────────────────────────────────────────────╮\n",
            "│ app/routes/research.js:12 ResearchHandler() this.displayResearch = (req, res) => {if (req.query.symbol) {const url = req.query.url + req.query.symbol;return needle.get(url, ... │\n",
            "╰──────────────────────────────────────────────────────────────────────────────────────────────────────────────────────────────────────────────────────────────────────────────────╯\n",
            "\n",
            "╭────────────────────────────────────────────────────────────────────────────────── Data Flow ──────────────────────────────────────────────────────────────────────────────────╮\n",
            "│ app/routes/contributions.js:7 :program() function ContributionsHandler = function ContributionsHandler(db) {  \"use strict\";   const contributionsDAO = new ContributionsD ... │\n",
            "╰───────────────────────────────────────────────────────────────────────────────────────────────────────────────────────────────────────────────────────────────────────────────╯\n",
            "\n",
            "╭─ Tainted Identifiers ─╮\n",
            "│ url                   │\n",
            "│ needle                │\n",
            "╰───────────────────────╯\n",
            "╭────────────────────────────────────────────────────────────────────────────────── Data Flow ───────────────────────────────────────────────────────────────────────────────────╮\n",
            "│ app/routes/research.js:15 anonymous() req.query.url + req.query.symbol                                                                                                         │\n",
            "│ └── app/routes/research.js:16 anonymous() needle.get(url, (error, newResponse, body) => { if (!error && newResponse.statusCode === 200) {  res.writeHead(200, {   \"Content ... │\n",
            "╰────────────────────────────────────────────────────────────────────────────────────────────────────────────────────────────────────────────────────────────────────────────────╯\n",
            "\n",
            "╭─ Tainted Identifiers ─╮\n",
            "│ roth                  │\n",
            "│ userId                │\n",
            "╰───────────────────────╯\n",
            "╭─────────────────────────────────────────────────────────────────────────────────── Data Flow ────────────────────────────────────────────────────────────────────────────────────╮\n",
            "│ app/routes/contributions.js:34 anonymous1() req.body.roth                                                                                                                        │\n",
            "│ ├── app/routes/contributions.js:34 anonymous1() eval(req.body.roth )                                                                                                             │\n",
            "│ └── app/routes/contributions.js:65 anonymous1() contributionsDAO.update(userId, preTax, afterTax, roth, (err, contributions) => { if (err) return next(err); contributions.updat │\n",
            "│     ...                                                                                                                                                                          │\n",
            "╰──────────────────────────────────────────────────────────────────────────────────────────────────────────────────────────────────────────────────────────────────────────────────╯\n",
            "\n",
            "╭─ Tainted Identifiers ─╮\n",
            "│ url                   │\n",
            "│ needle                │\n",
            "│ res                   │\n",
            "╰───────────────────────╯\n",
            "╭──────────────────────────────── Data Flow ─────────────────────────────────╮\n",
            "│ app/routes/research.js:15 anonymous() req.query.url                        │\n",
            "│ ├── app/routes/research.js:15 anonymous() req.query.url + req.query.symbol │\n",
            "│ ├── app/routes/research.js:16 anonymous() body                             │\n",
            "│ └── app/routes/research.js:27 anonymous() res.end()                        │\n",
            "╰────────────────────────────────────────────────────────────────────────────╯\n",
            "\n",
            "╭─ Tainted Identifiers ─╮\n",
            "│ url                   │\n",
            "│ needle                │\n",
            "│ res                   │\n",
            "╰───────────────────────╯\n",
            "╭────────────────────────────── Data Flow ───────────────────────────────╮\n",
            "│ app/routes/research.js:15 anonymous() req.query.url + req.query.symbol │\n",
            "│ ├── app/routes/research.js:16 anonymous() body                         │\n",
            "│ └── app/routes/research.js:27 anonymous() res.end()                    │\n",
            "╰────────────────────────────────────────────────────────────────────────╯\n",
            "\n",
            "╭─────────────────────────────────────────────────────────────────────────────── Data Flow ────────────────────────────────────────────────────────────────────────────────╮\n",
            "│ app/routes/benefits.js:8 :program() function BenefitsHandler = function BenefitsHandler(db) {  \"use strict\";   const benefitsDAO = new BenefitsDAO(db);   this.displ ... │\n",
            "╰──────────────────────────────────────────────────────────────────────────────────────────────────────────────────────────────────────────────────────────────────────────╯\n",
            "\n",
            "╭───────────────────────────────────────────────────────────────────────────── Data Flow ─────────────────────────────────────────────────────────────────────────────╮\n",
            "│ app/routes/index.js:84 index() app.get(\"/tutorial/:page\", (req, res) => {   const {page   } = req.params;   return res.render(`tutorial/${page}`, {environmenta ... │\n",
            "╰─────────────────────────────────────────────────────────────────────────────────────────────────────────────────────────────────────────────────────────────────────╯\n",
            "\n",
            "╭─ Tainted Identifiers ─╮\n",
            "│ _tmp_1                │\n",
            "│ userId                │\n",
            "│ allocationsDAO        │\n",
            "│ res                   │\n",
            "╰───────────────────────╯\n",
            "╭───────────────────────────────────────────────────── Data Flow ──────────────────────────────────────────────────────╮\n",
            "│ app/routes/allocations.js:18 anonymous() req.params                                                                  │\n",
            "│ ├── app/routes/allocations.js:17 anonymous() _tmp_1.userId                                                           │\n",
            "│ ├── app/routes/allocations.js:23 anonymous() allocations                                                             │\n",
            "│ ├── app/routes/allocations.js:27 anonymous() _tmp_3.allocations                                                      │\n",
            "│ └── app/routes/allocations.js:25 anonymous() res.render(\"allocations\", { userId, allocations, environmentalScripts}) │\n",
            "╰──────────────────────────────────────────────────────────────────────────────────────────────────────────────────────╯\n",
            "\n",
            "╭─ Tainted Identifiers ─╮\n",
            "│ url                   │\n",
            "│ needle                │\n",
            "╰───────────────────────╯\n",
            "╭────────────────────────────────────────────────────────────────────────────────── Data Flow ───────────────────────────────────────────────────────────────────────────────────╮\n",
            "│ app/routes/research.js:15 anonymous() req.query.url                                                                                                                            │\n",
            "│ ├── app/routes/research.js:15 anonymous() req.query.url + req.query.symbol                                                                                                     │\n",
            "│ └── app/routes/research.js:16 anonymous() needle.get(url, (error, newResponse, body) => { if (!error && newResponse.statusCode === 200) {  res.writeHead(200, {   \"Content ... │\n",
            "╰────────────────────────────────────────────────────────────────────────────────────────────────────────────────────────────────────────────────────────────────────────────────╯\n",
            "\n",
            "╭─ Tainted Identifiers ─╮\n",
            "│ _tmp_3                │\n",
            "│ password              │\n",
            "│ userDAO               │\n",
            "│ userName              │\n",
            "│ res                   │\n",
            "╰───────────────────────╯\n",
            "╭────────────────────────────────────────────────────────────────────────────────── Data Flow ──────────────────────────────────────────────────────────────────────────────────╮\n",
            "│ app/routes/session.js:57 anonymous4() req.body                                                                                                                                │\n",
            "│ ├── app/routes/session.js:56 anonymous4() _tmp_3.password                                                                                                                     │\n",
            "│ ├── app/routes/session.js:83 anonymous() _tmp_4.userName                                                                                                                      │\n",
            "│ └── app/routes/session.js:82 anonymous() res.render(\"login\", {   userName: userName,   password: \",   loginError: invalidUserNameErrorMessage,   //Fix for A2-2 Broken Au ... │\n",
            "╰───────────────────────────────────────────────────────────────────────────────────────────────────────────────────────────────────────────────────────────────────────────────╯\n",
            "\n",
            "╭─────────────────────────────────────────────────────────────────────────────────── Data Flow ────────────────────────────────────────────────────────────────────────────────────╮\n",
            "│ app/routes/allocations.js:11 AllocationsHandler() this.displayAllocations = (req, res, next) => {   /*   // Fix for A4 Insecure DOR -  take user id from session instead of from │\n",
            "│ U ...                                                                                                                                                                            │\n",
            "╰──────────────────────────────────────────────────────────────────────────────────────────────────────────────────────────────────────────────────────────────────────────────────╯\n",
            "\n",
            "╭─────────────────────────────────────────────────────────────────────────────────── Data Flow ────────────────────────────────────────────────────────────────────────────────────╮\n",
            "│ app/routes/contributions.js:28 ContributionsHandler() this.handleContributionsUpdate = (req, res, next) => {/*jslint evil: true */   // Insecure use of eval() to parse inputs   │\n",
            "│ const ...                                                                                                                                                                        │\n",
            "╰──────────────────────────────────────────────────────────────────────────────────────────────────────────────────────────────────────────────────────────────────────────────────╯\n",
            "\n",
            "╭─ Tainted Identifiers ─╮\n",
            "│ url                   │\n",
            "│ needle                │\n",
            "│ res                   │\n",
            "╰───────────────────────╯\n",
            "╭──────────────────────────────── Data Flow ─────────────────────────────────╮\n",
            "│ app/routes/research.js:15 anonymous() req.query.symbol                     │\n",
            "│ ├── app/routes/research.js:15 anonymous() req.query.url + req.query.symbol │\n",
            "│ ├── app/routes/research.js:16 anonymous() body                             │\n",
            "│ └── app/routes/research.js:27 anonymous() res.end()                        │\n",
            "╰────────────────────────────────────────────────────────────────────────────╯\n",
            "\n",
            "╭─ Tainted Identifiers ─╮\n",
            "│ _tmp_2                │\n",
            "│ threshold             │\n",
            "│ userId                │\n",
            "│ allocationsDAO        │\n",
            "╰───────────────────────╯\n",
            "╭─────────────────────────────────────────────────────────────────────────────────── Data Flow ────────────────────────────────────────────────────────────────────────────────────╮\n",
            "│ app/routes/allocations.js:21 anonymous() req.query                                                                                                                               │\n",
            "│ ├── app/routes/allocations.js:20 anonymous() _tmp_2.threshold                                                                                                                    │\n",
            "│ └── app/routes/allocations.js:23 anonymous() allocationsDAO.getByUserIdAndThreshold(userId, threshold, (err, allocations) => {if (err) return next(err);return res.render(\"al    │\n",
            "│     ...                                                                                                                                                                          │\n",
            "╰──────────────────────────────────────────────────────────────────────────────────────────────────────────────────────────────────────────────────────────────────────────────────╯\n",
            "\n",
            "╭────────────────────────────────────────────────────────────────────────────── Data Flow ──────────────────────────────────────────────────────────────────────────────╮\n",
            "│ app/routes/memos.js:6 :program() function MemosHandler = function MemosHandler(db) {  \"use strict\";   const memosDAO = new MemosDAO(db);   this.addMemos = (req,  ... │\n",
            "╰───────────────────────────────────────────────────────────────────────────────────────────────────────────────────────────────────────────────────────────────────────╯\n",
            "\n",
            "╭─ Tainted Identifiers ─╮\n",
            "│ preTax                │\n",
            "│ roth                  │\n",
            "│ userId                │\n",
            "╰───────────────────────╯\n",
            "╭─────────────────────────────────────────────────────────────────────────────────── Data Flow ────────────────────────────────────────────────────────────────────────────────────╮\n",
            "│ app/routes/contributions.js:32 anonymous1() req.body.preTax                                                                                                                      │\n",
            "│ ├── app/routes/contributions.js:32 anonymous1() eval(req.body.preTax )                                                                                                           │\n",
            "│ └── app/routes/contributions.js:65 anonymous1() contributionsDAO.update(userId, preTax, afterTax, roth, (err, contributions) => { if (err) return next(err); contributions.updat │\n",
            "│     ...                                                                                                                                                                          │\n",
            "╰──────────────────────────────────────────────────────────────────────────────────────────────────────────────────────────────────────────────────────────────────────────────────╯\n",
            "\n",
            "╭─ Tainted Identifiers ─╮\n",
            "│ _tmp_4                │\n",
            "│ firstName             │\n",
            "│ firstNameSafeString   │\n",
            "│ res                   │\n",
            "╰───────────────────────╯\n",
            "╭────────────────────────────────────────────────────────────────────────────────── Data Flow ───────────────────────────────────────────────────────────────────────────────────╮\n",
            "│ app/routes/profile.js:50 anonymous1() req.body                                                                                                                                 │\n",
            "│ ├── app/routes/profile.js:43 anonymous1() _tmp_4.firstName                                                                                                                     │\n",
            "│ ├── app/routes/profile.js:67 anonymous1() _tmp_5.firstNameSafeString                                                                                                           │\n",
            "│ └── app/routes/profile.js:65 anonymous1() res.render(\"profile\", { updateError: \"Bank Routing number does not comply with requirements for format specified\", firstNameSafe ... │\n",
            "╰────────────────────────────────────────────────────────────────────────────────────────────────────────────────────────────────────────────────────────────────────────────────╯\n",
            "\n",
            "╭─────────────────────────────────────────────────────────────────────────────── Data Flow ────────────────────────────────────────────────────────────────────────────────╮\n",
            "│ app/routes/research.js:7 :program() function ResearchHandler = function ResearchHandler(db) {  \"use strict\";   const researchDAO = new ResearchDAO(db);   this.displ ... │\n",
            "╰──────────────────────────────────────────────────────────────────────────────────────────────────────────────────────────────────────────────────────────────────────────╯\n",
            "\n",
            "╭─ Tainted Identifiers ─╮\n",
            "│ afterTax              │\n",
            "│ preTax                │\n",
            "│ roth                  │\n",
            "│ userId                │\n",
            "╰───────────────────────╯\n",
            "╭─────────────────────────────────────────────────────────────────────────────────── Data Flow ────────────────────────────────────────────────────────────────────────────────────╮\n",
            "│ app/routes/contributions.js:33 anonymous1() eval(req.body.afterTax)                                                                                                              │\n",
            "│ └── app/routes/contributions.js:65 anonymous1() contributionsDAO.update(userId, preTax, afterTax, roth, (err, contributions) => { if (err) return next(err); contributions.updat │\n",
            "│     ...                                                                                                                                                                          │\n",
            "╰──────────────────────────────────────────────────────────────────────────────────────────────────────────────────────────────────────────────────────────────────────────────────╯\n",
            "\n",
            "╭───────────────────────────────────────────────────────────────────────────────── Data Flow ─────────────────────────────────────────────────────────────────────────────────╮\n",
            "│ app/routes/allocations.js:6 :program() function AllocationsHandler = function AllocationsHandler(db) {  \"use strict\";   const allocationsDAO = new AllocationsDAO(db);  ... │\n",
            "╰─────────────────────────────────────────────────────────────────────────────────────────────────────────────────────────────────────────────────────────────────────────────╯\n",
            "\n",
            "╭─ Tainted Identifiers ─╮\n",
            "│ _tmp_8                │\n",
            "│ userName              │\n",
            "│ userDAO               │\n",
            "╰───────────────────────╯\n",
            "╭─────────────────────────────────────────────────────────────────────────────────── Data Flow ───────────────────────────────────────────────────────────────────────────────────╮\n",
            "│ app/routes/session.js:198 anonymous8() req.body                                                                                                                                 │\n",
            "│ ├── app/routes/session.js:193 anonymous8() _tmp_8.userName                                                                                                                      │\n",
            "│ ├── app/routes/session.js:138 validateSignup() userName                                                                                                                         │\n",
            "│ └── app/routes/session.js:208 anonymous8() userDAO.getUserByUserName(userName, (err, user) => {  if (err) return next(err);  if (user) {  errors.userNameError = \"User name ... │\n",
            "╰─────────────────────────────────────────────────────────────────────────────────────────────────────────────────────────────────────────────────────────────────────────────────╯\n",
            "\n",
            "╭─────────────────────────────────────────────────────────────────────────────────── Data Flow ────────────────────────────────────────────────────────────────────────────────────╮\n",
            "│ app/routes/benefits.js:29 BenefitsHandler() this.updateBenefits = (req, res, next) => {   const {userId,benefitStartDate   } = req.body;benefitsDAO.updateBenefits(userId, b ... │\n",
            "╰──────────────────────────────────────────────────────────────────────────────────────────────────────────────────────────────────────────────────────────────────────────────────╯\n",
            "\n",
            "╭─ Tainted Identifiers ─╮\n",
            "│ afterTax              │\n",
            "│ preTax                │\n",
            "│ roth                  │\n",
            "│ userId                │\n",
            "╰───────────────────────╯\n",
            "╭─────────────────────────────────────────────────────────────────────────────────── Data Flow ────────────────────────────────────────────────────────────────────────────────────╮\n",
            "│ app/routes/contributions.js:33 anonymous1() req.body.afterTax                                                                                                                    │\n",
            "│ ├── app/routes/contributions.js:33 anonymous1() eval(req.body.afterTax )                                                                                                         │\n",
            "│ └── app/routes/contributions.js:65 anonymous1() contributionsDAO.update(userId, preTax, afterTax, roth, (err, contributions) => { if (err) return next(err); contributions.updat │\n",
            "│     ...                                                                                                                                                                          │\n",
            "╰──────────────────────────────────────────────────────────────────────────────────────────────────────────────────────────────────────────────────────────────────────────────────╯\n",
            "\n",
            "╭─ Tainted Identifiers ─╮\n",
            "│ preTax                │\n",
            "│ roth                  │\n",
            "│ userId                │\n",
            "╰───────────────────────╯\n",
            "╭─────────────────────────────────────────────────────────────────────────────────── Data Flow ────────────────────────────────────────────────────────────────────────────────────╮\n",
            "│ app/routes/contributions.js:32 anonymous1() eval(req.body.preTax)                                                                                                                │\n",
            "│ └── app/routes/contributions.js:65 anonymous1() contributionsDAO.update(userId, preTax, afterTax, roth, (err, contributions) => { if (err) return next(err); contributions.updat │\n",
            "│     ...                                                                                                                                                                          │\n",
            "╰──────────────────────────────────────────────────────────────────────────────────────────────────────────────────────────────────────────────────────────────────────────────────╯\n",
            "\n",
            "╭─ Tainted Identifiers ─╮\n",
            "│ roth                  │\n",
            "│ userId                │\n",
            "╰───────────────────────╯\n",
            "╭─────────────────────────────────────────────────────────────────────────────────── Data Flow ────────────────────────────────────────────────────────────────────────────────────╮\n",
            "│ app/routes/contributions.js:34 anonymous1() eval(req.body.roth)                                                                                                                  │\n",
            "│ └── app/routes/contributions.js:65 anonymous1() contributionsDAO.update(userId, preTax, afterTax, roth, (err, contributions) => { if (err) return next(err); contributions.updat │\n",
            "│     ...                                                                                                                                                                          │\n",
            "╰──────────────────────────────────────────────────────────────────────────────────────────────────────────────────────────────────────────────────────────────────────────────────╯\n",
            "\n",
            "╭─ Tainted Identifiers ─╮\n",
            "│ url                   │\n",
            "│ needle                │\n",
            "╰───────────────────────╯\n",
            "╭────────────────────────────────────────────────────────────────────────────────── Data Flow ───────────────────────────────────────────────────────────────────────────────────╮\n",
            "│ app/routes/research.js:15 anonymous() req.query.symbol                                                                                                                         │\n",
            "│ ├── app/routes/research.js:15 anonymous() req.query.url + req.query.symbol                                                                                                     │\n",
            "│ └── app/routes/research.js:16 anonymous() needle.get(url, (error, newResponse, body) => { if (!error && newResponse.statusCode === 200) {  res.writeHead(200, {   \"Content ... │\n",
            "╰────────────────────────────────────────────────────────────────────────────────────────────────────────────────────────────────────────────────────────────────────────────────╯\n",
            "\n",
            "╭─ Tainted Identifiers ─╮\n",
            "│ _tmp_1                │\n",
            "│ userId                │\n",
            "│ allocationsDAO        │\n",
            "╰───────────────────────╯\n",
            "╭─────────────────────────────────────────────────────────────────────────────────── Data Flow ────────────────────────────────────────────────────────────────────────────────────╮\n",
            "│ app/routes/allocations.js:18 anonymous() req.params                                                                                                                              │\n",
            "│ ├── app/routes/allocations.js:17 anonymous() _tmp_1.userId                                                                                                                       │\n",
            "│ └── app/routes/allocations.js:23 anonymous() allocationsDAO.getByUserIdAndThreshold(userId, threshold, (err, allocations) => {if (err) return next(err);return res.render(\"al    │\n",
            "│     ...                                                                                                                                                                          │\n",
            "╰──────────────────────────────────────────────────────────────────────────────────────────────────────────────────────────────────────────────────────────────────────────────────╯\n",
            "\n",
            "╭─ Tainted Identifiers ─╮\n",
            "│ _tmp_3                │\n",
            "│ benefitStartDate      │\n",
            "│ userId                │\n",
            "│ benefitsDAO           │\n",
            "╰───────────────────────╯\n",
            "╭─────────────────────────────────────────────────────────────────────────────────── Data Flow ───────────────────────────────────────────────────────────────────────────────────╮\n",
            "│ app/routes/benefits.js:33 anonymous1() req.body                                                                                                                                 │\n",
            "│ ├── app/routes/benefits.js:32 anonymous1() _tmp_3.benefitStartDate                                                                                                              │\n",
            "│ └── app/routes/benefits.js:35 anonymous1() benefitsDAO.updateBenefits(userId, benefitStartDate, (error) => { if (error) return next(error); benefitsDAO.getAllNonAdminUsers ... │\n",
            "╰─────────────────────────────────────────────────────────────────────────────────────────────────────────────────────────────────────────────────────────────────────────────────╯\n",
            "\n",
            "╭─ Tainted Identifiers ─╮\n",
            "│ _tmp_4                │\n",
            "│ bankAcc               │\n",
            "│ dob                   │\n",
            "│ bankRouting           │\n",
            "│ ssn                   │\n",
            "│ address               │\n",
            "│ firstName             │\n",
            "│ lastName              │\n",
            "│ profile               │\n",
            "│ _tmp_7                │\n",
            "│ res                   │\n",
            "╰───────────────────────╯\n",
            "╭───────────────────────────────────────────── Data Flow ──────────────────────────────────────────────╮\n",
            "│ app/routes/profile.js:50 anonymous1() req.body                                                       │\n",
            "│ ├── app/routes/profile.js:48 anonymous1() _tmp_4.bankAcc                                             │\n",
            "│ ├── app/routes/profile.js:83 anonymous1() parseInt(userId)                                           │\n",
            "│ ├── app/routes/profile.js:91 anonymous() user                                                        │\n",
            "│ └── app/routes/profile.js:100 anonymous() res.render(\"profile\", {  ...user,  environmentalScripts }) │\n",
            "╰──────────────────────────────────────────────────────────────────────────────────────────────────────╯\n",
            "\n",
            "╭─ Tainted Identifiers ─╮\n",
            "│ _tmp_2                │\n",
            "│ threshold             │\n",
            "│ userId                │\n",
            "│ allocationsDAO        │\n",
            "│ res                   │\n",
            "╰───────────────────────╯\n",
            "╭───────────────────────────────────────────────────── Data Flow ──────────────────────────────────────────────────────╮\n",
            "│ app/routes/allocations.js:21 anonymous() req.query                                                                   │\n",
            "│ ├── app/routes/allocations.js:20 anonymous() _tmp_2.threshold                                                        │\n",
            "│ ├── app/routes/allocations.js:23 anonymous() allocations                                                             │\n",
            "│ ├── app/routes/allocations.js:27 anonymous() _tmp_3.allocations                                                      │\n",
            "│ └── app/routes/allocations.js:25 anonymous() res.render(\"allocations\", { userId, allocations, environmentalScripts}) │\n",
            "╰──────────────────────────────────────────────────────────────────────────────────────────────────────────────────────╯\n",
            "\n",
            "╭────────────────────────── Data Flow ───────────────────────────╮\n",
            "│ app/routes/index.js:74 anonymous() res.redirect(req.query.url) │\n",
            "╰────────────────────────────────────────────────────────────────╯\n",
            "\n",
            "╭───────────────────────────────────────────────────────────────────────────── Data Flow ─────────────────────────────────────────────────────────────────────────────╮\n",
            "│ app/routes/index.js:72 index() app.get(\"/learn\", isLoggedIn, (req, res) => {   // Insecure way to handle redirects by taking redirect url from query string   r ... │\n",
            "╰─────────────────────────────────────────────────────────────────────────────────────────────────────────────────────────────────────────────────────────────────────╯\n",
            "\n",
            "╭─ Tainted Identifiers ─╮\n",
            "│ res                   │\n",
            "╰───────────────────────╯\n",
            "╭──────────────────────────── Data Flow ─────────────────────────────╮\n",
            "│ app/routes/index.js:74 anonymous() req.query.url                   │\n",
            "│ └── app/routes/index.js:74 anonymous() res.redirect(req.query.url) │\n",
            "╰────────────────────────────────────────────────────────────────────╯\n",
            "\n"
          ],
          "output_type" : "stream"
        }
      ]
    },
    {
      "cell_type" : "markdown",
      "execution_count" : 23,
      "metadata" : {
        "language" : "text"
      },
      "language" : "text",
      "source" : [
        "# Closing Thoughts\n",
        "\n",
        "This notebook introduced joern-lib, a high-level python library to interact with Joern server. While this notebook focused on a JavaScript application, Joern supports many other languages such as Java, PHP, Python and so on."
      ],
      "outputs" : [
      ]
    }
  ]
}